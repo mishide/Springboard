{
 "cells": [
  {
   "cell_type": "code",
   "execution_count": 60,
   "metadata": {},
   "outputs": [],
   "source": [
    "import pandas as pd\n",
    "import nltk\n",
    "from nltk.tokenize import RegexpTokenizer\n",
    "from nltk.stem import WordNetLemmatizer\n",
    "from nltk.stem.porter import PorterStemmer\n",
    "from nltk.corpus import stopwords\n",
    "from nltk.corpus import wordnet\n",
    "import string"
   ]
  },
  {
   "cell_type": "code",
   "execution_count": 61,
   "metadata": {},
   "outputs": [
    {
     "data": {
      "text/html": [
       "<div>\n",
       "<style scoped>\n",
       "    .dataframe tbody tr th:only-of-type {\n",
       "        vertical-align: middle;\n",
       "    }\n",
       "\n",
       "    .dataframe tbody tr th {\n",
       "        vertical-align: top;\n",
       "    }\n",
       "\n",
       "    .dataframe thead th {\n",
       "        text-align: right;\n",
       "    }\n",
       "</style>\n",
       "<table border=\"1\" class=\"dataframe\">\n",
       "  <thead>\n",
       "    <tr style=\"text-align: right;\">\n",
       "      <th></th>\n",
       "      <th>Chief Complaint</th>\n",
       "      <th>Predict</th>\n",
       "      <th>Consensus</th>\n",
       "    </tr>\n",
       "  </thead>\n",
       "  <tbody>\n",
       "    <tr>\n",
       "      <th>0</th>\n",
       "      <td>\"been feeling bad\" last 2 weeks &amp; switched BP ...</td>\n",
       "      <td>N</td>\n",
       "      <td>-</td>\n",
       "    </tr>\n",
       "    <tr>\n",
       "      <th>1</th>\n",
       "      <td>\"can't walk\", reports onset at &lt;&lt;TIME&gt;&gt;. orien...</td>\n",
       "      <td>Y</td>\n",
       "      <td>N</td>\n",
       "    </tr>\n",
       "    <tr>\n",
       "      <th>2</th>\n",
       "      <td>\"dehydration\" Chest hurts, hips hurt, cramps P...</td>\n",
       "      <td>Y</td>\n",
       "      <td>Y</td>\n",
       "    </tr>\n",
       "    <tr>\n",
       "      <th>3</th>\n",
       "      <td>\"gout flare up\" L arm swelling x 1 week. denie...</td>\n",
       "      <td>Y</td>\n",
       "      <td>Y</td>\n",
       "    </tr>\n",
       "    <tr>\n",
       "      <th>4</th>\n",
       "      <td>\"heart racing,\"dyspnea, and orthopnea that has...</td>\n",
       "      <td>N</td>\n",
       "      <td>-</td>\n",
       "    </tr>\n",
       "  </tbody>\n",
       "</table>\n",
       "</div>"
      ],
      "text/plain": [
       "                                     Chief Complaint Predict Consensus\n",
       "0  \"been feeling bad\" last 2 weeks & switched BP ...       N         -\n",
       "1  \"can't walk\", reports onset at <<TIME>>. orien...       Y         N\n",
       "2  \"dehydration\" Chest hurts, hips hurt, cramps P...       Y         Y\n",
       "3  \"gout flare up\" L arm swelling x 1 week. denie...       Y         Y\n",
       "4  \"heart racing,\"dyspnea, and orthopnea that has...       N         -"
      ]
     },
     "execution_count": 61,
     "metadata": {},
     "output_type": "execute_result"
    }
   ],
   "source": [
    "re2019 = pd.read_csv('GOUT-CC-2019-CORPUS-REDACTED.csv')\n",
    "re2019.head()"
   ]
  },
  {
   "cell_type": "code",
   "execution_count": 62,
   "metadata": {},
   "outputs": [
    {
     "data": {
      "text/html": [
       "<div>\n",
       "<style scoped>\n",
       "    .dataframe tbody tr th:only-of-type {\n",
       "        vertical-align: middle;\n",
       "    }\n",
       "\n",
       "    .dataframe tbody tr th {\n",
       "        vertical-align: top;\n",
       "    }\n",
       "\n",
       "    .dataframe thead th {\n",
       "        text-align: right;\n",
       "    }\n",
       "</style>\n",
       "<table border=\"1\" class=\"dataframe\">\n",
       "  <thead>\n",
       "    <tr style=\"text-align: right;\">\n",
       "      <th></th>\n",
       "      <th>Chief Complaint</th>\n",
       "      <th>Predict</th>\n",
       "      <th>Consensus</th>\n",
       "    </tr>\n",
       "  </thead>\n",
       "  <tbody>\n",
       "    <tr>\n",
       "      <th>0</th>\n",
       "      <td>\"been feeling bad\" last 2 weeks &amp; switched BP ...</td>\n",
       "      <td>N</td>\n",
       "      <td>-</td>\n",
       "    </tr>\n",
       "    <tr>\n",
       "      <th>1</th>\n",
       "      <td>\"can't walk\", reports onset at 0830 am. orient...</td>\n",
       "      <td>Y</td>\n",
       "      <td>N</td>\n",
       "    </tr>\n",
       "    <tr>\n",
       "      <th>2</th>\n",
       "      <td>\"dehydration\" Chest hurts, hips hurt, cramps P...</td>\n",
       "      <td>Y</td>\n",
       "      <td>Y</td>\n",
       "    </tr>\n",
       "    <tr>\n",
       "      <th>3</th>\n",
       "      <td>\"gout flare up\" L arm swelling x 1 week. denie...</td>\n",
       "      <td>Y</td>\n",
       "      <td>Y</td>\n",
       "    </tr>\n",
       "    <tr>\n",
       "      <th>4</th>\n",
       "      <td>\"heart racing,\"dyspnea, and orthopnea that has...</td>\n",
       "      <td>N</td>\n",
       "      <td>-</td>\n",
       "    </tr>\n",
       "  </tbody>\n",
       "</table>\n",
       "</div>"
      ],
      "text/plain": [
       "                                     Chief Complaint Predict Consensus\n",
       "0  \"been feeling bad\" last 2 weeks & switched BP ...       N         -\n",
       "1  \"can't walk\", reports onset at 0830 am. orient...       Y         N\n",
       "2  \"dehydration\" Chest hurts, hips hurt, cramps P...       Y         Y\n",
       "3  \"gout flare up\" L arm swelling x 1 week. denie...       Y         Y\n",
       "4  \"heart racing,\"dyspnea, and orthopnea that has...       N         -"
      ]
     },
     "execution_count": 62,
     "metadata": {},
     "output_type": "execute_result"
    }
   ],
   "source": [
    "syn2019 = pd.read_csv('GOUT-CC-2019-CORPUS-SYNTHETIC.csv')\n",
    "syn2019.head()"
   ]
  },
  {
   "cell_type": "code",
   "execution_count": 63,
   "metadata": {},
   "outputs": [
    {
     "data": {
      "text/html": [
       "<div>\n",
       "<style scoped>\n",
       "    .dataframe tbody tr th:only-of-type {\n",
       "        vertical-align: middle;\n",
       "    }\n",
       "\n",
       "    .dataframe tbody tr th {\n",
       "        vertical-align: top;\n",
       "    }\n",
       "\n",
       "    .dataframe thead th {\n",
       "        text-align: right;\n",
       "    }\n",
       "</style>\n",
       "<table border=\"1\" class=\"dataframe\">\n",
       "  <thead>\n",
       "    <tr style=\"text-align: right;\">\n",
       "      <th></th>\n",
       "      <th>Chief Complaint</th>\n",
       "      <th>Predict</th>\n",
       "      <th>Consensus</th>\n",
       "    </tr>\n",
       "  </thead>\n",
       "  <tbody>\n",
       "    <tr>\n",
       "      <th>0</th>\n",
       "      <td>\"I dont know whats going on with my head, its ...</td>\n",
       "      <td>N</td>\n",
       "      <td>-</td>\n",
       "    </tr>\n",
       "    <tr>\n",
       "      <th>1</th>\n",
       "      <td>\"i've been depressed for a few weeks now, i'm ...</td>\n",
       "      <td>N</td>\n",
       "      <td>-</td>\n",
       "    </tr>\n",
       "    <tr>\n",
       "      <th>2</th>\n",
       "      <td>Altercation while making arrest, c/o R hand pa...</td>\n",
       "      <td>N</td>\n",
       "      <td>N</td>\n",
       "    </tr>\n",
       "    <tr>\n",
       "      <th>3</th>\n",
       "      <td>Cut on L upper thigh wtih saw. Bleeding contro...</td>\n",
       "      <td>N</td>\n",
       "      <td>N</td>\n",
       "    </tr>\n",
       "    <tr>\n",
       "      <th>4</th>\n",
       "      <td>Dysuria x1 week. hx: hysterectomy, gerd, bipolar</td>\n",
       "      <td>N</td>\n",
       "      <td>-</td>\n",
       "    </tr>\n",
       "  </tbody>\n",
       "</table>\n",
       "</div>"
      ],
      "text/plain": [
       "                                     Chief Complaint Predict Consensus\n",
       "0  \"I dont know whats going on with my head, its ...       N         -\n",
       "1  \"i've been depressed for a few weeks now, i'm ...       N         -\n",
       "2  Altercation while making arrest, c/o R hand pa...       N         N\n",
       "3  Cut on L upper thigh wtih saw. Bleeding contro...       N         N\n",
       "4   Dysuria x1 week. hx: hysterectomy, gerd, bipolar       N         -"
      ]
     },
     "execution_count": 63,
     "metadata": {},
     "output_type": "execute_result"
    }
   ],
   "source": [
    "re2020 = pd.read_csv('GOUT-CC-2020-CORPUS-REDACTED.csv')\n",
    "re2020.head()"
   ]
  },
  {
   "cell_type": "code",
   "execution_count": 64,
   "metadata": {},
   "outputs": [
    {
     "data": {
      "text/html": [
       "<div>\n",
       "<style scoped>\n",
       "    .dataframe tbody tr th:only-of-type {\n",
       "        vertical-align: middle;\n",
       "    }\n",
       "\n",
       "    .dataframe tbody tr th {\n",
       "        vertical-align: top;\n",
       "    }\n",
       "\n",
       "    .dataframe thead th {\n",
       "        text-align: right;\n",
       "    }\n",
       "</style>\n",
       "<table border=\"1\" class=\"dataframe\">\n",
       "  <thead>\n",
       "    <tr style=\"text-align: right;\">\n",
       "      <th></th>\n",
       "      <th>Chief Complaint</th>\n",
       "      <th>Predict</th>\n",
       "      <th>Consensus</th>\n",
       "    </tr>\n",
       "  </thead>\n",
       "  <tbody>\n",
       "    <tr>\n",
       "      <th>0</th>\n",
       "      <td>\"I dont know whats going on with my head, its ...</td>\n",
       "      <td>N</td>\n",
       "      <td>-</td>\n",
       "    </tr>\n",
       "    <tr>\n",
       "      <th>1</th>\n",
       "      <td>\"i've been depressed for a few weeks now, i'm ...</td>\n",
       "      <td>N</td>\n",
       "      <td>-</td>\n",
       "    </tr>\n",
       "    <tr>\n",
       "      <th>2</th>\n",
       "      <td>Altercation while making arrest, c/o R hand pa...</td>\n",
       "      <td>N</td>\n",
       "      <td>N</td>\n",
       "    </tr>\n",
       "    <tr>\n",
       "      <th>3</th>\n",
       "      <td>Cut on L upper thigh wtih saw. Bleeding contro...</td>\n",
       "      <td>N</td>\n",
       "      <td>N</td>\n",
       "    </tr>\n",
       "    <tr>\n",
       "      <th>4</th>\n",
       "      <td>Dysuria x1 week. hx: hysterectomy, gerd, bipolar</td>\n",
       "      <td>N</td>\n",
       "      <td>-</td>\n",
       "    </tr>\n",
       "  </tbody>\n",
       "</table>\n",
       "</div>"
      ],
      "text/plain": [
       "                                     Chief Complaint Predict Consensus\n",
       "0  \"I dont know whats going on with my head, its ...       N         -\n",
       "1  \"i've been depressed for a few weeks now, i'm ...       N         -\n",
       "2  Altercation while making arrest, c/o R hand pa...       N         N\n",
       "3  Cut on L upper thigh wtih saw. Bleeding contro...       N         N\n",
       "4   Dysuria x1 week. hx: hysterectomy, gerd, bipolar       N         -"
      ]
     },
     "execution_count": 64,
     "metadata": {},
     "output_type": "execute_result"
    }
   ],
   "source": [
    "syn2020 = pd.read_csv('GOUT-CC-2020-CORPUS-SYNTHETIC.csv')\n",
    "syn2020.head()"
   ]
  },
  {
   "cell_type": "code",
   "execution_count": 65,
   "metadata": {},
   "outputs": [
    {
     "name": "stdout",
     "output_type": "stream",
     "text": [
      "Index(['Chief Complaint', 'Predict', 'Consensus'], dtype='object')\n",
      "Index(['Chief Complaint', 'Predict', 'Consensus'], dtype='object')\n",
      "Index(['Chief Complaint', 'Predict', 'Consensus'], dtype='object')\n",
      "Index(['Chief Complaint', 'Predict', 'Consensus'], dtype='object')\n"
     ]
    }
   ],
   "source": [
    "print(re2019.columns, syn2019.columns, re2020.columns, syn2020.columns, sep=\"\\n\")"
   ]
  },
  {
   "cell_type": "code",
   "execution_count": 66,
   "metadata": {},
   "outputs": [
    {
     "data": {
      "text/plain": [
       "<bound method NDFrame.describe of                                        Chief Complaint Predict Consensus\n",
       "0    \"been feeling bad\" last 2 weeks & switched BP ...       N         -\n",
       "1    \"can't walk\", reports onset at 0830 am. orient...       Y         N\n",
       "2    \"dehydration\" Chest hurts, hips hurt, cramps P...       Y         Y\n",
       "3    \"gout flare up\" L arm swelling x 1 week. denie...       Y         Y\n",
       "4    \"heart racing,\"dyspnea, and orthopnea that has...       N         -\n",
       "..                                                 ...     ...       ...\n",
       "295  upper abd/R side chest pain x1 month, new onse...       N         N\n",
       "296  upper lip swelling x one day, pmh HTN, COPD, b...       N         N\n",
       "297  walked outside of a gas station and began bein...       N         -\n",
       "298  was getting prepped for colonoscopy and was se...       N         N\n",
       "299  Was seen at CGH after an MVC. Pt states they r...       N         N\n",
       "\n",
       "[300 rows x 3 columns]>"
      ]
     },
     "execution_count": 66,
     "metadata": {},
     "output_type": "execute_result"
    }
   ],
   "source": [
    "syn2019.describe"
   ]
  },
  {
   "cell_type": "code",
   "execution_count": 67,
   "metadata": {},
   "outputs": [
    {
     "data": {
      "text/html": [
       "<div>\n",
       "<style scoped>\n",
       "    .dataframe tbody tr th:only-of-type {\n",
       "        vertical-align: middle;\n",
       "    }\n",
       "\n",
       "    .dataframe tbody tr th {\n",
       "        vertical-align: top;\n",
       "    }\n",
       "\n",
       "    .dataframe thead th {\n",
       "        text-align: right;\n",
       "    }\n",
       "</style>\n",
       "<table border=\"1\" class=\"dataframe\">\n",
       "  <thead>\n",
       "    <tr style=\"text-align: right;\">\n",
       "      <th></th>\n",
       "      <th>Chief Complaint</th>\n",
       "      <th>Predict</th>\n",
       "      <th>Consensus</th>\n",
       "    </tr>\n",
       "  </thead>\n",
       "  <tbody>\n",
       "    <tr>\n",
       "      <th>0</th>\n",
       "      <td>been feeling bad last 2 weeks  switched BP med...</td>\n",
       "      <td>N</td>\n",
       "      <td>-</td>\n",
       "    </tr>\n",
       "    <tr>\n",
       "      <th>1</th>\n",
       "      <td>cant walk reports onset at TIME oriented x2 ao...</td>\n",
       "      <td>Y</td>\n",
       "      <td>N</td>\n",
       "    </tr>\n",
       "    <tr>\n",
       "      <th>2</th>\n",
       "      <td>dehydration Chest hurts hips hurt cramps PMH H...</td>\n",
       "      <td>Y</td>\n",
       "      <td>Y</td>\n",
       "    </tr>\n",
       "    <tr>\n",
       "      <th>3</th>\n",
       "      <td>gout flare up L arm swelling x 1 week denies a...</td>\n",
       "      <td>Y</td>\n",
       "      <td>Y</td>\n",
       "    </tr>\n",
       "    <tr>\n",
       "      <th>4</th>\n",
       "      <td>heart racingdyspnea and orthopnea that has bee...</td>\n",
       "      <td>N</td>\n",
       "      <td>-</td>\n",
       "    </tr>\n",
       "  </tbody>\n",
       "</table>\n",
       "</div>"
      ],
      "text/plain": [
       "                                     Chief Complaint Predict Consensus\n",
       "0  been feeling bad last 2 weeks  switched BP med...       N         -\n",
       "1  cant walk reports onset at TIME oriented x2 ao...       Y         N\n",
       "2  dehydration Chest hurts hips hurt cramps PMH H...       Y         Y\n",
       "3  gout flare up L arm swelling x 1 week denies a...       Y         Y\n",
       "4  heart racingdyspnea and orthopnea that has bee...       N         -"
      ]
     },
     "execution_count": 67,
     "metadata": {},
     "output_type": "execute_result"
    }
   ],
   "source": [
    "def remove_punctuation(text):\n",
    "    no_punct = \"\".join([c for c in text if c not in string.punctuation])\n",
    "    return no_punct\n",
    "re2019[\"Chief Complaint\"] = re2019[\"Chief Complaint\"].apply(lambda x: remove_punctuation(x))\n",
    "re2019.head()"
   ]
  },
  {
   "cell_type": "code",
   "execution_count": 68,
   "metadata": {},
   "outputs": [
    {
     "name": "stdout",
     "output_type": "stream",
     "text": [
      "(300, 3)\n",
      "(300, 3)\n",
      "(8137, 3)\n",
      "(8137, 3)\n"
     ]
    }
   ],
   "source": [
    "print(re2019.shape, syn2019.shape, re2020.shape, syn2020.shape, sep=\"\\n\")"
   ]
  },
  {
   "cell_type": "code",
   "execution_count": 69,
   "metadata": {},
   "outputs": [],
   "source": [
    "tokenizer = RegexpTokenizer(r'\\w+')"
   ]
  },
  {
   "cell_type": "code",
   "execution_count": 70,
   "metadata": {},
   "outputs": [
    {
     "data": {
      "text/plain": [
       "0     [been, feeling, bad, last, 2, weeks, switched,...\n",
       "1     [cant, walk, reports, onset, at, time, oriente...\n",
       "2     [dehydration, chest, hurts, hips, hurt, cramps...\n",
       "3     [gout, flare, up, l, arm, swelling, x, 1, week...\n",
       "4     [heart, racingdyspnea, and, orthopnea, that, h...\n",
       "5     [i, started, breathing, hard, hx, htn, gout, a...\n",
       "6     [i, think, i, have, a, gout, flare, up, l, wri...\n",
       "7     [i, want, to, see, if, i, have, an, infection,...\n",
       "8     [my, gout, done, flared, up, on, me, co, r, an...\n",
       "9     [my, gout, is, hurting, me, reports, bilateral...\n",
       "10    [out, of, my, mental, health, pills, and, im, ...\n",
       "11      [umbearable, right, footankle, pain, pmh, gout]\n",
       "12    [hospital, transfer, for, renal, transplant, p...\n",
       "13    [hospital, reports, feeling, nervous, about, h...\n",
       "14    [organization, dizziness, and, sob, recent, ht...\n",
       "15    [organization, intermittent, cp, since, this, ...\n",
       "16    [organization, right, sided, abdominal, pain, ...\n",
       "17    [hospital, tx, neck, pain, and, right, arm, pa...\n",
       "18    [stat, call, epigastric, pain, and, hypotensio...\n",
       "19    [abd, pain, nv, x, 1, year, worse, over, last,...\n",
       "Name: Chief Complaint, dtype: object"
      ]
     },
     "execution_count": 70,
     "metadata": {},
     "output_type": "execute_result"
    }
   ],
   "source": [
    "re2019['Chief Complaint'] = re2019['Chief Complaint'].apply(lambda x: tokenizer.tokenize(x.lower()))\n",
    "re2019['Chief Complaint'].head(20)"
   ]
  },
  {
   "cell_type": "code",
   "execution_count": 71,
   "metadata": {},
   "outputs": [],
   "source": [
    "stemmer = PorterStemmer()"
   ]
  },
  {
   "cell_type": "code",
   "execution_count": 72,
   "metadata": {},
   "outputs": [],
   "source": [
    "def word_stemmer(text):\n",
    "    stem_text = \" \".join([stemmer.stem(i) for i in text])\n",
    "    return stem_text"
   ]
  },
  {
   "cell_type": "code",
   "execution_count": 73,
   "metadata": {},
   "outputs": [],
   "source": [
    "re2019['Chief Complaint'] = re2019['Chief Complaint'].apply(lambda x: word_stemmer(x))"
   ]
  },
  {
   "cell_type": "code",
   "execution_count": 74,
   "metadata": {},
   "outputs": [
    {
     "data": {
      "text/plain": [
       "0      been feel bad last 2 week switch bp medic last...\n",
       "1      cant walk report onset at time orient x2 aorti...\n",
       "2      dehydr chest hurt hip hurt cramp pmh hip repla...\n",
       "3      gout flare up l arm swell x 1 week deni ani ot...\n",
       "4      heart racingdyspnea and orthopnea that ha been...\n",
       "                             ...                        \n",
       "295    upper abdr side chest pain x1 month new onset ...\n",
       "296    upper lip swell x one day pmh htn copd blind i...\n",
       "297    walk outsid of a ga station and began be shock...\n",
       "298    wa get prep for colonoscopi and wa sent to er ...\n",
       "299    wa seen at hospit after an mvc pt state they r...\n",
       "Name: Chief Complaint, Length: 300, dtype: object"
      ]
     },
     "execution_count": 74,
     "metadata": {},
     "output_type": "execute_result"
    }
   ],
   "source": [
    "re2019['Chief Complaint']"
   ]
  },
  {
   "cell_type": "code",
   "execution_count": 82,
   "metadata": {},
   "outputs": [
    {
     "name": "stderr",
     "output_type": "stream",
     "text": [
      "[nltk_data] Downloading package wordnet to\n",
      "[nltk_data]     /Users/michelleide/nltk_data...\n",
      "[nltk_data]   Unzipping corpora/wordnet.zip.\n"
     ]
    },
    {
     "data": {
      "text/plain": [
       "True"
      ]
     },
     "execution_count": 82,
     "metadata": {},
     "output_type": "execute_result"
    }
   ],
   "source": [
    "from nltk.corpus import wordnet\n",
    "import nltk\n",
    "nltk.download('wordnet')"
   ]
  },
  {
   "cell_type": "code",
   "execution_count": 83,
   "metadata": {},
   "outputs": [],
   "source": [
    "lemmatizer = WordNetLemmatizer()"
   ]
  },
  {
   "cell_type": "code",
   "execution_count": 84,
   "metadata": {},
   "outputs": [],
   "source": [
    "def word_lemmatizer(text):\n",
    "    lem_text = [lemmatizer.lemmatize(i) for i in text]\n",
    "    return lem_text"
   ]
  },
  {
   "cell_type": "code",
   "execution_count": 85,
   "metadata": {},
   "outputs": [
    {
     "data": {
      "text/plain": [
       "0      [b, e, e, n,  , f, e, e, l,  , b, a, d,  , l, ...\n",
       "1      [c, a, n, t,  , w, a, l, k,  , r, e, p, o, r, ...\n",
       "2      [d, e, h, y, d, r,  , c, h, e, s, t,  , h, u, ...\n",
       "3      [g, o, u, t,  , f, l, a, r, e,  , u, p,  , l, ...\n",
       "4      [h, e, a, r, t,  , r, a, c, i, n, g, d, y, s, ...\n",
       "                             ...                        \n",
       "295    [u, p, p, e, r,  , a, b, d, r,  , s, i, d, e, ...\n",
       "296    [u, p, p, e, r,  , l, i, p,  , s, w, e, l, l, ...\n",
       "297    [w, a, l, k,  , o, u, t, s, i, d,  , o, f,  , ...\n",
       "298    [w, a,  , g, e, t,  , p, r, e, p,  , f, o, r, ...\n",
       "299    [w, a,  , s, e, e, n,  , a, t,  , h, o, s, p, ...\n",
       "Name: Chief Complaint, Length: 300, dtype: object"
      ]
     },
     "execution_count": 85,
     "metadata": {},
     "output_type": "execute_result"
    }
   ],
   "source": [
    "re2019['Chief Complaint'].apply(lambda x: word_lemmatizer(x))"
   ]
  },
  {
   "cell_type": "code",
   "execution_count": null,
   "metadata": {},
   "outputs": [],
   "source": []
  },
  {
   "cell_type": "code",
   "execution_count": null,
   "metadata": {},
   "outputs": [],
   "source": []
  }
 ],
 "metadata": {
  "kernelspec": {
   "display_name": "Python 3",
   "language": "python",
   "name": "python3"
  },
  "language_info": {
   "codemirror_mode": {
    "name": "ipython",
    "version": 3
   },
   "file_extension": ".py",
   "mimetype": "text/x-python",
   "name": "python",
   "nbconvert_exporter": "python",
   "pygments_lexer": "ipython3",
   "version": "3.8.5"
  }
 },
 "nbformat": 4,
 "nbformat_minor": 4
}

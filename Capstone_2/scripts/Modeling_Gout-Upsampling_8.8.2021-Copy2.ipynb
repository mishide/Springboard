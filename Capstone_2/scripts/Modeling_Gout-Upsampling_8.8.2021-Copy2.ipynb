{
 "cells": [
  {
   "cell_type": "markdown",
   "metadata": {},
   "source": [
    "## Prediction of Gout from patient's Chief Complaint Corpa\n",
    "\n",
    "## Question: Is this patient potentially in need of treatment for Gout?"
   ]
  },
  {
   "cell_type": "markdown",
   "metadata": {},
   "source": [
    "##  Data\n",
    "The data is found in the MIMIC-III (Medical Information Mart for Intensive Care III) database.  Details can be found at https://physionet.org/content/emer-complaint-gout/1.0/.   Acces to the database may be requested at (https://mimic.physionet.org/gettingstarted/access/).  The data is contained in 2 csv files from years 2019 and 2020."
   ]
  },
  {
   "cell_type": "markdown",
   "metadata": {},
   "source": [
    "### Import Data"
   ]
  },
  {
   "cell_type": "code",
   "execution_count": 1,
   "metadata": {},
   "outputs": [
    {
     "data": {
      "text/plain": [
       "(8275, 2)"
      ]
     },
     "execution_count": 1,
     "metadata": {},
     "output_type": "execute_result"
    }
   ],
   "source": [
    "import pandas as pd\n",
    "df = pd.read_pickle(\"noGoutTerm.csv\")\n",
    "df.shape"
   ]
  },
  {
   "cell_type": "markdown",
   "metadata": {},
   "source": [
    "### Split data into training and test sets"
   ]
  },
  {
   "cell_type": "code",
   "execution_count": 2,
   "metadata": {},
   "outputs": [],
   "source": [
    "from sklearn.model_selection import train_test_split, GridSearchCV, KFold\n",
    "    \n",
    "    # split data into training and validation sets\n",
    "X_train, X_test, y_train, y_test = train_test_split(df['corpus'], df.target, test_size=0.30, random_state=55)"
   ]
  },
  {
   "cell_type": "markdown",
   "metadata": {},
   "source": [
    "###  Convert training data to integer vectors with TF-IDF, weighted, by importance."
   ]
  },
  {
   "cell_type": "code",
   "execution_count": 3,
   "metadata": {},
   "outputs": [],
   "source": [
    "import numpy as np\n",
    "from sklearn.feature_extraction.text import TfidfVectorizer\n",
    "from sklearn.preprocessing import LabelEncoder\n",
    "\n",
    "    # Vectoring the corpus from string to int\n",
    "tfidf_vectorizer = TfidfVectorizer(stop_words='english')\n",
    "X_train = tfidf_vectorizer.fit_transform(X_train)\n",
    "X_test = tfidf_vectorizer.transform(X_test)"
   ]
  },
  {
   "cell_type": "markdown",
   "metadata": {},
   "source": [
    "### Encode the test target values"
   ]
  },
  {
   "cell_type": "code",
   "execution_count": 4,
   "metadata": {},
   "outputs": [],
   "source": [
    "labelencoder=LabelEncoder()\n",
    "E_y_test = labelencoder.fit_transform(y_test)"
   ]
  },
  {
   "cell_type": "markdown",
   "metadata": {},
   "source": [
    "## Instantiate Models"
   ]
  },
  {
   "cell_type": "code",
   "execution_count": 30,
   "metadata": {},
   "outputs": [],
   "source": [
    "from sklearn.linear_model import LogisticRegression\n",
    "from sklearn.ensemble import GradientBoostingClassifier\n",
    "from sklearn.naive_bayes import MultinomialNB\n",
    "from sklearn import svm\n",
    "from sklearn.neighbors import KNeighborsClassifier\n",
    "from sklearn.ensemble import RandomForestClassifier\n",
    "\n",
    "# Models\n",
    "models_untuned = [\n",
    "{\n",
    "    'label': 'Logistic Regression',\n",
    "    'model': LogisticRegression(random_state=13)\n",
    "},\n",
    "    \n",
    "{   'label': 'Gradient Boosting',\n",
    "    'model': GradientBoostingClassifier()\n",
    "},\n",
    "    \n",
    "{   'label' : 'Naive Bayes',\n",
    "    'model' : MultinomialNB()},\n",
    "    \n",
    "{   'label' : 'SVM',\n",
    "    'model' : svm.SVC()\n",
    "},\n",
    "    \n",
    "{   'label' : 'Random Forest',   \n",
    "     'model' : RandomForestClassifier()\n",
    "},\n",
    "{   'label' : 'KNNeighbors',     \n",
    "    'model' : KNeighborsClassifier()\n",
    "}\n",
    "]"
   ]
  },
  {
   "cell_type": "markdown",
   "metadata": {},
   "source": [
    "## Create Methods"
   ]
  },
  {
   "cell_type": "markdown",
   "metadata": {},
   "source": [
    "### Method: fit_model\n",
    "Returns roc_auc score, uses over/under sampling to balance the classes"
   ]
  },
  {
   "cell_type": "code",
   "execution_count": 10,
   "metadata": {},
   "outputs": [],
   "source": [
    "from sklearn import metrics\n",
    "import matplotlib.pyplot as plt\n",
    "import imblearn\n",
    "from imblearn.pipeline import make_pipeline, Pipeline\n",
    "from numpy import mean\n",
    "from imblearn.over_sampling import RandomOverSampler\n",
    "from imblearn.under_sampling import RandomUnderSampler\n",
    "from sklearn.model_selection import RepeatedStratifiedKFold"
   ]
  },
  {
   "cell_type": "code",
   "execution_count": 36,
   "metadata": {},
   "outputs": [],
   "source": [
    "from sklearn.model_selection import RandomizedSearchCV\n",
    "import warnings\n",
    "warnings.filterwarnings('ignore')\n",
    "def fit_models(model, param_grid):\n",
    "    over = RandomOverSampler(sampling_strategy=0.1)\n",
    "    under = RandomUnderSampler(sampling_strategy=0.5)\n",
    "    steps = [('o', over), ('u', under), ('m', model['model'])]\n",
    "    pipeline = Pipeline(steps=steps)\n",
    "    cv = RepeatedStratifiedKFold(n_splits=10, n_repeats=3, random_state=0)\n",
    "    grid = GridSearchCV(pipeline, param_grid, scoring='roc_auc', cv=cv)\n",
    "    grid.fit(X_train, y_train)\n",
    "    if model['label'] == 'SVM':\n",
    "        predict = grid.decision_function(X_test)\n",
    "    else:\n",
    "        predict = grid.predict_proba(X_test)[:, 1]\n",
    "    score = metrics.roc_auc_score(y_test, predict)\n",
    "    return score, grid"
   ]
  },
  {
   "cell_type": "markdown",
   "metadata": {},
   "source": [
    "### Method to plot ROC_AUC\n",
    "Plots all models on single plot"
   ]
  },
  {
   "cell_type": "code",
   "execution_count": 46,
   "metadata": {},
   "outputs": [],
   "source": [
    "from sklearn import metrics\n",
    "import matplotlib.pyplot as plt\n",
    "\n",
    "def ROC_overlap(models, param_grid):\n",
    "    plt.figure(figsize=(11,5))\n",
    "    allAUC = []\n",
    "\n",
    "# Below for loop iterates through your models list\n",
    "    for m in models:\n",
    "        model = m['model'] # select the model\n",
    "        over = RandomOverSampler(sampling_strategy=0.1)\n",
    "        under = RandomUnderSampler(sampling_strategy=0.5)\n",
    "        steps = [('o', over), ('u', under), ('m', model)]\n",
    "        pipeline = Pipeline(steps=steps)\n",
    "        cv = RepeatedStratifiedKFold(n_splits=10, n_repeats=3, random_state=0)\n",
    "        grid = GridSearchCV(pipeline, param_grid, scoring='roc_auc', cv=cv)\n",
    "\n",
    "        if m['label'] == 'SVM':\n",
    "            test_predict_label = grid.fit(X_train, y_train).decision_function(X_test)\n",
    "            fpr, tpr, threshold = metrics.roc_curve(E_y_test, test_predict_label)\n",
    "        else:\n",
    "            grid.fit(X_train, y_train) # train the model\n",
    "            y_pred=grid.predict(X_test) # predict the test data\n",
    "            fpr, tpr, thresholds = metrics.roc_curve(E_y_test, grid.predict_proba(X_test)[:,1])\n",
    "        auc = metrics.auc(fpr,tpr)\n",
    "        allAUC.append(auc)\n",
    "\n",
    "# Now, plot the computed values\n",
    "        plt.plot(fpr, tpr, label='%s ROC (area = %0.2f)' % (m['label'], auc))\n",
    "# Custom settings for the plot \n",
    "    plt.plot([0, 1], [0, 1],'r--')\n",
    "    plt.xlim([0.0, 1.0])\n",
    "    plt.ylim([0.0, 1.05])\n",
    "    plt.xlabel('1-Specificity(False Positive Rate)')\n",
    "    plt.ylabel('Sensitivity(True Positive Rate)')\n",
    "    plt.title('Receiver Operating Characteristic')\n",
    "    plt.legend(loc=\"lower right\")\n",
    "    plt.show()   # Display"
   ]
  },
  {
   "cell_type": "markdown",
   "metadata": {},
   "source": [
    "### Method: plotConfusion\n",
    "plots the confustion matrix for each model"
   ]
  },
  {
   "cell_type": "code",
   "execution_count": 19,
   "metadata": {},
   "outputs": [],
   "source": [
    "\n",
    "from sklearn.metrics import confusion_matrix\n",
    "import seaborn as sns\n",
    "\n",
    "def plotConfusion(models):\n",
    "    for m in models:\n",
    "        model = m['model'] # select the model\n",
    "        over = RandomOverSampler(sampling_strategy=0.1)\n",
    "        under = RandomUnderSampler(sampling_strategy=0.5)\n",
    "        steps = [('o', over), ('u', under), ('m', model)]\n",
    "        pipeline = Pipeline(steps=steps)\n",
    "        cv = RepeatedStratifiedKFold(n_splits=10, n_repeats=3, random_state=0)\n",
    "        model = GridSearchCV(pipeline, param_grid, scoring='roc_auc', cv=cv)\n",
    "        model.fit(X_train, y_train) # train the model\n",
    "        prediction = model.predict(X_test)\n",
    "        mat = confusion_matrix(y_test, prediction)\n",
    "        sns.heatmap(mat.T, square=True, annot=True, fmt='d', cbar=False)\n",
    "        plt.title(m['label'])\n",
    "        plt.xlabel('true')\n",
    "        plt.ylabel('predicted')\n",
    "        plt.show()"
   ]
  },
  {
   "cell_type": "markdown",
   "metadata": {},
   "source": [
    "## Train and Test Models"
   ]
  },
  {
   "cell_type": "markdown",
   "metadata": {},
   "source": [
    "### Untuned models are trained and tested, roc auc scores are displayed below"
   ]
  },
  {
   "cell_type": "code",
   "execution_count": 37,
   "metadata": {},
   "outputs": [
    {
     "name": "stdout",
     "output_type": "stream",
     "text": [
      "Logistic Regression\n",
      "0.9328781512605041\n",
      "Gradient Boosting\n",
      "0.8780812324929972\n",
      "Naive Bayes\n",
      "0.8964169000933707\n",
      "SVM\n",
      "0.9300420168067227\n",
      "Random Forest\n",
      "0.8615954715219422\n",
      "KNNeighbors\n",
      "0.8414449112978526\n"
     ]
    }
   ],
   "source": [
    "grid = {}\n",
    "all_grids = {}\n",
    "for m in models_untuned:\n",
    "    print(m['label'])\n",
    "    a, b = fit_models(m, grid)\n",
    "    all_grids[m['label']] = b\n",
    "    print(a)"
   ]
  },
  {
   "cell_type": "code",
   "execution_count": 47,
   "metadata": {},
   "outputs": [
    {
     "data": {
      "image/png": "[encoded data removed]",
      "text/plain": [
       "<Figure size 792x360 with 1 Axes>"
      ]
     },
     "metadata": {
      "needs_background": "light"
     },
     "output_type": "display_data"
    }
   ],
   "source": [
    "grid = {}\n",
    "ROC_overlap(models_untuned, grid)"
   ]
  },
  {
   "cell_type": "code",
   "execution_count": 48,
   "metadata": {},
   "outputs": [
    {
     "data": {
      "image/png": "[encoded data removed]",
      "text/plain": [
       "<Figure size 720x360 with 12 Axes>"
      ]
     },
     "metadata": {
      "needs_background": "light"
     },
     "output_type": "display_data"
    }
   ],
   "source": [
    "from sklearn.metrics import confusion_matrix\n",
    "import seaborn as sns\n",
    "from sklearn.metrics import plot_confusion_matrix\n",
    "param_grid = {}\n",
    "allModels = []\n",
    "for m in models_untuned:\n",
    "    model = m['model'] # select the model\n",
    "    over = RandomOverSampler(sampling_strategy=0.1)\n",
    "    under = RandomUnderSampler(sampling_strategy=0.5)\n",
    "    steps = [('o', over), ('u', under), ('m', model)]\n",
    "    pipeline = Pipeline(steps=steps)\n",
    "    cv = RepeatedStratifiedKFold(n_splits=10, n_repeats=3, random_state=0)\n",
    "    model = GridSearchCV(pipeline, param_grid, scoring='roc_auc', cv=cv)\n",
    "    model.fit(X_train, y_train) # train the model\n",
    "    allModels.append(model)\n",
    "fig, axes = plt.subplots(nrows=2, ncols=3, figsize=(10,5))\n",
    "\n",
    "for cls, ax in zip(allModels, axes.flatten()):\n",
    "    plot_confusion_matrix(cls, \n",
    "                          X_test, \n",
    "                          y_test, \n",
    "                          ax=ax, \n",
    "                          cmap='Blues',\n",
    "                         )\n",
    "    ax.title.set_text(type(cls).__name__)\n",
    "plt.tight_layout()  \n",
    "plt.show()"
   ]
  },
  {
   "cell_type": "markdown",
   "metadata": {},
   "source": [
    "### Tune Logistic Regression"
   ]
  },
  {
   "cell_type": "code",
   "execution_count": 24,
   "metadata": {},
   "outputs": [
    {
     "name": "stdout",
     "output_type": "stream",
     "text": [
      "{'m__C': 1, 'm__class_weight': 'balanced', 'm__max_iter': 4000, 'm__penalty': 'l2', 'm__solver': 'sag'}\n"
     ]
    }
   ],
   "source": [
    "# Logistic Regression Grid\n",
    "\n",
    "solvers = ['newton-cg', 'lbfgs', 'liblinear', 'sag']\n",
    "penalty = ['l2', 'l2', 'elasticnet', 'none']\n",
    "c_values = [ 0.001, 0.01, 0.1, 1]\n",
    "class_weight = ['balanced']\n",
    "max_iter = [ 4000]\n",
    "LG_grid = {\n",
    "    'm__solver': solvers,\n",
    "    'm__penalty': penalty,\n",
    "    'm__class_weight' : class_weight,\n",
    "    'm__C': c_values,\n",
    "    'm__max_iter': max_iter\n",
    "}\n",
    "score, model = fit_models(LogisticRegression(), LG_grid )\n",
    "print(model.best_params_)"
   ]
  },
  {
   "cell_type": "code",
   "execution_count": null,
   "metadata": {},
   "outputs": [],
   "source": [
    "\n",
    "solvers = ['lbfgs']\n",
    "penalty = ['l2']\n",
    "c_values = [1]\n",
    "class_weight = ['balanced']\n",
    "max_iter = [ 4000]\n",
    "LG_grid = {\n",
    "    'm__solver': solvers,\n",
    "    'm__penalty': penalty,\n",
    "    'm__class_weight' : class_weight,\n",
    "    'm__C': c_values,\n",
    "    'm__max_iter': max_iter\n",
    "}\n",
    "first_auc_scores = ROC_overlap(models_untuned) # store the scores for comparison later"
   ]
  },
  {
   "cell_type": "markdown",
   "metadata": {},
   "source": [
    "### Confusion Matrix: method "
   ]
  },
  {
   "cell_type": "code",
   "execution_count": null,
   "metadata": {},
   "outputs": [],
   "source": [
    "# Plots confusion matrix of model\n",
    "\n",
    "from sklearn.metrics import confusion_matrix\n",
    "import seaborn as sns\n",
    "\n",
    "def plotConfusion(models):\n",
    "    for m in models:\n",
    "        model = m['model'] # select the model\n",
    "        model.fit(X_ROS, y_ROS)\n",
    "        prediction = model.predict(X_test)\n",
    "        mat = confusion_matrix(y_test, prediction)\n",
    "        sns.heatmap(mat.T, square=True, annot=True, fmt='d', cbar=False)\n",
    "        plt.title(m['label'])\n",
    "        plt.xlabel('true')\n",
    "        plt.ylabel('predicted')\n",
    "        plt.show()"
   ]
  },
  {
   "cell_type": "code",
   "execution_count": null,
   "metadata": {},
   "outputs": [],
   "source": []
  },
  {
   "cell_type": "code",
   "execution_count": null,
   "metadata": {},
   "outputs": [],
   "source": [
    "from sklearn.metrics import confusion_matrix\n",
    "import seaborn as sns\n",
    "from sklearn.metrics import plot_confusion_matrix\n",
    "\n",
    "allModels = []\n",
    "for m in models_untuned:\n",
    "    model = m['model'] # select the model\n",
    "    model.fit(X_ROS, y_ROS)\n",
    "    allModels.append(model)\n",
    "\n",
    "\n",
    "fig, axes = plt.subplots(nrows=2, ncols=3, figsize=(10,5))\n",
    "\n",
    "for cls, ax in zip(allModels, axes.flatten()):\n",
    "    plot_confusion_matrix(cls, \n",
    "                          X_test, \n",
    "                          y_test, \n",
    "                          ax=ax, \n",
    "                          cmap='Blues',\n",
    "                         )\n",
    "    ax.title.set_text(type(cls).__name__)\n",
    "plt.tight_layout()  \n",
    "plt.show()"
   ]
  },
  {
   "cell_type": "markdown",
   "metadata": {},
   "source": [
    "### Hyperparameter Tuning: Method"
   ]
  },
  {
   "cell_type": "code",
   "execution_count": null,
   "metadata": {},
   "outputs": [],
   "source": [
    "from sklearn.model_selection import GridSearchCV, KFold\n",
    "\n",
    "\n",
    "def parameter_tuning(model, param_grid):\n",
    "\n",
    "        # Specify folds for GridSearch\n",
    "    kf = KFold(n_splits=2, shuffle=False)\n",
    "        # Run Gridsearch, fit - predict\n",
    "    grid = GridSearchCV(estimator = model, param_grid=param_grid, scoring='roc_auc', cv=kf)\n",
    "    grid.fit(X_ROS, y_ROS)\n",
    "    return grid.best_params_, grid.score(X_test, y_test)"
   ]
  },
  {
   "cell_type": "markdown",
   "metadata": {},
   "source": [
    "### Tune each model: collect parameters"
   ]
  },
  {
   "cell_type": "code",
   "execution_count": null,
   "metadata": {},
   "outputs": [],
   "source": [
    "# Logistic Regression Grid\n",
    "\n",
    "solvers = ['newton-cg', 'lbfgs', 'liblinear', 'sag']\n",
    "penalty = ['l2']\n",
    "c_values = [0.001, 0.01, 0.1, 1, 10]\n",
    "LG_grid = {\n",
    "    'solver': solvers,\n",
    "    'penalty': penalty,\n",
    "    'C': c_values\n",
    "}"
   ]
  },
  {
   "cell_type": "code",
   "execution_count": null,
   "metadata": {},
   "outputs": [],
   "source": [
    "# Gradient Boosting Grid\n",
    "\n",
    "loss = ['deviance', 'exponential']\n",
    "lr = [0.1, 0.2, 0.3, 0.4, 0.5, 0.6, 0.7, 0.8, 0.9, 1]\n",
    "ne = range(1, 100, 5)\n",
    "cr = ['friedman_mse', 'mse', 'mae']\n",
    "GB_grid = {\n",
    "    'loss': loss,\n",
    "    'learning_rate': lr,\n",
    "    'n_estimators': ne,\n",
    "    'criterion': cr\n",
    "}"
   ]
  },
  {
   "cell_type": "code",
   "execution_count": null,
   "metadata": {},
   "outputs": [],
   "source": [
    "# Naive Bayes Grid\n",
    "\n",
    "alphas = np.arange(1000, 3500, 100)\n",
    "\n",
    "NB_grid = {\n",
    "    'alphas' : alphas\n",
    "}"
   ]
  },
  {
   "cell_type": "code",
   "execution_count": null,
   "metadata": {},
   "outputs": [],
   "source": [
    "# SVM Grid\n",
    "\n",
    "SVM_grid = {\n",
    "    'C': [0.1, 1, 10, 100, 1000],\n",
    "    'gamma': [1, 0.1, 0.01, 0.001, 0.0001],\n",
    "    'kernel': ['rbf']\n",
    "}"
   ]
  },
  {
   "cell_type": "code",
   "execution_count": null,
   "metadata": {},
   "outputs": [],
   "source": [
    "# Random Forest Grid\n",
    "\n",
    "RF_grid = {\n",
    "    'n_estimators': [1, 2, 4, 8, 16, 32, 64, 100, 200],\n",
    "    'max_depth': range(1, 32, 1),\n",
    "    'min_samples_leaf': [1, 2, 3, 4, 5],\n",
    "    'criterion': ['gini', 'entropy']\n",
    "}"
   ]
  },
  {
   "cell_type": "code",
   "execution_count": null,
   "metadata": {},
   "outputs": [],
   "source": [
    "# KNN Grid\n",
    "\n",
    "KNN_grid = {\n",
    "    'algorithm': ['auto'],\n",
    "    'leaf_size': [1, 5, 10, 15, 20, 25, 30],\n",
    "    'n_neighbors': [1, 2, 3, 4, 5, 6, 7, 8],\n",
    "    'p': [1, 2],\n",
    "    'weights': ['uniform', 'distance']\n",
    "}"
   ]
  },
  {
   "cell_type": "code",
   "execution_count": null,
   "metadata": {},
   "outputs": [],
   "source": [
    "LG_best_params, score = parameter_tuning(LogisticRegression(), LG_grid)"
   ]
  },
  {
   "cell_type": "code",
   "execution_count": null,
   "metadata": {},
   "outputs": [],
   "source": [
    "print(LG_best_params, score)"
   ]
  },
  {
   "cell_type": "code",
   "execution_count": null,
   "metadata": {},
   "outputs": [],
   "source": [
    "GB_best_params, score = parameter_tuning(GradientBoostingClassifier(), GB_grid)\n"
   ]
  },
  {
   "cell_type": "code",
   "execution_count": null,
   "metadata": {},
   "outputs": [],
   "source": [
    "print(GB_best_params, score)"
   ]
  },
  {
   "cell_type": "code",
   "execution_count": null,
   "metadata": {},
   "outputs": [],
   "source": [
    "NB_best_params, score = parameter_tuning(MultinomialNB(), NB_grid)\n"
   ]
  },
  {
   "cell_type": "code",
   "execution_count": null,
   "metadata": {},
   "outputs": [],
   "source": [
    "print(NB_best_params, score)"
   ]
  },
  {
   "cell_type": "code",
   "execution_count": null,
   "metadata": {},
   "outputs": [],
   "source": [
    "SVM_best_params, score = parameter_tuning(svm.SVC(), SVM_grid)\n"
   ]
  },
  {
   "cell_type": "code",
   "execution_count": null,
   "metadata": {},
   "outputs": [],
   "source": [
    "RF_best_params, score = parameter_tuning(RandomForestClassifier(), RF_grid)\n"
   ]
  },
  {
   "cell_type": "code",
   "execution_count": null,
   "metadata": {},
   "outputs": [],
   "source": [
    "KNN_best_params, score = parameter_tuning(KNeighborsClassifier(), KNN_grid)"
   ]
  },
  {
   "cell_type": "code",
   "execution_count": null,
   "metadata": {},
   "outputs": [],
   "source": [
    "print(rf_best_params)"
   ]
  },
  {
   "cell_type": "code",
   "execution_count": null,
   "metadata": {},
   "outputs": [],
   "source": [
    "    # Models after hyperparameters tuned\n",
    "models_tuned = [\n",
    "{\n",
    "    'label': 'Logistic Regression',\n",
    "    'model': LogisticRegression()\n",
    "},\n",
    "{\n",
    "    'label': 'Gradient Boosting',\n",
    "    'model': GradientBoostingClassifier(),\n",
    "},\n",
    "{\n",
    "    'label' : 'Naive Bayes',\n",
    "    'model' : MultinomialNB()\n",
    "},\n",
    "{\n",
    "    'label' : 'SVM',\n",
    "    'model' : svm.SVC(C=1.0, kernel='linear', degree=3, gamma='auto')\n",
    "},\n",
    "{\n",
    "    'label' : 'Random Forest',\n",
    "    'model' : RandomForestClassifier(criterion = 'entropy', max_depth = 31, min_samples_leaf = 1,n_estimators = 200)\n",
    "},\n",
    "{\n",
    "    'label' : 'KNNeighbors',\n",
    "    'model' : KNeighborsClassifier()\n",
    "}\n",
    "]"
   ]
  },
  {
   "cell_type": "code",
   "execution_count": null,
   "metadata": {},
   "outputs": [],
   "source": [
    "tuned_auc_scores = ROC_overlap(models_tuned)"
   ]
  },
  {
   "cell_type": "code",
   "execution_count": null,
   "metadata": {},
   "outputs": [],
   "source": []
  }
 ],
 "metadata": {
  "kernelspec": {
   "display_name": "Python 3",
   "language": "python",
   "name": "python3"
  },
  "language_info": {
   "codemirror_mode": {
    "name": "ipython",
    "version": 3
   },
   "file_extension": ".py",
   "mimetype": "text/x-python",
   "name": "python",
   "nbconvert_exporter": "python",
   "pygments_lexer": "ipython3",
   "version": "3.8.5"
  },
  "toc": {
   "base_numbering": 1,
   "nav_menu": {},
   "number_sections": true,
   "sideBar": true,
   "skip_h1_title": false,
   "title_cell": "Table of Contents",
   "title_sidebar": "Contents",
   "toc_cell": false,
   "toc_position": {},
   "toc_section_display": true,
   "toc_window_display": false
  }
 },
 "nbformat": 4,
 "nbformat_minor": 4
}

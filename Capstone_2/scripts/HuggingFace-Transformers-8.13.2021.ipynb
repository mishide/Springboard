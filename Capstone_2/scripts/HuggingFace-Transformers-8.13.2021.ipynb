{
 "cells": [
  {
   "cell_type": "markdown",
   "metadata": {},
   "source": [
    "# Predicting Gout During Emergency Room Visit:  <i>Is the patient potentially suffering from Gout?</i>  "
   ]
  },
  {
   "cell_type": "markdown",
   "metadata": {},
   "source": [
    "## Scope"
   ]
  },
  {
   "cell_type": "markdown",
   "metadata": {},
   "source": [
    "The scope of this project is corpora from the Deep South.  The demographics of the population from which they were derived are 54% female, and 46% male, 55% Black, 40% White, 2% Hispanic, and 1% Asian. Age distribution was 5% between ages 1-20 years, 35% between ages 21-40 years, 35% between ages 41-60 years, 20% between ages 61-80 years, and 5% between ages 81-100 years."
   ]
  },
  {
   "cell_type": "markdown",
   "metadata": {},
   "source": [
    "## Data\n",
    "\n",
    "The data is extracted in csv format from the MIMIC-III (Medical Information Mart for Intensive Care III) database.  Details can be found at https://physionet.org/content/emer-complaint-gout/1.0/.   Acces to the database may be requested at (https://mimic.physionet.org/gettingstarted/access/). \n",
    "\n",
    "The data provided by the MIMIC database consists of 2 corpora of free text collected by the triage nurse and recorded as the \"Chief Complaint\".  Each complaint contains up to 282 characters in length and was collected from 2019 to 2020 at an academic medical center in the Deep South.  The 2019 corpora, \"GOUT-CC-2019-CORPUS\", consists of 300 chief complaints selected by the presence of the keyword \"gout\". The 2020 corpora, \"GOUT-CC-2020-CORPUS\" contains 8037 chief complaints collected from a single month in 2020. The chief complaints included in both corpora were selected based on the presence of the keyword \"gout\"."
   ]
  },
  {
   "cell_type": "markdown",
   "metadata": {},
   "source": [
    "## Cleaning and Analysis"
   ]
  },
  {
   "cell_type": "markdown",
   "metadata": {},
   "source": [
    "**Import Data**"
   ]
  },
  {
   "cell_type": "code",
   "execution_count": 15,
   "metadata": {
    "ExecuteTime": {
     "end_time": "2021-04-20T21:50:53.023861Z",
     "start_time": "2021-04-20T21:50:53.003138Z"
    }
   },
   "outputs": [],
   "source": [
    "import pandas as pd\n",
    "\n",
    "syn2019 = pd.read_csv('Data/GOUT-CC-2019-CORPUS-SYNTHETIC.csv')\n",
    "syn2020 = pd.read_csv('Data/GOUT-CC-2020-CORPUS-SYNTHETIC.csv')"
   ]
  },
  {
   "cell_type": "markdown",
   "metadata": {},
   "source": [
    "\n",
    "**Data Description**\n",
    "* 2 csv files\n",
    "    * 2019 : 300 records\n",
    "    * 2020 : 8037 records\n",
    "    * Identical layouts and formats: all text, 3 columns\n",
    "    <br><br>\n",
    "* 3 Columns:  [\"Chief Complaint\", \"Predict\", \"Consensus\"]\n",
    "    * <b>Chief Complaint:</b> \n",
    "        * text format\n",
    "        * up to 282 Chars\n",
    "        * nurse recorded patient complaint\n",
    "    * <b>Predict:</b> \n",
    "        * text format\n",
    "        * single char ('-','U','Y','N')\n",
    "        * prediction of Gout by the ER Physician\n",
    "    * <b>Consensus:</b> \n",
    "        * textformat\n",
    "        * single char ('-','U','Y','N')\n",
    "        * determination of Gout by the Rhuematologist\n",
    "    <br>\n",
    "* \n",
    "          - : Null\n",
    "          U : Unknonw\n",
    "          Y : Yes\n",
    "          N : Gout"
   ]
  },
  {
   "cell_type": "markdown",
   "metadata": {},
   "source": [
    "## Format Data"
   ]
  },
  {
   "cell_type": "code",
   "execution_count": 16,
   "metadata": {},
   "outputs": [
    {
     "name": "stdout",
     "output_type": "stream",
     "text": [
      "                                     Chief Complaint Predict Consensus\n",
      "0  \"been feeling bad\" last 2 weeks & switched BP ...       N         -\n",
      "1  \"can't walk\", reports onset at 0830 am. orient...       Y         N\n",
      "2  \"dehydration\" Chest hurts, hips hurt, cramps P...       Y         Y\n",
      "3  \"gout flare up\" L arm swelling x 1 week. denie...       Y         Y\n",
      "4  \"heart racing,\"dyspnea, and orthopnea that has...       N         -\n"
     ]
    }
   ],
   "source": [
    "print(syn2019.head())"
   ]
  },
  {
   "cell_type": "code",
   "execution_count": 17,
   "metadata": {},
   "outputs": [
    {
     "name": "stdout",
     "output_type": "stream",
     "text": [
      "                                     Chief Complaint Predict Consensus\n",
      "0  \"I dont know whats going on with my head, its ...       N         -\n",
      "1  \"i've been depressed for a few weeks now, i'm ...       N         -\n",
      "2  Altercation while making arrest, c/o R hand pa...       N         N\n",
      "3  Cut on L upper thigh wtih saw. Bleeding contro...       N         N\n",
      "4   Dysuria x1 week. hx: hysterectomy, gerd, bipolar       N         -\n"
     ]
    }
   ],
   "source": [
    "print(syn2020.head())"
   ]
  },
  {
   "cell_type": "markdown",
   "metadata": {},
   "source": [
    "**Combine the 2 files**"
   ]
  },
  {
   "cell_type": "code",
   "execution_count": 18,
   "metadata": {},
   "outputs": [
    {
     "name": "stdout",
     "output_type": "stream",
     "text": [
      "(8437, 3)\n"
     ]
    }
   ],
   "source": [
    "# Combine the files into 1 dataframe\n",
    "df = pd.concat([syn2019, syn2020], axis=0).reset_index(drop=True)\n",
    "print(df.shape)"
   ]
  },
  {
   "cell_type": "markdown",
   "metadata": {},
   "source": [
    "**Review records for null value '-' in the files**"
   ]
  },
  {
   "cell_type": "code",
   "execution_count": 19,
   "metadata": {},
   "outputs": [
    {
     "name": "stdout",
     "output_type": "stream",
     "text": [
      "U     156\n",
      "Y     111\n",
      "N    8168\n",
      "-       2\n",
      "Name: Predict, dtype: int64\n"
     ]
    }
   ],
   "source": [
    "print(df['Predict'].value_counts(sort=False))"
   ]
  },
  {
   "cell_type": "code",
   "execution_count": 20,
   "metadata": {},
   "outputs": [
    {
     "name": "stdout",
     "output_type": "stream",
     "text": [
      "U      16\n",
      "Y      95\n",
      "N     350\n",
      "-    7976\n",
      "Name: Consensus, dtype: int64\n"
     ]
    }
   ],
   "source": [
    "print(df['Consensus'].value_counts(sort=False))"
   ]
  },
  {
   "cell_type": "markdown",
   "metadata": {},
   "source": [
    "**Remove records that contain null's '-' in both the 'Predict' and 'Consensus' columns.**"
   ]
  },
  {
   "cell_type": "code",
   "execution_count": 21,
   "metadata": {},
   "outputs": [
    {
     "name": "stdout",
     "output_type": "stream",
     "text": [
      "                                        Chief Complaint Predict Consensus\n",
      "7799  Right lower back pain that radiates down leg t...       -         -\n",
      "7857  pain to posterior upper leg x 3 days, seen at ...       -         -\n"
     ]
    }
   ],
   "source": [
    "print( df[(df.Consensus == '-') & (df.Predict == '-')])"
   ]
  },
  {
   "cell_type": "markdown",
   "metadata": {},
   "source": [
    "## Clean Data\n",
    "\n",
    "   * Remove records that contain null values in both of the Predict and Consensus columns.\n",
    "   * Fill Consensus null values ( - ) with Predict values\n",
    "   * Change all chars to lowercase\n",
    "   * Remove punctuation\n",
    "   * Remove words containing numbers"
   ]
  },
  {
   "cell_type": "markdown",
   "metadata": {},
   "source": [
    "**Remove records with double 'null' values, records with '-' in both Consensus and Predict.**"
   ]
  },
  {
   "cell_type": "code",
   "execution_count": 22,
   "metadata": {},
   "outputs": [
    {
     "name": "stdout",
     "output_type": "stream",
     "text": [
      "(8435, 3)\n"
     ]
    }
   ],
   "source": [
    "df = df[(df.Consensus != '-') | (df.Predict != '-')]\n",
    "print(df.shape)"
   ]
  },
  {
   "cell_type": "markdown",
   "metadata": {},
   "source": [
    "The predict column contains a value agreed upon by a panel of physicians while the consensus is the 'Rheumatologist findings, patients who did require follow-up with a Rhuematologist will be included using the predict values.\n",
    "\n",
    "**Fill null values in consensus with predict value**"
   ]
  },
  {
   "cell_type": "code",
   "execution_count": 23,
   "metadata": {},
   "outputs": [],
   "source": [
    "for a in df['Consensus']:\n",
    "    if a == '-':\n",
    "        df['Consensus'] = df['Predict']"
   ]
  },
  {
   "cell_type": "code",
   "execution_count": 24,
   "metadata": {},
   "outputs": [
    {
     "name": "stdout",
     "output_type": "stream",
     "text": [
      "U     156\n",
      "Y     111\n",
      "N    8168\n",
      "Name: Consensus, dtype: int64\n"
     ]
    }
   ],
   "source": [
    "print(df['Consensus'].value_counts(sort=False))"
   ]
  },
  {
   "cell_type": "code",
   "execution_count": 25,
   "metadata": {},
   "outputs": [],
   "source": [
    "df = df.drop(columns=['Predict'])"
   ]
  },
  {
   "cell_type": "code",
   "execution_count": 26,
   "metadata": {},
   "outputs": [
    {
     "data": {
      "text/html": [
       "<div>\n",
       "<style scoped>\n",
       "    .dataframe tbody tr th:only-of-type {\n",
       "        vertical-align: middle;\n",
       "    }\n",
       "\n",
       "    .dataframe tbody tr th {\n",
       "        vertical-align: top;\n",
       "    }\n",
       "\n",
       "    .dataframe thead th {\n",
       "        text-align: right;\n",
       "    }\n",
       "</style>\n",
       "<table border=\"1\" class=\"dataframe\">\n",
       "  <thead>\n",
       "    <tr style=\"text-align: right;\">\n",
       "      <th></th>\n",
       "      <th>corpus</th>\n",
       "      <th>target</th>\n",
       "    </tr>\n",
       "  </thead>\n",
       "  <tbody>\n",
       "    <tr>\n",
       "      <th>0</th>\n",
       "      <td>\"been feeling bad\" last 2 weeks &amp; switched BP ...</td>\n",
       "      <td>N</td>\n",
       "    </tr>\n",
       "    <tr>\n",
       "      <th>1</th>\n",
       "      <td>\"can't walk\", reports onset at 0830 am. orient...</td>\n",
       "      <td>Y</td>\n",
       "    </tr>\n",
       "    <tr>\n",
       "      <th>2</th>\n",
       "      <td>\"dehydration\" Chest hurts, hips hurt, cramps P...</td>\n",
       "      <td>Y</td>\n",
       "    </tr>\n",
       "    <tr>\n",
       "      <th>3</th>\n",
       "      <td>\"gout flare up\" L arm swelling x 1 week. denie...</td>\n",
       "      <td>Y</td>\n",
       "    </tr>\n",
       "    <tr>\n",
       "      <th>4</th>\n",
       "      <td>\"heart racing,\"dyspnea, and orthopnea that has...</td>\n",
       "      <td>N</td>\n",
       "    </tr>\n",
       "    <tr>\n",
       "      <th>...</th>\n",
       "      <td>...</td>\n",
       "      <td>...</td>\n",
       "    </tr>\n",
       "    <tr>\n",
       "      <th>8432</th>\n",
       "      <td>stepped on a nail at home with right foot, pai...</td>\n",
       "      <td>N</td>\n",
       "    </tr>\n",
       "    <tr>\n",
       "      <th>8433</th>\n",
       "      <td>\" I was having a breakdown.\" R/T stress and de...</td>\n",
       "      <td>N</td>\n",
       "    </tr>\n",
       "    <tr>\n",
       "      <th>8434</th>\n",
       "      <td>\"I tried to jump in front of a car\" Pt states ...</td>\n",
       "      <td>N</td>\n",
       "    </tr>\n",
       "    <tr>\n",
       "      <th>8435</th>\n",
       "      <td>Abdominal pain x 1 week. Denies PMH</td>\n",
       "      <td>N</td>\n",
       "    </tr>\n",
       "    <tr>\n",
       "      <th>8436</th>\n",
       "      <td>Rash/sores across body, infection ro left thum...</td>\n",
       "      <td>N</td>\n",
       "    </tr>\n",
       "  </tbody>\n",
       "</table>\n",
       "<p>8435 rows × 2 columns</p>\n",
       "</div>"
      ],
      "text/plain": [
       "                                                 corpus target\n",
       "0     \"been feeling bad\" last 2 weeks & switched BP ...      N\n",
       "1     \"can't walk\", reports onset at 0830 am. orient...      Y\n",
       "2     \"dehydration\" Chest hurts, hips hurt, cramps P...      Y\n",
       "3     \"gout flare up\" L arm swelling x 1 week. denie...      Y\n",
       "4     \"heart racing,\"dyspnea, and orthopnea that has...      N\n",
       "...                                                 ...    ...\n",
       "8432  stepped on a nail at home with right foot, pai...      N\n",
       "8433  \" I was having a breakdown.\" R/T stress and de...      N\n",
       "8434  \"I tried to jump in front of a car\" Pt states ...      N\n",
       "8435                Abdominal pain x 1 week. Denies PMH      N\n",
       "8436  Rash/sores across body, infection ro left thum...      N\n",
       "\n",
       "[8435 rows x 2 columns]"
      ]
     },
     "execution_count": 26,
     "metadata": {},
     "output_type": "execute_result"
    }
   ],
   "source": [
    "df = df.rename(columns={'Chief Complaint': 'corpus', 'Consensus': 'target'})\n",
    "df"
   ]
  },
  {
   "cell_type": "code",
   "execution_count": 27,
   "metadata": {},
   "outputs": [],
   "source": [
    "import warnings\n",
    "warnings.filterwarnings('ignore')\n",
    "\n",
    "df_slice = df[0:100]\n",
    "df_slice['score'] = ''"
   ]
  },
  {
   "cell_type": "code",
   "execution_count": 28,
   "metadata": {},
   "outputs": [
    {
     "name": "stdout",
     "output_type": "stream",
     "text": [
      "(100, 3)\n"
     ]
    },
    {
     "data": {
      "text/html": [
       "<div>\n",
       "<style scoped>\n",
       "    .dataframe tbody tr th:only-of-type {\n",
       "        vertical-align: middle;\n",
       "    }\n",
       "\n",
       "    .dataframe tbody tr th {\n",
       "        vertical-align: top;\n",
       "    }\n",
       "\n",
       "    .dataframe thead th {\n",
       "        text-align: right;\n",
       "    }\n",
       "</style>\n",
       "<table border=\"1\" class=\"dataframe\">\n",
       "  <thead>\n",
       "    <tr style=\"text-align: right;\">\n",
       "      <th></th>\n",
       "      <th>corpus</th>\n",
       "      <th>target</th>\n",
       "      <th>score</th>\n",
       "    </tr>\n",
       "  </thead>\n",
       "  <tbody>\n",
       "    <tr>\n",
       "      <th>0</th>\n",
       "      <td>\"been feeling bad\" last 2 weeks &amp; switched BP ...</td>\n",
       "      <td>N</td>\n",
       "      <td></td>\n",
       "    </tr>\n",
       "    <tr>\n",
       "      <th>1</th>\n",
       "      <td>\"can't walk\", reports onset at 0830 am. orient...</td>\n",
       "      <td>Y</td>\n",
       "      <td></td>\n",
       "    </tr>\n",
       "    <tr>\n",
       "      <th>2</th>\n",
       "      <td>\"dehydration\" Chest hurts, hips hurt, cramps P...</td>\n",
       "      <td>Y</td>\n",
       "      <td></td>\n",
       "    </tr>\n",
       "    <tr>\n",
       "      <th>3</th>\n",
       "      <td>\"gout flare up\" L arm swelling x 1 week. denie...</td>\n",
       "      <td>Y</td>\n",
       "      <td></td>\n",
       "    </tr>\n",
       "    <tr>\n",
       "      <th>4</th>\n",
       "      <td>\"heart racing,\"dyspnea, and orthopnea that has...</td>\n",
       "      <td>N</td>\n",
       "      <td></td>\n",
       "    </tr>\n",
       "    <tr>\n",
       "      <th>...</th>\n",
       "      <td>...</td>\n",
       "      <td>...</td>\n",
       "      <td>...</td>\n",
       "    </tr>\n",
       "    <tr>\n",
       "      <th>95</th>\n",
       "      <td>gout flare in left foot, right 5th finger, and...</td>\n",
       "      <td>Y</td>\n",
       "      <td></td>\n",
       "    </tr>\n",
       "    <tr>\n",
       "      <th>96</th>\n",
       "      <td>gout flare up - out of meds pmhx: DM, gout</td>\n",
       "      <td>Y</td>\n",
       "      <td></td>\n",
       "    </tr>\n",
       "    <tr>\n",
       "      <th>97</th>\n",
       "      <td>gout flare up that started yesterday in left w...</td>\n",
       "      <td>Y</td>\n",
       "      <td></td>\n",
       "    </tr>\n",
       "    <tr>\n",
       "      <th>98</th>\n",
       "      <td>gout flare up to both feet, unable to ambulate...</td>\n",
       "      <td>Y</td>\n",
       "      <td></td>\n",
       "    </tr>\n",
       "    <tr>\n",
       "      <th>99</th>\n",
       "      <td>gout flare-up to R ankle x 4 days. \"I have gou...</td>\n",
       "      <td>Y</td>\n",
       "      <td></td>\n",
       "    </tr>\n",
       "  </tbody>\n",
       "</table>\n",
       "<p>100 rows × 3 columns</p>\n",
       "</div>"
      ],
      "text/plain": [
       "                                               corpus target score\n",
       "0   \"been feeling bad\" last 2 weeks & switched BP ...      N      \n",
       "1   \"can't walk\", reports onset at 0830 am. orient...      Y      \n",
       "2   \"dehydration\" Chest hurts, hips hurt, cramps P...      Y      \n",
       "3   \"gout flare up\" L arm swelling x 1 week. denie...      Y      \n",
       "4   \"heart racing,\"dyspnea, and orthopnea that has...      N      \n",
       "..                                                ...    ...   ...\n",
       "95  gout flare in left foot, right 5th finger, and...      Y      \n",
       "96         gout flare up - out of meds pmhx: DM, gout      Y      \n",
       "97  gout flare up that started yesterday in left w...      Y      \n",
       "98  gout flare up to both feet, unable to ambulate...      Y      \n",
       "99  gout flare-up to R ankle x 4 days. \"I have gou...      Y      \n",
       "\n",
       "[100 rows x 3 columns]"
      ]
     },
     "execution_count": 28,
     "metadata": {},
     "output_type": "execute_result"
    }
   ],
   "source": [
    "print(df_slice.shape)\n",
    "df_slice"
   ]
  },
  {
   "cell_type": "markdown",
   "metadata": {},
   "source": [
    "### Huggingface transformer \"zero-shot\"\n",
    "Use of Huggingface transformer 'zero-shot' to classfify the patient's chief complaint.  The transformer gives the sentence a 'score' likelihood the topic is 'gout'.\n",
    "\n",
    "We are looking for scores that are higher for the target = Y and lower for N with a cut-off score."
   ]
  },
  {
   "cell_type": "code",
   "execution_count": 29,
   "metadata": {},
   "outputs": [],
   "source": [
    "import transformers\n",
    "from transformers import pipeline\n",
    "\n",
    "# instantiate the zero-shot classification pipeline\n",
    "zero = pipeline(\"zero-shot-classification\")"
   ]
  },
  {
   "cell_type": "code",
   "execution_count": 30,
   "metadata": {},
   "outputs": [],
   "source": [
    "import warnings\n",
    "warnings.filterwarnings('ignore')\n",
    "\n",
    "# feed each line of the corpus and collect the resulting score for each line\n",
    "for i in range(0,100,1):\n",
    "    collecting = zero(df_slice['corpus'][i],candidate_labels=[\"gout\", \"not gout\"])\n",
    "    df_slice['score'][i] = list(collecting['scores'])"
   ]
  },
  {
   "cell_type": "code",
   "execution_count": 31,
   "metadata": {},
   "outputs": [
    {
     "data": {
      "text/html": [
       "<div>\n",
       "<style scoped>\n",
       "    .dataframe tbody tr th:only-of-type {\n",
       "        vertical-align: middle;\n",
       "    }\n",
       "\n",
       "    .dataframe tbody tr th {\n",
       "        vertical-align: top;\n",
       "    }\n",
       "\n",
       "    .dataframe thead th {\n",
       "        text-align: right;\n",
       "    }\n",
       "</style>\n",
       "<table border=\"1\" class=\"dataframe\">\n",
       "  <thead>\n",
       "    <tr style=\"text-align: right;\">\n",
       "      <th></th>\n",
       "      <th>corpus</th>\n",
       "      <th>target</th>\n",
       "      <th>score</th>\n",
       "    </tr>\n",
       "  </thead>\n",
       "  <tbody>\n",
       "    <tr>\n",
       "      <th>0</th>\n",
       "      <td>\"been feeling bad\" last 2 weeks &amp; switched BP ...</td>\n",
       "      <td>N</td>\n",
       "      <td>[0.9907973408699036, 0.009202688001096249]</td>\n",
       "    </tr>\n",
       "    <tr>\n",
       "      <th>1</th>\n",
       "      <td>\"can't walk\", reports onset at 0830 am. orient...</td>\n",
       "      <td>Y</td>\n",
       "      <td>[0.9805265069007874, 0.01947350613772869]</td>\n",
       "    </tr>\n",
       "    <tr>\n",
       "      <th>2</th>\n",
       "      <td>\"dehydration\" Chest hurts, hips hurt, cramps P...</td>\n",
       "      <td>Y</td>\n",
       "      <td>[0.9907540082931519, 0.009246038272976875]</td>\n",
       "    </tr>\n",
       "    <tr>\n",
       "      <th>3</th>\n",
       "      <td>\"gout flare up\" L arm swelling x 1 week. denie...</td>\n",
       "      <td>Y</td>\n",
       "      <td>[0.9959062337875366, 0.004093728959560394]</td>\n",
       "    </tr>\n",
       "    <tr>\n",
       "      <th>4</th>\n",
       "      <td>\"heart racing,\"dyspnea, and orthopnea that has...</td>\n",
       "      <td>N</td>\n",
       "      <td>[0.9372850060462952, 0.06271496415138245]</td>\n",
       "    </tr>\n",
       "    <tr>\n",
       "      <th>...</th>\n",
       "      <td>...</td>\n",
       "      <td>...</td>\n",
       "      <td>...</td>\n",
       "    </tr>\n",
       "    <tr>\n",
       "      <th>95</th>\n",
       "      <td>gout flare in left foot, right 5th finger, and...</td>\n",
       "      <td>Y</td>\n",
       "      <td>[0.997671365737915, 0.002328585833311081]</td>\n",
       "    </tr>\n",
       "    <tr>\n",
       "      <th>96</th>\n",
       "      <td>gout flare up - out of meds pmhx: DM, gout</td>\n",
       "      <td>Y</td>\n",
       "      <td>[0.9974185228347778, 0.002581487176939845]</td>\n",
       "    </tr>\n",
       "    <tr>\n",
       "      <th>97</th>\n",
       "      <td>gout flare up that started yesterday in left w...</td>\n",
       "      <td>Y</td>\n",
       "      <td>[0.9982471466064453, 0.0017528717871755362]</td>\n",
       "    </tr>\n",
       "    <tr>\n",
       "      <th>98</th>\n",
       "      <td>gout flare up to both feet, unable to ambulate...</td>\n",
       "      <td>Y</td>\n",
       "      <td>[0.9961241483688354, 0.0038758094888180494]</td>\n",
       "    </tr>\n",
       "    <tr>\n",
       "      <th>99</th>\n",
       "      <td>gout flare-up to R ankle x 4 days. \"I have gou...</td>\n",
       "      <td>Y</td>\n",
       "      <td>[0.9956374168395996, 0.004362587351351976]</td>\n",
       "    </tr>\n",
       "  </tbody>\n",
       "</table>\n",
       "<p>100 rows × 3 columns</p>\n",
       "</div>"
      ],
      "text/plain": [
       "                                               corpus target  \\\n",
       "0   \"been feeling bad\" last 2 weeks & switched BP ...      N   \n",
       "1   \"can't walk\", reports onset at 0830 am. orient...      Y   \n",
       "2   \"dehydration\" Chest hurts, hips hurt, cramps P...      Y   \n",
       "3   \"gout flare up\" L arm swelling x 1 week. denie...      Y   \n",
       "4   \"heart racing,\"dyspnea, and orthopnea that has...      N   \n",
       "..                                                ...    ...   \n",
       "95  gout flare in left foot, right 5th finger, and...      Y   \n",
       "96         gout flare up - out of meds pmhx: DM, gout      Y   \n",
       "97  gout flare up that started yesterday in left w...      Y   \n",
       "98  gout flare up to both feet, unable to ambulate...      Y   \n",
       "99  gout flare-up to R ankle x 4 days. \"I have gou...      Y   \n",
       "\n",
       "                                          score  \n",
       "0    [0.9907973408699036, 0.009202688001096249]  \n",
       "1     [0.9805265069007874, 0.01947350613772869]  \n",
       "2    [0.9907540082931519, 0.009246038272976875]  \n",
       "3    [0.9959062337875366, 0.004093728959560394]  \n",
       "4     [0.9372850060462952, 0.06271496415138245]  \n",
       "..                                          ...  \n",
       "95    [0.997671365737915, 0.002328585833311081]  \n",
       "96   [0.9974185228347778, 0.002581487176939845]  \n",
       "97  [0.9982471466064453, 0.0017528717871755362]  \n",
       "98  [0.9961241483688354, 0.0038758094888180494]  \n",
       "99   [0.9956374168395996, 0.004362587351351976]  \n",
       "\n",
       "[100 rows x 3 columns]"
      ]
     },
     "execution_count": 31,
     "metadata": {},
     "output_type": "execute_result"
    }
   ],
   "source": [
    "# results\n",
    "df_slice"
   ]
  },
  {
   "cell_type": "code",
   "execution_count": 32,
   "metadata": {},
   "outputs": [
    {
     "name": "stdout",
     "output_type": "stream",
     "text": [
      "                                               corpus target  \\\n",
      "50  C/O LLE swelling/stiff x2d and radiating into ...      Y   \n",
      "58  Called back to ED for positive blood cultures ...      Y   \n",
      "30  bilateral feet swelling and pain. ambulatory, ...      Y   \n",
      "31  bilateral knee swelling Left sided chest pain,...      Y   \n",
      "32  bilateral leg and feet pain. weeping fluid. ha...      Y   \n",
      "48  C/o left foot and knee pain since Tuesday \"I t...      Y   \n",
      "1   \"can't walk\", reports onset at 0830 am. orient...      Y   \n",
      "53  c/o R big toe hurting from gout and headaches ...      Y   \n",
      "55  C/O sudden onset nontraumatic R knee pain and ...      Y   \n",
      "62  Chest pain and legs burning and joint pain x 1...      Y   \n",
      "\n",
      "                                          score  \n",
      "50   [0.9898225665092468, 0.010177397169172764]  \n",
      "58  [0.9950408339500427, 0.0049592056311666965]  \n",
      "30   [0.9724188446998596, 0.027581194415688515]  \n",
      "31   [0.9617189764976501, 0.038281094282865524]  \n",
      "32    [0.9339268803596497, 0.06607315689325333]  \n",
      "48   [0.9927661418914795, 0.007233858574181795]  \n",
      "1     [0.9805265069007874, 0.01947350613772869]  \n",
      "53   [0.9948952198028564, 0.005104764364659786]  \n",
      "55   [0.9851028323173523, 0.014897214248776436]  \n",
      "62   [0.9810921549797058, 0.018907802179455757]  \n"
     ]
    }
   ],
   "source": [
    "# view the scores for target = Y\n",
    "print(df_slice.sort_values(by='target', ascending = False).head(10))"
   ]
  },
  {
   "cell_type": "markdown",
   "metadata": {},
   "source": [
    "We see great scores for the target = Y and looks promising, however, looking below at the 'N' target (negative) there are also many in the 90%"
   ]
  },
  {
   "cell_type": "code",
   "execution_count": 33,
   "metadata": {},
   "outputs": [
    {
     "name": "stdout",
     "output_type": "stream",
     "text": [
      "                                               corpus target  \\\n",
      "0   \"been feeling bad\" last 2 weeks & switched BP ...      N   \n",
      "66  Chest tightness with SOB, weakness x1 week;  P...      N   \n",
      "64  chest pain x 9 hours- sharp right sided pain P...      N   \n",
      "63  chest pain radiating to R side x2 1/2 hrs, dia...      N   \n",
      "61  chest and back pain that has been going on for...      N   \n",
      "60  chest and abd pain, recently dx w/ flu, given ...      N   \n",
      "57  call to EMS for heart palpitations, possible S...      N   \n",
      "56  C/o vaginal and buttock pressure with N/V/D x ...      N   \n",
      "67  Chronic neck, shoulder and back pain self plac...      N   \n",
      "54  c/o SOB, Aching and congestion since 0827. PMH...      N   \n",
      "\n",
      "                                         score  \n",
      "0   [0.9907973408699036, 0.009202688001096249]  \n",
      "66   [0.9549756646156311, 0.04502439126372337]  \n",
      "64  [0.9835835695266724, 0.016416503116488457]  \n",
      "63  [0.9958539009094238, 0.004146095830947161]  \n",
      "61  [0.9624640941619873, 0.037535883486270905]  \n",
      "60   [0.9435455203056335, 0.05645447596907616]  \n",
      "57   [0.9474315047264099, 0.05256848782300949]  \n",
      "56   [0.9610593318939209, 0.03894064575433731]  \n",
      "67  [0.9804809093475342, 0.019519111141562462]  \n",
      "54  [0.9876403212547302, 0.012359666638076305]  \n"
     ]
    }
   ],
   "source": [
    "# view the scores for target = N\n",
    "print(df_slice.sort_values(by='target', ascending = True).head(10))"
   ]
  },
  {
   "cell_type": "code",
   "execution_count": 42,
   "metadata": {},
   "outputs": [],
   "source": [
    "collect = []\n",
    "df_slice = df[0:100]\n",
    "\n",
    "for i in range(0,100,1):\n",
    "    collecting = zero(df_slice['corpus'][i],candidate_labels=[\"gout\", 'pregnant', 'injury', 'flu'])\n",
    "    collect.append(collecting)"
   ]
  },
  {
   "cell_type": "code",
   "execution_count": 44,
   "metadata": {},
   "outputs": [],
   "source": [
    "df2 = pd.DataFrame(columns = {'corpus', 'target','gout', 'pregnant', 'injury', 'flu'})\n",
    "\n",
    "scores = list(map(lambda x: x[\"scores\"], collect))"
   ]
  },
  {
   "cell_type": "code",
   "execution_count": 45,
   "metadata": {},
   "outputs": [],
   "source": [
    "i = 0\n",
    "for sublist in scores:\n",
    "    df2.loc[i] = {'corpus':df_slice['corpus'][i],\n",
    "                  'target':df_slice['target'][i],\n",
    "                  'gout': sublist[0],\n",
    "                  'pregnant':sublist[1],\n",
    "                  'injury':sublist[2], \n",
    "                  'flu':sublist[3]}\n",
    "    i=i+1"
   ]
  },
  {
   "cell_type": "code",
   "execution_count": 47,
   "metadata": {},
   "outputs": [
    {
     "name": "stdout",
     "output_type": "stream",
     "text": [
      "    pregnant                                             corpus    injury  \\\n",
      "50  0.388827  C/O LLE swelling/stiff x2d and radiating into ...  0.005782   \n",
      "58  0.245121  Called back to ED for positive blood cultures ...  0.002637   \n",
      "30  0.153973  bilateral feet swelling and pain. ambulatory, ...  0.004787   \n",
      "31  0.363073  bilateral knee swelling Left sided chest pain,...  0.012380   \n",
      "32  0.239244  bilateral leg and feet pain. weeping fluid. ha...  0.014725   \n",
      "..       ...                                                ...       ...   \n",
      "46  0.286967  c/o HA & elevated BP since this morning PMHx: ...  0.003002   \n",
      "45  0.114937                    c/o fevers, HA, PMHx: gout, HTN  0.037058   \n",
      "44  0.051859  c/o fatigue x2 days and wanting to get assesse...  0.004215   \n",
      "43  0.255679  C/o depression and anxiety with SI. Admitted t...  0.037422   \n",
      "0   0.068769  \"been feeling bad\" last 2 weeks & switched BP ...  0.004581   \n",
      "\n",
      "        gout       flu target  \n",
      "50  0.601594  0.003797      Y  \n",
      "58  0.751446  0.000796      Y  \n",
      "30  0.839188  0.002052      Y  \n",
      "31  0.622157  0.002391      Y  \n",
      "32  0.734789  0.011242      Y  \n",
      "..       ...       ...    ...  \n",
      "46  0.708434  0.001597      N  \n",
      "45  0.846633  0.001372      N  \n",
      "44  0.941949  0.001978      N  \n",
      "43  0.696207  0.010692      N  \n",
      "0   0.925177  0.001472      N  \n",
      "\n",
      "[100 rows x 6 columns]\n"
     ]
    }
   ],
   "source": [
    "print(df2.sort_values(by='target', ascending=False))"
   ]
  },
  {
   "cell_type": "markdown",
   "metadata": {},
   "source": [
    "### Statistical score the corpus is talking about 'gout'"
   ]
  },
  {
   "cell_type": "code",
   "execution_count": 57,
   "metadata": {},
   "outputs": [],
   "source": [
    "from transformers import pipeline\n",
    "nlp = pipeline(\"question-answering\")"
   ]
  },
  {
   "cell_type": "code",
   "execution_count": 104,
   "metadata": {},
   "outputs": [
    {
     "name": "stdout",
     "output_type": "stream",
     "text": [
      "{'score': 0.05127223953604698, 'start': 70, 'end': 77, 'answer': 'worried'}\n",
      "{'score': 0.31441476941108704, 'start': 179, 'end': 195, 'answer': 'gout - pmhx: CVA'}\n",
      "{'score': 0.09854094684123993, 'start': 104, 'end': 152, 'answer': 'thinks he has a gout flair up knee and foot pain'}\n",
      "{'score': 0.2828519344329834, 'start': 41, 'end': 61, 'answer': 'denies any other pmh'}\n",
      "{'score': 0.17536409199237823, 'start': 118, 'end': 122, 'answer': 'gout'}\n",
      "{'score': 0.05314946547150612, 'start': 1, 'end': 25, 'answer': 'I started breathing hard'}\n",
      "{'score': 0.11026431620121002, 'start': 33, 'end': 70, 'answer': 'L wrist pain & swelling since 0838 AM'}\n",
      "{'score': 0.1614694446325302, 'start': 68, 'end': 88, 'answer': 'having gout flare up'}\n",
      "{'score': 0.30471810698509216, 'start': 86, 'end': 95, 'answer': 'pmh- gout'}\n",
      "{'score': 0.08825334906578064, 'start': 1, 'end': 22, 'answer': 'my gout is hurting me'}\n"
     ]
    }
   ],
   "source": [
    "all_results\n",
    "for i in range(0,10,1):\n",
    "    question = df['corpus'][i]\n",
    "    print(nlp(question='Is this gout?', context=question))"
   ]
  },
  {
   "cell_type": "code",
   "execution_count": 105,
   "metadata": {},
   "outputs": [],
   "source": [
    "new_results = []\n",
    "for i in range(0,9,1):\n",
    "    question = df['corpus'][i]\n",
    "    new_results.append(nlp(question=question, context='gout?'))"
   ]
  },
  {
   "cell_type": "code",
   "execution_count": 106,
   "metadata": {},
   "outputs": [],
   "source": [
    "scores = list(map(lambda x: x[\"score\"], new_results))"
   ]
  },
  {
   "cell_type": "code",
   "execution_count": 107,
   "metadata": {},
   "outputs": [
    {
     "name": "stderr",
     "output_type": "stream",
     "text": [
      "<ipython-input-107-32f61da7a652>:4: SettingWithCopyWarning: \n",
      "A value is trying to be set on a copy of a slice from a DataFrame.\n",
      "Try using .loc[row_indexer,col_indexer] = value instead\n",
      "\n",
      "See the caveats in the documentation: https://pandas.pydata.org/pandas-docs/stable/user_guide/indexing.html#returning-a-view-versus-a-copy\n",
      "  dfslice['scores'] = scores\n"
     ]
    }
   ],
   "source": [
    "dfslice = df.loc[0:8,:]\n",
    "dfslice\n",
    "len(dfslice)\n",
    "dfslice['scores'] = scores"
   ]
  },
  {
   "cell_type": "code",
   "execution_count": 108,
   "metadata": {},
   "outputs": [
    {
     "data": {
      "text/html": [
       "<div>\n",
       "<style scoped>\n",
       "    .dataframe tbody tr th:only-of-type {\n",
       "        vertical-align: middle;\n",
       "    }\n",
       "\n",
       "    .dataframe tbody tr th {\n",
       "        vertical-align: top;\n",
       "    }\n",
       "\n",
       "    .dataframe thead th {\n",
       "        text-align: right;\n",
       "    }\n",
       "</style>\n",
       "<table border=\"1\" class=\"dataframe\">\n",
       "  <thead>\n",
       "    <tr style=\"text-align: right;\">\n",
       "      <th></th>\n",
       "      <th>corpus</th>\n",
       "      <th>target</th>\n",
       "      <th>scores</th>\n",
       "    </tr>\n",
       "  </thead>\n",
       "  <tbody>\n",
       "    <tr>\n",
       "      <th>0</th>\n",
       "      <td>\"been feeling bad\" last 2 weeks &amp; switched BP ...</td>\n",
       "      <td>N</td>\n",
       "      <td>0.323374</td>\n",
       "    </tr>\n",
       "    <tr>\n",
       "      <th>4</th>\n",
       "      <td>\"heart racing,\"dyspnea, and orthopnea that has...</td>\n",
       "      <td>N</td>\n",
       "      <td>0.745537</td>\n",
       "    </tr>\n",
       "    <tr>\n",
       "      <th>5</th>\n",
       "      <td>\"I started breathing hard\"  hx- htn, gout, anx...</td>\n",
       "      <td>N</td>\n",
       "      <td>0.314415</td>\n",
       "    </tr>\n",
       "    <tr>\n",
       "      <th>1</th>\n",
       "      <td>\"can't walk\", reports onset at 0830 am. orient...</td>\n",
       "      <td>Y</td>\n",
       "      <td>0.547898</td>\n",
       "    </tr>\n",
       "    <tr>\n",
       "      <th>2</th>\n",
       "      <td>\"dehydration\" Chest hurts, hips hurt, cramps P...</td>\n",
       "      <td>Y</td>\n",
       "      <td>0.277770</td>\n",
       "    </tr>\n",
       "    <tr>\n",
       "      <th>3</th>\n",
       "      <td>\"gout flare up\" L arm swelling x 1 week. denie...</td>\n",
       "      <td>Y</td>\n",
       "      <td>0.123926</td>\n",
       "    </tr>\n",
       "    <tr>\n",
       "      <th>6</th>\n",
       "      <td>\"I think I have a gout flare up\" L wrist pain ...</td>\n",
       "      <td>Y</td>\n",
       "      <td>0.244861</td>\n",
       "    </tr>\n",
       "    <tr>\n",
       "      <th>7</th>\n",
       "      <td>\"I want to see if I have an infection\" pt vagu...</td>\n",
       "      <td>Y</td>\n",
       "      <td>0.160254</td>\n",
       "    </tr>\n",
       "    <tr>\n",
       "      <th>8</th>\n",
       "      <td>\"My gout done flared up on me\", c/o R ankle, L...</td>\n",
       "      <td>Y</td>\n",
       "      <td>0.198742</td>\n",
       "    </tr>\n",
       "  </tbody>\n",
       "</table>\n",
       "</div>"
      ],
      "text/plain": [
       "                                              corpus target    scores\n",
       "0  \"been feeling bad\" last 2 weeks & switched BP ...      N  0.323374\n",
       "4  \"heart racing,\"dyspnea, and orthopnea that has...      N  0.745537\n",
       "5  \"I started breathing hard\"  hx- htn, gout, anx...      N  0.314415\n",
       "1  \"can't walk\", reports onset at 0830 am. orient...      Y  0.547898\n",
       "2  \"dehydration\" Chest hurts, hips hurt, cramps P...      Y  0.277770\n",
       "3  \"gout flare up\" L arm swelling x 1 week. denie...      Y  0.123926\n",
       "6  \"I think I have a gout flare up\" L wrist pain ...      Y  0.244861\n",
       "7  \"I want to see if I have an infection\" pt vagu...      Y  0.160254\n",
       "8  \"My gout done flared up on me\", c/o R ankle, L...      Y  0.198742"
      ]
     },
     "execution_count": 108,
     "metadata": {},
     "output_type": "execute_result"
    }
   ],
   "source": [
    "dfslice.sort_values(by='target')"
   ]
  },
  {
   "cell_type": "markdown",
   "metadata": {},
   "source": [
    "### Text Generator"
   ]
  },
  {
   "cell_type": "code",
   "execution_count": null,
   "metadata": {},
   "outputs": [],
   "source": [
    "generator = pipeline(\"text-generation\", model=\"distilgpt2\")\n",
    "generator(\n",
    "    df['corpus'][0],\n",
    "    max_length=30,\n",
    "    num_return_sequences=2,\n",
    ")"
   ]
  },
  {
   "cell_type": "code",
   "execution_count": null,
   "metadata": {},
   "outputs": [],
   "source": []
  }
 ],
 "metadata": {
  "kernelspec": {
   "display_name": "Python 3",
   "language": "python",
   "name": "python3"
  },
  "language_info": {
   "codemirror_mode": {
    "name": "ipython",
    "version": 3
   },
   "file_extension": ".py",
   "mimetype": "text/x-python",
   "name": "python",
   "nbconvert_exporter": "python",
   "pygments_lexer": "ipython3",
   "version": "3.8.5"
  },
  "toc": {
   "base_numbering": 1,
   "nav_menu": {},
   "number_sections": true,
   "sideBar": true,
   "skip_h1_title": false,
   "title_cell": "Table of Contents",
   "title_sidebar": "Contents",
   "toc_cell": false,
   "toc_position": {},
   "toc_section_display": true,
   "toc_window_display": false
  }
 },
 "nbformat": 4,
 "nbformat_minor": 4
}

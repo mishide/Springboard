{
 "cells": [
  {
   "cell_type": "markdown",
   "metadata": {},
   "source": [
    "## Prediction of Gout from patient's Chief Complaint Corpa\n",
    "\n",
    "## Question: Is this patient potentially in need of treatment for Gout?"
   ]
  },
  {
   "cell_type": "markdown",
   "metadata": {},
   "source": [
    "##  Data\n",
    "The data is found in the MIMIC-III (Medical Information Mart for Intensive Care III) database.  Details can be found at https://physionet.org/content/emer-complaint-gout/1.0/.   Acces to the database may be requested at (https://mimic.physionet.org/gettingstarted/access/).  The data is contained in 2 csv files from years 2019 and 2020."
   ]
  },
  {
   "cell_type": "markdown",
   "metadata": {},
   "source": [
    "### Import Data"
   ]
  },
  {
   "cell_type": "code",
   "execution_count": 1,
   "metadata": {},
   "outputs": [
    {
     "data": {
      "text/plain": [
       "(8275, 2)"
      ]
     },
     "execution_count": 1,
     "metadata": {},
     "output_type": "execute_result"
    }
   ],
   "source": [
    "import pandas as pd\n",
    "df = pd.read_pickle(\"noGoutTerm.csv\")\n",
    "df.shape"
   ]
  },
  {
   "cell_type": "markdown",
   "metadata": {},
   "source": [
    "### Split data into training and test sets"
   ]
  },
  {
   "cell_type": "code",
   "execution_count": 2,
   "metadata": {},
   "outputs": [],
   "source": [
    "from sklearn.model_selection import train_test_split, GridSearchCV, KFold\n",
    "    \n",
    "    # split data into training and validation sets\n",
    "X_train, X_test, y_train, y_test = train_test_split(\n",
    "    df['corpus'],                                     \n",
    "    df.target,                                       \n",
    "    test_size=0.30,                                   \n",
    "    stratify=df.target,                                # Stratify the imbalanced target\n",
    "    random_state=1,                                    # Constant seed for reproducibility\n",
    "    shuffle=True                                       # Set for the 'statify' parameter\n",
    ")"
   ]
  },
  {
   "cell_type": "markdown",
   "metadata": {},
   "source": [
    "###  Convert training data to integer vectors with TF-IDF, weighted, by importance."
   ]
  },
  {
   "cell_type": "code",
   "execution_count": 3,
   "metadata": {},
   "outputs": [],
   "source": [
    "import numpy as np\n",
    "from sklearn.feature_extraction.text import TfidfVectorizer\n",
    "from sklearn.preprocessing import LabelEncoder\n",
    "\n",
    "    # Vectoring the corpus from string to int, the TFidf method will weight the keywords\n",
    "tfidf_vectorizer = TfidfVectorizer(stop_words='english')\n",
    "X_train = tfidf_vectorizer.fit_transform(X_train)\n",
    "X_test = tfidf_vectorizer.transform(X_test)"
   ]
  },
  {
   "cell_type": "markdown",
   "metadata": {},
   "source": [
    "### Encode the test target values: necessary for calculating ROC Curve"
   ]
  },
  {
   "cell_type": "code",
   "execution_count": 4,
   "metadata": {},
   "outputs": [],
   "source": [
    "labelencoder=LabelEncoder()                     # Simple direct encoding from string to int\n",
    "E_y_test = labelencoder.fit_transform(y_test)"
   ]
  },
  {
   "cell_type": "markdown",
   "metadata": {},
   "source": [
    "## Instantiate Models with default hyperparamters"
   ]
  },
  {
   "cell_type": "code",
   "execution_count": 5,
   "metadata": {},
   "outputs": [],
   "source": [
    "from sklearn.linear_model import LogisticRegression\n",
    "from sklearn.ensemble import GradientBoostingClassifier\n",
    "from sklearn.naive_bayes import MultinomialNB\n",
    "from sklearn import svm\n",
    "from sklearn.neighbors import KNeighborsClassifier\n",
    "from sklearn.ensemble import RandomForestClassifier\n",
    "\n",
    "# Dict of the 6 models to be tested and tuned\n",
    "models_untuned = [\n",
    "{\n",
    "    'label': 'Logistic Regression',\n",
    "    'model': LogisticRegression(random_state=1),     # see the random state for reproducabity during tuning\n",
    "    'grid' : {}                                      # default hyperparameters\n",
    "},  \n",
    "{   'label' : 'Naive Bayes',\n",
    "    'model' : MultinomialNB(),\n",
    "    'grid' : {}\n",
    "},  \n",
    "{   'label' : 'SVM',\n",
    "    'model' : svm.SVC(random_state=1),\n",
    "    'grid' : {}\n",
    "},\n",
    "    {   'label' : 'KNNeighbors',     \n",
    "    'model' : KNeighborsClassifier(),\n",
    "    'grid' : {}\n",
    "},   \n",
    "{   'label': 'Gradient Boosting',\n",
    "    'model': GradientBoostingClassifier(random_state=1),\n",
    "    'grid' : {}\n",
    "}, \n",
    "{   'label' : 'Random Forest',   \n",
    "     'model' : RandomForestClassifier(random_state=1),\n",
    "    'grid' : {}\n",
    "}\n",
    "]"
   ]
  },
  {
   "cell_type": "markdown",
   "metadata": {},
   "source": [
    "## Create Methods used for training and testing of models"
   ]
  },
  {
   "cell_type": "code",
   "execution_count": 6,
   "metadata": {},
   "outputs": [],
   "source": [
    "#Load Libraries for the mothods that follow\n",
    "\n",
    "from sklearn import metrics\n",
    "import matplotlib.pyplot as plt\n",
    "import imblearn\n",
    "from imblearn.pipeline import make_pipeline, Pipeline\n",
    "from numpy import mean\n",
    "from imblearn.over_sampling import RandomOverSampler\n",
    "from imblearn.under_sampling import RandomUnderSampler\n",
    "from sklearn.model_selection import RepeatedStratifiedKFold\n",
    "from sklearn.model_selection import GridSearchCV\n",
    "from sklearn.metrics import confusion_matrix\n",
    "import seaborn as sns\n",
    "from sklearn.metrics import plot_confusion_matrix"
   ]
  },
  {
   "cell_type": "markdown",
   "metadata": {},
   "source": [
    "### Method: fit_models\n",
    "Fits multiple models\n",
    "\n",
    "<b><i>Returns</b></i> ROC_AUC score and fitted model"
   ]
  },
  {
   "cell_type": "code",
   "execution_count": 7,
   "metadata": {},
   "outputs": [],
   "source": [
    "import warnings\n",
    "warnings.filterwarnings('ignore')\n",
    "\n",
    "def fit_models(model):\n",
    "    param_grid = model['grid']\n",
    "    over = RandomOverSampler(sampling_strategy=0.1,random_state=1)    # Data is highly imbalanced, limit oversampling\n",
    "    under = RandomUnderSampler(sampling_strategy=0.5,random_state=1)  # Complete the class balance with undersampling\n",
    "    steps = [('o', over), ('u', under), ('m', model['model'])]  # apply the combo under/over sampling for balance\n",
    "    pipeline = Pipeline(steps=steps)\n",
    "    cv = RepeatedStratifiedKFold(n_splits=10, n_repeats=3, random_state=1)\n",
    "    grid = GridSearchCV(pipeline, param_grid, scoring='roc_auc',      # Wrap a gridsearch with a 10-fold split\n",
    "                        cv=cv)\n",
    "    grid.fit(X_train, y_train)\n",
    "    if model['label'] == 'SVM':\n",
    "        predict = grid.decision_function(X_test)                      # Test the SVM model, requires 'decision_function' \n",
    "    else:\n",
    "        predict = grid.predict_proba(X_test)[:, 1]                    # Test remaining models with predict_proba\n",
    "    score = metrics.roc_auc_score(y_test, predict)\n",
    "    return score, grid"
   ]
  },
  {
   "cell_type": "markdown",
   "metadata": {},
   "source": [
    "### Method: single_fit\n",
    "Fits a single model for use during the tuning stage\n",
    "\n",
    "<b><i>Returns</b></i> ROC AUC score, fitted model, best parameters, and cross validation results"
   ]
  },
  {
   "cell_type": "code",
   "execution_count": 8,
   "metadata": {},
   "outputs": [],
   "source": [
    "import warnings\n",
    "warnings.filterwarnings('ignore')\n",
    "\n",
    "def single_fit(model, parameters, label='none'):\n",
    "    over = RandomOverSampler(sampling_strategy=0.1,random_state=1)\n",
    "    under = RandomUnderSampler(sampling_strategy=0.5,random_state=1)\n",
    "    steps = [('o', over), ('u', under), ('m', model)]\n",
    "    pipeline = Pipeline(steps=steps)\n",
    "    cv = RepeatedStratifiedKFold(n_splits=10, n_repeats=3, random_state=1)\n",
    "    grid = GridSearchCV(pipeline, param_grid=parameters, scoring='roc_auc', cv=cv)  #scoring is roc_auc\n",
    "    grid.fit(X_train, y_train)\n",
    "    if label == 'SVM':\n",
    "        predict = grid.decision_function(X_test)\n",
    "    else:\n",
    "        predict = grid.predict_proba(X_test)[:, 1]\n",
    "    score = metrics.roc_auc_score(y_test, predict)                                 # consistent scoring = roc_auc\n",
    "    return score, grid, grid.best_params_, (pd.DataFrame(grid.cv_results_))"
   ]
  },
  {
   "cell_type": "markdown",
   "metadata": {},
   "source": [
    "### Method:  ROC_overlap\n",
    "Plots all models on single graph"
   ]
  },
  {
   "cell_type": "code",
   "execution_count": 9,
   "metadata": {},
   "outputs": [],
   "source": [
    "def ROC_overlap(models):\n",
    "    plt.figure(figsize=(11,5))\n",
    "    allAUC = []\n",
    "\n",
    "# Below for loop iterates through your models list\n",
    "    for m in models:\n",
    "        model = m['model']                  # Repeat fit_models code: unable to pass fit model method to method\n",
    "        param_grid = m['grid']\n",
    "        over = RandomOverSampler(sampling_strategy=0.1, random_state=1)\n",
    "        under = RandomUnderSampler(sampling_strategy=0.5, random_state=1)\n",
    "        steps = [('o', over), ('u', under), ('m', model)]\n",
    "        pipeline = Pipeline(steps=steps)\n",
    "        cv = RepeatedStratifiedKFold(n_splits=10, n_repeats=3, random_state=1)\n",
    "        grid = GridSearchCV(pipeline, param_grid, scoring='roc_auc', cv=cv)\n",
    "\n",
    "        if m['label'] == 'SVM':                                 # Specific to SVM prediction: decision_function\n",
    "            test_predict_label = grid.fit(X_train, y_train).decision_function(X_test)\n",
    "            fpr, tpr, threshold = metrics.roc_curve(E_y_test, test_predict_label)\n",
    "        else:\n",
    "            grid.fit(X_train, y_train)                         \n",
    "            y_pred=grid.predict(X_test)                        \n",
    "            fpr, tpr, thresholds = metrics.roc_curve(E_y_test, grid.predict_proba(X_test)[:,1])\n",
    "        auc = metrics.auc(fpr,tpr)\n",
    "        allAUC.append(auc)\n",
    "\n",
    "# Now, plot the computed values\n",
    "        plt.plot(fpr, tpr, label='%s ROC (area = %0.2f)' % (m['label'], auc))\n",
    "# Custom settings for the plot \n",
    "    plt.plot([0, 1], [0, 1],'r--')\n",
    "    plt.xlim([0.0, 1.0])\n",
    "    plt.ylim([0.0, 1.05])\n",
    "    plt.xlabel('1-Specificity(False Positive Rate)')\n",
    "    plt.ylabel('Sensitivity(True Positive Rate)')\n",
    "    plt.title('Receiver Operating Characteristic')\n",
    "    plt.legend(loc=\"lower right\")\n",
    "    plt.show()   # Display"
   ]
  },
  {
   "cell_type": "markdown",
   "metadata": {},
   "source": [
    "### Method: plotConfusion\n",
    "Plots the confustion matrix of all models in grouped subplots"
   ]
  },
  {
   "cell_type": "code",
   "execution_count": 10,
   "metadata": {},
   "outputs": [],
   "source": [
    "# Plot the confusion matrix for all models\n",
    "\n",
    "def plotConfusion(models, param_grid = {}):\n",
    "    allModels = []\n",
    "    for m in models_untuned:\n",
    "        model = m['model'] # select the model\n",
    "        over = RandomOverSampler(sampling_strategy=0.1, random_state=1)\n",
    "        under = RandomUnderSampler(sampling_strategy=0.5, random_state=1)\n",
    "        steps = [('o', over), ('u', under), ('m', model)]\n",
    "        pipeline = Pipeline(steps=steps)\n",
    "        cv = RepeatedStratifiedKFold(n_splits=10, n_repeats=3, random_state=0)\n",
    "        model = GridSearchCV(pipeline, param_grid, scoring='roc_auc', cv=cv)\n",
    "        model.fit(X_train, y_train) # train the model\n",
    "        allModels.append(model)\n",
    "    \n",
    "    fig, axes = plt.subplots(nrows=2, ncols=3, figsize=(10,5))\n",
    "\n",
    "    for cls, ax in zip(allModels, axes.flatten()):\n",
    "        plot_confusion_matrix(cls, X_test, y_test, ax=ax, cmap='Blues')\n",
    "        ax.set_title(cls.estimator['m'])\n",
    "    plt.tight_layout()  \n",
    "    plt.show()"
   ]
  },
  {
   "cell_type": "markdown",
   "metadata": {},
   "source": [
    "## Train and Test Models w/default hyperparameters"
   ]
  },
  {
   "cell_type": "markdown",
   "metadata": {},
   "source": [
    "#### ROC AUC results from base (untuned) models"
   ]
  },
  {
   "cell_type": "code",
   "execution_count": 11,
   "metadata": {},
   "outputs": [
    {
     "data": {
      "image/png": "[encoded data removed]",
      "text/plain": [
       "<Figure size 792x360 with 1 Axes>"
      ]
     },
     "metadata": {
      "needs_background": "light"
     },
     "output_type": "display_data"
    }
   ],
   "source": [
    "#Run the plot for all the models\n",
    "grid = {}                           # default parameters\n",
    "ROC_overlap(models_untuned)"
   ]
  },
  {
   "cell_type": "markdown",
   "metadata": {},
   "source": [
    "### Confusion Matrix from base (untuned) models"
   ]
  },
  {
   "cell_type": "code",
   "execution_count": 12,
   "metadata": {},
   "outputs": [
    {
     "data": {
      "image/png": "[encoded data removed]",
      "text/plain": [
       "<Figure size 720x360 with 12 Axes>"
      ]
     },
     "metadata": {
      "needs_background": "light"
     },
     "output_type": "display_data"
    }
   ],
   "source": [
    "# Plot the confusion matrix for all models with default hyperparameters\n",
    "\n",
    "plotConfusion(models_untuned)"
   ]
  },
  {
   "cell_type": "markdown",
   "metadata": {},
   "source": [
    "### Summary of scores for base (untuned) model"
   ]
  },
  {
   "cell_type": "code",
   "execution_count": 13,
   "metadata": {},
   "outputs": [
    {
     "name": "stdout",
     "output_type": "stream",
     "text": [
      "Base Classifiers: ROC AUC\n"
     ]
    },
    {
     "data": {
      "text/html": [
       "<div>\n",
       "<style scoped>\n",
       "    .dataframe tbody tr th:only-of-type {\n",
       "        vertical-align: middle;\n",
       "    }\n",
       "\n",
       "    .dataframe tbody tr th {\n",
       "        vertical-align: top;\n",
       "    }\n",
       "\n",
       "    .dataframe thead th {\n",
       "        text-align: right;\n",
       "    }\n",
       "</style>\n",
       "<table border=\"1\" class=\"dataframe\">\n",
       "  <thead>\n",
       "    <tr style=\"text-align: right;\">\n",
       "      <th></th>\n",
       "      <th>model</th>\n",
       "      <th>score</th>\n",
       "    </tr>\n",
       "  </thead>\n",
       "  <tbody>\n",
       "    <tr>\n",
       "      <th>0</th>\n",
       "      <td>Logistic Regression</td>\n",
       "      <td>93.794682</td>\n",
       "    </tr>\n",
       "    <tr>\n",
       "      <th>1</th>\n",
       "      <td>Naive Bayes</td>\n",
       "      <td>92.226345</td>\n",
       "    </tr>\n",
       "    <tr>\n",
       "      <th>2</th>\n",
       "      <td>SVM</td>\n",
       "      <td>91.996289</td>\n",
       "    </tr>\n",
       "    <tr>\n",
       "      <th>3</th>\n",
       "      <td>KNNeighbors</td>\n",
       "      <td>84.988868</td>\n",
       "    </tr>\n",
       "    <tr>\n",
       "      <th>4</th>\n",
       "      <td>Gradient Boosting</td>\n",
       "      <td>91.289425</td>\n",
       "    </tr>\n",
       "    <tr>\n",
       "      <th>5</th>\n",
       "      <td>Random Forest</td>\n",
       "      <td>90.529375</td>\n",
       "    </tr>\n",
       "  </tbody>\n",
       "</table>\n",
       "</div>"
      ],
      "text/plain": [
       "                 model      score\n",
       "0  Logistic Regression  93.794682\n",
       "1          Naive Bayes  92.226345\n",
       "2                  SVM  91.996289\n",
       "3          KNNeighbors  84.988868\n",
       "4    Gradient Boosting  91.289425\n",
       "5        Random Forest  90.529375"
      ]
     },
     "execution_count": 13,
     "metadata": {},
     "output_type": "execute_result"
    }
   ],
   "source": [
    "a_scores = []\n",
    "a_labels = []\n",
    "print(\"Base Classifiers: ROC AUC\")\n",
    "for m in models_untuned:\n",
    "    a_labels.append(m['label'])\n",
    "    score, grid = fit_models(m)\n",
    "    a_scores.append(score*100)\n",
    "df_untuned = pd.DataFrame(columns = {'model', 'score'})\n",
    "df_untuned['model']=a_labels\n",
    "df_untuned['score']=a_scores\n",
    "df_untuned"
   ]
  },
  {
   "cell_type": "markdown",
   "metadata": {},
   "source": [
    "### Plot the summary of ROC AUC scores of Base Classifiers - prior to hyperparameter tuning"
   ]
  },
  {
   "cell_type": "code",
   "execution_count": 14,
   "metadata": {},
   "outputs": [
    {
     "data": {
      "image/png": "[encoded data removed]",
      "text/plain": [
       "<Figure size 432x288 with 1 Axes>"
      ]
     },
     "metadata": {
      "needs_background": "light"
     },
     "output_type": "display_data"
    }
   ],
   "source": [
    "ax = df_untuned.sort_values(by='score', ascending=False).plot.bar(x='model', y='score', rot=0)\n",
    "plt.ylim([80, 100])\n",
    "plt.xticks(rotation=90)\n",
    "plt.grid(color='red', linewidth=1, axis='y', alpha=0.5)\n",
    "plt.title(\"ROC AUC Scores of base classifiers\")\n",
    "plt.show()"
   ]
  },
  {
   "cell_type": "markdown",
   "metadata": {},
   "source": [
    "## Hyperparameter Tuning\n",
    "\n",
    "The models were tested for various hyperparameters to potentially increase accuracies beyond optimization techniques."
   ]
  },
  {
   "cell_type": "markdown",
   "metadata": {},
   "source": [
    "### Tune the Logistic Regression model"
   ]
  },
  {
   "cell_type": "code",
   "execution_count": 29,
   "metadata": {},
   "outputs": [],
   "source": [
    "# Logistic Regression Grid\n",
    "# not included such as 'dual', 'tol', and 'fit_intercept' unnecessary for this project\n",
    "\n",
    "LG_grid = {\n",
    "    'm__solver': ['newton-cg', 'lbfgs', 'liblinear', 'sag'],\n",
    "    'm__penalty': ['l2', 'l2', 'elasticnet', 'none'],\n",
    "    'm__class_weight' : ['balanced', 'None'],\n",
    "#    'm__class_weight' : [{0:0.1, 1:0.99}],\n",
    "    'm__C': [0.1, 1, 10],\n",
    "    'm__max_iter': [100, 4000, 8000],\n",
    "    'm__multi_class' : ['auto', 'ovr', 'multinomial'],\n",
    "    'm__random_state': [1]\n",
    "}"
   ]
  },
  {
   "cell_type": "code",
   "execution_count": 30,
   "metadata": {},
   "outputs": [
    {
     "name": "stdout",
     "output_type": "stream",
     "text": [
      "0.938973407544836\n",
      "{'m__C': 1, 'm__class_weight': 'balanced', 'm__max_iter': 100, 'm__multi_class': 'auto', 'm__penalty': 'l2', 'm__random_state': 1, 'm__solver': 'liblinear'}\n"
     ]
    }
   ],
   "source": [
    "score, grid, parameters, results = single_fit(LogisticRegression(), LG_grid)\n",
    "print(score)\n",
    "print(parameters)"
   ]
  },
  {
   "cell_type": "markdown",
   "metadata": {},
   "source": [
    "### Results Logistic Regression\n",
    "Looking at the best parameters listed by the grid search, the parameters that are not default values are the class_weight = 'balanced',  solver = 'liblinear', multi_class = 'auto'.  The remaining parameters are the default parameters.\n",
    "\n",
    "Results: The following parameters will be included in the tuned model - class_weight = 'balanced',  solver = 'liblinear', multi_class = 'auto'"
   ]
  },
  {
   "cell_type": "markdown",
   "metadata": {},
   "source": [
    "### Tune the Naive Bayes model"
   ]
  },
  {
   "cell_type": "code",
   "execution_count": 31,
   "metadata": {},
   "outputs": [],
   "source": [
    "# Create grid for naive bayes\n",
    "\n",
    "NB_grid = {\n",
    "    'm__alpha' : [0, 1.0],\n",
    "    'm__fit_prior' : ['True','False']\n",
    "}\n",
    "\n",
    "#{ 'm__var_smoothing': [np.logspace(0,-9, num=100)]}"
   ]
  },
  {
   "cell_type": "code",
   "execution_count": 32,
   "metadata": {},
   "outputs": [
    {
     "name": "stdout",
     "output_type": "stream",
     "text": [
      "0.9222634508348794\n",
      "{'m__alpha': 1.0, 'm__fit_prior': 'True'}\n"
     ]
    }
   ],
   "source": [
    "score, grid, parameter, results = single_fit(MultinomialNB(), NB_grid)\n",
    "print(score)\n",
    "print(parameter)"
   ]
  },
  {
   "cell_type": "markdown",
   "metadata": {},
   "source": [
    "### Results Naive Bayes\n",
    "Take a look at the details in the results, we see the most influential parameter is the alpha with the best value = 1, the bottom 2 rows are alpha=1, the top 2 are alpha=0, we see the test scores on average are much higher with a value of 1 which happens to be the default paramter.  The fit_prior best parameter did not change results therefore the grid search selected the default value of 'True' as the best parameter.\n",
    "\n",
    "Results: no additional tuning will improve the results, the default parameters are the best"
   ]
  },
  {
   "cell_type": "markdown",
   "metadata": {},
   "source": [
    "### Tune SVM model"
   ]
  },
  {
   "cell_type": "code",
   "execution_count": 33,
   "metadata": {},
   "outputs": [],
   "source": [
    "# SVM Grid\n",
    "\n",
    "SVM_grid = {\n",
    "    'm__gamma': [1, 0.1, 0.01],\n",
    "    'm__degree': [1,2,3],\n",
    "    'm__class_weight':['balanced','None'],\n",
    "    'm__decision_function_shape':['ovr','ovo'],\n",
    "    'm__random_state' : [1]\n",
    "}"
   ]
  },
  {
   "cell_type": "code",
   "execution_count": 34,
   "metadata": {},
   "outputs": [
    {
     "name": "stdout",
     "output_type": "stream",
     "text": [
      "0.9223252937538652\n",
      "{'m__class_weight': 'balanced', 'm__decision_function_shape': 'ovr', 'm__degree': 1, 'm__gamma': 1, 'm__random_state': 1}\n"
     ]
    }
   ],
   "source": [
    "score, grid, parameter, results = single_fit(svm.SVC(), SVM_grid, 'SVM')\n",
    "print(score)\n",
    "print(parameter)"
   ]
  },
  {
   "cell_type": "markdown",
   "metadata": {},
   "source": [
    "### Tune KNN model"
   ]
  },
  {
   "cell_type": "code",
   "execution_count": 35,
   "metadata": {},
   "outputs": [],
   "source": [
    "KNN_grid = {\n",
    "    'm__n_neighbors': (1,10, 1),\n",
    "    'm__leaf_size': (2,40,1),\n",
    "    'm__p': (1,2),\n",
    "    'm__weights': ('uniform', 'distance'),\n",
    "    'm__metric': ('minkowski', 'chebyshev'),\n",
    "}"
   ]
  },
  {
   "cell_type": "code",
   "execution_count": 36,
   "metadata": {},
   "outputs": [
    {
     "name": "stdout",
     "output_type": "stream",
     "text": [
      "0.8655225726654299\n",
      "{'m__leaf_size': 2, 'm__metric': 'minkowski', 'm__n_neighbors': 10, 'm__p': 2, 'm__weights': 'distance'}\n"
     ]
    }
   ],
   "source": [
    "score, grid, parameter, results = single_fit(KNeighborsClassifier(), KNN_grid)\n",
    "print(score)\n",
    "print(parameter)"
   ]
  },
  {
   "cell_type": "markdown",
   "metadata": {},
   "source": [
    "   ### Tune Gradient Boost"
   ]
  },
  {
   "cell_type": "code",
   "execution_count": 37,
   "metadata": {},
   "outputs": [],
   "source": [
    "GBA_grid = {\n",
    "    'm__n_estimators': [20,30,40,50,60,70,80],\n",
    "    'm__random_state' : [1]\n",
    "}"
   ]
  },
  {
   "cell_type": "code",
   "execution_count": 38,
   "metadata": {},
   "outputs": [
    {
     "name": "stdout",
     "output_type": "stream",
     "text": [
      "0.9095547309833025\n",
      "{'m__n_estimators': 60, 'm__random_state': 1}\n"
     ]
    }
   ],
   "source": [
    "score, grid, parameter, results = single_fit(GradientBoostingClassifier(random_state=1), GBA_grid)\n",
    "print(score)\n",
    "print(parameter)"
   ]
  },
  {
   "cell_type": "markdown",
   "metadata": {},
   "source": [
    "### Tune Random Forest Classifier"
   ]
  },
  {
   "cell_type": "code",
   "execution_count": 39,
   "metadata": {},
   "outputs": [],
   "source": [
    "RFC_grid = {\n",
    "    'm__n_estimators': [2500, 5000],\n",
    "    'm__max_features' : ['auto', 'sqrt', 'log2'],\n",
    "    'm__max_features' : ['sqrt'],\n",
    "    'm__random_state' : [1]\n",
    "}"
   ]
  },
  {
   "cell_type": "code",
   "execution_count": 40,
   "metadata": {},
   "outputs": [
    {
     "name": "stdout",
     "output_type": "stream",
     "text": [
      "0.9177118119975263\n",
      "{'m__max_features': 'sqrt', 'm__n_estimators': 5000, 'm__random_state': 1}\n"
     ]
    }
   ],
   "source": [
    "score, grid, parameter, results = single_fit(RandomForestClassifier(), RFC_grid)\n",
    "print(score)\n",
    "print(parameter)"
   ]
  },
  {
   "cell_type": "markdown",
   "metadata": {},
   "source": [
    "### Hyperparameters to tune the models"
   ]
  },
  {
   "cell_type": "code",
   "execution_count": 15,
   "metadata": {},
   "outputs": [],
   "source": [
    "L_grid = {\n",
    "    'm__solver': ['liblinear'],\n",
    "    'm__class_weight': ['balanced'],\n",
    "    'm__max_iter': [100],\n",
    "    'm__multi_class' : ['auto'],\n",
    "    'm__random_state': [1],\n",
    "    'm__C': [1],\n",
    "    'm__penalty': ['l2'],\n",
    "}\n",
    "N_grid = {\n",
    "    'm__alpha': [1.0], \n",
    "    'm__fit_prior': ['True']\n",
    "}\n",
    "SV_grid = {\n",
    "    'm__gamma': [1],\n",
    "    'm__degree': [1],\n",
    "    'm__class_weight': ['balanced'],\n",
    "    'm__random_state': [1],\n",
    "    'm__decision_function_shape': ['ovr']\n",
    "}\n",
    "KN_grid = {\n",
    "    'm__leaf_size': [2],\n",
    "    'm__metric': ['minkowski'], \n",
    "    'm__n_neighbors': [10], \n",
    "    'm__p': [2], \n",
    "    'm__weights': ['distance']\n",
    "}\n",
    "GB_grid = {   \n",
    "    'm__n_estimators': [80], \n",
    "    'm__random_state': [1]\n",
    "}, \n",
    "RF_grid = { \n",
    "    'm__max_features': ['sqrt'],\n",
    "    'm__n_estimators': [5000],\n",
    "    'm__random_state': [1]\n",
    "\n",
    "}"
   ]
  },
  {
   "cell_type": "markdown",
   "metadata": {},
   "source": [
    "### Create tuned models"
   ]
  },
  {
   "cell_type": "code",
   "execution_count": 16,
   "metadata": {},
   "outputs": [],
   "source": [
    "    # Models after hyperparameters tuned\n",
    "models_tuned = [\n",
    "{\n",
    "    'label': 'Logistic Regression',\n",
    "    'model': LogisticRegression(),\n",
    "    'grid' : L_grid\n",
    "},\n",
    "{\n",
    "    'label' : 'Naive Bayes',\n",
    "    'model' : MultinomialNB(),\n",
    "    'grid'  : N_grid\n",
    "},\n",
    "{\n",
    "    'label' : 'SVM',\n",
    "    'model' : svm.SVC(),\n",
    "    'grid'  : SV_grid\n",
    "},\n",
    "{   'label' : 'KNNeighbors',     \n",
    "    'model' : KNeighborsClassifier(),\n",
    "    'grid'  : KN_grid\n",
    "},\n",
    "{   'label': 'Gradient Boosting',\n",
    "    'model': GradientBoostingClassifier(),\n",
    "    'grid' : GB_grid\n",
    "}, \n",
    "{   'label' : 'Random Forest',   \n",
    "     'model' : RandomForestClassifier(),\n",
    "    'grid' : RF_grid\n",
    "}\n",
    "]"
   ]
  },
  {
   "cell_type": "code",
   "execution_count": 17,
   "metadata": {},
   "outputs": [
    {
     "data": {
      "text/html": [
       "<div>\n",
       "<style scoped>\n",
       "    .dataframe tbody tr th:only-of-type {\n",
       "        vertical-align: middle;\n",
       "    }\n",
       "\n",
       "    .dataframe tbody tr th {\n",
       "        vertical-align: top;\n",
       "    }\n",
       "\n",
       "    .dataframe thead th {\n",
       "        text-align: right;\n",
       "    }\n",
       "</style>\n",
       "<table border=\"1\" class=\"dataframe\">\n",
       "  <thead>\n",
       "    <tr style=\"text-align: right;\">\n",
       "      <th></th>\n",
       "      <th>model</th>\n",
       "      <th>score</th>\n",
       "    </tr>\n",
       "  </thead>\n",
       "  <tbody>\n",
       "    <tr>\n",
       "      <th>0</th>\n",
       "      <td>Logistic Regression</td>\n",
       "      <td>93.897341</td>\n",
       "    </tr>\n",
       "    <tr>\n",
       "      <th>1</th>\n",
       "      <td>Naive Bayes</td>\n",
       "      <td>92.226345</td>\n",
       "    </tr>\n",
       "    <tr>\n",
       "      <th>2</th>\n",
       "      <td>SVM</td>\n",
       "      <td>92.232529</td>\n",
       "    </tr>\n",
       "    <tr>\n",
       "      <th>3</th>\n",
       "      <td>KNNeighbors</td>\n",
       "      <td>86.552257</td>\n",
       "    </tr>\n",
       "    <tr>\n",
       "      <th>4</th>\n",
       "      <td>Gradient Boosting</td>\n",
       "      <td>91.137910</td>\n",
       "    </tr>\n",
       "    <tr>\n",
       "      <th>5</th>\n",
       "      <td>Random Forest</td>\n",
       "      <td>91.771181</td>\n",
       "    </tr>\n",
       "  </tbody>\n",
       "</table>\n",
       "</div>"
      ],
      "text/plain": [
       "                 model      score\n",
       "0  Logistic Regression  93.897341\n",
       "1          Naive Bayes  92.226345\n",
       "2                  SVM  92.232529\n",
       "3          KNNeighbors  86.552257\n",
       "4    Gradient Boosting  91.137910\n",
       "5        Random Forest  91.771181"
      ]
     },
     "execution_count": 17,
     "metadata": {},
     "output_type": "execute_result"
    }
   ],
   "source": [
    "a_scores = []\n",
    "a_labels = []\n",
    "\n",
    "for m in models_tuned:\n",
    "    a_labels.append(m['label'])\n",
    "    score, grid = fit_models(m)\n",
    "    a_scores.append(score*100)\n",
    "df_tuned = pd.DataFrame(columns = {'model', 'score'})\n",
    "df_tuned['model']=a_labels\n",
    "df_tuned['score']=a_scores\n",
    "df_tuned"
   ]
  },
  {
   "cell_type": "code",
   "execution_count": 18,
   "metadata": {},
   "outputs": [],
   "source": [
    "df3 = df_untuned\n",
    "df3 = df3.rename(columns={'score':'untuned score'})"
   ]
  },
  {
   "cell_type": "code",
   "execution_count": 19,
   "metadata": {},
   "outputs": [
    {
     "name": "stdout",
     "output_type": "stream",
     "text": [
      "                 model  untuned score\n",
      "0  Logistic Regression      93.794682\n",
      "1          Naive Bayes      92.226345\n",
      "2                  SVM      91.996289\n",
      "3          KNNeighbors      84.988868\n",
      "4    Gradient Boosting      91.289425\n",
      "5        Random Forest      90.529375\n",
      "                 model      score\n",
      "0  Logistic Regression  93.897341\n",
      "1          Naive Bayes  92.226345\n",
      "2                  SVM  92.232529\n",
      "3          KNNeighbors  86.552257\n",
      "4    Gradient Boosting  91.137910\n",
      "5        Random Forest  91.771181\n"
     ]
    }
   ],
   "source": [
    "print(df3)\n",
    "print(df_tuned)"
   ]
  },
  {
   "cell_type": "code",
   "execution_count": 20,
   "metadata": {},
   "outputs": [
    {
     "data": {
      "text/html": [
       "<div>\n",
       "<style scoped>\n",
       "    .dataframe tbody tr th:only-of-type {\n",
       "        vertical-align: middle;\n",
       "    }\n",
       "\n",
       "    .dataframe tbody tr th {\n",
       "        vertical-align: top;\n",
       "    }\n",
       "\n",
       "    .dataframe thead th {\n",
       "        text-align: right;\n",
       "    }\n",
       "</style>\n",
       "<table border=\"1\" class=\"dataframe\">\n",
       "  <thead>\n",
       "    <tr style=\"text-align: right;\">\n",
       "      <th></th>\n",
       "      <th>model</th>\n",
       "      <th>score</th>\n",
       "    </tr>\n",
       "  </thead>\n",
       "  <tbody>\n",
       "    <tr>\n",
       "      <th>0</th>\n",
       "      <td>Logistic Regression</td>\n",
       "      <td>93.897341</td>\n",
       "    </tr>\n",
       "    <tr>\n",
       "      <th>1</th>\n",
       "      <td>Naive Bayes</td>\n",
       "      <td>92.226345</td>\n",
       "    </tr>\n",
       "    <tr>\n",
       "      <th>2</th>\n",
       "      <td>SVM</td>\n",
       "      <td>92.232529</td>\n",
       "    </tr>\n",
       "    <tr>\n",
       "      <th>3</th>\n",
       "      <td>KNNeighbors</td>\n",
       "      <td>86.552257</td>\n",
       "    </tr>\n",
       "    <tr>\n",
       "      <th>4</th>\n",
       "      <td>Gradient Boosting</td>\n",
       "      <td>91.137910</td>\n",
       "    </tr>\n",
       "    <tr>\n",
       "      <th>5</th>\n",
       "      <td>Random Forest</td>\n",
       "      <td>91.771181</td>\n",
       "    </tr>\n",
       "  </tbody>\n",
       "</table>\n",
       "</div>"
      ],
      "text/plain": [
       "                 model      score\n",
       "0  Logistic Regression  93.897341\n",
       "1          Naive Bayes  92.226345\n",
       "2                  SVM  92.232529\n",
       "3          KNNeighbors  86.552257\n",
       "4    Gradient Boosting  91.137910\n",
       "5        Random Forest  91.771181"
      ]
     },
     "execution_count": 20,
     "metadata": {},
     "output_type": "execute_result"
    }
   ],
   "source": [
    "df_tuned"
   ]
  },
  {
   "cell_type": "code",
   "execution_count": 21,
   "metadata": {},
   "outputs": [
    {
     "data": {
      "text/html": [
       "<div>\n",
       "<style scoped>\n",
       "    .dataframe tbody tr th:only-of-type {\n",
       "        vertical-align: middle;\n",
       "    }\n",
       "\n",
       "    .dataframe tbody tr th {\n",
       "        vertical-align: top;\n",
       "    }\n",
       "\n",
       "    .dataframe thead th {\n",
       "        text-align: right;\n",
       "    }\n",
       "</style>\n",
       "<table border=\"1\" class=\"dataframe\">\n",
       "  <thead>\n",
       "    <tr style=\"text-align: right;\">\n",
       "      <th></th>\n",
       "      <th>model</th>\n",
       "      <th>score</th>\n",
       "      <th>untuned score</th>\n",
       "    </tr>\n",
       "  </thead>\n",
       "  <tbody>\n",
       "    <tr>\n",
       "      <th>0</th>\n",
       "      <td>Logistic Regression</td>\n",
       "      <td>93.897341</td>\n",
       "      <td></td>\n",
       "    </tr>\n",
       "    <tr>\n",
       "      <th>1</th>\n",
       "      <td>Naive Bayes</td>\n",
       "      <td>92.226345</td>\n",
       "      <td></td>\n",
       "    </tr>\n",
       "    <tr>\n",
       "      <th>2</th>\n",
       "      <td>SVM</td>\n",
       "      <td>92.232529</td>\n",
       "      <td></td>\n",
       "    </tr>\n",
       "    <tr>\n",
       "      <th>3</th>\n",
       "      <td>KNNeighbors</td>\n",
       "      <td>86.552257</td>\n",
       "      <td></td>\n",
       "    </tr>\n",
       "    <tr>\n",
       "      <th>4</th>\n",
       "      <td>Gradient Boosting</td>\n",
       "      <td>91.137910</td>\n",
       "      <td></td>\n",
       "    </tr>\n",
       "    <tr>\n",
       "      <th>5</th>\n",
       "      <td>Random Forest</td>\n",
       "      <td>91.771181</td>\n",
       "      <td></td>\n",
       "    </tr>\n",
       "  </tbody>\n",
       "</table>\n",
       "</div>"
      ],
      "text/plain": [
       "                 model      score untuned score\n",
       "0  Logistic Regression  93.897341              \n",
       "1          Naive Bayes  92.226345              \n",
       "2                  SVM  92.232529              \n",
       "3          KNNeighbors  86.552257              \n",
       "4    Gradient Boosting  91.137910              \n",
       "5        Random Forest  91.771181              "
      ]
     },
     "execution_count": 21,
     "metadata": {},
     "output_type": "execute_result"
    }
   ],
   "source": [
    "df_tuned['untuned score'] = ''\n",
    "df\n",
    "df_tuned"
   ]
  },
  {
   "cell_type": "code",
   "execution_count": 22,
   "metadata": {},
   "outputs": [],
   "source": [
    "df_final = df_tuned.merge(df3, how = 'left', on='model')"
   ]
  },
  {
   "cell_type": "code",
   "execution_count": 23,
   "metadata": {},
   "outputs": [],
   "source": [
    "df_final = df_final.drop(['untuned score_x'], axis=1).rename(columns = {'untuned score_y': 'untuned score',\n",
    "                                                                       'score':'tuned score'})"
   ]
  },
  {
   "cell_type": "code",
   "execution_count": 24,
   "metadata": {},
   "outputs": [
    {
     "data": {
      "text/html": [
       "<div>\n",
       "<style scoped>\n",
       "    .dataframe tbody tr th:only-of-type {\n",
       "        vertical-align: middle;\n",
       "    }\n",
       "\n",
       "    .dataframe tbody tr th {\n",
       "        vertical-align: top;\n",
       "    }\n",
       "\n",
       "    .dataframe thead th {\n",
       "        text-align: right;\n",
       "    }\n",
       "</style>\n",
       "<table border=\"1\" class=\"dataframe\">\n",
       "  <thead>\n",
       "    <tr style=\"text-align: right;\">\n",
       "      <th></th>\n",
       "      <th>model</th>\n",
       "      <th>tuned score</th>\n",
       "      <th>untuned score</th>\n",
       "    </tr>\n",
       "  </thead>\n",
       "  <tbody>\n",
       "    <tr>\n",
       "      <th>0</th>\n",
       "      <td>Logistic Regression</td>\n",
       "      <td>93.897341</td>\n",
       "      <td>93.794682</td>\n",
       "    </tr>\n",
       "    <tr>\n",
       "      <th>1</th>\n",
       "      <td>Naive Bayes</td>\n",
       "      <td>92.226345</td>\n",
       "      <td>92.226345</td>\n",
       "    </tr>\n",
       "    <tr>\n",
       "      <th>2</th>\n",
       "      <td>SVM</td>\n",
       "      <td>92.232529</td>\n",
       "      <td>91.996289</td>\n",
       "    </tr>\n",
       "    <tr>\n",
       "      <th>3</th>\n",
       "      <td>KNNeighbors</td>\n",
       "      <td>86.552257</td>\n",
       "      <td>84.988868</td>\n",
       "    </tr>\n",
       "    <tr>\n",
       "      <th>4</th>\n",
       "      <td>Gradient Boosting</td>\n",
       "      <td>91.137910</td>\n",
       "      <td>91.289425</td>\n",
       "    </tr>\n",
       "    <tr>\n",
       "      <th>5</th>\n",
       "      <td>Random Forest</td>\n",
       "      <td>91.771181</td>\n",
       "      <td>90.529375</td>\n",
       "    </tr>\n",
       "  </tbody>\n",
       "</table>\n",
       "</div>"
      ],
      "text/plain": [
       "                 model  tuned score  untuned score\n",
       "0  Logistic Regression    93.897341      93.794682\n",
       "1          Naive Bayes    92.226345      92.226345\n",
       "2                  SVM    92.232529      91.996289\n",
       "3          KNNeighbors    86.552257      84.988868\n",
       "4    Gradient Boosting    91.137910      91.289425\n",
       "5        Random Forest    91.771181      90.529375"
      ]
     },
     "execution_count": 24,
     "metadata": {},
     "output_type": "execute_result"
    }
   ],
   "source": [
    "df_final"
   ]
  },
  {
   "cell_type": "code",
   "execution_count": 25,
   "metadata": {},
   "outputs": [
    {
     "data": {
      "text/plain": [
       "<Figure size 2160x360 with 0 Axes>"
      ]
     },
     "metadata": {},
     "output_type": "display_data"
    },
    {
     "data": {
      "image/png": "[encoded data removed]",
      "text/plain": [
       "<Figure size 432x288 with 1 Axes>"
      ]
     },
     "metadata": {
      "needs_background": "light"
     },
     "output_type": "display_data"
    }
   ],
   "source": [
    "plt.figure(figsize=(30,5))\n",
    "\n",
    "df_final.plot.bar(x=\"model\", y=[\"tuned score\", \"untuned score\"],color = ['darkolivegreen', 'darkred'])\n",
    "plt.ylim([81, 100])\n",
    "plt.xticks(rotation=90)\n",
    "plt.grid(color='black', linewidth=1, axis='y', alpha=0.7)\n",
    "plt.title(\"Tuned vs Untuned Models\")\n",
    "plt.xlabel(\"Model\")\n",
    "plt.ylabel(\"Score\")\n",
    "plt.show()"
   ]
  },
  {
   "cell_type": "code",
   "execution_count": 26,
   "metadata": {},
   "outputs": [
    {
     "data": {
      "text/plain": [
       "<Figure size 2160x360 with 0 Axes>"
      ]
     },
     "metadata": {},
     "output_type": "display_data"
    },
    {
     "data": {
      "image/png": "[encoded data removed]",
      "text/plain": [
       "<Figure size 432x288 with 1 Axes>"
      ]
     },
     "metadata": {
      "needs_background": "light"
     },
     "output_type": "display_data"
    }
   ],
   "source": [
    "\n",
    "df_tuned['diff']=df_final['tuned score'] - df_final['untuned score']\n",
    "import matplotlib.pyplot as plt\n",
    "\n",
    "\n",
    "plt.figure(figsize=(30,5))\n",
    "\n",
    "df_tuned.plot.bar(x=\"model\", y=\"diff\",color = 'darkolivegreen')\n",
    "plt.ylim([-5, 5])\n",
    "plt.xticks(rotation=90)\n",
    "plt.grid(color='black', linewidth=1, axis='y', alpha=0.7)\n",
    "plt.title(\"Change After Tuning\")\n",
    "plt.xlabel(\"Model\")\n",
    "plt.ylabel(\"Change in Score\")\n",
    "plt.show()"
   ]
  },
  {
   "cell_type": "code",
   "execution_count": 27,
   "metadata": {},
   "outputs": [
    {
     "data": {
      "image/png": "[encoded data removed]",
      "text/plain": [
       "<Figure size 792x360 with 1 Axes>"
      ]
     },
     "metadata": {
      "needs_background": "light"
     },
     "output_type": "display_data"
    }
   ],
   "source": [
    "tuned_auc_scores = ROC_overlap(models_tuned)"
   ]
  },
  {
   "cell_type": "code",
   "execution_count": 28,
   "metadata": {},
   "outputs": [
    {
     "data": {
      "image/png": "[encoded data removed]",
      "text/plain": [
       "<Figure size 720x360 with 12 Axes>"
      ]
     },
     "metadata": {
      "needs_background": "light"
     },
     "output_type": "display_data"
    }
   ],
   "source": [
    "# Plot the confusion matrix for all models\n",
    "\n",
    "plotConfusion(models_tuned)"
   ]
  },
  {
   "cell_type": "code",
   "execution_count": null,
   "metadata": {},
   "outputs": [],
   "source": []
  }
 ],
 "metadata": {
  "kernelspec": {
   "display_name": "Python 3",
   "language": "python",
   "name": "python3"
  },
  "language_info": {
   "codemirror_mode": {
    "name": "ipython",
    "version": 3
   },
   "file_extension": ".py",
   "mimetype": "text/x-python",
   "name": "python",
   "nbconvert_exporter": "python",
   "pygments_lexer": "ipython3",
   "version": "3.8.5"
  },
  "toc": {
   "base_numbering": 1,
   "nav_menu": {},
   "number_sections": true,
   "sideBar": true,
   "skip_h1_title": false,
   "title_cell": "Table of Contents",
   "title_sidebar": "Contents",
   "toc_cell": false,
   "toc_position": {},
   "toc_section_display": true,
   "toc_window_display": false
  }
 },
 "nbformat": 4,
 "nbformat_minor": 4
}

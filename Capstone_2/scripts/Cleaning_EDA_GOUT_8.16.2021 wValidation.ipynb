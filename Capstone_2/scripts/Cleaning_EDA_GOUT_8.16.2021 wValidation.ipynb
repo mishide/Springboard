{
 "cells": [
  {
   "cell_type": "markdown",
   "metadata": {},
   "source": [
    "# Predicting Gout During Emergency Room Visit: \n",
    "## <i>Is the patient potentially suffering from Gout?</i>  "
   ]
  },
  {
   "cell_type": "markdown",
   "metadata": {},
   "source": [
    "## Scope"
   ]
  },
  {
   "cell_type": "markdown",
   "metadata": {},
   "source": [
    "The scope of this project is corpora from the Deep South.  The demographics of the population from which they were derived are 54% female, and 46% male, 55% Black, 40% White, 2% Hispanic, and 1% Asian. Age distribution was 5% between ages 1-20 years, 35% between ages 21-40 years, 35% between ages 41-60 years, 20% between ages 61-80 years, and 5% between ages 81-100 years."
   ]
  },
  {
   "cell_type": "markdown",
   "metadata": {},
   "source": [
    "## Data\n",
    "\n",
    "The data is extracted in csv format from the MIMIC-III (Medical Information Mart for Intensive Care III) database.  Details can be found at https://physionet.org/content/emer-complaint-gout/1.0/.   Acces to the database may be requested at (https://mimic.physionet.org/gettingstarted/access/). \n",
    "\n",
    "The data provided by the MIMIC database consists of 2 corpora of free text collected by the triage nurse and recorded as the \"Chief Complaint\".  Each complaint contains up to 282 characters in length and was collected from 2019 to 2020 at an academic medical center in the Deep South.  The 2019 corpora, \"GOUT-CC-2019-CORPUS\", consists of 300 chief complaints selected by the presence of the keyword \"gout\". The 2020 corpora, \"GOUT-CC-2020-CORPUS\" contains 8037 chief complaints collected from a single month in 2020. The chief complaints included in both corpora were selected based on the presence of the keyword \"gout\"."
   ]
  },
  {
   "cell_type": "markdown",
   "metadata": {},
   "source": [
    "## Import and Clean Data\n",
    "   * Import 2 csv files\n",
    "   * Combine files into a single dataframe\n",
    "   * Remove records that contain null values in both of the Predict and Consensus columns.\n",
    "   * Fill Consensus null values ( - ) with Predict values"
   ]
  },
  {
   "cell_type": "markdown",
   "metadata": {},
   "source": [
    "***Import Data***"
   ]
  },
  {
   "cell_type": "code",
   "execution_count": 1,
   "metadata": {
    "ExecuteTime": {
     "end_time": "2021-04-20T21:50:53.023861Z",
     "start_time": "2021-04-20T21:50:53.003138Z"
    }
   },
   "outputs": [],
   "source": [
    "import pandas as pd\n",
    "syn2019 = pd.read_csv('Data/GOUT-CC-2019-CORPUS-SYNTHETIC.csv')\n",
    "syn2020 = pd.read_csv('Data/GOUT-CC-2020-CORPUS-SYNTHETIC.csv')"
   ]
  },
  {
   "cell_type": "markdown",
   "metadata": {},
   "source": [
    "**Data Description**\n",
    "* 2 csv files\n",
    "    * 2019 : 300 records\n",
    "    * 2020 : 8037 records\n",
    "    * Identical layouts and formats: all text, 3 columns\n",
    "    <br><br>\n",
    "* 3 Columns:  [\"Chief Complaint\", \"Predict\", \"Consensus\"]\n",
    "    * <b>Chief Complaint:</b> \n",
    "        * text format\n",
    "        * up to 282 Chars\n",
    "        * nurse recorded patient complaint\n",
    "    * <b>Predict:</b> \n",
    "        * text format\n",
    "        * single char ('-','U','Y','N')\n",
    "        * prediction of Gout by the ER Physician\n",
    "    * <b>Consensus:</b> \n",
    "        * textformat\n",
    "        * single char ('-','U','Y','N')\n",
    "        * determination of Gout by the Rhuematologist\n",
    "    <br>\n",
    "* \n",
    "          - : Null\n",
    "          U : Unknonw\n",
    "          Y : Yes\n",
    "          N : Gout"
   ]
  },
  {
   "cell_type": "markdown",
   "metadata": {},
   "source": [
    "***Review Data***"
   ]
  },
  {
   "cell_type": "code",
   "execution_count": 2,
   "metadata": {},
   "outputs": [
    {
     "name": "stdout",
     "output_type": "stream",
     "text": [
      "                                     Chief Complaint Predict Consensus\n",
      "0  \"been feeling bad\" last 2 weeks & switched BP ...       N         -\n",
      "1  \"can't walk\", reports onset at 0830 am. orient...       Y         N\n",
      "2  \"dehydration\" Chest hurts, hips hurt, cramps P...       Y         Y\n",
      "3  \"gout flare up\" L arm swelling x 1 week. denie...       Y         Y\n",
      "4  \"heart racing,\"dyspnea, and orthopnea that has...       N         -\n",
      "\n",
      "Shape of 2019 data:  (300, 3)\n"
     ]
    }
   ],
   "source": [
    "#. 2019 Data Import\n",
    "print(syn2019.head())\n",
    "print(\"\\nShape of 2019 data: \",syn2019.shape)"
   ]
  },
  {
   "cell_type": "code",
   "execution_count": 3,
   "metadata": {},
   "outputs": [
    {
     "name": "stdout",
     "output_type": "stream",
     "text": [
      "                                     Chief Complaint Predict Consensus\n",
      "0  \"I dont know whats going on with my head, its ...       N         -\n",
      "1  \"i've been depressed for a few weeks now, i'm ...       N         -\n",
      "2  Altercation while making arrest, c/o R hand pa...       N         N\n",
      "3  Cut on L upper thigh wtih saw. Bleeding contro...       N         N\n",
      "4   Dysuria x1 week. hx: hysterectomy, gerd, bipolar       N         -\n",
      "\n",
      "Shape of 2020 data:  (8137, 3)\n"
     ]
    }
   ],
   "source": [
    "# 2020 Data Import\n",
    "print(syn2020.head())\n",
    "print(\"\\nShape of 2020 data: \",syn2020.shape)"
   ]
  },
  {
   "cell_type": "markdown",
   "metadata": {},
   "source": [
    "***The files have an identical layout, combine into 1 dataframe***"
   ]
  },
  {
   "cell_type": "code",
   "execution_count": 4,
   "metadata": {},
   "outputs": [
    {
     "data": {
      "text/plain": [
       "(8437, 3)"
      ]
     },
     "execution_count": 4,
     "metadata": {},
     "output_type": "execute_result"
    }
   ],
   "source": [
    "# Combine the files into 1 dataframe\n",
    "df = pd.concat([syn2019, syn2020], axis=0).reset_index(drop=True)\n",
    "df.shape"
   ]
  },
  {
   "cell_type": "markdown",
   "metadata": {},
   "source": [
    "### Hold-out set Creation\n",
    "I decided to hold out half of the records that were filled in, validated, by the panel and therefore contained a 'y' or 'n' in the consensus column.  This set will not be included in the training and testing.  the final model will then run the hold out set and give us a peek into the models real-world performance by comparing apples to apples."
   ]
  },
  {
   "cell_type": "code",
   "execution_count": 5,
   "metadata": {},
   "outputs": [],
   "source": [
    "df_hold =  df[(df.Consensus == '-') | (df.Consensus == 'U')]   # slice and hold the concensus values are null\n",
    "df_C = df[(df.Consensus == 'Y') | (df.Consensus == 'N')]       # create dataframe of records with consensus values\n",
    "df_C = df_C[(df_C.Predict == 'Y') | (df_C.Predict == 'N')]"
   ]
  },
  {
   "cell_type": "code",
   "execution_count": 6,
   "metadata": {},
   "outputs": [
    {
     "name": "stdout",
     "output_type": "stream",
     "text": [
      "N    223\n",
      "Y     80\n",
      "Name: Consensus, dtype: int64\n",
      "(7992, 3)\n"
     ]
    },
    {
     "data": {
      "text/plain": [
       "-    7976\n",
       "U      16\n",
       "Name: Consensus, dtype: int64"
      ]
     },
     "execution_count": 6,
     "metadata": {},
     "output_type": "execute_result"
    }
   ],
   "source": [
    "print(df_C['Consensus'].value_counts())                        # Take a look at the count\n",
    "print(df_hold.shape)\n",
    "df_hold['Consensus'].value_counts()"
   ]
  },
  {
   "cell_type": "code",
   "execution_count": 7,
   "metadata": {},
   "outputs": [
    {
     "data": {
      "text/plain": [
       "(303, 3)"
      ]
     },
     "execution_count": 7,
     "metadata": {},
     "output_type": "execute_result"
    }
   ],
   "source": [
    "import sklearn.utils\n",
    "df_C = sklearn.utils.shuffle(df_C)\n",
    "df_C.shape"
   ]
  },
  {
   "cell_type": "code",
   "execution_count": 8,
   "metadata": {},
   "outputs": [],
   "source": [
    "#df_C_N = df_C.sort_values(by = 'Consensus', ascending = True)\n",
    "#df_C_Y = df_C.sort_values(by = 'Consensus', ascending = False)\n",
    "\n",
    "df_val = df_C[0:9]\n",
    "df_train = df_C[10:444]"
   ]
  },
  {
   "cell_type": "code",
   "execution_count": 9,
   "metadata": {},
   "outputs": [
    {
     "name": "stdout",
     "output_type": "stream",
     "text": [
      "N    7\n",
      "Y    2\n",
      "Name: Consensus, dtype: int64\n",
      "N    216\n",
      "Y     77\n",
      "Name: Consensus, dtype: int64\n"
     ]
    }
   ],
   "source": [
    "print(df_val['Consensus'].value_counts())\n",
    "print(df_train['Consensus'].value_counts())"
   ]
  },
  {
   "cell_type": "code",
   "execution_count": 10,
   "metadata": {},
   "outputs": [
    {
     "name": "stdout",
     "output_type": "stream",
     "text": [
      "(293, 3)\n",
      "(7992, 3)\n"
     ]
    }
   ],
   "source": [
    "print(df_train.shape)\n",
    "print(df_hold.shape)"
   ]
  },
  {
   "cell_type": "code",
   "execution_count": 11,
   "metadata": {},
   "outputs": [
    {
     "name": "stdout",
     "output_type": "stream",
     "text": [
      "(8285, 3)\n",
      "-    7976\n",
      "N     216\n",
      "Y      77\n",
      "U      16\n",
      "Name: Consensus, dtype: int64\n"
     ]
    }
   ],
   "source": [
    "df_train = pd.concat([df_train, df_hold], axis=0).reset_index(drop=True)\n",
    "print(df_train.shape)\n",
    "print(df_train['Consensus'].value_counts())\n",
    "\n"
   ]
  },
  {
   "cell_type": "code",
   "execution_count": 12,
   "metadata": {},
   "outputs": [
    {
     "data": {
      "text/html": [
       "<div>\n",
       "<style scoped>\n",
       "    .dataframe tbody tr th:only-of-type {\n",
       "        vertical-align: middle;\n",
       "    }\n",
       "\n",
       "    .dataframe tbody tr th {\n",
       "        vertical-align: top;\n",
       "    }\n",
       "\n",
       "    .dataframe thead th {\n",
       "        text-align: right;\n",
       "    }\n",
       "</style>\n",
       "<table border=\"1\" class=\"dataframe\">\n",
       "  <thead>\n",
       "    <tr style=\"text-align: right;\">\n",
       "      <th></th>\n",
       "      <th>Chief Complaint</th>\n",
       "      <th>Predict</th>\n",
       "      <th>Consensus</th>\n",
       "    </tr>\n",
       "  </thead>\n",
       "  <tbody>\n",
       "    <tr>\n",
       "      <th>250</th>\n",
       "      <td>sent by MD to make sure \"not in kidney failure...</td>\n",
       "      <td>N</td>\n",
       "      <td>N</td>\n",
       "    </tr>\n",
       "    <tr>\n",
       "      <th>109</th>\n",
       "      <td>intermittant SOB x 2wks, denies CP, 97% RA, bi...</td>\n",
       "      <td>N</td>\n",
       "      <td>N</td>\n",
       "    </tr>\n",
       "    <tr>\n",
       "      <th>196</th>\n",
       "      <td>Pt endorses SI, sent by MD for worsening SI, p...</td>\n",
       "      <td>N</td>\n",
       "      <td>N</td>\n",
       "    </tr>\n",
       "    <tr>\n",
       "      <th>1155</th>\n",
       "      <td>non productive cough, sore throat, sinus conge...</td>\n",
       "      <td>N</td>\n",
       "      <td>N</td>\n",
       "    </tr>\n",
       "    <tr>\n",
       "      <th>166</th>\n",
       "      <td>Poss seizure today, pt reports numbeness and t...</td>\n",
       "      <td>N</td>\n",
       "      <td>N</td>\n",
       "    </tr>\n",
       "    <tr>\n",
       "      <th>185</th>\n",
       "      <td>pt c/o leg pn, unable to ambulate x4 weeks, de...</td>\n",
       "      <td>Y</td>\n",
       "      <td>Y</td>\n",
       "    </tr>\n",
       "    <tr>\n",
       "      <th>265</th>\n",
       "      <td>Severe left ankle pain.  Possible gout flare p...</td>\n",
       "      <td>Y</td>\n",
       "      <td>Y</td>\n",
       "    </tr>\n",
       "    <tr>\n",
       "      <th>8311</th>\n",
       "      <td>Leg pain, has wounds to right leg after MVC th...</td>\n",
       "      <td>N</td>\n",
       "      <td>N</td>\n",
       "    </tr>\n",
       "    <tr>\n",
       "      <th>8292</th>\n",
       "      <td>Fell asleep on left arm several days ago, left...</td>\n",
       "      <td>N</td>\n",
       "      <td>N</td>\n",
       "    </tr>\n",
       "  </tbody>\n",
       "</table>\n",
       "</div>"
      ],
      "text/plain": [
       "                                        Chief Complaint Predict Consensus\n",
       "250   sent by MD to make sure \"not in kidney failure...       N         N\n",
       "109   intermittant SOB x 2wks, denies CP, 97% RA, bi...       N         N\n",
       "196   Pt endorses SI, sent by MD for worsening SI, p...       N         N\n",
       "1155  non productive cough, sore throat, sinus conge...       N         N\n",
       "166   Poss seizure today, pt reports numbeness and t...       N         N\n",
       "185   pt c/o leg pn, unable to ambulate x4 weeks, de...       Y         Y\n",
       "265   Severe left ankle pain.  Possible gout flare p...       Y         Y\n",
       "8311  Leg pain, has wounds to right leg after MVC th...       N         N\n",
       "8292  Fell asleep on left arm several days ago, left...       N         N"
      ]
     },
     "execution_count": 12,
     "metadata": {},
     "output_type": "execute_result"
    }
   ],
   "source": [
    "df_val.shape\n",
    "df_val"
   ]
  },
  {
   "cell_type": "markdown",
   "metadata": {},
   "source": [
    "Before we drop the predict column, lets count the number the ER physican was in disagreement with the panel for this set of data"
   ]
  },
  {
   "cell_type": "code",
   "execution_count": 13,
   "metadata": {},
   "outputs": [
    {
     "name": "stdout",
     "output_type": "stream",
     "text": [
      "ER Physician prediction disagrees with Panel: 0\n",
      "ER Physician prediction agrees with Panel: 9\n"
     ]
    }
   ],
   "source": [
    "#slice df where Consensus is Yes or No\n",
    "z = df_val.Predict == df_val.Consensus\n",
    "y = df_val.Predict != df_val.Consensus\n",
    "print('ER Physician prediction disagrees with Panel:', sum(y))\n",
    "print('ER Physician prediction agrees with Panel:', sum(z))\n"
   ]
  },
  {
   "cell_type": "code",
   "execution_count": 14,
   "metadata": {},
   "outputs": [
    {
     "name": "stdout",
     "output_type": "stream",
     "text": [
      "ER Physician prediction disagrees with Panel: 8008\n",
      "ER Physician prediction agrees with Panel: 277\n"
     ]
    }
   ],
   "source": [
    "#slice df where Consensus is Yes or No\n",
    "z = df_train.Predict == df_train.Consensus\n",
    "y = df_train.Predict != df_train.Consensus\n",
    "print('ER Physician prediction disagrees with Panel:', sum(y))\n",
    "print('ER Physician prediction agrees with Panel:', sum(z))"
   ]
  },
  {
   "cell_type": "code",
   "execution_count": 15,
   "metadata": {},
   "outputs": [
    {
     "name": "stdout",
     "output_type": "stream",
     "text": [
      "Agree: 9\n",
      "Disagree: 0\n",
      "Total:  9\n"
     ]
    }
   ],
   "source": [
    "# Slice the dataframe to compare only the Y & N in Consensus, looking for how often Predict disagrees with the Rhuematologist (Consensus)\n",
    "\n",
    "#slice df where Consensus is Yes or No\n",
    "yesNo = df_val[(df_val['Consensus'] == 'Y') | (df_val.Consensus == 'N')]\n",
    "# Reset the index\n",
    "yesNo.reset_index(drop=True, inplace=True)\n",
    "\n",
    "c = []\n",
    "for i, j in yesNo.iterrows():\n",
    "    if (j[1] != j[2]):\n",
    "        c.append(\"Disagree\")\n",
    "    else:\n",
    "        c.append(\"Agree\")\n",
    "county = c.count('Agree')\n",
    "countN = c.count('Disagree')\n",
    "print(\"Agree:\",county)\n",
    "print(\"Disagree:\",countN)\n",
    "print(\"Total: \",county+countN)"
   ]
  },
  {
   "cell_type": "code",
   "execution_count": 16,
   "metadata": {},
   "outputs": [
    {
     "data": {
      "image/png": "[encoded data removed]",
      "text/plain": [
       "<Figure size 432x288 with 1 Axes>"
      ]
     },
     "metadata": {
      "needs_background": "light"
     },
     "output_type": "display_data"
    }
   ],
   "source": [
    "import seaborn as sns\n",
    "import matplotlib.pyplot as plt\n",
    "\n",
    "df_count = pd.DataFrame(c,columns=['Count'])\n",
    "base_color = sns.color_palette()[0]\n",
    "sns.countplot(data = df_count, x = 'Count')\n",
    "\n",
    "# add annotations\n",
    "n_points = df_count.shape[0]\n",
    "match_counts = df_count['Count'].value_counts()\n",
    "locs, labels = plt.xticks() # get the current tick locations and labels\n",
    "\n",
    "# loop through each pair of locations and labels\n",
    "for loc, label in zip(locs, labels):\n",
    "\n",
    "    # get the text property for the label to get the correct count\n",
    "    count = match_counts[label.get_text()]\n",
    "    pct_string = '{:0.1f}%'.format(100*count/n_points)\n",
    "\n",
    "    # print the annotation just below the top of the bar\n",
    "    plt.text(loc, count-8, pct_string, ha = 'center', color = 'w')\n",
    "#plt.legend(labels=[\"Agree\",\"Disagree\"], title = \"Results Agreement\")\n",
    "plt.ylabel('Count', fontsize=20)\n",
    "plt.xlabel('Agreement between Predict & Consensus', fontsize=20)\n",
    "plt.show()"
   ]
  },
  {
   "cell_type": "code",
   "execution_count": 136,
   "metadata": {},
   "outputs": [],
   "source": [
    "# can drop the predict column for the validation set at this point\n",
    "df_val = df_val.drop(columns=['Predict'])\n",
    "df_val = df_val.rename(columns={'Chief Complaint': 'corpus', 'Consensus': 'target'})"
   ]
  },
  {
   "cell_type": "code",
   "execution_count": 137,
   "metadata": {},
   "outputs": [
    {
     "data": {
      "text/plain": [
       "(9, 2)"
      ]
     },
     "execution_count": 137,
     "metadata": {},
     "output_type": "execute_result"
    }
   ],
   "source": [
    "df_val.shape"
   ]
  },
  {
   "cell_type": "code",
   "execution_count": 138,
   "metadata": {},
   "outputs": [],
   "source": [
    "# rename the training set back to df\n",
    "df = df_train"
   ]
  },
  {
   "cell_type": "markdown",
   "metadata": {},
   "source": [
    "### The consensus column will need to be imputed by the predict column for the taining set df_train"
   ]
  },
  {
   "cell_type": "markdown",
   "metadata": {},
   "source": [
    "*** How many patient records have null values in both potential targets, Predict and Consensus? ***"
   ]
  },
  {
   "cell_type": "code",
   "execution_count": 139,
   "metadata": {},
   "outputs": [
    {
     "name": "stdout",
     "output_type": "stream",
     "text": [
      "Shape of '-' : (2, 3)    Shape of 'U': (12, 3)\n",
      "                                        Chief Complaint Predict Consensus\n",
      "7712  Right lower back pain that radiates down leg t...       -         -\n",
      "7770  pain to posterior upper leg x 3 days, seen at ...       -         -                                         Chief Complaint Predict Consensus\n",
      "314   cannot bend R knee after twisting 2 days ago. ...       U         U\n",
      "326   dog scratch to left thumb PMH VP shunt, brain ...       U         U\n",
      "329   Fall 6 x in 24 hours due to lower extremity we...       U         U\n",
      "345   L thumb open wound, draining serosangunous flu...       U         U\n",
      "383   right shoulder pain/redness/swellig x 3 days, ...       U         U\n",
      "923   pt c/o R foot pain x5 hours. mild swelling not...       U         U\n",
      "5157  Was drinking soda out of a glass bottle and fe...       U         U\n",
      "5384  Rright srist/hand pain x 4 days. Velcro splint...       U         U\n",
      "6008  right ankle. lower leg pain and swelling per p...       U         U\n",
      "6930  Right hand pain and swelling x 2-3 months. No ...       U         U\n",
      "7766  left wrist pain x 3 weeks, no injury; pmh MI, ...       U         U\n",
      "7918  R knee pain since having injection done @ Sout...       U         U\n"
     ]
    }
   ],
   "source": [
    "countNull = df[(df.Consensus == '-') & (df.Predict == '-')]\n",
    "countUnknown = df[(df.Consensus == 'U') & (df.Predict == 'U')]\n",
    "print(\"Shape of '-' :\",countNull.shape,\"   Shape of 'U':\", countUnknown.shape)\n",
    "print(countNull, countUnknown)"
   ]
  },
  {
   "cell_type": "markdown",
   "metadata": {},
   "source": [
    "*** Remove the 14 Null records **"
   ]
  },
  {
   "cell_type": "code",
   "execution_count": 140,
   "metadata": {},
   "outputs": [
    {
     "name": "stdout",
     "output_type": "stream",
     "text": [
      "Consensus shape:\n",
      " -    7972\n",
      "N     216\n",
      "Y      77\n",
      "Name: Consensus, dtype: int64 \n",
      "Predict shape\n",
      "  N    8157\n",
      "Y     108\n",
      "Name: Predict, dtype: int64\n",
      "\n",
      "Predict shape\n",
      "  N    8157\n",
      "Y     108\n",
      "Name: Predict, dtype: int64\n"
     ]
    },
    {
     "data": {
      "text/html": [
       "<div>\n",
       "<style scoped>\n",
       "    .dataframe tbody tr th:only-of-type {\n",
       "        vertical-align: middle;\n",
       "    }\n",
       "\n",
       "    .dataframe tbody tr th {\n",
       "        vertical-align: top;\n",
       "    }\n",
       "\n",
       "    .dataframe thead th {\n",
       "        text-align: right;\n",
       "    }\n",
       "</style>\n",
       "<table border=\"1\" class=\"dataframe\">\n",
       "  <thead>\n",
       "    <tr style=\"text-align: right;\">\n",
       "      <th></th>\n",
       "      <th>Chief Complaint</th>\n",
       "      <th>Predict</th>\n",
       "      <th>Consensus</th>\n",
       "    </tr>\n",
       "  </thead>\n",
       "  <tbody>\n",
       "    <tr>\n",
       "      <th>0</th>\n",
       "      <td>increased pain and swelling to R upper arm, se...</td>\n",
       "      <td>N</td>\n",
       "      <td>N</td>\n",
       "    </tr>\n",
       "    <tr>\n",
       "      <th>1</th>\n",
       "      <td>MVC 1 hr PTA. pt c/o chest and neck pain. curr...</td>\n",
       "      <td>N</td>\n",
       "      <td>N</td>\n",
       "    </tr>\n",
       "    <tr>\n",
       "      <th>2</th>\n",
       "      <td>right knee pain and swelling x 2 days, on exam...</td>\n",
       "      <td>Y</td>\n",
       "      <td>N</td>\n",
       "    </tr>\n",
       "    <tr>\n",
       "      <th>3</th>\n",
       "      <td>alleged assault by son's father that happened ...</td>\n",
       "      <td>N</td>\n",
       "      <td>N</td>\n",
       "    </tr>\n",
       "    <tr>\n",
       "      <th>4</th>\n",
       "      <td>bilateral knee pain since last pm. pt denies t...</td>\n",
       "      <td>N</td>\n",
       "      <td>N</td>\n",
       "    </tr>\n",
       "    <tr>\n",
       "      <th>...</th>\n",
       "      <td>...</td>\n",
       "      <td>...</td>\n",
       "      <td>...</td>\n",
       "    </tr>\n",
       "    <tr>\n",
       "      <th>8280</th>\n",
       "      <td>sore throat, hurts to swallowx3 days, hoarsnes...</td>\n",
       "      <td>N</td>\n",
       "      <td>-</td>\n",
       "    </tr>\n",
       "    <tr>\n",
       "      <th>8281</th>\n",
       "      <td>states increase blood sugar, nausea, dizziness...</td>\n",
       "      <td>N</td>\n",
       "      <td>-</td>\n",
       "    </tr>\n",
       "    <tr>\n",
       "      <th>8282</th>\n",
       "      <td>\" I was having a breakdown.\" R/T stress and de...</td>\n",
       "      <td>N</td>\n",
       "      <td>-</td>\n",
       "    </tr>\n",
       "    <tr>\n",
       "      <th>8283</th>\n",
       "      <td>\"I tried to jump in front of a car\" Pt states ...</td>\n",
       "      <td>N</td>\n",
       "      <td>-</td>\n",
       "    </tr>\n",
       "    <tr>\n",
       "      <th>8284</th>\n",
       "      <td>Abdominal pain x 1 week. Denies PMH</td>\n",
       "      <td>N</td>\n",
       "      <td>-</td>\n",
       "    </tr>\n",
       "  </tbody>\n",
       "</table>\n",
       "<p>8265 rows × 3 columns</p>\n",
       "</div>"
      ],
      "text/plain": [
       "                                        Chief Complaint Predict Consensus\n",
       "0     increased pain and swelling to R upper arm, se...       N         N\n",
       "1     MVC 1 hr PTA. pt c/o chest and neck pain. curr...       N         N\n",
       "2     right knee pain and swelling x 2 days, on exam...       Y         N\n",
       "3     alleged assault by son's father that happened ...       N         N\n",
       "4     bilateral knee pain since last pm. pt denies t...       N         N\n",
       "...                                                 ...     ...       ...\n",
       "8280  sore throat, hurts to swallowx3 days, hoarsnes...       N         -\n",
       "8281  states increase blood sugar, nausea, dizziness...       N         -\n",
       "8282  \" I was having a breakdown.\" R/T stress and de...       N         -\n",
       "8283  \"I tried to jump in front of a car\" Pt states ...       N         -\n",
       "8284                Abdominal pain x 1 week. Denies PMH       N         -\n",
       "\n",
       "[8265 rows x 3 columns]"
      ]
     },
     "execution_count": 140,
     "metadata": {},
     "output_type": "execute_result"
    }
   ],
   "source": [
    "df = df[(df.Consensus != '-') | (df.Predict != '-')]\n",
    "df = df[(df.Consensus != 'U') & (df.Predict != 'U')]\n",
    "print(\"Consensus shape:\\n\",df.Consensus.value_counts(),\"\\nPredict shape\\n \",df.Predict.value_counts())\n",
    "print(\"\\nPredict shape\\n \",df.Predict.value_counts())\n",
    "df"
   ]
  },
  {
   "cell_type": "markdown",
   "metadata": {},
   "source": [
    "***We will combine the Predict and Null columns, keeping the Consensus values and filling the null value within from the Predict column.  First let's look at how often Predict and Consensus are in disagreement.***"
   ]
  },
  {
   "cell_type": "code",
   "execution_count": 141,
   "metadata": {},
   "outputs": [
    {
     "name": "stdout",
     "output_type": "stream",
     "text": [
      "Agree: 263\n",
      "Disagree: 30\n",
      "Total:  293\n"
     ]
    }
   ],
   "source": [
    "# Slice the dataframe to compare only the Y & N in Consensus, looking for how often Predict disagrees with the Rhuematologist (Consensus)\n",
    "\n",
    "#slice df where Consensus is Yes or No\n",
    "yesNo = df[(df['Consensus'] == 'Y') | (df.Consensus == 'N')]\n",
    "# Reset the index\n",
    "yesNo.reset_index(drop=True, inplace=True)\n",
    "\n",
    "c = []\n",
    "for i, j in yesNo.iterrows():\n",
    "    if (j[1] != j[2]):\n",
    "        c.append(\"Disagree\")\n",
    "    else:\n",
    "        c.append(\"Agree\")\n",
    "county = c.count('Agree')\n",
    "countN = c.count('Disagree')\n",
    "print(\"Agree:\",county)\n",
    "print(\"Disagree:\",countN)\n",
    "print(\"Total: \",county+countN)"
   ]
  },
  {
   "cell_type": "code",
   "execution_count": 142,
   "metadata": {},
   "outputs": [
    {
     "data": {
      "image/png": "[encoded data removed]",
      "text/plain": [
       "<Figure size 432x288 with 1 Axes>"
      ]
     },
     "metadata": {
      "needs_background": "light"
     },
     "output_type": "display_data"
    }
   ],
   "source": [
    "import seaborn as sns\n",
    "import matplotlib.pyplot as plt\n",
    "\n",
    "df_count = pd.DataFrame(c,columns=['Count'])\n",
    "base_color = sns.color_palette()[0]\n",
    "sns.countplot(data = df_count, x = 'Count')\n",
    "\n",
    "# add annotations\n",
    "n_points = df_count.shape[0]\n",
    "match_counts = df_count['Count'].value_counts()\n",
    "locs, labels = plt.xticks() # get the current tick locations and labels\n",
    "\n",
    "# loop through each pair of locations and labels\n",
    "for loc, label in zip(locs, labels):\n",
    "\n",
    "    # get the text property for the label to get the correct count\n",
    "    count = match_counts[label.get_text()]\n",
    "    pct_string = '{:0.1f}%'.format(100*count/n_points)\n",
    "\n",
    "    # print the annotation just below the top of the bar\n",
    "    plt.text(loc, count-8, pct_string, ha = 'center', color = 'w')\n",
    "#plt.legend(labels=[\"Agree\",\"Disagree\"], title = \"Results Agreement\")\n",
    "plt.ylabel('Count', fontsize=20)\n",
    "plt.xlabel('Agreement between Predict & Consensus', fontsize=20)\n",
    "plt.show()"
   ]
  },
  {
   "cell_type": "markdown",
   "metadata": {},
   "source": [
    "### Target Value Determination for a single binomial target:\n",
    "\n",
    "For this project we are using a single binomial target.  The 'Predict' column values were reported by the ER physician treating the patient.  In comparison, the 'Consensus' values were reported by a rhuematologist when seen by a specialist.  Therefore the consensus value was considered more accurate and the consensus column chosen for the target values with the empty (-) values filled by the 'Predict' column. "
   ]
  },
  {
   "cell_type": "code",
   "execution_count": 143,
   "metadata": {},
   "outputs": [
    {
     "data": {
      "text/html": [
       "<div>\n",
       "<style scoped>\n",
       "    .dataframe tbody tr th:only-of-type {\n",
       "        vertical-align: middle;\n",
       "    }\n",
       "\n",
       "    .dataframe tbody tr th {\n",
       "        vertical-align: top;\n",
       "    }\n",
       "\n",
       "    .dataframe thead th {\n",
       "        text-align: right;\n",
       "    }\n",
       "</style>\n",
       "<table border=\"1\" class=\"dataframe\">\n",
       "  <thead>\n",
       "    <tr style=\"text-align: right;\">\n",
       "      <th></th>\n",
       "      <th>Chief Complaint</th>\n",
       "      <th>Consensus</th>\n",
       "    </tr>\n",
       "  </thead>\n",
       "  <tbody>\n",
       "    <tr>\n",
       "      <th>count</th>\n",
       "      <td>8265</td>\n",
       "      <td>8265</td>\n",
       "    </tr>\n",
       "    <tr>\n",
       "      <th>unique</th>\n",
       "      <td>8258</td>\n",
       "      <td>2</td>\n",
       "    </tr>\n",
       "    <tr>\n",
       "      <th>top</th>\n",
       "      <td>Sent from Bibb Medical Center for bilateral le...</td>\n",
       "      <td>N</td>\n",
       "    </tr>\n",
       "    <tr>\n",
       "      <th>freq</th>\n",
       "      <td>2</td>\n",
       "      <td>8157</td>\n",
       "    </tr>\n",
       "  </tbody>\n",
       "</table>\n",
       "</div>"
      ],
      "text/plain": [
       "                                          Chief Complaint Consensus\n",
       "count                                                8265      8265\n",
       "unique                                               8258         2\n",
       "top     Sent from Bibb Medical Center for bilateral le...         N\n",
       "freq                                                    2      8157"
      ]
     },
     "execution_count": 143,
     "metadata": {},
     "output_type": "execute_result"
    }
   ],
   "source": [
    "# REPLACE NULL VALUES IN 'Consensus' WITH THE 'Predict' VALUES\n",
    "for a in df['Consensus']:\n",
    "    if a == '-':\n",
    "        df['Consensus'] = df['Predict']\n",
    "        \n",
    "        # DROP THE 'Predict' COLUMN\n",
    "df = df.drop(columns=['Predict'])\n",
    "\n",
    "# Review results\n",
    "df.describe(include='all')"
   ]
  },
  {
   "cell_type": "code",
   "execution_count": 144,
   "metadata": {},
   "outputs": [
    {
     "data": {
      "image/png": "[encoded data removed]",
      "text/plain": [
       "<Figure size 360x432 with 1 Axes>"
      ]
     },
     "metadata": {},
     "output_type": "display_data"
    }
   ],
   "source": [
    "# Visualize class balance\n",
    "\n",
    "fig, ax = plt.subplots(figsize=(5,6))\n",
    "classes = df.Consensus.value_counts()\n",
    "labels = ['No Gout', 'Gout']\n",
    "explode = [0.4, 0]\n",
    "ax.pie(classes, labels=labels, explode = explode, autopct='%.1f%%',wedgeprops={'linewidth': 1.0, 'edgecolor': 'white'},\n",
    "       textprops={'size': 'x-large'})\n",
    "ax.set_title('Target Class Imbalance', fontsize=20)\n",
    "plt.legend(fontsize=12)\n",
    "plt.tight_layout()"
   ]
  },
  {
   "cell_type": "code",
   "execution_count": 145,
   "metadata": {},
   "outputs": [
    {
     "data": {
      "text/plain": [
       "N    8157\n",
       "Y     108\n",
       "Name: Consensus, dtype: int64"
      ]
     },
     "execution_count": 145,
     "metadata": {},
     "output_type": "execute_result"
    }
   ],
   "source": [
    "df['Consensus'].value_counts()"
   ]
  },
  {
   "cell_type": "markdown",
   "metadata": {},
   "source": [
    "### Rename columns and store dataframe as csv for use in BERT noteook"
   ]
  },
  {
   "cell_type": "code",
   "execution_count": 146,
   "metadata": {},
   "outputs": [
    {
     "data": {
      "text/html": [
       "<div>\n",
       "<style scoped>\n",
       "    .dataframe tbody tr th:only-of-type {\n",
       "        vertical-align: middle;\n",
       "    }\n",
       "\n",
       "    .dataframe tbody tr th {\n",
       "        vertical-align: top;\n",
       "    }\n",
       "\n",
       "    .dataframe thead th {\n",
       "        text-align: right;\n",
       "    }\n",
       "</style>\n",
       "<table border=\"1\" class=\"dataframe\">\n",
       "  <thead>\n",
       "    <tr style=\"text-align: right;\">\n",
       "      <th></th>\n",
       "      <th>corpus</th>\n",
       "      <th>target</th>\n",
       "    </tr>\n",
       "  </thead>\n",
       "  <tbody>\n",
       "    <tr>\n",
       "      <th>0</th>\n",
       "      <td>increased pain and swelling to R upper arm, se...</td>\n",
       "      <td>N</td>\n",
       "    </tr>\n",
       "    <tr>\n",
       "      <th>1</th>\n",
       "      <td>MVC 1 hr PTA. pt c/o chest and neck pain. curr...</td>\n",
       "      <td>N</td>\n",
       "    </tr>\n",
       "    <tr>\n",
       "      <th>2</th>\n",
       "      <td>right knee pain and swelling x 2 days, on exam...</td>\n",
       "      <td>Y</td>\n",
       "    </tr>\n",
       "  </tbody>\n",
       "</table>\n",
       "</div>"
      ],
      "text/plain": [
       "                                              corpus target\n",
       "0  increased pain and swelling to R upper arm, se...      N\n",
       "1  MVC 1 hr PTA. pt c/o chest and neck pain. curr...      N\n",
       "2  right knee pain and swelling x 2 days, on exam...      Y"
      ]
     },
     "execution_count": 146,
     "metadata": {},
     "output_type": "execute_result"
    }
   ],
   "source": [
    "df = df.rename(columns={'Chief Complaint': 'corpus', 'Consensus': 'target'})\n",
    "df\n",
    "\n",
    "# store the cleaned data for use in a BERT Pretrained model\n",
    "df.to_csv('df.csv', index=False)\n",
    "df.head(3)"
   ]
  },
  {
   "cell_type": "code",
   "execution_count": 147,
   "metadata": {},
   "outputs": [
    {
     "data": {
      "text/plain": [
       "N    8157\n",
       "Y     108\n",
       "Name: target, dtype: int64"
      ]
     },
     "execution_count": 147,
     "metadata": {},
     "output_type": "execute_result"
    }
   ],
   "source": [
    "df['target'].value_counts()"
   ]
  },
  {
   "cell_type": "markdown",
   "metadata": {},
   "source": [
    "## Preprocessing\n",
    "\n",
    "   * Clean Text\n",
    "   * Remove the key term \"Gout\" from corpus\n",
    "   * Tokenize\n",
    "   * Remove Stop Words\n",
    "   * Lemmitization\n",
    "   * Stemming"
   ]
  },
  {
   "cell_type": "markdown",
   "metadata": {},
   "source": [
    "### Clean Text"
   ]
  },
  {
   "cell_type": "code",
   "execution_count": 148,
   "metadata": {},
   "outputs": [],
   "source": [
    "import re\n",
    "import string\n",
    "\n",
    "def clean_text(text):\n",
    "    text = text.lower()\n",
    "    text = re.sub('\\[.*?\\]', '', text)                               # remove brackets [ ]\n",
    "    text = re.sub('[%s]' % re.escape(string.punctuation), '', text)  # remove punctuation\n",
    "    text = re.sub('\\w*\\d\\w*', '', text)                              # remove digits embedded in words\n",
    "    text = re.sub('[‘’“”…]', '', text)                               # remove quotes\n",
    "    text = re.sub('\\n', '', text)                                    # remove newlines\n",
    "    return text\n",
    "\n",
    "cleaning = lambda x: clean_text(x)"
   ]
  },
  {
   "cell_type": "code",
   "execution_count": 149,
   "metadata": {},
   "outputs": [],
   "source": [
    "# Let's take a look at the updated text\n",
    "df['corpus'] = pd.DataFrame(df['corpus'].apply(cleaning))\n",
    "df_val['corpus'] = pd.DataFrame(df_val['corpus'].apply(cleaning))"
   ]
  },
  {
   "cell_type": "markdown",
   "metadata": {},
   "source": [
    "### Tokenize into sentences: nltk RegexpTokenizer"
   ]
  },
  {
   "cell_type": "code",
   "execution_count": 150,
   "metadata": {
    "ExecuteTime": {
     "end_time": "2021-04-20T21:50:54.279789Z",
     "start_time": "2021-04-20T21:50:54.277277Z"
    }
   },
   "outputs": [],
   "source": [
    "import nltk\n",
    "from nltk.tokenize import RegexpTokenizer\n",
    "tokenizer = RegexpTokenizer(\"[\\w']+\")"
   ]
  },
  {
   "cell_type": "code",
   "execution_count": 151,
   "metadata": {},
   "outputs": [],
   "source": [
    "df['corpus'] = df['corpus'].apply(lambda x: tokenizer.tokenize(x.lower()))\n",
    "df_val['corpus'] = df_val['corpus'].apply(lambda x: tokenizer.tokenize(x.lower()))"
   ]
  },
  {
   "cell_type": "code",
   "execution_count": 152,
   "metadata": {},
   "outputs": [
    {
     "data": {
      "text/html": [
       "<div>\n",
       "<style scoped>\n",
       "    .dataframe tbody tr th:only-of-type {\n",
       "        vertical-align: middle;\n",
       "    }\n",
       "\n",
       "    .dataframe tbody tr th {\n",
       "        vertical-align: top;\n",
       "    }\n",
       "\n",
       "    .dataframe thead th {\n",
       "        text-align: right;\n",
       "    }\n",
       "</style>\n",
       "<table border=\"1\" class=\"dataframe\">\n",
       "  <thead>\n",
       "    <tr style=\"text-align: right;\">\n",
       "      <th></th>\n",
       "      <th>corpus</th>\n",
       "      <th>target</th>\n",
       "    </tr>\n",
       "  </thead>\n",
       "  <tbody>\n",
       "    <tr>\n",
       "      <th>228</th>\n",
       "      <td>[r, hand, painswelling, days, i, think, its, m...</td>\n",
       "      <td>Y</td>\n",
       "    </tr>\n",
       "    <tr>\n",
       "      <th>4430</th>\n",
       "      <td>[sent, by, pcp, for, blood, and, clots, in, ur...</td>\n",
       "      <td>N</td>\n",
       "    </tr>\n",
       "    <tr>\n",
       "      <th>100</th>\n",
       "      <td>[gout, flareup, to, l, days, does, not, take, ...</td>\n",
       "      <td>Y</td>\n",
       "    </tr>\n",
       "    <tr>\n",
       "      <th>434</th>\n",
       "      <td>[left, calf, thigh, hip, pain, days, denies, i...</td>\n",
       "      <td>N</td>\n",
       "    </tr>\n",
       "    <tr>\n",
       "      <th>8400</th>\n",
       "      <td>[dc, today, with, uti, blood, in, urine, pain,...</td>\n",
       "      <td>N</td>\n",
       "    </tr>\n",
       "  </tbody>\n",
       "</table>\n",
       "</div>"
      ],
      "text/plain": [
       "                                                 corpus target\n",
       "228   [r, hand, painswelling, days, i, think, its, m...      Y\n",
       "4430  [sent, by, pcp, for, blood, and, clots, in, ur...      N\n",
       "100   [gout, flareup, to, l, days, does, not, take, ...      Y\n",
       "434   [left, calf, thigh, hip, pain, days, denies, i...      N\n",
       "8400  [dc, today, with, uti, blood, in, urine, pain,...      N"
      ]
     },
     "execution_count": 152,
     "metadata": {},
     "output_type": "execute_result"
    }
   ],
   "source": [
    "df.head(5)\n",
    "df_val.head(5)"
   ]
  },
  {
   "cell_type": "markdown",
   "metadata": {},
   "source": [
    "### Stopwords: nltk.corpus"
   ]
  },
  {
   "cell_type": "code",
   "execution_count": 153,
   "metadata": {
    "ExecuteTime": {
     "end_time": "2021-04-19T18:40:56.920982Z",
     "start_time": "2021-04-19T18:40:56.917975Z"
    }
   },
   "outputs": [],
   "source": [
    "from nltk.corpus import stopwords\n",
    "#nltk.download('stopwords')\n",
    "def remove_stopwords(text):\n",
    "    words = [w for w in text if w not in stopwords.words('english')]\n",
    "    return words"
   ]
  },
  {
   "cell_type": "code",
   "execution_count": 154,
   "metadata": {
    "ExecuteTime": {
     "end_time": "2021-04-19T18:41:40.404946Z",
     "start_time": "2021-04-19T18:41:39.381062Z"
    }
   },
   "outputs": [
    {
     "data": {
      "text/html": [
       "<div>\n",
       "<style scoped>\n",
       "    .dataframe tbody tr th:only-of-type {\n",
       "        vertical-align: middle;\n",
       "    }\n",
       "\n",
       "    .dataframe tbody tr th {\n",
       "        vertical-align: top;\n",
       "    }\n",
       "\n",
       "    .dataframe thead th {\n",
       "        text-align: right;\n",
       "    }\n",
       "</style>\n",
       "<table border=\"1\" class=\"dataframe\">\n",
       "  <thead>\n",
       "    <tr style=\"text-align: right;\">\n",
       "      <th></th>\n",
       "      <th>corpus</th>\n",
       "      <th>target</th>\n",
       "    </tr>\n",
       "  </thead>\n",
       "  <tbody>\n",
       "    <tr>\n",
       "      <th>0</th>\n",
       "      <td>[increased, pain, swelling, r, upper, arm, see...</td>\n",
       "      <td>N</td>\n",
       "    </tr>\n",
       "    <tr>\n",
       "      <th>1</th>\n",
       "      <td>[mvc, hr, pta, pt, co, chest, neck, pain, curr...</td>\n",
       "      <td>N</td>\n",
       "    </tr>\n",
       "    <tr>\n",
       "      <th>2</th>\n",
       "      <td>[right, knee, pain, swelling, x, days, exam, k...</td>\n",
       "      <td>Y</td>\n",
       "    </tr>\n",
       "    <tr>\n",
       "      <th>3</th>\n",
       "      <td>[alleged, assault, sons, father, happened, app...</td>\n",
       "      <td>N</td>\n",
       "    </tr>\n",
       "    <tr>\n",
       "      <th>4</th>\n",
       "      <td>[bilateral, knee, pain, since, last, pm, pt, d...</td>\n",
       "      <td>N</td>\n",
       "    </tr>\n",
       "    <tr>\n",
       "      <th>...</th>\n",
       "      <td>...</td>\n",
       "      <td>...</td>\n",
       "    </tr>\n",
       "    <tr>\n",
       "      <th>8280</th>\n",
       "      <td>[sore, throat, hurts, days, hoarsness, reports...</td>\n",
       "      <td>N</td>\n",
       "    </tr>\n",
       "    <tr>\n",
       "      <th>8281</th>\n",
       "      <td>[states, increase, blood, sugar, nausea, dizzi...</td>\n",
       "      <td>N</td>\n",
       "    </tr>\n",
       "    <tr>\n",
       "      <th>8282</th>\n",
       "      <td>[breakdown, rt, stress, depression]</td>\n",
       "      <td>N</td>\n",
       "    </tr>\n",
       "    <tr>\n",
       "      <th>8283</th>\n",
       "      <td>[tried, jump, front, car, pt, states, psych, m...</td>\n",
       "      <td>N</td>\n",
       "    </tr>\n",
       "    <tr>\n",
       "      <th>8284</th>\n",
       "      <td>[abdominal, pain, x, week, denies, pmh]</td>\n",
       "      <td>N</td>\n",
       "    </tr>\n",
       "  </tbody>\n",
       "</table>\n",
       "<p>8265 rows × 2 columns</p>\n",
       "</div>"
      ],
      "text/plain": [
       "                                                 corpus target\n",
       "0     [increased, pain, swelling, r, upper, arm, see...      N\n",
       "1     [mvc, hr, pta, pt, co, chest, neck, pain, curr...      N\n",
       "2     [right, knee, pain, swelling, x, days, exam, k...      Y\n",
       "3     [alleged, assault, sons, father, happened, app...      N\n",
       "4     [bilateral, knee, pain, since, last, pm, pt, d...      N\n",
       "...                                                 ...    ...\n",
       "8280  [sore, throat, hurts, days, hoarsness, reports...      N\n",
       "8281  [states, increase, blood, sugar, nausea, dizzi...      N\n",
       "8282                [breakdown, rt, stress, depression]      N\n",
       "8283  [tried, jump, front, car, pt, states, psych, m...      N\n",
       "8284            [abdominal, pain, x, week, denies, pmh]      N\n",
       "\n",
       "[8265 rows x 2 columns]"
      ]
     },
     "execution_count": 154,
     "metadata": {},
     "output_type": "execute_result"
    }
   ],
   "source": [
    "df['corpus'] = df['corpus'].apply(lambda x : remove_stopwords(x))\n",
    "df_val['corpus'] = df_val['corpus'].apply(lambda x : remove_stopwords(x))\n",
    "df['corpus'].head()\n",
    "df"
   ]
  },
  {
   "cell_type": "code",
   "execution_count": 155,
   "metadata": {},
   "outputs": [],
   "source": [
    "analysis = df.copy(deep=True)  # store a copy for the wordcloud prior to lemmatization"
   ]
  },
  {
   "cell_type": "markdown",
   "metadata": {},
   "source": [
    "### Lemmatization: WordNetLemmatizer"
   ]
  },
  {
   "cell_type": "code",
   "execution_count": 156,
   "metadata": {
    "ExecuteTime": {
     "end_time": "2021-04-19T18:42:32.337243Z",
     "start_time": "2021-04-19T18:42:32.334960Z"
    }
   },
   "outputs": [],
   "source": [
    "from nltk.stem import WordNetLemmatizer\n",
    "lemmatizer = WordNetLemmatizer()"
   ]
  },
  {
   "cell_type": "code",
   "execution_count": 157,
   "metadata": {
    "ExecuteTime": {
     "end_time": "2021-04-19T18:43:37.868494Z",
     "start_time": "2021-04-19T18:43:37.865957Z"
    }
   },
   "outputs": [],
   "source": [
    "def word_lemmatizer(text):\n",
    "    lem_text = [lemmatizer.lemmatize(i) for i in text]\n",
    "    return lem_text"
   ]
  },
  {
   "cell_type": "code",
   "execution_count": 158,
   "metadata": {
    "ExecuteTime": {
     "end_time": "2021-04-19T18:43:38.537198Z",
     "start_time": "2021-04-19T18:43:38.504486Z"
    }
   },
   "outputs": [
    {
     "data": {
      "text/plain": [
       "228     [r, hand, painswelling, day, think, gout, also...\n",
       "4430    [sent, pcp, blood, clot, urine, denies, pain, ...\n",
       "100     [gout, flareup, l, day, take, medication, gout...\n",
       "434     [left, calf, thigh, hip, pain, day, denies, in...\n",
       "8400    [dc, today, uti, blood, urine, pain, left, sid...\n",
       "238     [right, foot, right, knee, pain, think, gout, ...\n",
       "8333    [r, arm, laceration, post, hitting, mirror, la...\n",
       "6077    [fell, last, tuesday, went, highland, xrays, r...\n",
       "328     [co, right, calf, swelling, patient, right, kn...\n",
       "Name: corpus, dtype: object"
      ]
     },
     "execution_count": 158,
     "metadata": {},
     "output_type": "execute_result"
    }
   ],
   "source": [
    "df['corpus'].apply(lambda x: word_lemmatizer(x))\n",
    "df_val['corpus'].apply(lambda x: word_lemmatizer(x))"
   ]
  },
  {
   "cell_type": "markdown",
   "metadata": {},
   "source": [
    "### Stemming: PorterStemmer"
   ]
  },
  {
   "cell_type": "code",
   "execution_count": 159,
   "metadata": {
    "ExecuteTime": {
     "end_time": "2021-04-19T18:44:05.326830Z",
     "start_time": "2021-04-19T18:44:05.324300Z"
    }
   },
   "outputs": [],
   "source": [
    "from nltk.stem.porter import PorterStemmer\n",
    "#from nltk.stem.porter import *\n",
    "stemmer = PorterStemmer()"
   ]
  },
  {
   "cell_type": "code",
   "execution_count": 160,
   "metadata": {
    "ExecuteTime": {
     "end_time": "2021-04-19T18:44:38.554220Z",
     "start_time": "2021-04-19T18:44:38.551293Z"
    }
   },
   "outputs": [],
   "source": [
    "def word_stemmer(text):\n",
    "    stem_text = ' '.join([stemmer.stem(i) for i in text])\n",
    "    return stem_text"
   ]
  },
  {
   "cell_type": "code",
   "execution_count": 161,
   "metadata": {
    "ExecuteTime": {
     "end_time": "2021-04-19T18:45:01.646162Z",
     "start_time": "2021-04-19T18:45:01.504680Z"
    }
   },
   "outputs": [
    {
     "data": {
      "text/html": [
       "<div>\n",
       "<style scoped>\n",
       "    .dataframe tbody tr th:only-of-type {\n",
       "        vertical-align: middle;\n",
       "    }\n",
       "\n",
       "    .dataframe tbody tr th {\n",
       "        vertical-align: top;\n",
       "    }\n",
       "\n",
       "    .dataframe thead th {\n",
       "        text-align: right;\n",
       "    }\n",
       "</style>\n",
       "<table border=\"1\" class=\"dataframe\">\n",
       "  <thead>\n",
       "    <tr style=\"text-align: right;\">\n",
       "      <th></th>\n",
       "      <th>corpus</th>\n",
       "      <th>target</th>\n",
       "    </tr>\n",
       "  </thead>\n",
       "  <tbody>\n",
       "    <tr>\n",
       "      <th>0</th>\n",
       "      <td>increas pain swell r upper arm seen monday</td>\n",
       "      <td>N</td>\n",
       "    </tr>\n",
       "    <tr>\n",
       "      <th>1</th>\n",
       "      <td>mvc hr pta pt co chest neck pain current blood...</td>\n",
       "      <td>N</td>\n",
       "    </tr>\n",
       "    <tr>\n",
       "      <th>2</th>\n",
       "      <td>right knee pain swell x day exam knee visib sw...</td>\n",
       "      <td>Y</td>\n",
       "    </tr>\n",
       "    <tr>\n",
       "      <th>3</th>\n",
       "      <td>alleg assault son father happen appx hr pta st...</td>\n",
       "      <td>N</td>\n",
       "    </tr>\n",
       "    <tr>\n",
       "      <th>4</th>\n",
       "      <td>bilater knee pain sinc last pm pt deni trauma ...</td>\n",
       "      <td>N</td>\n",
       "    </tr>\n",
       "    <tr>\n",
       "      <th>...</th>\n",
       "      <td>...</td>\n",
       "      <td>...</td>\n",
       "    </tr>\n",
       "    <tr>\n",
       "      <th>8280</th>\n",
       "      <td>sore throat hurt day hoars report cold like mo...</td>\n",
       "      <td>N</td>\n",
       "    </tr>\n",
       "    <tr>\n",
       "      <th>8281</th>\n",
       "      <td>state increas blood sugar nausea dizzi weak th...</td>\n",
       "      <td>N</td>\n",
       "    </tr>\n",
       "    <tr>\n",
       "      <th>8282</th>\n",
       "      <td>breakdown rt stress depress</td>\n",
       "      <td>N</td>\n",
       "    </tr>\n",
       "    <tr>\n",
       "      <th>8283</th>\n",
       "      <td>tri jump front car pt state psych med pmh arth...</td>\n",
       "      <td>N</td>\n",
       "    </tr>\n",
       "    <tr>\n",
       "      <th>8284</th>\n",
       "      <td>abdomin pain x week deni pmh</td>\n",
       "      <td>N</td>\n",
       "    </tr>\n",
       "  </tbody>\n",
       "</table>\n",
       "<p>8265 rows × 2 columns</p>\n",
       "</div>"
      ],
      "text/plain": [
       "                                                 corpus target\n",
       "0            increas pain swell r upper arm seen monday      N\n",
       "1     mvc hr pta pt co chest neck pain current blood...      N\n",
       "2     right knee pain swell x day exam knee visib sw...      Y\n",
       "3     alleg assault son father happen appx hr pta st...      N\n",
       "4     bilater knee pain sinc last pm pt deni trauma ...      N\n",
       "...                                                 ...    ...\n",
       "8280  sore throat hurt day hoars report cold like mo...      N\n",
       "8281  state increas blood sugar nausea dizzi weak th...      N\n",
       "8282                        breakdown rt stress depress      N\n",
       "8283  tri jump front car pt state psych med pmh arth...      N\n",
       "8284                       abdomin pain x week deni pmh      N\n",
       "\n",
       "[8265 rows x 2 columns]"
      ]
     },
     "execution_count": 161,
     "metadata": {},
     "output_type": "execute_result"
    }
   ],
   "source": [
    "df['corpus'] = df['corpus'].apply(lambda x: word_stemmer(x))\n",
    "df_val['corpus'] = df_val['corpus'].apply(lambda x: word_stemmer(x))\n",
    "df"
   ]
  },
  {
   "cell_type": "markdown",
   "metadata": {},
   "source": [
    "### END OF CLEANING....Store dataframe for modeling"
   ]
  },
  {
   "cell_type": "code",
   "execution_count": 162,
   "metadata": {},
   "outputs": [],
   "source": [
    "import pandas as pd\n",
    "import pickle\n",
    "pd.to_pickle(df, 'withGoutTermII.csv')\n",
    "pd.to_pickle(df_val, 'validation.csv')"
   ]
  },
  {
   "cell_type": "markdown",
   "metadata": {},
   "source": [
    "## ANALYSIS\n",
    "* Wordcloud\n",
    "* Word Count\n",
    "* Visual comparisons of word frequencies"
   ]
  },
  {
   "cell_type": "code",
   "execution_count": null,
   "metadata": {},
   "outputs": [],
   "source": [
    "# Split the data by the target class\n",
    "\n",
    "yes_gout = df.loc[df['target'] == 'Y']\n",
    "no_gout = df.loc[df['target'] == 'N']"
   ]
  },
  {
   "cell_type": "code",
   "execution_count": null,
   "metadata": {},
   "outputs": [],
   "source": [
    "# Define method that vectors data and plots the word count in a bar plot\n",
    "from sklearn.feature_extraction.text import CountVectorizer\n",
    "import matplotlib.pyplot as plt\n",
    "from wordcloud import WordCloud, STOPWORDS\n",
    "\n",
    "\n",
    "# Set Font for Charts\n",
    "\n",
    "fontT = {'family': 'serif',\n",
    "        'color':  'darkred',\n",
    "        'weight': 'normal',\n",
    "        'size': 45,\n",
    "        }\n",
    "fontL = {'family': 'serif',\n",
    "        'color':  'green',\n",
    "        'weight': 'normal',\n",
    "        'size': 25,\n",
    "        }\n",
    "\n",
    "def plotChart(corpus, title):\n",
    "    vectorizer = CountVectorizer(ngram_range=(1, 1))\n",
    "    vectorized = vectorizer.fit_transform(corpus.astype(str))\n",
    "    vectored_data = pd.DataFrame.sparse.from_spmatrix(vectorized, columns=vectorizer.get_feature_names())\n",
    "\n",
    "    allData = vectored_data.sum(axis=0)\n",
    "    allData = allData.sort_values(ascending=False).head(30)\n",
    "\n",
    "        #plot\n",
    "    plt.figure(figsize=(20, 10))\n",
    "    plt.title(title, fontdict = fontT)\n",
    "    plt.xlabel(\"Count\", fontdict = fontL)\n",
    "    plt.ylabel(\"Patient Complaints\", fontdict = fontL)\n",
    "    plt.yticks(size=25)\n",
    "    allData.plot.barh()\n",
    "    return allData.sort_values(ascending=False)\n",
    "\n",
    "def plotWordcloud(words, title):\n",
    "    words = WordCloud(background_color=\"white\").fit_words(words)\n",
    "    plt.figure(figsize = (10,20))\n",
    "    plt.imshow(words, interpolation='bilinear')\n",
    "    plt.title(title, fontdict = fontT)\n",
    "    plt.axis(\"off\")\n",
    "    plt.show()"
   ]
  },
  {
   "cell_type": "code",
   "execution_count": null,
   "metadata": {},
   "outputs": [],
   "source": [
    "# Plot word count for complete corpus:  plotChart\n",
    "\n",
    "title = \"Word Count for Complete Corpus\"\n",
    "allof = plotChart(df['corpus'],title)"
   ]
  },
  {
   "cell_type": "code",
   "execution_count": null,
   "metadata": {},
   "outputs": [],
   "source": [
    "title = \"Full Corpus\"\n",
    "plotWordcloud(allof, title)"
   ]
  },
  {
   "cell_type": "code",
   "execution_count": null,
   "metadata": {},
   "outputs": [],
   "source": [
    "title = \"Word Count for Patients WITH Gout\"\n",
    "yes = plotChart(yes_gout['corpus'], title)"
   ]
  },
  {
   "cell_type": "code",
   "execution_count": null,
   "metadata": {},
   "outputs": [],
   "source": [
    "title = \"Patients with Gout\"\n",
    "plotWordcloud(yes, title)"
   ]
  },
  {
   "cell_type": "code",
   "execution_count": null,
   "metadata": {},
   "outputs": [],
   "source": [
    "title = \"Word Count for Patients WITHOUT Gout\"\n",
    "noGout = plotChart(no_gout['corpus'], title)"
   ]
  },
  {
   "cell_type": "code",
   "execution_count": null,
   "metadata": {},
   "outputs": [],
   "source": [
    "title = \"Patients without gout complaints\"\n",
    "plotWordcloud(noGout, title)"
   ]
  },
  {
   "cell_type": "markdown",
   "metadata": {},
   "source": [
    "### Visual comparisons of word frequencies: Compare words used by Gout patients vs patients without Gout"
   ]
  },
  {
   "cell_type": "code",
   "execution_count": null,
   "metadata": {},
   "outputs": [],
   "source": [
    "# Convert list to dataframe\n",
    "noGout = noGout.to_frame().reset_index()\n",
    "yes = yes.to_frame().reset_index()\n",
    "\n",
    "# Add new column \"Gout\"\n",
    "noGout['Gout'] = 'n'\n",
    "yes['Gout'] = 'y'\n",
    "\n",
    " # Set the first column name to 'count'\n",
    "noGout = noGout.rename(columns={0: 'count'}) \n",
    "yes = yes.rename(columns={0: 'count'})\n",
    "\n",
    "# Normalize the count to account for class imbalances\n",
    "sumN = noGout['count'].sum()                               \n",
    "sumY = yes['count'].sum()\n",
    "noGout['count'] = noGout['count'].apply(lambda x: x/sumN)\n",
    "yes['count'] = yes['count'].apply(lambda x: x/sumY)\n",
    "\n",
    "# Combine all data into single df for plotting\n",
    "compare = pd.concat([noGout, yes])"
   ]
  },
  {
   "cell_type": "code",
   "execution_count": null,
   "metadata": {},
   "outputs": [],
   "source": [
    "fig, ax = plt.subplots(figsize=(8,8))\n",
    "\n",
    "sns.kdeplot(\n",
    "   data=compare, x=\"count\", hue=\"Gout\",\n",
    "   fill=True, common_norm=False, palette=\"crest\",\n",
    "   alpha=.5, linewidth=0\n",
    ")\n"
   ]
  },
  {
   "cell_type": "code",
   "execution_count": null,
   "metadata": {},
   "outputs": [],
   "source": [
    "# Plot the comparisons\n",
    "\n",
    "import seaborn as sns\n",
    "fig_dims = (20, 10)\n",
    "fig, ax = plt.subplots(figsize=fig_dims)\n",
    "ax = sns.barplot(x=\"count\", y=\"index\", hue=\"Gout\", ax=ax, data=compare)\n",
    "ax.set_title(\"Compare wordcount Gout vs Non-Gout Patients\",fontsize=20)\n",
    "ax.set_xlabel(\"Word count for corpa\",fontsize=20)\n",
    "ax.set_ylabel(\"Word used by patient\",fontsize=30)\n",
    "ax.legend(fontsize = 15, \\\n",
    "               bbox_to_anchor= (1.03, 1), \\\n",
    "               title=\"Gout?\", \\\n",
    "               title_fontsize = 18, \\\n",
    "               shadow = True, \\\n",
    "               facecolor = 'white');"
   ]
  },
  {
   "cell_type": "markdown",
   "metadata": {},
   "source": [
    "### We see a nice separation of tokens with the expected overlap of 'pain, left, right, and dm (diabetes), with separations occuring on lung and abdominal complaints versus swelling and joint complaints.  Looks good"
   ]
  },
  {
   "cell_type": "markdown",
   "metadata": {},
   "source": [
    "### Distribution of Word Count for Gout vs non-Gout patients"
   ]
  },
  {
   "cell_type": "code",
   "execution_count": null,
   "metadata": {},
   "outputs": [],
   "source": [
    "print(yes)"
   ]
  },
  {
   "cell_type": "code",
   "execution_count": null,
   "metadata": {},
   "outputs": [],
   "source": [
    "fig, ax = plt.subplots(1, 2)\n",
    "\n",
    "yesis = yes['count'].to_list()\n",
    "nois = noGout['count'].to_list()\n",
    "\n",
    "ax[0].hist(yesis, bins=30, alpha = 0.9, color = 'r')\n",
    "ax[1].hist(nois, bins=30, alpha = 0.9, color = 'g')\n",
    "ax[0].set(title = 'Gout')\n",
    "ax[1].set(title = 'No Gout')\n",
    "\n",
    "plt.show()"
   ]
  },
  {
   "cell_type": "code",
   "execution_count": null,
   "metadata": {},
   "outputs": [],
   "source": [
    "fig, ax = plt.subplots()\n",
    "for a in [yesis, nois]:\n",
    "    sns.kdeplot(a)\n",
    "ax.set(title=\"Class Distribution\")\n",
    "ax.legend()"
   ]
  },
  {
   "cell_type": "markdown",
   "metadata": {},
   "source": [
    "## Conclusion\n",
    "\n",
    "Cleaned data includes an imbalanced set of Corpra for patients diagnosed with gout (98.7%) and without gout (1.3%) as their target with no null values.\n",
    "\n",
    "The key top terms/words distribution supports significant difference between classes,validating the usefullness for training.\n",
    "\n",
    "The word count distribution for both classes is similar, normal in shape, and suggests there target values are associated with terms rather than counts.\n",
    "\n"
   ]
  },
  {
   "cell_type": "code",
   "execution_count": null,
   "metadata": {},
   "outputs": [],
   "source": []
  }
 ],
 "metadata": {
  "kernelspec": {
   "display_name": "Python 3",
   "language": "python",
   "name": "python3"
  },
  "language_info": {
   "codemirror_mode": {
    "name": "ipython",
    "version": 3
   },
   "file_extension": ".py",
   "mimetype": "text/x-python",
   "name": "python",
   "nbconvert_exporter": "python",
   "pygments_lexer": "ipython3",
   "version": "3.8.5"
  },
  "toc": {
   "base_numbering": 1,
   "nav_menu": {},
   "number_sections": true,
   "sideBar": true,
   "skip_h1_title": false,
   "title_cell": "Table of Contents",
   "title_sidebar": "Contents",
   "toc_cell": false,
   "toc_position": {},
   "toc_section_display": true,
   "toc_window_display": false
  }
 },
 "nbformat": 4,
 "nbformat_minor": 4
}

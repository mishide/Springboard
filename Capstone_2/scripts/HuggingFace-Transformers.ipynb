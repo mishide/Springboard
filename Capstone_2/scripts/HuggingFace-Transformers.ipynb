{
 "cells": [
  {
   "cell_type": "markdown",
   "metadata": {},
   "source": [
    "# Predicting Gout During Emergency Room Visit:  <i>Is the patient potentially suffering from Gout?</i>  "
   ]
  },
  {
   "cell_type": "markdown",
   "metadata": {},
   "source": [
    "## Scope"
   ]
  },
  {
   "cell_type": "markdown",
   "metadata": {},
   "source": [
    "The scope of this project is corpora from the Deep South.  The demographics of the population from which they were derived are 54% female, and 46% male, 55% Black, 40% White, 2% Hispanic, and 1% Asian. Age distribution was 5% between ages 1-20 years, 35% between ages 21-40 years, 35% between ages 41-60 years, 20% between ages 61-80 years, and 5% between ages 81-100 years."
   ]
  },
  {
   "cell_type": "markdown",
   "metadata": {},
   "source": [
    "## Data\n",
    "\n",
    "The data is extracted in csv format from the MIMIC-III (Medical Information Mart for Intensive Care III) database.  Details can be found at https://physionet.org/content/emer-complaint-gout/1.0/.   Acces to the database may be requested at (https://mimic.physionet.org/gettingstarted/access/). \n",
    "\n",
    "The data provided by the MIMIC database consists of 2 corpora of free text collected by the triage nurse and recorded as the \"Chief Complaint\".  Each complaint contains up to 282 characters in length and was collected from 2019 to 2020 at an academic medical center in the Deep South.  The 2019 corpora, \"GOUT-CC-2019-CORPUS\", consists of 300 chief complaints selected by the presence of the keyword \"gout\". The 2020 corpora, \"GOUT-CC-2020-CORPUS\" contains 8037 chief complaints collected from a single month in 2020. The chief complaints included in both corpora were selected based on the presence of the keyword \"gout\"."
   ]
  },
  {
   "cell_type": "markdown",
   "metadata": {},
   "source": [
    "## Cleaning and Analysis"
   ]
  },
  {
   "cell_type": "markdown",
   "metadata": {},
   "source": [
    "**Import Data**"
   ]
  },
  {
   "cell_type": "code",
   "execution_count": 1,
   "metadata": {
    "ExecuteTime": {
     "end_time": "2021-04-20T21:50:53.023861Z",
     "start_time": "2021-04-20T21:50:53.003138Z"
    }
   },
   "outputs": [],
   "source": [
    "import pandas as pd\n",
    "\n",
    "syn2019 = pd.read_csv('Data/GOUT-CC-2019-CORPUS-SYNTHETIC.csv')\n",
    "syn2020 = pd.read_csv('Data/GOUT-CC-2020-CORPUS-SYNTHETIC.csv')"
   ]
  },
  {
   "cell_type": "markdown",
   "metadata": {},
   "source": [
    "\n",
    "**Data Description**\n",
    "* 2 csv files\n",
    "    * 2019 : 300 records\n",
    "    * 2020 : 8037 records\n",
    "    * Identical layouts and formats: all text, 3 columns\n",
    "    <br><br>\n",
    "* 3 Columns:  [\"Chief Complaint\", \"Predict\", \"Consensus\"]\n",
    "    * <b>Chief Complaint:</b> \n",
    "        * text format\n",
    "        * up to 282 Chars\n",
    "        * nurse recorded patient complaint\n",
    "    * <b>Predict:</b> \n",
    "        * text format\n",
    "        * single char ('-','U','Y','N')\n",
    "        * prediction of Gout by the ER Physician\n",
    "    * <b>Consensus:</b> \n",
    "        * textformat\n",
    "        * single char ('-','U','Y','N')\n",
    "        * determination of Gout by the Rhuematologist\n",
    "    <br>\n",
    "* \n",
    "          - : Null\n",
    "          U : Unknonw\n",
    "          Y : Yes\n",
    "          N : Gout"
   ]
  },
  {
   "cell_type": "markdown",
   "metadata": {},
   "source": [
    "## Format Data"
   ]
  },
  {
   "cell_type": "code",
   "execution_count": 2,
   "metadata": {},
   "outputs": [
    {
     "name": "stdout",
     "output_type": "stream",
     "text": [
      "                                     Chief Complaint Predict Consensus\n",
      "0  \"been feeling bad\" last 2 weeks & switched BP ...       N         -\n",
      "1  \"can't walk\", reports onset at 0830 am. orient...       Y         N\n",
      "2  \"dehydration\" Chest hurts, hips hurt, cramps P...       Y         Y\n",
      "3  \"gout flare up\" L arm swelling x 1 week. denie...       Y         Y\n",
      "4  \"heart racing,\"dyspnea, and orthopnea that has...       N         -\n"
     ]
    }
   ],
   "source": [
    "print(syn2019.head())"
   ]
  },
  {
   "cell_type": "code",
   "execution_count": 3,
   "metadata": {},
   "outputs": [
    {
     "name": "stdout",
     "output_type": "stream",
     "text": [
      "                                     Chief Complaint Predict Consensus\n",
      "0  \"I dont know whats going on with my head, its ...       N         -\n",
      "1  \"i've been depressed for a few weeks now, i'm ...       N         -\n",
      "2  Altercation while making arrest, c/o R hand pa...       N         N\n",
      "3  Cut on L upper thigh wtih saw. Bleeding contro...       N         N\n",
      "4   Dysuria x1 week. hx: hysterectomy, gerd, bipolar       N         -\n"
     ]
    }
   ],
   "source": [
    "print(syn2020.head())"
   ]
  },
  {
   "cell_type": "markdown",
   "metadata": {},
   "source": [
    "**Combine the 2 files**"
   ]
  },
  {
   "cell_type": "code",
   "execution_count": 4,
   "metadata": {},
   "outputs": [
    {
     "name": "stdout",
     "output_type": "stream",
     "text": [
      "(8437, 3)\n"
     ]
    }
   ],
   "source": [
    "# Combine the files into 1 dataframe\n",
    "df = pd.concat([syn2019, syn2020], axis=0).reset_index(drop=True)\n",
    "print(df.shape)"
   ]
  },
  {
   "cell_type": "markdown",
   "metadata": {},
   "source": [
    "**Review records for null value '-' in the files**"
   ]
  },
  {
   "cell_type": "code",
   "execution_count": 5,
   "metadata": {},
   "outputs": [
    {
     "name": "stdout",
     "output_type": "stream",
     "text": [
      "Y     111\n",
      "-       2\n",
      "U     156\n",
      "N    8168\n",
      "Name: Predict, dtype: int64\n"
     ]
    }
   ],
   "source": [
    "print(df['Predict'].value_counts(sort=False))"
   ]
  },
  {
   "cell_type": "code",
   "execution_count": 6,
   "metadata": {},
   "outputs": [
    {
     "name": "stdout",
     "output_type": "stream",
     "text": [
      "Y      95\n",
      "-    7976\n",
      "U      16\n",
      "N     350\n",
      "Name: Consensus, dtype: int64\n"
     ]
    }
   ],
   "source": [
    "print(df['Consensus'].value_counts(sort=False))"
   ]
  },
  {
   "cell_type": "markdown",
   "metadata": {},
   "source": [
    "**Remove records that contain null's '-' in both the 'Predict' and 'Consensus' columns.**"
   ]
  },
  {
   "cell_type": "code",
   "execution_count": 7,
   "metadata": {},
   "outputs": [
    {
     "name": "stdout",
     "output_type": "stream",
     "text": [
      "                                        Chief Complaint Predict Consensus\n",
      "7799  Right lower back pain that radiates down leg t...       -         -\n",
      "7857  pain to posterior upper leg x 3 days, seen at ...       -         -\n"
     ]
    }
   ],
   "source": [
    "print( df[(df.Consensus == '-') & (df.Predict == '-')])"
   ]
  },
  {
   "cell_type": "markdown",
   "metadata": {},
   "source": [
    "## Clean Data\n",
    "\n",
    "   * Remove records that contain null values in both of the Predict and Consensus columns.\n",
    "   * Fill Consensus null values ( - ) with Predict values\n",
    "   * Change all chars to lowercase\n",
    "   * Remove punctuation\n",
    "   * Remove words containing numbers"
   ]
  },
  {
   "cell_type": "markdown",
   "metadata": {},
   "source": [
    "**Remove records with double 'null' values, records with '-' in both Consensus and Predict.**"
   ]
  },
  {
   "cell_type": "code",
   "execution_count": 8,
   "metadata": {},
   "outputs": [
    {
     "name": "stdout",
     "output_type": "stream",
     "text": [
      "(8435, 3)\n"
     ]
    }
   ],
   "source": [
    "df = df[(df.Consensus != '-') | (df.Predict != '-')]\n",
    "print(df.shape)"
   ]
  },
  {
   "cell_type": "markdown",
   "metadata": {},
   "source": [
    "The predict column contains a value agreed upon by a panel of physicians while the consensus is the 'Rheumatologist findings, patients who did require follow-up with a Rhuematologist will be included using the predict values.\n",
    "\n",
    "**Fill null values in consensus with predict value**"
   ]
  },
  {
   "cell_type": "code",
   "execution_count": 9,
   "metadata": {},
   "outputs": [],
   "source": [
    "for a in df['Consensus']:\n",
    "    if a == '-':\n",
    "        df['Consensus'] = df['Predict']"
   ]
  },
  {
   "cell_type": "code",
   "execution_count": 10,
   "metadata": {},
   "outputs": [
    {
     "name": "stdout",
     "output_type": "stream",
     "text": [
      "Y     111\n",
      "U     156\n",
      "N    8168\n",
      "Name: Consensus, dtype: int64\n"
     ]
    }
   ],
   "source": [
    "print(df['Consensus'].value_counts(sort=False))"
   ]
  },
  {
   "cell_type": "code",
   "execution_count": 11,
   "metadata": {},
   "outputs": [],
   "source": [
    "df = df.drop(columns=['Predict'])"
   ]
  },
  {
   "cell_type": "code",
   "execution_count": 12,
   "metadata": {},
   "outputs": [
    {
     "data": {
      "text/html": [
       "<div>\n",
       "<style scoped>\n",
       "    .dataframe tbody tr th:only-of-type {\n",
       "        vertical-align: middle;\n",
       "    }\n",
       "\n",
       "    .dataframe tbody tr th {\n",
       "        vertical-align: top;\n",
       "    }\n",
       "\n",
       "    .dataframe thead th {\n",
       "        text-align: right;\n",
       "    }\n",
       "</style>\n",
       "<table border=\"1\" class=\"dataframe\">\n",
       "  <thead>\n",
       "    <tr style=\"text-align: right;\">\n",
       "      <th></th>\n",
       "      <th>corpus</th>\n",
       "      <th>target</th>\n",
       "    </tr>\n",
       "  </thead>\n",
       "  <tbody>\n",
       "    <tr>\n",
       "      <th>0</th>\n",
       "      <td>\"been feeling bad\" last 2 weeks &amp; switched BP ...</td>\n",
       "      <td>N</td>\n",
       "    </tr>\n",
       "    <tr>\n",
       "      <th>1</th>\n",
       "      <td>\"can't walk\", reports onset at 0830 am. orient...</td>\n",
       "      <td>Y</td>\n",
       "    </tr>\n",
       "    <tr>\n",
       "      <th>2</th>\n",
       "      <td>\"dehydration\" Chest hurts, hips hurt, cramps P...</td>\n",
       "      <td>Y</td>\n",
       "    </tr>\n",
       "    <tr>\n",
       "      <th>3</th>\n",
       "      <td>\"gout flare up\" L arm swelling x 1 week. denie...</td>\n",
       "      <td>Y</td>\n",
       "    </tr>\n",
       "    <tr>\n",
       "      <th>4</th>\n",
       "      <td>\"heart racing,\"dyspnea, and orthopnea that has...</td>\n",
       "      <td>N</td>\n",
       "    </tr>\n",
       "    <tr>\n",
       "      <th>...</th>\n",
       "      <td>...</td>\n",
       "      <td>...</td>\n",
       "    </tr>\n",
       "    <tr>\n",
       "      <th>8432</th>\n",
       "      <td>stepped on a nail at home with right foot, pai...</td>\n",
       "      <td>N</td>\n",
       "    </tr>\n",
       "    <tr>\n",
       "      <th>8433</th>\n",
       "      <td>\" I was having a breakdown.\" R/T stress and de...</td>\n",
       "      <td>N</td>\n",
       "    </tr>\n",
       "    <tr>\n",
       "      <th>8434</th>\n",
       "      <td>\"I tried to jump in front of a car\" Pt states ...</td>\n",
       "      <td>N</td>\n",
       "    </tr>\n",
       "    <tr>\n",
       "      <th>8435</th>\n",
       "      <td>Abdominal pain x 1 week. Denies PMH</td>\n",
       "      <td>N</td>\n",
       "    </tr>\n",
       "    <tr>\n",
       "      <th>8436</th>\n",
       "      <td>Rash/sores across body, infection ro left thum...</td>\n",
       "      <td>N</td>\n",
       "    </tr>\n",
       "  </tbody>\n",
       "</table>\n",
       "<p>8435 rows × 2 columns</p>\n",
       "</div>"
      ],
      "text/plain": [
       "                                                 corpus target\n",
       "0     \"been feeling bad\" last 2 weeks & switched BP ...      N\n",
       "1     \"can't walk\", reports onset at 0830 am. orient...      Y\n",
       "2     \"dehydration\" Chest hurts, hips hurt, cramps P...      Y\n",
       "3     \"gout flare up\" L arm swelling x 1 week. denie...      Y\n",
       "4     \"heart racing,\"dyspnea, and orthopnea that has...      N\n",
       "...                                                 ...    ...\n",
       "8432  stepped on a nail at home with right foot, pai...      N\n",
       "8433  \" I was having a breakdown.\" R/T stress and de...      N\n",
       "8434  \"I tried to jump in front of a car\" Pt states ...      N\n",
       "8435                Abdominal pain x 1 week. Denies PMH      N\n",
       "8436  Rash/sores across body, infection ro left thum...      N\n",
       "\n",
       "[8435 rows x 2 columns]"
      ]
     },
     "execution_count": 12,
     "metadata": {},
     "output_type": "execute_result"
    }
   ],
   "source": [
    "df = df.rename(columns={'Chief Complaint': 'corpus', 'Consensus': 'target'})\n",
    "df"
   ]
  },
  {
   "cell_type": "code",
   "execution_count": 13,
   "metadata": {},
   "outputs": [],
   "source": [
    "import transformers"
   ]
  },
  {
   "cell_type": "code",
   "execution_count": 14,
   "metadata": {},
   "outputs": [
    {
     "name": "stdout",
     "output_type": "stream",
     "text": [
      "['ALBERT_PRETRAINED_CONFIG_ARCHIVE_MAP', 'ALBERT_PRETRAINED_MODEL_ARCHIVE_LIST', 'ALL_PRETRAINED_CONFIG_ARCHIVE_MAP', 'Adafactor', 'AdamW', 'AdamWeightDecay', 'AdaptiveEmbedding', 'AddedToken', 'AlbertConfig', 'AlbertForMaskedLM', 'AlbertForMultipleChoice', 'AlbertForPreTraining', 'AlbertForQuestionAnswering', 'AlbertForSequenceClassification', 'AlbertForTokenClassification', 'AlbertModel', 'AlbertPreTrainedModel', 'AlbertTokenizer', 'AlbertTokenizerFast', 'AutoConfig', 'AutoFeatureExtractor', 'AutoModel', 'AutoModelForCausalLM', 'AutoModelForImageClassification', 'AutoModelForMaskedLM', 'AutoModelForMultipleChoice', 'AutoModelForNextSentencePrediction', 'AutoModelForPreTraining', 'AutoModelForQuestionAnswering', 'AutoModelForSeq2SeqLM', 'AutoModelForSequenceClassification', 'AutoModelForTableQuestionAnswering', 'AutoModelForTokenClassification', 'AutoModelWithLMHead', 'AutoTokenizer', 'AutomaticSpeechRecognitionPipeline', 'BART_PRETRAINED_MODEL_ARCHIVE_LIST', 'BERT_PRETRAINED_CONFIG_ARCHIVE_MAP', 'BERT_PRETRAINED_MODEL_ARCHIVE_LIST', 'BIGBIRD_PEGASUS_PRETRAINED_CONFIG_ARCHIVE_MAP', 'BIGBIRD_PEGASUS_PRETRAINED_MODEL_ARCHIVE_LIST', 'BIG_BIRD_PRETRAINED_CONFIG_ARCHIVE_MAP', 'BIG_BIRD_PRETRAINED_MODEL_ARCHIVE_LIST', 'BLENDERBOT_PRETRAINED_CONFIG_ARCHIVE_MAP', 'BLENDERBOT_PRETRAINED_MODEL_ARCHIVE_LIST', 'BLENDERBOT_SMALL_PRETRAINED_CONFIG_ARCHIVE_MAP', 'BLENDERBOT_SMALL_PRETRAINED_MODEL_ARCHIVE_LIST', 'BartConfig', 'BartForCausalLM', 'BartForConditionalGeneration', 'BartForQuestionAnswering', 'BartForSequenceClassification', 'BartModel', 'BartPretrainedModel', 'BartTokenizer', 'BartTokenizerFast', 'BarthezTokenizer', 'BarthezTokenizerFast', 'BasicTokenizer', 'BatchEncoding', 'BatchFeature', 'BeamScorer', 'BeamSearchScorer', 'BertConfig', 'BertForMaskedLM', 'BertForMultipleChoice', 'BertForNextSentencePrediction', 'BertForPreTraining', 'BertForQuestionAnswering', 'BertForSequenceClassification', 'BertForTokenClassification', 'BertGenerationConfig', 'BertGenerationDecoder', 'BertGenerationEncoder', 'BertGenerationPreTrainedModel', 'BertGenerationTokenizer', 'BertJapaneseTokenizer', 'BertLMHeadModel', 'BertLayer', 'BertModel', 'BertPreTrainedModel', 'BertTokenizer', 'BertTokenizerFast', 'BertweetTokenizer', 'BigBirdConfig', 'BigBirdForCausalLM', 'BigBirdForMaskedLM', 'BigBirdForMultipleChoice', 'BigBirdForPreTraining', 'BigBirdForQuestionAnswering', 'BigBirdForSequenceClassification', 'BigBirdForTokenClassification', 'BigBirdLayer', 'BigBirdModel', 'BigBirdPegasusConfig', 'BigBirdPegasusForCausalLM', 'BigBirdPegasusForConditionalGeneration', 'BigBirdPegasusForQuestionAnswering', 'BigBirdPegasusForSequenceClassification', 'BigBirdPegasusModel', 'BigBirdPegasusPreTrainedModel', 'BigBirdPreTrainedModel', 'BigBirdTokenizer', 'BigBirdTokenizerFast', 'BlenderbotConfig', 'BlenderbotForCausalLM', 'BlenderbotForConditionalGeneration', 'BlenderbotModel', 'BlenderbotPreTrainedModel', 'BlenderbotSmallConfig', 'BlenderbotSmallForCausalLM', 'BlenderbotSmallForConditionalGeneration', 'BlenderbotSmallModel', 'BlenderbotSmallPreTrainedModel', 'BlenderbotSmallTokenizer', 'BlenderbotTokenizer', 'ByT5Tokenizer', 'CAMEMBERT_PRETRAINED_CONFIG_ARCHIVE_MAP', 'CAMEMBERT_PRETRAINED_MODEL_ARCHIVE_LIST', 'CLIPConfig', 'CLIPFeatureExtractor', 'CLIPModel', 'CLIPPreTrainedModel', 'CLIPProcessor', 'CLIPTextConfig', 'CLIPTextModel', 'CLIPTokenizer', 'CLIPTokenizerFast', 'CLIPVisionConfig', 'CLIPVisionModel', 'CLIP_PRETRAINED_CONFIG_ARCHIVE_MAP', 'CLIP_PRETRAINED_MODEL_ARCHIVE_LIST', 'CONFIG_MAPPING', 'CONFIG_NAME', 'CONVBERT_PRETRAINED_CONFIG_ARCHIVE_MAP', 'CONVBERT_PRETRAINED_MODEL_ARCHIVE_LIST', 'CTRLConfig', 'CTRLForSequenceClassification', 'CTRLLMHeadModel', 'CTRLModel', 'CTRLPreTrainedModel', 'CTRLTokenizer', 'CTRL_PRETRAINED_CONFIG_ARCHIVE_MAP', 'CTRL_PRETRAINED_MODEL_ARCHIVE_LIST', 'CamembertConfig', 'CamembertForCausalLM', 'CamembertForMaskedLM', 'CamembertForMultipleChoice', 'CamembertForQuestionAnswering', 'CamembertForSequenceClassification', 'CamembertForTokenClassification', 'CamembertModel', 'CamembertTokenizer', 'CamembertTokenizerFast', 'CharSpan', 'CharacterTokenizer', 'Conv1D', 'ConvBertConfig', 'ConvBertForMaskedLM', 'ConvBertForMultipleChoice', 'ConvBertForQuestionAnswering', 'ConvBertForSequenceClassification', 'ConvBertForTokenClassification', 'ConvBertLayer', 'ConvBertModel', 'ConvBertPreTrainedModel', 'ConvBertTokenizer', 'ConvBertTokenizerFast', 'Conversation', 'ConversationalPipeline', 'CpmTokenizer', 'CsvPipelineDataFormat', 'DEBERTA_PRETRAINED_CONFIG_ARCHIVE_MAP', 'DEBERTA_PRETRAINED_MODEL_ARCHIVE_LIST', 'DEBERTA_V2_PRETRAINED_CONFIG_ARCHIVE_MAP', 'DEBERTA_V2_PRETRAINED_MODEL_ARCHIVE_LIST', 'DEIT_PRETRAINED_CONFIG_ARCHIVE_MAP', 'DEIT_PRETRAINED_MODEL_ARCHIVE_LIST', 'DETR_PRETRAINED_CONFIG_ARCHIVE_MAP', 'DETR_PRETRAINED_MODEL_ARCHIVE_LIST', 'DISTILBERT_PRETRAINED_CONFIG_ARCHIVE_MAP', 'DISTILBERT_PRETRAINED_MODEL_ARCHIVE_LIST', 'DPRConfig', 'DPRContextEncoder', 'DPRContextEncoderTokenizer', 'DPRContextEncoderTokenizerFast', 'DPRPretrainedContextEncoder', 'DPRPretrainedQuestionEncoder', 'DPRPretrainedReader', 'DPRQuestionEncoder', 'DPRQuestionEncoderTokenizer', 'DPRQuestionEncoderTokenizerFast', 'DPRReader', 'DPRReaderOutput', 'DPRReaderTokenizer', 'DPRReaderTokenizerFast', 'DPR_CONTEXT_ENCODER_PRETRAINED_MODEL_ARCHIVE_LIST', 'DPR_PRETRAINED_CONFIG_ARCHIVE_MAP', 'DPR_QUESTION_ENCODER_PRETRAINED_MODEL_ARCHIVE_LIST', 'DPR_READER_PRETRAINED_MODEL_ARCHIVE_LIST', 'DataCollator', 'DataCollatorForLanguageModeling', 'DataCollatorForPermutationLanguageModeling', 'DataCollatorForSOP', 'DataCollatorForSeq2Seq', 'DataCollatorForTokenClassification', 'DataCollatorForWholeWordMask', 'DataCollatorWithPadding', 'DataProcessor', 'DebertaConfig', 'DebertaForMaskedLM', 'DebertaForQuestionAnswering', 'DebertaForSequenceClassification', 'DebertaForTokenClassification', 'DebertaModel', 'DebertaPreTrainedModel', 'DebertaTokenizer', 'DebertaTokenizerFast', 'DebertaV2Config', 'DebertaV2ForMaskedLM', 'DebertaV2ForQuestionAnswering', 'DebertaV2ForSequenceClassification', 'DebertaV2ForTokenClassification', 'DebertaV2Model', 'DebertaV2PreTrainedModel', 'DebertaV2Tokenizer', 'DefaultFlowCallback', 'DeiTConfig', 'DeiTFeatureExtractor', 'DeiTForImageClassification', 'DeiTForImageClassificationWithTeacher', 'DeiTModel', 'DeiTPreTrainedModel', 'DetrConfig', 'DetrFeatureExtractor', 'DetrForObjectDetection', 'DetrForSegmentation', 'DetrModel', 'DistilBertConfig', 'DistilBertForMaskedLM', 'DistilBertForMultipleChoice', 'DistilBertForQuestionAnswering', 'DistilBertForSequenceClassification', 'DistilBertForTokenClassification', 'DistilBertModel', 'DistilBertPreTrainedModel', 'DistilBertTokenizer', 'DistilBertTokenizerFast', 'ELECTRA_PRETRAINED_CONFIG_ARCHIVE_MAP', 'ELECTRA_PRETRAINED_MODEL_ARCHIVE_LIST', 'EarlyStoppingCallback', 'ElectraConfig', 'ElectraForMaskedLM', 'ElectraForMultipleChoice', 'ElectraForPreTraining', 'ElectraForQuestionAnswering', 'ElectraForSequenceClassification', 'ElectraForTokenClassification', 'ElectraModel', 'ElectraPreTrainedModel', 'ElectraTokenizer', 'ElectraTokenizerFast', 'EncoderDecoderConfig', 'EncoderDecoderModel', 'EvalPrediction', 'FEATURE_EXTRACTOR_MAPPING', 'FLAUBERT_PRETRAINED_CONFIG_ARCHIVE_MAP', 'FLAUBERT_PRETRAINED_MODEL_ARCHIVE_LIST', 'FLAX_MODEL_FOR_CAUSAL_LM_MAPPING', 'FLAX_MODEL_FOR_IMAGE_CLASSIFICATION_MAPPING', 'FLAX_MODEL_FOR_MASKED_LM_MAPPING', 'FLAX_MODEL_FOR_MULTIPLE_CHOICE_MAPPING', 'FLAX_MODEL_FOR_NEXT_SENTENCE_PREDICTION_MAPPING', 'FLAX_MODEL_FOR_PRETRAINING_MAPPING', 'FLAX_MODEL_FOR_QUESTION_ANSWERING_MAPPING', 'FLAX_MODEL_FOR_SEQUENCE_CLASSIFICATION_MAPPING', 'FLAX_MODEL_FOR_SEQ_TO_SEQ_CAUSAL_LM_MAPPING', 'FLAX_MODEL_FOR_TOKEN_CLASSIFICATION_MAPPING', 'FLAX_MODEL_MAPPING', 'FSMTConfig', 'FSMTForConditionalGeneration', 'FSMTModel', 'FSMTTokenizer', 'FSMT_PRETRAINED_CONFIG_ARCHIVE_MAP', 'FUNNEL_PRETRAINED_CONFIG_ARCHIVE_MAP', 'FUNNEL_PRETRAINED_MODEL_ARCHIVE_LIST', 'FeatureExtractionPipeline', 'FillMaskPipeline', 'FlaubertConfig', 'FlaubertForMultipleChoice', 'FlaubertForQuestionAnswering', 'FlaubertForQuestionAnsweringSimple', 'FlaubertForSequenceClassification', 'FlaubertForTokenClassification', 'FlaubertModel', 'FlaubertTokenizer', 'FlaubertWithLMHeadModel', 'FlaxAutoModel', 'FlaxAutoModelForCausalLM', 'FlaxAutoModelForImageClassification', 'FlaxAutoModelForMaskedLM', 'FlaxAutoModelForMultipleChoice', 'FlaxAutoModelForNextSentencePrediction', 'FlaxAutoModelForPreTraining', 'FlaxAutoModelForQuestionAnswering', 'FlaxAutoModelForSeq2SeqLM', 'FlaxAutoModelForSequenceClassification', 'FlaxAutoModelForTokenClassification', 'FlaxBartForConditionalGeneration', 'FlaxBartForQuestionAnswering', 'FlaxBartForSequenceClassification', 'FlaxBartModel', 'FlaxBartPreTrainedModel', 'FlaxBertForMaskedLM', 'FlaxBertForMultipleChoice', 'FlaxBertForNextSentencePrediction', 'FlaxBertForPreTraining', 'FlaxBertForQuestionAnswering', 'FlaxBertForSequenceClassification', 'FlaxBertForTokenClassification', 'FlaxBertModel', 'FlaxBertPreTrainedModel', 'FlaxBigBirdForMaskedLM', 'FlaxBigBirdForMultipleChoice', 'FlaxBigBirdForPreTraining', 'FlaxBigBirdForQuestionAnswering', 'FlaxBigBirdForSequenceClassification', 'FlaxBigBirdForTokenClassification', 'FlaxBigBirdModel', 'FlaxBigBirdPreTrainedModel', 'FlaxCLIPModel', 'FlaxCLIPPreTrainedModel', 'FlaxCLIPTextModel', 'FlaxCLIPTextPreTrainedModel', 'FlaxCLIPVisionModel', 'FlaxCLIPVisionPreTrainedModel', 'FlaxElectraForMaskedLM', 'FlaxElectraForMultipleChoice', 'FlaxElectraForPreTraining', 'FlaxElectraForQuestionAnswering', 'FlaxElectraForSequenceClassification', 'FlaxElectraForTokenClassification', 'FlaxElectraModel', 'FlaxElectraPreTrainedModel', 'FlaxForcedBOSTokenLogitsProcessor', 'FlaxForcedEOSTokenLogitsProcessor', 'FlaxGPT2LMHeadModel', 'FlaxGPT2Model', 'FlaxGPT2PreTrainedModel', 'FlaxLogitsProcessor', 'FlaxLogitsProcessorList', 'FlaxLogitsWarper', 'FlaxMinLengthLogitsProcessor', 'FlaxPreTrainedModel', 'FlaxRobertaForMaskedLM', 'FlaxRobertaForMultipleChoice', 'FlaxRobertaForQuestionAnswering', 'FlaxRobertaForSequenceClassification', 'FlaxRobertaForTokenClassification', 'FlaxRobertaModel', 'FlaxRobertaPreTrainedModel', 'FlaxT5ForConditionalGeneration', 'FlaxT5Model', 'FlaxT5PreTrainedModel', 'FlaxTemperatureLogitsWarper', 'FlaxTopKLogitsWarper', 'FlaxTopPLogitsWarper', 'FlaxViTForImageClassification', 'FlaxViTModel', 'FlaxViTPreTrainedModel', 'ForcedBOSTokenLogitsProcessor', 'ForcedEOSTokenLogitsProcessor', 'FunnelBaseModel', 'FunnelConfig', 'FunnelForMaskedLM', 'FunnelForMultipleChoice', 'FunnelForPreTraining', 'FunnelForQuestionAnswering', 'FunnelForSequenceClassification', 'FunnelForTokenClassification', 'FunnelModel', 'FunnelPreTrainedModel', 'FunnelTokenizer', 'FunnelTokenizerFast', 'GPT2Config', 'GPT2DoubleHeadsModel', 'GPT2ForSequenceClassification', 'GPT2LMHeadModel', 'GPT2Model', 'GPT2PreTrainedModel', 'GPT2Tokenizer', 'GPT2TokenizerFast', 'GPT2_PRETRAINED_CONFIG_ARCHIVE_MAP', 'GPT2_PRETRAINED_MODEL_ARCHIVE_LIST', 'GPTNeoConfig', 'GPTNeoForCausalLM', 'GPTNeoForSequenceClassification', 'GPTNeoModel', 'GPTNeoPreTrainedModel', 'GPT_NEO_PRETRAINED_CONFIG_ARCHIVE_MAP', 'GPT_NEO_PRETRAINED_MODEL_ARCHIVE_LIST', 'GlueDataTrainingArguments', 'GlueDataset', 'GradientAccumulator', 'HUBERT_PRETRAINED_CONFIG_ARCHIVE_MAP', 'HUBERT_PRETRAINED_MODEL_ARCHIVE_LIST', 'HammingDiversityLogitsProcessor', 'HerbertTokenizer', 'HerbertTokenizerFast', 'HfArgumentParser', 'HubertConfig', 'HubertForCTC', 'HubertModel', 'HubertPreTrainedModel', 'IBERT_PRETRAINED_CONFIG_ARCHIVE_MAP', 'IBERT_PRETRAINED_MODEL_ARCHIVE_LIST', 'IBertConfig', 'IBertForMaskedLM', 'IBertForMultipleChoice', 'IBertForQuestionAnswering', 'IBertForSequenceClassification', 'IBertForTokenClassification', 'IBertModel', 'IBertPreTrainedModel', 'ImageClassificationPipeline', 'ImageFeatureExtractionMixin', 'InfNanRemoveLogitsProcessor', 'InputExample', 'InputFeatures', 'IntervalStrategy', 'JsonPipelineDataFormat', 'LAYOUTLM_PRETRAINED_CONFIG_ARCHIVE_MAP', 'LAYOUTLM_PRETRAINED_MODEL_ARCHIVE_LIST', 'LEDConfig', 'LEDForConditionalGeneration', 'LEDForQuestionAnswering', 'LEDForSequenceClassification', 'LEDModel', 'LEDPreTrainedModel', 'LEDTokenizer', 'LEDTokenizerFast', 'LED_PRETRAINED_CONFIG_ARCHIVE_MAP', 'LED_PRETRAINED_MODEL_ARCHIVE_LIST', 'LONGFORMER_PRETRAINED_CONFIG_ARCHIVE_MAP', 'LONGFORMER_PRETRAINED_MODEL_ARCHIVE_LIST', 'LUKE_PRETRAINED_CONFIG_ARCHIVE_MAP', 'LUKE_PRETRAINED_MODEL_ARCHIVE_LIST', 'LXMERT_PRETRAINED_CONFIG_ARCHIVE_MAP', 'LayoutLMConfig', 'LayoutLMForMaskedLM', 'LayoutLMForSequenceClassification', 'LayoutLMForTokenClassification', 'LayoutLMModel', 'LayoutLMPreTrainedModel', 'LayoutLMTokenizer', 'LayoutLMTokenizerFast', 'LineByLineTextDataset', 'LineByLineWithRefDataset', 'LineByLineWithSOPTextDataset', 'LogitsProcessor', 'LogitsProcessorList', 'LogitsWarper', 'LongformerConfig', 'LongformerForMaskedLM', 'LongformerForMultipleChoice', 'LongformerForQuestionAnswering', 'LongformerForSequenceClassification', 'LongformerForTokenClassification', 'LongformerModel', 'LongformerPreTrainedModel', 'LongformerSelfAttention', 'LongformerTokenizer', 'LongformerTokenizerFast', 'LukeConfig', 'LukeForEntityClassification', 'LukeForEntityPairClassification', 'LukeForEntitySpanClassification', 'LukeModel', 'LukePreTrainedModel', 'LukeTokenizer', 'LxmertConfig', 'LxmertEncoder', 'LxmertForPreTraining', 'LxmertForQuestionAnswering', 'LxmertModel', 'LxmertPreTrainedModel', 'LxmertTokenizer', 'LxmertTokenizerFast', 'LxmertVisualFeatureEncoder', 'LxmertXLayer', 'M2M100Config', 'M2M100ForConditionalGeneration', 'M2M100Model', 'M2M100PreTrainedModel', 'M2M100Tokenizer', 'M2M_100_PRETRAINED_CONFIG_ARCHIVE_MAP', 'M2M_100_PRETRAINED_MODEL_ARCHIVE_LIST', 'MBart50Tokenizer', 'MBart50TokenizerFast', 'MBartConfig', 'MBartForCausalLM', 'MBartForConditionalGeneration', 'MBartForQuestionAnswering', 'MBartForSequenceClassification', 'MBartModel', 'MBartPreTrainedModel', 'MBartTokenizer', 'MBartTokenizerFast', 'MEGATRON_BERT_PRETRAINED_CONFIG_ARCHIVE_MAP', 'MEGATRON_BERT_PRETRAINED_MODEL_ARCHIVE_LIST', 'MMBTConfig', 'MMBTForClassification', 'MMBTModel', 'MOBILEBERT_PRETRAINED_CONFIG_ARCHIVE_MAP', 'MOBILEBERT_PRETRAINED_MODEL_ARCHIVE_LIST', 'MODEL_CARD_NAME', 'MODEL_FOR_CAUSAL_LM_MAPPING', 'MODEL_FOR_IMAGE_CLASSIFICATION_MAPPING', 'MODEL_FOR_MASKED_LM_MAPPING', 'MODEL_FOR_MULTIPLE_CHOICE_MAPPING', 'MODEL_FOR_NEXT_SENTENCE_PREDICTION_MAPPING', 'MODEL_FOR_OBJECT_DETECTION_MAPPING', 'MODEL_FOR_PRETRAINING_MAPPING', 'MODEL_FOR_QUESTION_ANSWERING_MAPPING', 'MODEL_FOR_SEQUENCE_CLASSIFICATION_MAPPING', 'MODEL_FOR_SEQ_TO_SEQ_CAUSAL_LM_MAPPING', 'MODEL_FOR_TABLE_QUESTION_ANSWERING_MAPPING', 'MODEL_FOR_TOKEN_CLASSIFICATION_MAPPING', 'MODEL_MAPPING', 'MODEL_NAMES_MAPPING', 'MODEL_WITH_LM_HEAD_MAPPING', 'MPNET_PRETRAINED_CONFIG_ARCHIVE_MAP', 'MPNET_PRETRAINED_MODEL_ARCHIVE_LIST', 'MPNetConfig', 'MPNetForMaskedLM', 'MPNetForMultipleChoice', 'MPNetForQuestionAnswering', 'MPNetForSequenceClassification', 'MPNetForTokenClassification', 'MPNetLayer', 'MPNetModel', 'MPNetPreTrainedModel', 'MPNetTokenizer', 'MPNetTokenizerFast', 'MT5Config', 'MT5EncoderModel', 'MT5ForConditionalGeneration', 'MT5Model', 'MT5Tokenizer', 'MT5TokenizerFast', 'MarianConfig', 'MarianForCausalLM', 'MarianMTModel', 'MarianModel', 'MarianTokenizer', 'MaxLengthCriteria', 'MaxTimeCriteria', 'MecabTokenizer', 'MegatronBertConfig', 'MegatronBertForCausalLM', 'MegatronBertForMaskedLM', 'MegatronBertForMultipleChoice', 'MegatronBertForNextSentencePrediction', 'MegatronBertForPreTraining', 'MegatronBertForQuestionAnswering', 'MegatronBertForSequenceClassification', 'MegatronBertForTokenClassification', 'MegatronBertModel', 'MegatronBertPreTrainedModel', 'MinLengthLogitsProcessor', 'MobileBertConfig', 'MobileBertForMaskedLM', 'MobileBertForMultipleChoice', 'MobileBertForNextSentencePrediction', 'MobileBertForPreTraining', 'MobileBertForQuestionAnswering', 'MobileBertForSequenceClassification', 'MobileBertForTokenClassification', 'MobileBertLayer', 'MobileBertModel', 'MobileBertPreTrainedModel', 'MobileBertTokenizer', 'MobileBertTokenizerFast', 'ModalEmbeddings', 'ModelCard', 'NerPipeline', 'NoBadWordsLogitsProcessor', 'NoRepeatNGramLogitsProcessor', 'OPENAI_GPT_PRETRAINED_CONFIG_ARCHIVE_MAP', 'OPENAI_GPT_PRETRAINED_MODEL_ARCHIVE_LIST', 'OpenAIGPTConfig', 'OpenAIGPTDoubleHeadsModel', 'OpenAIGPTForSequenceClassification', 'OpenAIGPTLMHeadModel', 'OpenAIGPTModel', 'OpenAIGPTPreTrainedModel', 'OpenAIGPTTokenizer', 'OpenAIGPTTokenizerFast', 'PROPHETNET_PRETRAINED_CONFIG_ARCHIVE_MAP', 'PROPHETNET_PRETRAINED_MODEL_ARCHIVE_LIST', 'PYTORCH_PRETRAINED_BERT_CACHE', 'PYTORCH_TRANSFORMERS_CACHE', 'PegasusConfig', 'PegasusForCausalLM', 'PegasusForConditionalGeneration', 'PegasusModel', 'PegasusPreTrainedModel', 'PegasusTokenizer', 'PegasusTokenizerFast', 'PhobertTokenizer', 'PipedPipelineDataFormat', 'Pipeline', 'PipelineDataFormat', 'PreTrainedModel', 'PreTrainedTokenizer', 'PreTrainedTokenizerBase', 'PreTrainedTokenizerFast', 'PrefixConstrainedLogitsProcessor', 'PretrainedBartModel', 'PretrainedConfig', 'PretrainedFSMTModel', 'PrinterCallback', 'ProgressCallback', 'ProphetNetConfig', 'ProphetNetDecoder', 'ProphetNetEncoder', 'ProphetNetForCausalLM', 'ProphetNetForConditionalGeneration', 'ProphetNetModel', 'ProphetNetPreTrainedModel', 'ProphetNetTokenizer', 'PyTorchBenchmark', 'PyTorchBenchmarkArguments', 'QuestionAnsweringPipeline', 'REFORMER_PRETRAINED_CONFIG_ARCHIVE_MAP', 'REFORMER_PRETRAINED_MODEL_ARCHIVE_LIST', 'RETRIBERT_PRETRAINED_CONFIG_ARCHIVE_MAP', 'RETRIBERT_PRETRAINED_MODEL_ARCHIVE_LIST', 'ROBERTA_PRETRAINED_CONFIG_ARCHIVE_MAP', 'ROBERTA_PRETRAINED_MODEL_ARCHIVE_LIST', 'ROFORMER_PRETRAINED_CONFIG_ARCHIVE_MAP', 'ROFORMER_PRETRAINED_MODEL_ARCHIVE_LIST', 'RagConfig', 'RagModel', 'RagPreTrainedModel', 'RagRetriever', 'RagSequenceForGeneration', 'RagTokenForGeneration', 'RagTokenizer', 'ReformerAttention', 'ReformerConfig', 'ReformerForMaskedLM', 'ReformerForQuestionAnswering', 'ReformerForSequenceClassification', 'ReformerLayer', 'ReformerModel', 'ReformerModelWithLMHead', 'ReformerPreTrainedModel', 'ReformerTokenizer', 'ReformerTokenizerFast', 'RepetitionPenaltyLogitsProcessor', 'RetriBertConfig', 'RetriBertModel', 'RetriBertPreTrainedModel', 'RetriBertTokenizer', 'RetriBertTokenizerFast', 'RoFormerConfig', 'RoFormerForCausalLM', 'RoFormerForMaskedLM', 'RoFormerForMultipleChoice', 'RoFormerForQuestionAnswering', 'RoFormerForSequenceClassification', 'RoFormerForTokenClassification', 'RoFormerLayer', 'RoFormerModel', 'RoFormerPreTrainedModel', 'RoFormerTokenizer', 'RoFormerTokenizerFast', 'RobertaConfig', 'RobertaForCausalLM', 'RobertaForMaskedLM', 'RobertaForMultipleChoice', 'RobertaForQuestionAnswering', 'RobertaForSequenceClassification', 'RobertaForTokenClassification', 'RobertaModel', 'RobertaPreTrainedModel', 'RobertaTokenizer', 'RobertaTokenizerFast', 'SLOW_TO_FAST_CONVERTERS', 'SPEECH_TO_TEXT_PRETRAINED_CONFIG_ARCHIVE_MAP', 'SPEECH_TO_TEXT_PRETRAINED_MODEL_ARCHIVE_LIST', 'SPIECE_UNDERLINE', 'SQUEEZEBERT_PRETRAINED_CONFIG_ARCHIVE_MAP', 'SQUEEZEBERT_PRETRAINED_MODEL_ARCHIVE_LIST', 'SchedulerType', 'Seq2SeqTrainer', 'Seq2SeqTrainingArguments', 'SequenceFeatureExtractor', 'SingleSentenceClassificationProcessor', 'SpecialTokensMixin', 'Speech2TextConfig', 'Speech2TextFeatureExtractor', 'Speech2TextForConditionalGeneration', 'Speech2TextModel', 'Speech2TextPreTrainedModel', 'Speech2TextProcessor', 'Speech2TextTokenizer', 'SquadDataTrainingArguments', 'SquadDataset', 'SquadExample', 'SquadFeatures', 'SquadV1Processor', 'SquadV2Processor', 'SqueezeBertConfig', 'SqueezeBertForMaskedLM', 'SqueezeBertForMultipleChoice', 'SqueezeBertForQuestionAnswering', 'SqueezeBertForSequenceClassification', 'SqueezeBertForTokenClassification', 'SqueezeBertModel', 'SqueezeBertModule', 'SqueezeBertPreTrainedModel', 'SqueezeBertTokenizer', 'SqueezeBertTokenizerFast', 'StoppingCriteria', 'StoppingCriteriaList', 'SummarizationPipeline', 'T5Config', 'T5EncoderModel', 'T5ForConditionalGeneration', 'T5Model', 'T5PreTrainedModel', 'T5Tokenizer', 'T5TokenizerFast', 'T5_PRETRAINED_CONFIG_ARCHIVE_MAP', 'T5_PRETRAINED_MODEL_ARCHIVE_LIST', 'TAPAS_PRETRAINED_CONFIG_ARCHIVE_MAP', 'TAPAS_PRETRAINED_MODEL_ARCHIVE_LIST', 'TF2_WEIGHTS_NAME', 'TFAdaptiveEmbedding', 'TFAlbertForMaskedLM', 'TFAlbertForMultipleChoice', 'TFAlbertForPreTraining', 'TFAlbertForQuestionAnswering', 'TFAlbertForSequenceClassification', 'TFAlbertForTokenClassification', 'TFAlbertMainLayer', 'TFAlbertModel', 'TFAlbertPreTrainedModel', 'TFAutoModel', 'TFAutoModelForCausalLM', 'TFAutoModelForMaskedLM', 'TFAutoModelForMultipleChoice', 'TFAutoModelForPreTraining', 'TFAutoModelForQuestionAnswering', 'TFAutoModelForSeq2SeqLM', 'TFAutoModelForSequenceClassification', 'TFAutoModelForTokenClassification', 'TFAutoModelWithLMHead', 'TFBartForConditionalGeneration', 'TFBartModel', 'TFBartPretrainedModel', 'TFBertEmbeddings', 'TFBertForMaskedLM', 'TFBertForMultipleChoice', 'TFBertForNextSentencePrediction', 'TFBertForPreTraining', 'TFBertForQuestionAnswering', 'TFBertForSequenceClassification', 'TFBertForTokenClassification', 'TFBertLMHeadModel', 'TFBertMainLayer', 'TFBertModel', 'TFBertPreTrainedModel', 'TFBlenderbotForConditionalGeneration', 'TFBlenderbotModel', 'TFBlenderbotPreTrainedModel', 'TFBlenderbotSmallForConditionalGeneration', 'TFBlenderbotSmallModel', 'TFBlenderbotSmallPreTrainedModel', 'TFCTRLForSequenceClassification', 'TFCTRLLMHeadModel', 'TFCTRLModel', 'TFCTRLPreTrainedModel', 'TFCamembertForMaskedLM', 'TFCamembertForMultipleChoice', 'TFCamembertForQuestionAnswering', 'TFCamembertForSequenceClassification', 'TFCamembertForTokenClassification', 'TFCamembertModel', 'TFConvBertForMaskedLM', 'TFConvBertForMultipleChoice', 'TFConvBertForQuestionAnswering', 'TFConvBertForSequenceClassification', 'TFConvBertForTokenClassification', 'TFConvBertLayer', 'TFConvBertModel', 'TFConvBertPreTrainedModel', 'TFDPRContextEncoder', 'TFDPRPretrainedContextEncoder', 'TFDPRPretrainedQuestionEncoder', 'TFDPRPretrainedReader', 'TFDPRQuestionEncoder', 'TFDPRReader', 'TFDistilBertForMaskedLM', 'TFDistilBertForMultipleChoice', 'TFDistilBertForQuestionAnswering', 'TFDistilBertForSequenceClassification', 'TFDistilBertForTokenClassification', 'TFDistilBertMainLayer', 'TFDistilBertModel', 'TFDistilBertPreTrainedModel', 'TFElectraForMaskedLM', 'TFElectraForMultipleChoice', 'TFElectraForPreTraining', 'TFElectraForQuestionAnswering', 'TFElectraForSequenceClassification', 'TFElectraForTokenClassification', 'TFElectraModel', 'TFElectraPreTrainedModel', 'TFFlaubertForMultipleChoice', 'TFFlaubertForQuestionAnsweringSimple', 'TFFlaubertForSequenceClassification', 'TFFlaubertForTokenClassification', 'TFFlaubertModel', 'TFFlaubertPreTrainedModel', 'TFFlaubertWithLMHeadModel', 'TFFunnelBaseModel', 'TFFunnelForMaskedLM', 'TFFunnelForMultipleChoice', 'TFFunnelForPreTraining', 'TFFunnelForQuestionAnswering', 'TFFunnelForSequenceClassification', 'TFFunnelForTokenClassification', 'TFFunnelModel', 'TFFunnelPreTrainedModel', 'TFGPT2DoubleHeadsModel', 'TFGPT2ForSequenceClassification', 'TFGPT2LMHeadModel', 'TFGPT2MainLayer', 'TFGPT2Model', 'TFGPT2PreTrainedModel', 'TFLEDForConditionalGeneration', 'TFLEDModel', 'TFLEDPreTrainedModel', 'TFLayoutLMForMaskedLM', 'TFLayoutLMForSequenceClassification', 'TFLayoutLMForTokenClassification', 'TFLayoutLMMainLayer', 'TFLayoutLMModel', 'TFLayoutLMPreTrainedModel', 'TFLongformerForMaskedLM', 'TFLongformerForMultipleChoice', 'TFLongformerForQuestionAnswering', 'TFLongformerForSequenceClassification', 'TFLongformerForTokenClassification', 'TFLongformerModel', 'TFLongformerPreTrainedModel', 'TFLongformerSelfAttention', 'TFLxmertForPreTraining', 'TFLxmertMainLayer', 'TFLxmertModel', 'TFLxmertPreTrainedModel', 'TFLxmertVisualFeatureEncoder', 'TFMBartForConditionalGeneration', 'TFMBartModel', 'TFMBartPreTrainedModel', 'TFMPNetForMaskedLM', 'TFMPNetForMultipleChoice', 'TFMPNetForQuestionAnswering', 'TFMPNetForSequenceClassification', 'TFMPNetForTokenClassification', 'TFMPNetMainLayer', 'TFMPNetModel', 'TFMPNetPreTrainedModel', 'TFMT5EncoderModel', 'TFMT5ForConditionalGeneration', 'TFMT5Model', 'TFMarianMTModel', 'TFMarianModel', 'TFMarianPreTrainedModel', 'TFMobileBertForMaskedLM', 'TFMobileBertForMultipleChoice', 'TFMobileBertForNextSentencePrediction', 'TFMobileBertForPreTraining', 'TFMobileBertForQuestionAnswering', 'TFMobileBertForSequenceClassification', 'TFMobileBertForTokenClassification', 'TFMobileBertMainLayer', 'TFMobileBertModel', 'TFMobileBertPreTrainedModel', 'TFOpenAIGPTDoubleHeadsModel', 'TFOpenAIGPTForSequenceClassification', 'TFOpenAIGPTLMHeadModel', 'TFOpenAIGPTMainLayer', 'TFOpenAIGPTModel', 'TFOpenAIGPTPreTrainedModel', 'TFPegasusForConditionalGeneration', 'TFPegasusModel', 'TFPegasusPreTrainedModel', 'TFPreTrainedModel', 'TFRagModel', 'TFRagPreTrainedModel', 'TFRagSequenceForGeneration', 'TFRagTokenForGeneration', 'TFRoFormerForCausalLM', 'TFRoFormerForMaskedLM', 'TFRoFormerForMultipleChoice', 'TFRoFormerForQuestionAnswering', 'TFRoFormerForSequenceClassification', 'TFRoFormerForTokenClassification', 'TFRoFormerLayer', 'TFRoFormerModel', 'TFRoFormerPreTrainedModel', 'TFRobertaForMaskedLM', 'TFRobertaForMultipleChoice', 'TFRobertaForQuestionAnswering', 'TFRobertaForSequenceClassification', 'TFRobertaForTokenClassification', 'TFRobertaMainLayer', 'TFRobertaModel', 'TFRobertaPreTrainedModel', 'TFSequenceSummary', 'TFSharedEmbeddings', 'TFT5EncoderModel', 'TFT5ForConditionalGeneration', 'TFT5Model', 'TFT5PreTrainedModel', 'TFTrainer', 'TFTrainingArguments', 'TFTransfoXLForSequenceClassification', 'TFTransfoXLLMHeadModel', 'TFTransfoXLMainLayer', 'TFTransfoXLModel', 'TFTransfoXLPreTrainedModel', 'TFWav2Vec2ForCTC', 'TFWav2Vec2Model', 'TFWav2Vec2PreTrainedModel', 'TFXLMForMultipleChoice', 'TFXLMForQuestionAnsweringSimple', 'TFXLMForSequenceClassification', 'TFXLMForTokenClassification', 'TFXLMMainLayer', 'TFXLMModel', 'TFXLMPreTrainedModel', 'TFXLMRobertaForMaskedLM', 'TFXLMRobertaForMultipleChoice', 'TFXLMRobertaForQuestionAnswering', 'TFXLMRobertaForSequenceClassification', 'TFXLMRobertaForTokenClassification', 'TFXLMRobertaModel', 'TFXLMWithLMHeadModel', 'TFXLNetForMultipleChoice', 'TFXLNetForQuestionAnsweringSimple', 'TFXLNetForSequenceClassification', 'TFXLNetForTokenClassification', 'TFXLNetLMHeadModel', 'TFXLNetMainLayer', 'TFXLNetModel', 'TFXLNetPreTrainedModel', 'TF_ALBERT_PRETRAINED_MODEL_ARCHIVE_LIST', 'TF_BERT_PRETRAINED_MODEL_ARCHIVE_LIST', 'TF_CAMEMBERT_PRETRAINED_MODEL_ARCHIVE_LIST', 'TF_CONVBERT_PRETRAINED_MODEL_ARCHIVE_LIST', 'TF_CTRL_PRETRAINED_MODEL_ARCHIVE_LIST', 'TF_DISTILBERT_PRETRAINED_MODEL_ARCHIVE_LIST', 'TF_DPR_CONTEXT_ENCODER_PRETRAINED_MODEL_ARCHIVE_LIST', 'TF_DPR_QUESTION_ENCODER_PRETRAINED_MODEL_ARCHIVE_LIST', 'TF_DPR_READER_PRETRAINED_MODEL_ARCHIVE_LIST', 'TF_ELECTRA_PRETRAINED_MODEL_ARCHIVE_LIST', 'TF_FLAUBERT_PRETRAINED_MODEL_ARCHIVE_LIST', 'TF_FUNNEL_PRETRAINED_MODEL_ARCHIVE_LIST', 'TF_GPT2_PRETRAINED_MODEL_ARCHIVE_LIST', 'TF_LAYOUTLM_PRETRAINED_MODEL_ARCHIVE_LIST', 'TF_LONGFORMER_PRETRAINED_MODEL_ARCHIVE_LIST', 'TF_LXMERT_PRETRAINED_MODEL_ARCHIVE_LIST', 'TF_MOBILEBERT_PRETRAINED_MODEL_ARCHIVE_LIST', 'TF_MODEL_FOR_CAUSAL_LM_MAPPING', 'TF_MODEL_FOR_MASKED_LM_MAPPING', 'TF_MODEL_FOR_MULTIPLE_CHOICE_MAPPING', 'TF_MODEL_FOR_NEXT_SENTENCE_PREDICTION_MAPPING', 'TF_MODEL_FOR_PRETRAINING_MAPPING', 'TF_MODEL_FOR_QUESTION_ANSWERING_MAPPING', 'TF_MODEL_FOR_SEQUENCE_CLASSIFICATION_MAPPING', 'TF_MODEL_FOR_SEQ_TO_SEQ_CAUSAL_LM_MAPPING', 'TF_MODEL_FOR_TOKEN_CLASSIFICATION_MAPPING', 'TF_MODEL_MAPPING', 'TF_MODEL_WITH_LM_HEAD_MAPPING', 'TF_MPNET_PRETRAINED_MODEL_ARCHIVE_LIST', 'TF_OPENAI_GPT_PRETRAINED_MODEL_ARCHIVE_LIST', 'TF_ROBERTA_PRETRAINED_MODEL_ARCHIVE_LIST', 'TF_ROFORMER_PRETRAINED_MODEL_ARCHIVE_LIST', 'TF_T5_PRETRAINED_MODEL_ARCHIVE_LIST', 'TF_TRANSFO_XL_PRETRAINED_MODEL_ARCHIVE_LIST', 'TF_WAV_2_VEC_2_PRETRAINED_MODEL_ARCHIVE_LIST', 'TF_WEIGHTS_NAME', 'TF_XLM_PRETRAINED_MODEL_ARCHIVE_LIST', 'TF_XLM_ROBERTA_PRETRAINED_MODEL_ARCHIVE_LIST', 'TF_XLNET_PRETRAINED_MODEL_ARCHIVE_LIST', 'TOKENIZER_MAPPING', 'TRANSFORMERS_CACHE', 'TRANSFO_XL_PRETRAINED_CONFIG_ARCHIVE_MAP', 'TRANSFO_XL_PRETRAINED_MODEL_ARCHIVE_LIST', 'TableQuestionAnsweringPipeline', 'TapasConfig', 'TapasForMaskedLM', 'TapasForQuestionAnswering', 'TapasForSequenceClassification', 'TapasModel', 'TapasPreTrainedModel', 'TapasTokenizer', 'TemperatureLogitsWarper', 'TensorFlowBenchmark', 'TensorFlowBenchmarkArguments', 'TensorType', 'Text2TextGenerationPipeline', 'TextClassificationPipeline', 'TextDataset', 'TextDatasetForNextSentencePrediction', 'TextGenerationPipeline', 'TokenClassificationPipeline', 'TokenSpan', 'TopKLogitsWarper', 'TopPLogitsWarper', 'Trainer', 'TrainerCallback', 'TrainerControl', 'TrainerState', 'TrainingArguments', 'TransfoXLConfig', 'TransfoXLCorpus', 'TransfoXLForSequenceClassification', 'TransfoXLLMHeadModel', 'TransfoXLModel', 'TransfoXLPreTrainedModel', 'TransfoXLTokenizer', 'TranslationPipeline', 'VISUAL_BERT_PRETRAINED_CONFIG_ARCHIVE_MAP', 'VISUAL_BERT_PRETRAINED_MODEL_ARCHIVE_LIST', 'VIT_PRETRAINED_CONFIG_ARCHIVE_MAP', 'VIT_PRETRAINED_MODEL_ARCHIVE_LIST', 'ViTConfig', 'ViTFeatureExtractor', 'ViTForImageClassification', 'ViTModel', 'ViTPreTrainedModel', 'VisualBertConfig', 'VisualBertForMultipleChoice', 'VisualBertForPreTraining', 'VisualBertForQuestionAnswering', 'VisualBertForRegionToPhraseAlignment', 'VisualBertForVisualReasoning', 'VisualBertLayer', 'VisualBertModel', 'VisualBertPreTrainedModel', 'WAV_2_VEC_2_PRETRAINED_CONFIG_ARCHIVE_MAP', 'WAV_2_VEC_2_PRETRAINED_MODEL_ARCHIVE_LIST', 'WEIGHTS_NAME', 'WarmUp', 'Wav2Vec2CTCTokenizer', 'Wav2Vec2Config', 'Wav2Vec2FeatureExtractor', 'Wav2Vec2ForCTC', 'Wav2Vec2ForMaskedLM', 'Wav2Vec2ForPreTraining', 'Wav2Vec2Model', 'Wav2Vec2PreTrainedModel', 'Wav2Vec2Processor', 'Wav2Vec2Tokenizer', 'WordpieceTokenizer', 'XLMConfig', 'XLMForMultipleChoice', 'XLMForQuestionAnswering', 'XLMForQuestionAnsweringSimple', 'XLMForSequenceClassification', 'XLMForTokenClassification', 'XLMModel', 'XLMPreTrainedModel', 'XLMProphetNetConfig', 'XLMProphetNetDecoder', 'XLMProphetNetEncoder', 'XLMProphetNetForCausalLM', 'XLMProphetNetForConditionalGeneration', 'XLMProphetNetModel', 'XLMProphetNetTokenizer', 'XLMRobertaConfig', 'XLMRobertaForCausalLM', 'XLMRobertaForMaskedLM', 'XLMRobertaForMultipleChoice', 'XLMRobertaForQuestionAnswering', 'XLMRobertaForSequenceClassification', 'XLMRobertaForTokenClassification', 'XLMRobertaModel', 'XLMRobertaTokenizer', 'XLMRobertaTokenizerFast', 'XLMTokenizer', 'XLMWithLMHeadModel', 'XLM_PRETRAINED_CONFIG_ARCHIVE_MAP', 'XLM_PRETRAINED_MODEL_ARCHIVE_LIST', 'XLM_PROPHETNET_PRETRAINED_CONFIG_ARCHIVE_MAP', 'XLM_PROPHETNET_PRETRAINED_MODEL_ARCHIVE_LIST', 'XLM_ROBERTA_PRETRAINED_CONFIG_ARCHIVE_MAP', 'XLM_ROBERTA_PRETRAINED_MODEL_ARCHIVE_LIST', 'XLNET_PRETRAINED_CONFIG_ARCHIVE_MAP', 'XLNET_PRETRAINED_MODEL_ARCHIVE_LIST', 'XLNetConfig', 'XLNetForMultipleChoice', 'XLNetForQuestionAnswering', 'XLNetForQuestionAnsweringSimple', 'XLNetForSequenceClassification', 'XLNetForTokenClassification', 'XLNetLMHeadModel', 'XLNetModel', 'XLNetPreTrainedModel', 'XLNetTokenizer', 'XLNetTokenizerFast', 'ZeroShotClassificationPipeline', '__all__', '__doc__', '__loader__', '__name__', '__package__', '__spec__', '_class_to_module', '_modules', 'add_end_docstrings', 'add_start_docstrings', 'apply_chunking_to_forward', 'benchmark.benchmark', 'benchmark.benchmark_args', 'cached_path', 'configuration_utils', 'convert_slow_tokenizer', 'convert_tf_weight_name_to_pt_weight_name', 'create_optimizer', 'data', 'data.data_collator', 'data.datasets', 'default_data_collator', 'feature_extraction_sequence_utils', 'file_utils', 'generation_beam_search', 'generation_logits_process', 'generation_stopping_criteria', 'generation_utils', 'get_constant_schedule', 'get_constant_schedule_with_warmup', 'get_cosine_schedule_with_warmup', 'get_cosine_with_hard_restarts_schedule_with_warmup', 'get_linear_schedule_with_warmup', 'get_polynomial_decay_schedule_with_warmup', 'get_scheduler', 'glue_compute_metrics', 'glue_convert_examples_to_features', 'glue_output_modes', 'glue_processors', 'glue_tasks_num_labels', 'hf_argparser', 'image_utils', 'integrations', 'is_apex_available', 'is_comet_available', 'is_datasets_available', 'is_faiss_available', 'is_flax_available', 'is_optuna_available', 'is_psutil_available', 'is_py3nvml_available', 'is_ray_available', 'is_ray_tune_available', 'is_scipy_available', 'is_sentencepiece_available', 'is_sklearn_available', 'is_speech_available', 'is_tensorboard_available', 'is_tf_available', 'is_timm_available', 'is_tokenizers_available', 'is_torch_available', 'is_torch_tpu_available', 'is_vision_available', 'is_wandb_available', 'load_pytorch_checkpoint_in_tf2_model', 'load_pytorch_model_in_tf2_model', 'load_pytorch_weights_in_tf2_model', 'load_tf2_checkpoint_in_pytorch_model', 'load_tf2_model_in_pytorch_model', 'load_tf2_weights_in_pytorch_model', 'load_tf_weights_in_albert', 'load_tf_weights_in_bert', 'load_tf_weights_in_bert_generation', 'load_tf_weights_in_big_bird', 'load_tf_weights_in_convbert', 'load_tf_weights_in_electra', 'load_tf_weights_in_funnel', 'load_tf_weights_in_gpt2', 'load_tf_weights_in_gpt_neo', 'load_tf_weights_in_mobilebert', 'load_tf_weights_in_openai_gpt', 'load_tf_weights_in_roformer', 'load_tf_weights_in_t5', 'load_tf_weights_in_transfo_xl', 'load_tf_weights_in_xlnet', 'logging', 'modelcard', 'modeling_tf_pytorch_utils', 'modeling_utils', 'models', 'models.albert', 'models.auto', 'models.bart', 'models.barthez', 'models.bert', 'models.bert_generation', 'models.bert_japanese', 'models.bertweet', 'models.big_bird', 'models.bigbird_pegasus', 'models.blenderbot', 'models.blenderbot_small', 'models.byt5', 'models.camembert', 'models.clip', 'models.convbert', 'models.cpm', 'models.ctrl', 'models.deberta', 'models.deberta_v2', 'models.deit', 'models.detr', 'models.distilbert', 'models.dpr', 'models.electra', 'models.encoder_decoder', 'models.flaubert', 'models.fsmt', 'models.funnel', 'models.gpt2', 'models.gpt_neo', 'models.herbert', 'models.hubert', 'models.ibert', 'models.layoutlm', 'models.led', 'models.longformer', 'models.luke', 'models.lxmert', 'models.m2m_100', 'models.marian', 'models.mbart', 'models.megatron_bert', 'models.mmbt', 'models.mobilebert', 'models.mpnet', 'models.mt5', 'models.openai', 'models.pegasus', 'models.phobert', 'models.prophetnet', 'models.rag', 'models.reformer', 'models.retribert', 'models.roberta', 'models.roformer', 'models.speech_to_text', 'models.squeezebert', 'models.t5', 'models.tapas', 'models.transfo_xl', 'models.visual_bert', 'models.vit', 'models.wav2vec2', 'models.xlm', 'models.xlm_prophetnet', 'models.xlm_roberta', 'models.xlnet', 'optimization', 'pipeline', 'pipelines', 'prune_layer', 'requires_backends', 'requires_backends', 'requires_backends', 'requires_backends', 'requires_backends', 'requires_backends', 'requires_backends', 'set_seed', 'shape_list', 'squad_convert_examples_to_features', 'tf_top_k_top_p_filtering', 'tokenization_utils', 'tokenization_utils_base', 'tokenization_utils_fast', 'top_k_top_p_filtering', 'torch_distributed_zero_first', 'trainer', 'trainer_callback', 'trainer_pt_utils', 'trainer_seq2seq', 'trainer_utils', 'training_args', 'training_args_seq2seq', 'training_args_tf', 'utils', 'utils.dummy_flax_objects', 'utils.dummy_sentencepiece_and_speech_objects', 'utils.dummy_sentencepiece_and_tokenizers_objects', 'utils.dummy_sentencepiece_objects', 'utils.dummy_speech_objects', 'utils.dummy_tf_objects', 'utils.dummy_timm_objects', 'xnli_compute_metrics', 'xnli_output_modes', 'xnli_processors', 'xnli_tasks_num_labels']\n"
     ]
    }
   ],
   "source": [
    "print(dir(transformers))"
   ]
  },
  {
   "cell_type": "code",
   "execution_count": 22,
   "metadata": {},
   "outputs": [],
   "source": [
    "from transformers import pipeline\n",
    "classifier = pipeline(\"sentiment-analysis\")"
   ]
  },
  {
   "cell_type": "code",
   "execution_count": 23,
   "metadata": {},
   "outputs": [
    {
     "data": {
      "text/plain": [
       "[{'label': 'POSITIVE', 'score': 0.9450945854187012}]"
      ]
     },
     "execution_count": 23,
     "metadata": {},
     "output_type": "execute_result"
    }
   ],
   "source": [
    "classifier(\"I've been waiting for a course my whole life.\")"
   ]
  },
  {
   "cell_type": "code",
   "execution_count": 24,
   "metadata": {},
   "outputs": [
    {
     "data": {
      "text/plain": [
       "[{'label': 'POSITIVE', 'score': 0.9598048329353333},\n",
       " {'label': 'NEGATIVE', 'score': 0.9994558095932007}]"
      ]
     },
     "execution_count": 24,
     "metadata": {},
     "output_type": "execute_result"
    }
   ],
   "source": [
    "classifier([\n",
    "    \"I've been waiting for a HuggingFace course my whole life.\", \n",
    "    \"I hate this so much!\"\n",
    "])"
   ]
  },
  {
   "cell_type": "code",
   "execution_count": 25,
   "metadata": {},
   "outputs": [
    {
     "data": {
      "application/vnd.jupyter.widget-view+json": {
       "model_id": "7c3e50ffb142473fab689fea3f62f22f",
       "version_major": 2,
       "version_minor": 0
      },
      "text/plain": [
       "HBox(children=(HTML(value='Downloading'), FloatProgress(value=0.0, max=1154.0), HTML(value='')))"
      ]
     },
     "metadata": {},
     "output_type": "display_data"
    },
    {
     "name": "stdout",
     "output_type": "stream",
     "text": [
      "\n"
     ]
    },
    {
     "data": {
      "application/vnd.jupyter.widget-view+json": {
       "model_id": "a9367c2eb7d144e0821ac0fa36b5d19c",
       "version_major": 2,
       "version_minor": 0
      },
      "text/plain": [
       "HBox(children=(HTML(value='Downloading'), FloatProgress(value=0.0, max=1629486723.0), HTML(value='')))"
      ]
     },
     "metadata": {},
     "output_type": "display_data"
    },
    {
     "name": "stdout",
     "output_type": "stream",
     "text": [
      "\n"
     ]
    },
    {
     "data": {
      "application/vnd.jupyter.widget-view+json": {
       "model_id": "3ca4028f69e94fc1ae7e117dddac454a",
       "version_major": 2,
       "version_minor": 0
      },
      "text/plain": [
       "HBox(children=(HTML(value='Downloading'), FloatProgress(value=0.0, max=26.0), HTML(value='')))"
      ]
     },
     "metadata": {},
     "output_type": "display_data"
    },
    {
     "name": "stdout",
     "output_type": "stream",
     "text": [
      "\n"
     ]
    },
    {
     "data": {
      "application/vnd.jupyter.widget-view+json": {
       "model_id": "6b739927336c46a9b4271b6dfebedfc6",
       "version_major": 2,
       "version_minor": 0
      },
      "text/plain": [
       "HBox(children=(HTML(value='Downloading'), FloatProgress(value=0.0, max=898822.0), HTML(value='')))"
      ]
     },
     "metadata": {},
     "output_type": "display_data"
    },
    {
     "name": "stdout",
     "output_type": "stream",
     "text": [
      "\n"
     ]
    },
    {
     "data": {
      "application/vnd.jupyter.widget-view+json": {
       "model_id": "738aecacde804724a3c1552741e3dd80",
       "version_major": 2,
       "version_minor": 0
      },
      "text/plain": [
       "HBox(children=(HTML(value='Downloading'), FloatProgress(value=0.0, max=456318.0), HTML(value='')))"
      ]
     },
     "metadata": {},
     "output_type": "display_data"
    },
    {
     "name": "stdout",
     "output_type": "stream",
     "text": [
      "\n"
     ]
    },
    {
     "data": {
      "application/vnd.jupyter.widget-view+json": {
       "model_id": "1ee1051f7e164a09afea6396bbd2b267",
       "version_major": 2,
       "version_minor": 0
      },
      "text/plain": [
       "HBox(children=(HTML(value='Downloading'), FloatProgress(value=0.0, max=1355863.0), HTML(value='')))"
      ]
     },
     "metadata": {},
     "output_type": "display_data"
    },
    {
     "name": "stdout",
     "output_type": "stream",
     "text": [
      "\n"
     ]
    }
   ],
   "source": [
    "zero = pipeline(\"zero-shot-classification\")"
   ]
  },
  {
   "cell_type": "code",
   "execution_count": 29,
   "metadata": {},
   "outputs": [
    {
     "data": {
      "text/plain": [
       "{'sequence': 'I have pain on left side',\n",
       " 'labels': ['arthritis', 'gout', 'pregnant'],\n",
       " 'scores': [0.6223249435424805, 0.3146713078022003, 0.06300368160009384]}"
      ]
     },
     "execution_count": 29,
     "metadata": {},
     "output_type": "execute_result"
    }
   ],
   "source": [
    "zero('I have pain on left side',candidate_labels=[\"gout\", \"arthritis\", \"pregnant\"])"
   ]
  },
  {
   "cell_type": "code",
   "execution_count": 31,
   "metadata": {},
   "outputs": [
    {
     "data": {
      "text/plain": [
       "{'sequence': '\"been feeling bad\" last 2 weeks & switched BP medications last week & worried about BP PMHx: CHF, HTN, gout, 3 strokes, DM',\n",
       " 'labels': ['gout', 'arthritis', 'pregnant'],\n",
       " 'scores': [0.9905892610549927, 0.007834453135728836, 0.0015763300471007824]}"
      ]
     },
     "execution_count": 31,
     "metadata": {},
     "output_type": "execute_result"
    }
   ],
   "source": [
    "zero(df['corpus'][0],candidate_labels=[\"gout\", \"arthritis\", \"pregnant\"])"
   ]
  },
  {
   "cell_type": "code",
   "execution_count": 33,
   "metadata": {},
   "outputs": [
    {
     "data": {
      "text/plain": [
       "{'score': 0.6344756484031677,\n",
       " 'start': 0,\n",
       " 'end': 17,\n",
       " 'answer': 'Diagnosis of gout'}"
      ]
     },
     "execution_count": 33,
     "metadata": {},
     "output_type": "execute_result"
    }
   ],
   "source": [
    "from transformers import pipeline\n",
    "\n",
    "question_answerer = pipeline(\"question-answering\")\n",
    "question_answerer(\n",
    "    question=df['corpus'][0],\n",
    "    context=\"Diagnosis of gout?\"\n",
    ")"
   ]
  },
  {
   "cell_type": "code",
   "execution_count": 34,
   "metadata": {},
   "outputs": [
    {
     "name": "stderr",
     "output_type": "stream",
     "text": [
      "Setting `pad_token_id` to `eos_token_id`:50256 for open-end generation.\n",
      "Input length of input_ids is 35, but ``max_length`` is set to 30.This can lead to unexpected behavior. You should consider increasing ``config.max_length`` or ``max_length``.\n"
     ]
    },
    {
     "data": {
      "text/plain": [
       "[{'generated_text': '\"been feeling bad\" last 2 weeks & switched BP medications last week & worried about BP PMHx: CHF, HTN, gout, 3 strokes, DMF'},\n",
       " {'generated_text': '\"been feeling bad\" last 2 weeks & switched BP medications last week & worried about BP PMHx: CHF, HTN, gout, 3 strokes, DMH'}]"
      ]
     },
     "execution_count": 34,
     "metadata": {},
     "output_type": "execute_result"
    }
   ],
   "source": [
    "generator = pipeline(\"text-generation\", model=\"distilgpt2\")\n",
    "generator(\n",
    "    df['corpus'][0],\n",
    "    max_length=30,\n",
    "    num_return_sequences=2,\n",
    ")"
   ]
  },
  {
   "cell_type": "code",
   "execution_count": null,
   "metadata": {},
   "outputs": [],
   "source": []
  }
 ],
 "metadata": {
  "kernelspec": {
   "display_name": "Python 3",
   "language": "python",
   "name": "python3"
  },
  "language_info": {
   "codemirror_mode": {
    "name": "ipython",
    "version": 3
   },
   "file_extension": ".py",
   "mimetype": "text/x-python",
   "name": "python",
   "nbconvert_exporter": "python",
   "pygments_lexer": "ipython3",
   "version": "3.8.5"
  },
  "toc": {
   "base_numbering": 1,
   "nav_menu": {},
   "number_sections": true,
   "sideBar": true,
   "skip_h1_title": false,
   "title_cell": "Table of Contents",
   "title_sidebar": "Contents",
   "toc_cell": false,
   "toc_position": {},
   "toc_section_display": true,
   "toc_window_display": false
  }
 },
 "nbformat": 4,
 "nbformat_minor": 4
}

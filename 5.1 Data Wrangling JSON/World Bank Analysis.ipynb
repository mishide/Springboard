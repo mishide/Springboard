{
 "cells": [
  {
   "cell_type": "markdown",
   "metadata": {},
   "source": [
    "# <span style='font-family:sans-serif'> **World Bank Data Analysis**"
   ]
  },
  {
   "cell_type": "markdown",
   "metadata": {},
   "source": [
    "  <span style='font-family:sans-serif'>This project uses a multi-nested JSON file called 'World Bank Project' to perform a few analysis on the projects funded by world bank.  Every country that has projects is listed, some countries can have more than 1 project.   \n",
    "    \n",
    "    The analysis requested include\n",
    "    \n",
    "    1 Top 10 countries with the most projects  \n",
    "    2 10 most frequent projects lists  \n",
    "    3 fill empty values for project names"
   ]
  },
  {
   "cell_type": "markdown",
   "metadata": {},
   "source": [
    "### <span style='font-family:sans-serif'> Top 10 countries with the most projects\n",
    "    This code loads the json data file from world bank projects into a dataframe, groups, counts, and sorts the data on the country name and displays the first 10.  "
   ]
  },
  {
   "cell_type": "code",
   "execution_count": 4,
   "metadata": {},
   "outputs": [
    {
     "name": "stdout",
     "output_type": "stream",
     "text": [
      "              Country  Number of Projects\n",
      "0               China                  19\n",
      "1           Indonesia                  19\n",
      "2             Vietnam                  17\n",
      "3               India                  16\n",
      "4  Yemen, Republic of                  13\n",
      "5               Nepal                  12\n",
      "6          Bangladesh                  12\n",
      "7             Morocco                  12\n",
      "8          Mozambique                  11\n",
      "9              Africa                  11\n"
     ]
    }
   ],
   "source": [
    "  #The JSON file is placed in a dataframe 'sample_json_df'\n",
    "\n",
    "import json, pandas as pd\n",
    "json.load((open('world_bank_projects.json')))\n",
    "sample_json_df = pd.read_json('world_bank_projects.json')  \n",
    "\n",
    "  #changed the column names to reflect information to be displayed\n",
    "    \n",
    "sample_json_df.rename(columns = {'countryshortname':'Country','status':'Number of Projects'}, inplace=True)\n",
    "\n",
    "  #Aggregate by'Country' and display in order of number of projects\n",
    "    \n",
    "json_df = sample_json_df.groupby('Country').count().sort_values('Number of Projects', ascending = False).reset_index()\n",
    "\n",
    "  #display top 10 only\n",
    "print(json_df[['Country','Number of Projects']].head(10))"
   ]
  },
  {
   "cell_type": "markdown",
   "metadata": {},
   "source": [
    "\n",
    "\n",
    "\n",
    "### <span style='font-family:sans-serif'> 10 most frequent projects\n",
    "    \n",
    "    \n",
    "    Here we load the JSON into a normalized dataframe and using the 'mjtheme-namecode' column, counts the 10 most frequent projects."
   ]
  },
  {
   "cell_type": "code",
   "execution_count": 5,
   "metadata": {},
   "outputs": [
    {
     "name": "stdout",
     "output_type": "stream",
     "text": [
      "   code                                          name  count\n",
      "0     1                                                    5\n",
      "1     8                                                   13\n",
      "2     7                                                   11\n",
      "3     6                                                   10\n",
      "4     5                                                    5\n",
      "5     9                                                    3\n",
      "6     3                                                    3\n",
      "7     4                                                   16\n",
      "8     2                                                   15\n",
      "9    11                                                   27\n",
      "10   10                                                   14\n",
      "11    1                           Economic management     33\n",
      "12   11  Environment and natural resources management    223\n",
      "13    4      Financial and private sector development    130\n",
      "14    8                             Human development    197\n",
      "15    2                      Public sector governance    184\n",
      "16    3                                   Rule of law     12\n",
      "17   10                             Rural development    202\n",
      "18    7                   Social dev/gender/inclusion    119\n",
      "19    6         Social protection and risk management    158\n",
      "20    5                         Trade and integration     72\n",
      "21    9                             Urban development     47\n",
      "   code  name  count\n",
      "0    11   250    250\n",
      "1    10   216    216\n",
      "2     8   210    210\n",
      "3     2   199    199\n",
      "4     6   168    168\n",
      "5     4   146    146\n",
      "6     7   130    130\n",
      "7     5    77     77\n",
      "8     9    50     50\n",
      "9     1    38     38\n",
      "10    3    15     15\n"
     ]
    }
   ],
   "source": [
    "  #Load JSON data\n",
    "  #Read JSON data into normalized dataframe\n",
    "\n",
    "import json, pandas as pd\n",
    "from pandas.io.json import json_normalize\n",
    "df = json.load((open('world_bank_projects.json')))\n",
    "df = json_normalize(df, record_path=['mjtheme_namecode'])\n",
    "\n",
    "  #add a column to aggregate\n",
    "df = df.assign(count = 1)\n",
    "\n",
    "  #aggregate and print the name's and code # of all projects\n",
    "print(df.groupby(['code', 'name']).agg('count').sort_values('name', ascending = True).reset_index())\n",
    "\n",
    "  #the empty 'name' values cannot aggregate properly - the quick workaround is to count by 'code'\n",
    "  #this gives an accurate count of projects but requires manually connecting the name of the project\n",
    "  #the next step fixes this issue\n",
    "print(df.groupby(['code']).agg('count').sort_values('count', ascending = False).reset_index())"
   ]
  },
  {
   "cell_type": "markdown",
   "metadata": {},
   "source": [
    "### <span style='font-family:sans-serif'> Fill empty values for project names\n",
    "    Here we use the normalized dataframe, deep copy to reference 'mjtheme_namecode' to fill correct names to all rows, basically remapping the name in from the new dictionary to fill blanks."
   ]
  },
  {
   "cell_type": "code",
   "execution_count": 6,
   "metadata": {},
   "outputs": [
    {
     "name": "stdout",
     "output_type": "stream",
     "text": [
      "   code                                          name  count\n",
      "0     3                                   Rule of law     15\n",
      "1     1                           Economic management     38\n",
      "2     9                             Urban development     50\n",
      "3     5                         Trade and integration     77\n",
      "4     7                   Social dev/gender/inclusion    130\n",
      "5     4      Financial and private sector development    146\n",
      "6     6         Social protection and risk management    168\n",
      "7     2                      Public sector governance    199\n",
      "8     8                             Human development    210\n",
      "9    10                             Rural development    216\n",
      "10   11  Environment and natural resources management    250\n"
     ]
    }
   ],
   "source": [
    "  #below the problem from 1.2 is re-ran using the dataframe with all names filled\n",
    "    \n",
    "  #load a new instance of the dataframe\n",
    "df = json.load((open('world_bank_projects.json')))\n",
    "df = json_normalize(df, record_path=['mjtheme_namecode'])\n",
    "\n",
    "  #create dictionary copy of dataframe & map(overwrite)'name' values\n",
    "dfNew = df.copy(deep = True)\n",
    "dfNew = dfNew[dfNew.name != \"\"]\n",
    "dfNew = dfNew.drop_duplicates()\n",
    "dfNew = dfNew.set_index('code')\n",
    "dfNew = dict(dfNew)\n",
    "df['name'] = df['code'].map(dfNew['name'])    \n",
    "\n",
    "  #count projects and display with code's and name's\n",
    "df = df.assign(count = 1)\n",
    "print(df.groupby(['code', 'name']).agg('count').sort_values('count', ascending = True).reset_index())"
   ]
  }
 ],
 "metadata": {
  "kernelspec": {
   "display_name": "Python 3",
   "language": "python",
   "name": "python3"
  },
  "language_info": {
   "codemirror_mode": {
    "name": "ipython",
    "version": 3
   },
   "file_extension": ".py",
   "mimetype": "text/x-python",
   "name": "python",
   "nbconvert_exporter": "python",
   "pygments_lexer": "ipython3",
   "version": "3.7.4"
  },
  "toc": {
   "base_numbering": 1,
   "nav_menu": {
    "height": "69px",
    "width": "312px"
   },
   "number_sections": true,
   "sideBar": true,
   "skip_h1_title": true,
   "title_cell": "Table of Contents",
   "title_sidebar": "Contents",
   "toc_cell": false,
   "toc_position": {
    "height": "789px",
    "left": "1167px",
    "top": "139px",
    "width": "384px"
   },
   "toc_section_display": true,
   "toc_window_display": true
  }
 },
 "nbformat": 4,
 "nbformat_minor": 2
}

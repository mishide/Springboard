{
 "cells": [
  {
   "cell_type": "markdown",
   "metadata": {},
   "source": [
    "# CAPSTONE 1 -  MACHINE LEARNING MODELS"
   ]
  },
  {
   "cell_type": "markdown",
   "metadata": {},
   "source": [
    "This project has 6 quantitative features with a single target containing 2 classes, Normal and Abnormal\n",
    "\n",
    "\n",
    "\n",
    "0 = Normal of which there are 209 total  \n",
    "1 = Abnormal of which there are 100 total\n",
    "\n",
    "30% of the data is stratisfied into a test set due to the unbalanced nature of the set\n",
    "\n",
    "Resampling is performed with both ADASYN and SMOTE, SMOTE preferred due to the sparse distribution of the minority class, however, not knowing the desired recall balance or bias, ADASYN may be preferred to ensure extreme precision for Normal or Abnormal bias.\n",
    "\n",
    "Accuracy is measured and compared on the Recall, Precision, and F1, along with plots of ROC and confusion matrix\n",
    "\n",
    "A summary of the results allows for selection of the best model dependent on prerred recall.\n",
    "\n",
    "It was a pleasure tuning these machines, feel free to send comments to my email:  mconsultant@protonmail.com\n"
   ]
  },
  {
   "cell_type": "code",
   "execution_count": 1,
   "metadata": {},
   "outputs": [],
   "source": [
    "import pandas as pd\n",
    "import numpy as np\n",
    "import matplotlib.pyplot as plt\n",
    "import seaborn as sns\n",
    "\n",
    "# Models\n",
    "from sklearn.linear_model import LogisticRegression\n",
    "from sklearn.neighbors import KNeighborsClassifier\n",
    "from sklearn.ensemble import RandomForestClassifier, GradientBoostingClassifier \n",
    "from sklearn.naive_bayes import GaussianNB\n",
    "from sklearn.svm import SVC\n",
    "from sklearn.discriminant_analysis import LinearDiscriminantAnalysis\n",
    "\n",
    "# Machine modeling tools\n",
    "from sklearn import model_selection\n",
    "from sklearn.model_selection import train_test_split, GridSearchCV, KFold\n",
    "from imblearn.pipeline import make_pipeline, Pipeline\n",
    "from sklearn.preprocessing import StandardScaler\n",
    "from imblearn.over_sampling import ADASYN, SMOTE\n",
    "\n",
    "# Scoring\n",
    "from sklearn import metrics\n",
    "from sklearn.metrics import f1_score, classification_report, confusion_matrix \n",
    "from sklearn.metrics import roc_curve, roc_auc_score, confusion_matrix,recall_score"
   ]
  },
  {
   "cell_type": "markdown",
   "metadata": {},
   "source": [
    "#### Import data variables"
   ]
  },
  {
   "cell_type": "code",
   "execution_count": 2,
   "metadata": {},
   "outputs": [
    {
     "data": {
      "text/plain": [
       "<bound method DataFrame.info of      incidence       tilt      angle      slope      radius     degree\n",
       "0    63.027818  22.552586  39.609117  40.475232   98.672917  -0.254400\n",
       "1    39.056951  10.060991  25.015378  28.995960  114.405425   4.564259\n",
       "2    68.832021  22.218482  50.092194  46.613539  105.985135  -3.530317\n",
       "3    69.297008  24.652878  44.311238  44.644130  101.868495  11.211523\n",
       "4    49.712859   9.652075  28.317406  40.060784  108.168725   7.918501\n",
       "..         ...        ...        ...        ...         ...        ...\n",
       "304  47.903565  13.616688  36.000000  34.286877  117.449062  -4.245395\n",
       "305  53.936748  20.721496  29.220534  33.215251  114.365845  -0.421010\n",
       "306  61.446597  22.694968  46.170347  38.751628  125.670725  -2.707880\n",
       "307  45.252792   8.693157  41.583126  36.559635  118.545842   0.214750\n",
       "308  33.841641   5.073991  36.641233  28.767649  123.945244  -0.199249\n",
       "\n",
       "[309 rows x 6 columns]>"
      ]
     },
     "execution_count": 2,
     "metadata": {},
     "output_type": "execute_result"
    }
   ],
   "source": [
    "X = pd.read_csv('Data/X.csv')         ## 6 Features\n",
    "Y = np.ravel(pd.read_csv('Data/Y.csv'))       ## Target 'class' 100 abnormal, 209 normal\n",
    "X.info"
   ]
  },
  {
   "cell_type": "markdown",
   "metadata": {},
   "source": [
    "#### Transform data using Linear Discrimanant Analysis - a Guassian algorithm to improve boundries between colinear features"
   ]
  },
  {
   "cell_type": "markdown",
   "metadata": {},
   "source": [
    "#### Statisfied train-test split for unbalanced dataset"
   ]
  },
  {
   "cell_type": "code",
   "execution_count": 3,
   "metadata": {},
   "outputs": [],
   "source": [
    "X_train, X_test, y_train, y_test = train_test_split(X, Y, test_size=0.3, \n",
    "                                                stratify=Y,random_state = 88)    # 30% test set"
   ]
  },
  {
   "cell_type": "markdown",
   "metadata": {},
   "source": [
    "#### Functions"
   ]
  },
  {
   "cell_type": "code",
   "execution_count": 4,
   "metadata": {},
   "outputs": [],
   "source": [
    "# Performs GridSearch of multiple parameters on specified resample algorithM\n",
    "# Returns the optimal parameter set and their corresponding scores\n",
    "\n",
    "def gridSearchCV(model, param_grid, X_train, X_Test, y_train, y_test, graph = 1,name='none'):\n",
    "    \n",
    "    # Scale the features\n",
    "    std_scale = StandardScaler()\n",
    "    X_train_scaled = std_scale.fit_transform(X_train)\n",
    "    X_test_scaled = std_scale.transform(X_test)\n",
    "    \n",
    "    # Fold parameters\n",
    "    kf = KFold(n_splits=5, shuffle=False)\n",
    "    \n",
    "    # create pipeline\n",
    "    resample = ADASYN(random_state=88)\n",
    "    pipeline = Pipeline([('sampling', resample), ('class', model)])\n",
    "    \n",
    "    # perform gridsearch, fit, and predict\n",
    "    grid = GridSearchCV(pipeline, param_grid, scoring = 'f1', cv = kf)\n",
    "    grid.fit(X_train_scaled, y_train)\n",
    "    predictions = grid.predict(X_test_scaled)\n",
    "    test_score = grid.score(X_test_scaled, y_test)\n",
    "    \n",
    "    #Graph ROC\n",
    "    if graph == 1:\n",
    "        proba_predict = grid.predict_proba(X_test_scaled)\n",
    "        preds = proba_predict[:,1]\n",
    "        plot_ROC(grid, preds, X_test_scaled, y_test, graph=graph)\n",
    "        \n",
    "    #Return the classification report results\n",
    "    report = (classification_report(y_test, predictions, output_dict=True))\n",
    "    print(classification_report(y_test, predictions))\n",
    "    \n",
    "    #Print the parameters\n",
    "    print(\"Best Parameters: \", grid.best_params_)\n",
    "    \n",
    "    # Plot confusion matrix\n",
    "    plot_confusion(y_test,predictions)\n",
    "    \n",
    "    # Store scores\n",
    "    df = pd.DataFrame(report).transpose() \n",
    "    df.insert(0, \"Model\", [name, name, name, name, name])\n",
    "    return test_score"
   ]
  },
  {
   "cell_type": "code",
   "execution_count": 5,
   "metadata": {},
   "outputs": [],
   "source": [
    "# Plots the ROC of model\n",
    "\n",
    "def plot_ROC(model, probs, test_features, test_target, graph = 1):\n",
    "    if graph == 1:\n",
    "        print(\"area under curve (auc): \", metrics.roc_auc_score(y_test, probs))\n",
    "        fpr, tpr, thresholds = roc_curve(test_target, probs)\n",
    "        plt.plot([0,1],[0,1], linestyle='--')\n",
    "        plt.plot(fpr, tpr)\n",
    "        plt.show()"
   ]
  },
  {
   "cell_type": "code",
   "execution_count": 6,
   "metadata": {},
   "outputs": [],
   "source": [
    "# Plots confusion matrix of model\n",
    "\n",
    "def plot_confusion(y_test, pred):\n",
    "    mat = confusion_matrix(y_test, pred)\n",
    "    sns.heatmap(mat.T, square=True, annot=True, fmt='d', cbar=False)\n",
    "    plt.xlabel('true label')\n",
    "    plt.ylabel('predicted label');"
   ]
  },
  {
   "cell_type": "markdown",
   "metadata": {},
   "source": [
    "## HYPERPARAMETER TUNING"
   ]
  },
  {
   "cell_type": "markdown",
   "metadata": {},
   "source": [
    "### LOGISTIC REGRESSION"
   ]
  },
  {
   "cell_type": "code",
   "execution_count": 7,
   "metadata": {},
   "outputs": [
    {
     "name": "stdout",
     "output_type": "stream",
     "text": [
      "area under curve (auc):  0.9560846560846561\n"
     ]
    },
    {
     "data": {
      "image/png": "[encoded data removed]",
      "text/plain": [
       "<Figure size 432x288 with 1 Axes>"
      ]
     },
     "metadata": {
      "needs_background": "light"
     },
     "output_type": "display_data"
    },
    {
     "name": "stdout",
     "output_type": "stream",
     "text": [
      "              precision    recall  f1-score   support\n",
      "\n",
      "           0       1.00      0.84      0.91        63\n",
      "           1       0.75      1.00      0.86        30\n",
      "\n",
      "    accuracy                           0.89        93\n",
      "   macro avg       0.88      0.92      0.89        93\n",
      "weighted avg       0.92      0.89      0.90        93\n",
      "\n",
      "Best Parameters:  {'class__C': 10, 'class__penalty': 'l2', 'class__solver': 'newton-cg'}\n"
     ]
    },
    {
     "data": {
      "image/png": "[encoded data removed]",
      "text/plain": [
       "<Figure size 432x288 with 1 Axes>"
      ]
     },
     "metadata": {
      "needs_background": "light"
     },
     "output_type": "display_data"
    }
   ],
   "source": [
    "# Test parameter grid for best paramaters\n",
    "scores = pd.DataFrame(columns={'Model', 'Score'})\n",
    "solvers = ['newton-cg', 'lbfgs', 'liblinear', 'sag']\n",
    "penalty = ['l2']\n",
    "c_values = [0.001,0.01,0.1, 1, 10]\n",
    "random_grid = {'class__solver':solvers,'class__penalty':penalty, 'class__C':c_values}\n",
    "\n",
    "# Perform GridSearch on parameter grid\n",
    "score = gridSearchCV(LogisticRegression(random_state=42),random_grid, \n",
    "                       X_train, X_test, y_train, y_test, name='Smote LogReg')\n",
    "scores.loc[1] = (\"logreg\", score)"
   ]
  },
  {
   "cell_type": "markdown",
   "metadata": {},
   "source": [
    "## GRADIENT BOOSTING CLASSIFIER"
   ]
  },
  {
   "cell_type": "code",
   "execution_count": 8,
   "metadata": {},
   "outputs": [
    {
     "name": "stdout",
     "output_type": "stream",
     "text": [
      "area under curve (auc):  0.935978835978836\n"
     ]
    },
    {
     "data": {
      "image/png": "[encoded data removed]",
      "text/plain": [
       "<Figure size 432x288 with 1 Axes>"
      ]
     },
     "metadata": {
      "needs_background": "light"
     },
     "output_type": "display_data"
    },
    {
     "name": "stdout",
     "output_type": "stream",
     "text": [
      "              precision    recall  f1-score   support\n",
      "\n",
      "           0       0.88      0.84      0.86        63\n",
      "           1       0.70      0.77      0.73        30\n",
      "\n",
      "    accuracy                           0.82        93\n",
      "   macro avg       0.79      0.80      0.80        93\n",
      "weighted avg       0.82      0.82      0.82        93\n",
      "\n",
      "Best Parameters:  {'class__criterion': 'friedman_mse', 'class__learning_rate': 1, 'class__loss': 'exponential', 'class__n_estimators': 11}\n"
     ]
    },
    {
     "data": {
      "image/png": "[encoded data removed]",
      "text/plain": [
       "<Figure size 432x288 with 1 Axes>"
      ]
     },
     "metadata": {
      "needs_background": "light"
     },
     "output_type": "display_data"
    }
   ],
   "source": [
    "# Test parameter grid for best paramaters\n",
    "loss = ['deviance', 'exponential']\n",
    "lr = [0.1, 0.2, 0.3, 0.4, 0.5, 0.6, 0.7, 0.8, 0.9, 1]\n",
    "ne = range(1,100,5)\n",
    "cr = ['friedman_mse', 'mse', 'mae']\n",
    "random_grid = {'class__loss':loss,'class__learning_rate':lr,'class__n_estimators':ne, 'class__criterion':cr}\n",
    "\n",
    "# Perform GridSearch on parameter grid\n",
    "score = gridSearchCV(GradientBoostingClassifier(random_state=42), random_grid, \n",
    "             X_train, X_test, y_train, y_test, name='Smote GB')\n",
    "\n",
    "scores.loc[2] = (\"BGC\", score)"
   ]
  },
  {
   "cell_type": "markdown",
   "metadata": {},
   "source": [
    "## SUPPORT VECTOR MACHINE"
   ]
  },
  {
   "cell_type": "code",
   "execution_count": 9,
   "metadata": {},
   "outputs": [
    {
     "name": "stdout",
     "output_type": "stream",
     "text": [
      "              precision    recall  f1-score   support\n",
      "\n",
      "           0       0.93      0.83      0.87        63\n",
      "           1       0.70      0.87      0.78        30\n",
      "\n",
      "    accuracy                           0.84        93\n",
      "   macro avg       0.82      0.85      0.83        93\n",
      "weighted avg       0.86      0.84      0.84        93\n",
      "\n",
      "Best Parameters:  {'class__C': 10, 'class__gamma': 0.1, 'class__kernel': 'rbf'}\n"
     ]
    },
    {
     "data": {
      "image/png": "[encoded data removed]",
      "text/plain": [
       "<Figure size 432x288 with 1 Axes>"
      ]
     },
     "metadata": {
      "needs_background": "light"
     },
     "output_type": "display_data"
    }
   ],
   "source": [
    "param_grid = {'class__C': [0.1, 1, 10, 100, 1000],  \n",
    "              'class__gamma': [1, 0.1, 0.01, 0.001, 0.0001], \n",
    "              'class__kernel': ['rbf']}  \n",
    "\n",
    "score = gridSearchCV(SVC(random_state=42), param_grid, \n",
    "             X_train, X_test, y_train, y_test, graph=2,name='Smote SVM')\n",
    "\n",
    "scores.loc[3] = (\"SVM\", score)"
   ]
  },
  {
   "cell_type": "markdown",
   "metadata": {},
   "source": [
    "## RANDOM FOREST CLASSIFIER"
   ]
  },
  {
   "cell_type": "code",
   "execution_count": 10,
   "metadata": {},
   "outputs": [
    {
     "name": "stdout",
     "output_type": "stream",
     "text": [
      "area under curve (auc):  0.9476190476190476\n"
     ]
    },
    {
     "data": {
      "image/png": "[encoded data removed]",
      "text/plain": [
       "<Figure size 432x288 with 1 Axes>"
      ]
     },
     "metadata": {
      "needs_background": "light"
     },
     "output_type": "display_data"
    },
    {
     "name": "stdout",
     "output_type": "stream",
     "text": [
      "              precision    recall  f1-score   support\n",
      "\n",
      "           0       0.96      0.83      0.89        63\n",
      "           1       0.72      0.93      0.81        30\n",
      "\n",
      "    accuracy                           0.86        93\n",
      "   macro avg       0.84      0.88      0.85        93\n",
      "weighted avg       0.88      0.86      0.86        93\n",
      "\n",
      "Best Parameters:  {'class__criterion': 'entropy', 'class__max_depth': 5, 'class__min_samples_leaf': 4, 'class__n_estimators': 32}\n"
     ]
    },
    {
     "data": {
      "image/png": "[encoded data removed]",
      "text/plain": [
       "<Figure size 432x288 with 1 Axes>"
      ]
     },
     "metadata": {
      "needs_background": "light"
     },
     "output_type": "display_data"
    }
   ],
   "source": [
    "param_grid = {'class__n_estimators': [1, 2, 4, 8, 16, 32, 64, 100, 200], \n",
    "              'class__max_depth': range(1,32,1),\n",
    "              'class__min_samples_leaf': [1, 2, 3, 4, 5], \n",
    "              'class__criterion': ['gini', 'entropy']}  \n",
    "\n",
    "score = gridSearchCV(RandomForestClassifier(random_state=42), param_grid, \n",
    "             X_train, X_test, y_train, y_test, name='Smote RF')\n",
    "\n",
    "scores.loc[4] = (\"RandomForest\", score)"
   ]
  },
  {
   "cell_type": "markdown",
   "metadata": {},
   "source": [
    "## KNEIGHBORS CLASSIFIER"
   ]
  },
  {
   "cell_type": "markdown",
   "metadata": {},
   "source": [
    "#### Base Measure without tuning"
   ]
  },
  {
   "cell_type": "code",
   "execution_count": 11,
   "metadata": {},
   "outputs": [
    {
     "name": "stdout",
     "output_type": "stream",
     "text": [
      "area under curve (auc):  0.8126984126984127\n"
     ]
    },
    {
     "data": {
      "image/png": "[encoded data removed]",
      "text/plain": [
       "<Figure size 432x288 with 1 Axes>"
      ]
     },
     "metadata": {
      "needs_background": "light"
     },
     "output_type": "display_data"
    },
    {
     "name": "stdout",
     "output_type": "stream",
     "text": [
      "              precision    recall  f1-score   support\n",
      "\n",
      "           0       0.90      0.83      0.86        63\n",
      "           1       0.69      0.80      0.74        30\n",
      "\n",
      "    accuracy                           0.82        93\n",
      "   macro avg       0.79      0.81      0.80        93\n",
      "weighted avg       0.83      0.82      0.82        93\n",
      "\n",
      "Best Parameters:  {'class__algorithm': 'auto', 'class__leaf_size': 1, 'class__n_neighbors': 1, 'class__p': 2, 'class__weights': 'uniform'}\n"
     ]
    },
    {
     "data": {
      "image/png": "[encoded data removed]",
      "text/plain": [
       "<Figure size 432x288 with 1 Axes>"
      ]
     },
     "metadata": {
      "needs_background": "light"
     },
     "output_type": "display_data"
    }
   ],
   "source": [
    "param_grid = {'class__algorithm': ['auto'], \n",
    "              'class__leaf_size': [1,5,10,15,20,25,30], \n",
    "             'class__n_neighbors':[1,2,3,4,5,6,7,8],\n",
    "             'class__p':[1,2],\n",
    "             'class__weights':['uniform','distance']}  \n",
    "\n",
    "score = gridSearchCV(KNeighborsClassifier(), param_grid, \n",
    "                  X_train, X_test, y_train, y_test, name='Smote KNN')\n",
    "\n",
    "scores.loc[5] = (\"KNN\", score)"
   ]
  },
  {
   "cell_type": "markdown",
   "metadata": {},
   "source": [
    "### Gaussian Naive Bayes"
   ]
  },
  {
   "cell_type": "code",
   "execution_count": 12,
   "metadata": {},
   "outputs": [
    {
     "name": "stdout",
     "output_type": "stream",
     "text": [
      "area under curve (auc):  0.864021164021164\n"
     ]
    },
    {
     "data": {
      "image/png": "[encoded data removed]",
      "text/plain": [
       "<Figure size 432x288 with 1 Axes>"
      ]
     },
     "metadata": {
      "needs_background": "light"
     },
     "output_type": "display_data"
    },
    {
     "name": "stdout",
     "output_type": "stream",
     "text": [
      "              precision    recall  f1-score   support\n",
      "\n",
      "           0       0.92      0.75      0.82        63\n",
      "           1       0.62      0.87      0.72        30\n",
      "\n",
      "    accuracy                           0.78        93\n",
      "   macro avg       0.77      0.81      0.77        93\n",
      "weighted avg       0.82      0.78      0.79        93\n",
      "\n",
      "Best Parameters:  {'class__var_smoothing': 0.1}\n"
     ]
    },
    {
     "data": {
      "image/png": "[encoded data removed]",
      "text/plain": [
       "<Figure size 432x288 with 1 Axes>"
      ]
     },
     "metadata": {
      "needs_background": "light"
     },
     "output_type": "display_data"
    }
   ],
   "source": [
    "param_grid = {'class__var_smoothing':[1e-1,1e-9,1e-19,1e-29]}\n",
    "score = gridSearchCV(GaussianNB(priors=None, ), param_grid, \n",
    "                  X_train, X_test, y_train, y_test, name='Smote NB')\n",
    "\n",
    "scores.loc[6] = (\"Naive Bayes\", score)"
   ]
  },
  {
   "cell_type": "code",
   "execution_count": 13,
   "metadata": {},
   "outputs": [
    {
     "name": "stdout",
     "output_type": "stream",
     "text": [
      "          Score     Model\n",
      "1        logreg  0.857143\n",
      "2           BGC  0.730159\n",
      "3           SVM  0.776119\n",
      "4  RandomForest  0.811594\n",
      "5           KNN  0.738462\n",
      "6   Naive Bayes  0.722222\n"
     ]
    }
   ],
   "source": [
    "print(scores)"
   ]
  }
 ],
 "metadata": {
  "kernelspec": {
   "display_name": "Python 3",
   "language": "python",
   "name": "python3"
  },
  "language_info": {
   "codemirror_mode": {
    "name": "ipython",
    "version": 3
   },
   "file_extension": ".py",
   "mimetype": "text/x-python",
   "name": "python",
   "nbconvert_exporter": "python",
   "pygments_lexer": "ipython3",
   "version": "3.8.5"
  },
  "toc": {
   "base_numbering": 1,
   "nav_menu": {},
   "number_sections": false,
   "sideBar": true,
   "skip_h1_title": false,
   "title_cell": "Table of Contents",
   "title_sidebar": "Contents",
   "toc_cell": false,
   "toc_position": {
    "height": "calc(100% - 180px)",
    "left": "10px",
    "top": "150px",
    "width": "165px"
   },
   "toc_section_display": true,
   "toc_window_display": true
  }
 },
 "nbformat": 4,
 "nbformat_minor": 4
}

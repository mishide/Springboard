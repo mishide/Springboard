{
 "cells": [
  {
   "cell_type": "markdown",
   "metadata": {},
   "source": [
    "# CAPSTONE 1 -  MACHINE LEARNING MODELS"
   ]
  },
  {
   "cell_type": "markdown",
   "metadata": {},
   "source": [
    "This project has 6 quantitative features with a single target containing 2 classes, Normal and Abnormal\n",
    "\n",
    "\n",
    "\n",
    "0 = Normal of which there are 209 total  \n",
    "1 = Abnormal of which there are 100 total\n",
    "\n",
    "30% of the data is stratisfied into a test set due to the unbalanced nature of the set\n",
    "\n",
    "Resampling is performed with both ADASYN and SMOTE, SMOTE preferred due to the sparse distribution of the minority class, however, not knowing the desired recall balance or bias, ADASYN may be preferred to ensure extreme precision for Normal or Abnormal bias.\n",
    "\n",
    "Accuracy is measured and compared on the Recall, Precision, and F1, along with plots of ROC and confusion matrix\n",
    "\n",
    "A summary of the results allows for selection of the best model dependent on prerred recall.\n",
    "\n",
    "It was a pleasure tuning these machines, feel free to send comments to my email:  mconsultant@protonmail.com\n"
   ]
  },
  {
   "cell_type": "code",
   "execution_count": 17,
   "metadata": {},
   "outputs": [],
   "source": [
    "import pandas as pd\n",
    "import numpy as np\n",
    "import matplotlib.pyplot as plt\n",
    "import seaborn as sns\n",
    "\n",
    "# Models\n",
    "from sklearn.linear_model import LogisticRegression\n",
    "from sklearn.neighbors import KNeighborsClassifier\n",
    "from sklearn.ensemble import RandomForestClassifier, GradientBoostingClassifier \n",
    "from sklearn.naive_bayes import GaussianNB\n",
    "from sklearn.svm import SVC\n",
    "from sklearn.discriminant_analysis import LinearDiscriminantAnalysis\n",
    "\n",
    "# Machine modeling tools\n",
    "from sklearn import model_selection\n",
    "from sklearn.model_selection import train_test_split, GridSearchCV, KFold\n",
    "from imblearn.pipeline import make_pipeline, Pipeline\n",
    "from sklearn.preprocessing import StandardScaler\n",
    "from imblearn.over_sampling import ADASYN, SMOTE\n",
    "\n",
    "# Scoring\n",
    "from sklearn import metrics\n",
    "from sklearn.metrics import f1_score, classification_report, confusion_matrix \n",
    "from sklearn.metrics import roc_curve, roc_auc_score, confusion_matrix,recall_score"
   ]
  },
  {
   "cell_type": "markdown",
   "metadata": {},
   "source": [
    "#### Import data variables"
   ]
  },
  {
   "cell_type": "code",
   "execution_count": 18,
   "metadata": {},
   "outputs": [],
   "source": [
    "X = pd.read_csv('Data/X.csv')         ## 6 Features\n",
    "Y = np.ravel(pd.read_csv('Data/Y.csv'))       ## Target 'class' 100 abnormal, 209 normal"
   ]
  },
  {
   "cell_type": "markdown",
   "metadata": {},
   "source": [
    "#### Transform data using Linear Discrimanant Analysis - a Guassian algorithm to improve boundries between colinear features"
   ]
  },
  {
   "cell_type": "markdown",
   "metadata": {},
   "source": [
    "#### Statisfied train-test split for unbalanced dataset"
   ]
  },
  {
   "cell_type": "code",
   "execution_count": 19,
   "metadata": {},
   "outputs": [],
   "source": [
    "X_train, X_test, y_train, y_test = train_test_split(X, Y, test_size=0.3, \n",
    "                                                stratify=Y,random_state = 88)    # 30% test set"
   ]
  },
  {
   "cell_type": "markdown",
   "metadata": {},
   "source": [
    "#### Functions"
   ]
  },
  {
   "cell_type": "code",
   "execution_count": 20,
   "metadata": {},
   "outputs": [],
   "source": [
    "# Performs GridSearch of multiple parameters on specified resample algorithM\n",
    "# Returns the optimal parameter set and their corresponding scores\n",
    "\n",
    "def gridSearchCV(model, param_grid, X_train, X_Test, y_train, y_test, graph = 1,name='none'):\n",
    "    \n",
    "    # Scale the features\n",
    "    std_scale = StandardScaler()\n",
    "    X_train_scaled = std_scale.fit_transform(X_train)\n",
    "    X_test_scaled = std_scale.transform(X_test)\n",
    "    \n",
    "    # Fold parameters\n",
    "    kf = KFold(n_splits=5, shuffle=False)\n",
    "    \n",
    "    # create pipeline\n",
    "    resample = SMOTE(random_state=88)\n",
    "    pipeline = Pipeline([('sampling', resample), ('class', model)])\n",
    "    \n",
    "    # perform gridsearch, fit, and predict\n",
    "    grid = GridSearchCV(pipeline, param_grid, scoring = 'f1', cv = kf)\n",
    "    grid.fit(X_train_scaled, y_train)\n",
    "    print(\"Training score: \",clf.score(X_train, y_train))\n",
    "    predictions = grid.predict(X_test_scaled)\n",
    "    \n",
    "    #Graph ROC\n",
    "    if graph == 1:\n",
    "        proba_predict = grid.predict_proba(X_test_scaled)\n",
    "        preds = proba_predict[:,1]\n",
    "        plot_ROC(grid, preds, X_test_scaled, y_test, graph=graph)\n",
    "        \n",
    "    #Return the classification report results\n",
    "    report = (classification_report(y_test, predictions, output_dict=True))\n",
    "    print(classification_report(y_test, predictions))\n",
    "    \n",
    "    #Print the parameters\n",
    "    print(\"Best Parameters: \", grid.best_params_)\n",
    "    \n",
    "    # Plot confusion matrix\n",
    "    plot_confusion(y_test,predictions)\n",
    "    \n",
    "    # Store scores\n",
    "    df = pd.DataFrame(report).transpose() \n",
    "    df.insert(0, \"Model\", [name, name, name, name, name])\n",
    "    return df"
   ]
  },
  {
   "cell_type": "code",
   "execution_count": 21,
   "metadata": {},
   "outputs": [],
   "source": [
    "# Plots the ROC of model\n",
    "\n",
    "def plot_ROC(model, probs, test_features, test_target, graph = 1):\n",
    "    if graph == 1:\n",
    "        print(\"area under curve (auc): \", metrics.roc_auc_score(y_test, probs))\n",
    "        fpr, tpr, thresholds = roc_curve(test_target, probs)\n",
    "        plt.plot([0,1],[0,1], linestyle='--')\n",
    "        plt.plot(fpr, tpr)\n",
    "        plt.show()"
   ]
  },
  {
   "cell_type": "code",
   "execution_count": 22,
   "metadata": {},
   "outputs": [],
   "source": [
    "# Plots confusion matrix of model\n",
    "\n",
    "def plot_confusion(y_test, pred):\n",
    "    mat = confusion_matrix(y_test, pred)\n",
    "    sns.heatmap(mat.T, square=True, annot=True, fmt='d', cbar=False)\n",
    "    plt.xlabel('true label')\n",
    "    plt.ylabel('predicted label');"
   ]
  },
  {
   "cell_type": "markdown",
   "metadata": {},
   "source": [
    "#### Base Measurement without parameter tuning performed on Logistic Regression"
   ]
  },
  {
   "cell_type": "code",
   "execution_count": 23,
   "metadata": {},
   "outputs": [
    {
     "name": "stdout",
     "output_type": "stream",
     "text": [
      "area under curve (auc):  0.9613756613756613\n"
     ]
    },
    {
     "data": {
      "image/png": "[encoded data removed]",
      "text/plain": [
       "<Figure size 432x288 with 1 Axes>"
      ]
     },
     "metadata": {
      "needs_background": "light"
     },
     "output_type": "display_data"
    },
    {
     "name": "stdout",
     "output_type": "stream",
     "text": [
      "None\n",
      "              precision    recall  f1-score   support\n",
      "\n",
      "           0       0.90      0.90      0.90        63\n",
      "           1       0.80      0.80      0.80        30\n",
      "\n",
      "    accuracy                           0.87        93\n",
      "   macro avg       0.85      0.85      0.85        93\n",
      "weighted avg       0.87      0.87      0.87        93\n",
      "\n"
     ]
    },
    {
     "data": {
      "image/png": "[encoded data removed]",
      "text/plain": [
       "<Figure size 432x288 with 1 Axes>"
      ]
     },
     "metadata": {
      "needs_background": "light"
     },
     "output_type": "display_data"
    }
   ],
   "source": [
    "ytrain = np.ravel(y_train) # optimize the shape of y\n",
    "\n",
    "clf = LogisticRegression(solver='lbfgs')\n",
    "clf.fit(X_train, ytrain)\n",
    "predictions = clf.predict(X_test)\n",
    "proba = clf.predict_proba(X_test)\n",
    "probs = proba[:,1]\n",
    "\n",
    "# Print the accuracy from the testing data.\n",
    "print(plot_ROC(clf, probs, X_test, y_test))\n",
    "print(classification_report(y_test, predictions))\n",
    "plot_confusion(y_test,predictions)"
   ]
  },
  {
   "cell_type": "markdown",
   "metadata": {},
   "source": [
    "Not bad but a recall that states 20 out of 100 will be incorrectly labeled "
   ]
  },
  {
   "cell_type": "markdown",
   "metadata": {},
   "source": [
    "## PARAMETER TUNING"
   ]
  },
  {
   "cell_type": "markdown",
   "metadata": {},
   "source": [
    "### LOGISTIC REGRESSION"
   ]
  },
  {
   "cell_type": "code",
   "execution_count": 24,
   "metadata": {},
   "outputs": [
    {
     "name": "stdout",
     "output_type": "stream",
     "text": [
      "Training score:  0.8425925925925926\n",
      "area under curve (auc):  0.9523809523809523\n"
     ]
    },
    {
     "data": {
      "image/png": "[encoded data removed]",
      "text/plain": [
       "<Figure size 432x288 with 1 Axes>"
      ]
     },
     "metadata": {
      "needs_background": "light"
     },
     "output_type": "display_data"
    },
    {
     "name": "stdout",
     "output_type": "stream",
     "text": [
      "              precision    recall  f1-score   support\n",
      "\n",
      "           0       0.98      0.89      0.93        63\n",
      "           1       0.81      0.97      0.88        30\n",
      "\n",
      "    accuracy                           0.91        93\n",
      "   macro avg       0.89      0.93      0.91        93\n",
      "weighted avg       0.93      0.91      0.92        93\n",
      "\n",
      "Best Parameters:  {'class__C': 10, 'class__penalty': 'l2', 'class__solver': 'newton-cg'}\n"
     ]
    },
    {
     "data": {
      "image/png": "[encoded data removed]",
      "text/plain": [
       "<Figure size 432x288 with 1 Axes>"
      ]
     },
     "metadata": {
      "needs_background": "light"
     },
     "output_type": "display_data"
    }
   ],
   "source": [
    "# Test parameter grid for best paramaters\n",
    "solvers = ['newton-cg', 'lbfgs', 'liblinear', 'sag']\n",
    "penalty = ['l2']\n",
    "c_values = [0.001,0.01,0.1, 1, 10]\n",
    "random_grid = {'class__solver':solvers,'class__penalty':penalty, 'class__C':c_values}\n",
    "\n",
    "# Perform GridSearch on parameter grid\n",
    "summary = gridSearchCV(LogisticRegression(random_state=42),random_grid, \n",
    "                       X_train, X_test, y_train, y_test, name='Smote LogReg')"
   ]
  },
  {
   "cell_type": "markdown",
   "metadata": {},
   "source": [
    "## GRADIENT BOOSTING CLASSIFIER"
   ]
  },
  {
   "cell_type": "code",
   "execution_count": 25,
   "metadata": {},
   "outputs": [
    {
     "name": "stdout",
     "output_type": "stream",
     "text": [
      "Training score:  0.8425925925925926\n",
      "area under curve (auc):  0.9576719576719577\n"
     ]
    },
    {
     "data": {
      "image/png": "[encoded data removed]",
      "text/plain": [
       "<Figure size 432x288 with 1 Axes>"
      ]
     },
     "metadata": {
      "needs_background": "light"
     },
     "output_type": "display_data"
    },
    {
     "name": "stdout",
     "output_type": "stream",
     "text": [
      "              precision    recall  f1-score   support\n",
      "\n",
      "           0       0.93      0.86      0.89        63\n",
      "           1       0.74      0.87      0.80        30\n",
      "\n",
      "    accuracy                           0.86        93\n",
      "   macro avg       0.84      0.86      0.85        93\n",
      "weighted avg       0.87      0.86      0.86        93\n",
      "\n",
      "Best Parameters:  {'class__criterion': 'friedman_mse', 'class__learning_rate': 0.1, 'class__loss': 'exponential', 'class__n_estimators': 16}\n"
     ]
    },
    {
     "data": {
      "image/png": "[encoded data removed]",
      "text/plain": [
       "<Figure size 432x288 with 1 Axes>"
      ]
     },
     "metadata": {
      "needs_background": "light"
     },
     "output_type": "display_data"
    }
   ],
   "source": [
    "# Test parameter grid for best paramaters\n",
    "loss = ['deviance', 'exponential']\n",
    "lr = [0.1, 0.2, 0.3, 0.4, 0.5, 0.6, 0.7, 0.8, 0.9, 1]\n",
    "ne = range(1,100,5)\n",
    "cr = ['friedman_mse', 'mse', 'mae']\n",
    "random_grid = {'class__loss':loss,'class__learning_rate':lr,'class__n_estimators':ne, 'class__criterion':cr}\n",
    "\n",
    "# Perform GridSearch on parameter grid\n",
    "df = gridSearchCV(GradientBoostingClassifier(random_state=42), random_grid, \n",
    "             X_train, X_test, y_train, y_test, name='Smote GB')\n",
    "summary = summary.append(df)"
   ]
  },
  {
   "cell_type": "markdown",
   "metadata": {},
   "source": [
    "## SUPPORT VECTOR MACHINE"
   ]
  },
  {
   "cell_type": "code",
   "execution_count": 26,
   "metadata": {},
   "outputs": [
    {
     "name": "stdout",
     "output_type": "stream",
     "text": [
      "Training score:  0.8425925925925926\n",
      "              precision    recall  f1-score   support\n",
      "\n",
      "           0       0.93      0.86      0.89        63\n",
      "           1       0.74      0.87      0.80        30\n",
      "\n",
      "    accuracy                           0.86        93\n",
      "   macro avg       0.84      0.86      0.85        93\n",
      "weighted avg       0.87      0.86      0.86        93\n",
      "\n",
      "Best Parameters:  {'class__C': 1000, 'class__gamma': 0.01, 'class__kernel': 'rbf'}\n"
     ]
    },
    {
     "data": {
      "image/png": "[encoded data removed]",
      "text/plain": [
       "<Figure size 432x288 with 1 Axes>"
      ]
     },
     "metadata": {
      "needs_background": "light"
     },
     "output_type": "display_data"
    }
   ],
   "source": [
    "param_grid = {'class__C': [0.1, 1, 10, 100, 1000],  \n",
    "              'class__gamma': [1, 0.1, 0.01, 0.001, 0.0001], \n",
    "              'class__kernel': ['rbf']}  \n",
    "\n",
    "df = gridSearchCV(SVC(random_state=42), param_grid, \n",
    "             X_train, X_test, y_train, y_test, graph=2,name='Smote SVM')\n",
    "summary = summary.append(df)"
   ]
  },
  {
   "cell_type": "markdown",
   "metadata": {},
   "source": [
    "## RANDOM FOREST CLASSIFIER"
   ]
  },
  {
   "cell_type": "code",
   "execution_count": 27,
   "metadata": {},
   "outputs": [
    {
     "name": "stdout",
     "output_type": "stream",
     "text": [
      "Training score:  0.8425925925925926\n",
      "area under curve (auc):  0.9513227513227513\n"
     ]
    },
    {
     "data": {
      "image/png": "[encoded data removed]",
      "text/plain": [
       "<Figure size 432x288 with 1 Axes>"
      ]
     },
     "metadata": {
      "needs_background": "light"
     },
     "output_type": "display_data"
    },
    {
     "name": "stdout",
     "output_type": "stream",
     "text": [
      "              precision    recall  f1-score   support\n",
      "\n",
      "           0       0.93      0.87      0.90        63\n",
      "           1       0.76      0.87      0.81        30\n",
      "\n",
      "    accuracy                           0.87        93\n",
      "   macro avg       0.85      0.87      0.86        93\n",
      "weighted avg       0.88      0.87      0.87        93\n",
      "\n",
      "Best Parameters:  {'class__criterion': 'gini', 'class__max_depth': 6, 'class__min_samples_leaf': 1, 'class__n_estimators': 16}\n"
     ]
    },
    {
     "data": {
      "image/png": "[encoded data removed]",
      "text/plain": [
       "<Figure size 432x288 with 1 Axes>"
      ]
     },
     "metadata": {
      "needs_background": "light"
     },
     "output_type": "display_data"
    }
   ],
   "source": [
    "param_grid = {'class__n_estimators': [1, 2, 4, 8, 16, 32, 64, 100, 200], \n",
    "              'class__max_depth': range(1,32,1),\n",
    "              'class__min_samples_leaf': [1, 2, 3, 4, 5], \n",
    "              'class__criterion': ['gini', 'entropy']}  \n",
    "\n",
    "df = gridSearchCV(RandomForestClassifier(random_state=42), param_grid, \n",
    "             X_train, X_test, y_train, y_test, name='Smote RF')\n",
    "summary = summary.append(df)"
   ]
  },
  {
   "cell_type": "markdown",
   "metadata": {},
   "source": [
    "## KNEIGHBORS CLASSIFIER"
   ]
  },
  {
   "cell_type": "markdown",
   "metadata": {},
   "source": [
    "#### Base Measure without tuning"
   ]
  },
  {
   "cell_type": "code",
   "execution_count": 28,
   "metadata": {},
   "outputs": [
    {
     "name": "stdout",
     "output_type": "stream",
     "text": [
      "Training score:  0.8425925925925926\n",
      "area under curve (auc):  0.888095238095238\n"
     ]
    },
    {
     "data": {
      "image/png": "[encoded data removed]",
      "text/plain": [
       "<Figure size 432x288 with 1 Axes>"
      ]
     },
     "metadata": {
      "needs_background": "light"
     },
     "output_type": "display_data"
    },
    {
     "name": "stdout",
     "output_type": "stream",
     "text": [
      "              precision    recall  f1-score   support\n",
      "\n",
      "           0       0.90      0.83      0.86        63\n",
      "           1       0.69      0.80      0.74        30\n",
      "\n",
      "    accuracy                           0.82        93\n",
      "   macro avg       0.79      0.81      0.80        93\n",
      "weighted avg       0.83      0.82      0.82        93\n",
      "\n",
      "Best Parameters:  {'class__algorithm': 'auto', 'class__leaf_size': 1, 'class__n_neighbors': 6, 'class__p': 2, 'class__weights': 'uniform'}\n"
     ]
    },
    {
     "data": {
      "image/png": "[encoded data removed]",
      "text/plain": [
       "<Figure size 432x288 with 1 Axes>"
      ]
     },
     "metadata": {
      "needs_background": "light"
     },
     "output_type": "display_data"
    }
   ],
   "source": [
    "param_grid = {'class__algorithm': ['auto'], \n",
    "              'class__leaf_size': [1,5,10,15,20,25,30], \n",
    "             'class__n_neighbors':[1,2,3,4,5,6,7,8],\n",
    "             'class__p':[1,2],\n",
    "             'class__weights':['uniform','distance']}  \n",
    "\n",
    "df = gridSearchCV(KNeighborsClassifier(), param_grid, \n",
    "                  X_train, X_test, y_train, y_test, name='Smote KNN')\n",
    "summary = summary.append(df)"
   ]
  },
  {
   "cell_type": "markdown",
   "metadata": {},
   "source": [
    "### Gaussian Naive Bayes"
   ]
  },
  {
   "cell_type": "code",
   "execution_count": 29,
   "metadata": {},
   "outputs": [
    {
     "name": "stdout",
     "output_type": "stream",
     "text": [
      "Training score:  0.8425925925925926\n",
      "area under curve (auc):  0.8873015873015873\n"
     ]
    },
    {
     "data": {
      "image/png": "[encoded data removed]",
      "text/plain": [
       "<Figure size 432x288 with 1 Axes>"
      ]
     },
     "metadata": {
      "needs_background": "light"
     },
     "output_type": "display_data"
    },
    {
     "name": "stdout",
     "output_type": "stream",
     "text": [
      "              precision    recall  f1-score   support\n",
      "\n",
      "           0       0.92      0.76      0.83        63\n",
      "           1       0.63      0.87      0.73        30\n",
      "\n",
      "    accuracy                           0.80        93\n",
      "   macro avg       0.78      0.81      0.78        93\n",
      "weighted avg       0.83      0.80      0.80        93\n",
      "\n",
      "Best Parameters:  {'class__var_smoothing': 0.1}\n"
     ]
    },
    {
     "data": {
      "image/png": "[encoded data removed]",
      "text/plain": [
       "<Figure size 432x288 with 1 Axes>"
      ]
     },
     "metadata": {
      "needs_background": "light"
     },
     "output_type": "display_data"
    }
   ],
   "source": [
    "param_grid = {'class__var_smoothing':[1e-1,1e-9,1e-19,1e-29]}\n",
    "df = gridSearchCV(GaussianNB(priors=None, ), param_grid, \n",
    "                  X_train, X_test, y_train, y_test, name='Smote NB')\n",
    "summary = summary.append(df)"
   ]
  },
  {
   "cell_type": "code",
   "execution_count": 30,
   "metadata": {},
   "outputs": [
    {
     "name": "stdout",
     "output_type": "stream",
     "text": [
      "                     Model  precision    recall  f1-score    support\n",
      "0             Smote LogReg   0.982456  0.888889  0.933333  63.000000\n",
      "1             Smote LogReg   0.805556  0.966667  0.878788  30.000000\n",
      "accuracy      Smote LogReg   0.913978  0.913978  0.913978   0.913978\n",
      "macro avg     Smote LogReg   0.894006  0.927778  0.906061  93.000000\n",
      "weighted avg  Smote LogReg   0.925391  0.913978  0.915738  93.000000\n",
      "0                 Smote GB   0.931034  0.857143  0.892562  63.000000\n",
      "1                 Smote GB   0.742857  0.866667  0.800000  30.000000\n",
      "accuracy          Smote GB   0.860215  0.860215  0.860215   0.860215\n",
      "macro avg         Smote GB   0.836946  0.861905  0.846281  93.000000\n",
      "weighted avg      Smote GB   0.870332  0.860215  0.862703  93.000000\n",
      "0                Smote SVM   0.931034  0.857143  0.892562  63.000000\n",
      "1                Smote SVM   0.742857  0.866667  0.800000  30.000000\n",
      "accuracy         Smote SVM   0.860215  0.860215  0.860215   0.860215\n",
      "macro avg        Smote SVM   0.836946  0.861905  0.846281  93.000000\n",
      "weighted avg     Smote SVM   0.870332  0.860215  0.862703  93.000000\n",
      "0                 Smote RF   0.932203  0.873016  0.901639  63.000000\n",
      "1                 Smote RF   0.764706  0.866667  0.812500  30.000000\n",
      "accuracy          Smote RF   0.870968  0.870968  0.870968   0.870968\n",
      "macro avg         Smote RF   0.848455  0.869841  0.857070  93.000000\n",
      "weighted avg      Smote RF   0.878172  0.870968  0.872885  93.000000\n",
      "0                Smote KNN   0.896552  0.825397  0.859504  63.000000\n",
      "1                Smote KNN   0.685714  0.800000  0.738462  30.000000\n",
      "accuracy         Smote KNN   0.817204  0.817204  0.817204   0.817204\n",
      "macro avg        Smote KNN   0.791133  0.812698  0.798983  93.000000\n",
      "weighted avg     Smote KNN   0.828540  0.817204  0.820458  93.000000\n",
      "0                 Smote NB   0.923077  0.761905  0.834783  63.000000\n",
      "1                 Smote NB   0.634146  0.866667  0.732394  30.000000\n",
      "accuracy          Smote NB   0.795699  0.795699  0.795699   0.795699\n",
      "macro avg         Smote NB   0.778612  0.814286  0.783588  93.000000\n",
      "weighted avg      Smote NB   0.829874  0.795699  0.801754  93.000000\n"
     ]
    }
   ],
   "source": [
    "print(summary)"
   ]
  },
  {
   "cell_type": "code",
   "execution_count": null,
   "metadata": {},
   "outputs": [],
   "source": []
  }
 ],
 "metadata": {
  "kernelspec": {
   "display_name": "Python 3",
   "language": "python",
   "name": "python3"
  },
  "language_info": {
   "codemirror_mode": {
    "name": "ipython",
    "version": 3
   },
   "file_extension": ".py",
   "mimetype": "text/x-python",
   "name": "python",
   "nbconvert_exporter": "python",
   "pygments_lexer": "ipython3",
   "version": "3.7.9"
  },
  "toc": {
   "base_numbering": 1,
   "nav_menu": {},
   "number_sections": false,
   "sideBar": true,
   "skip_h1_title": false,
   "title_cell": "Table of Contents",
   "title_sidebar": "Contents",
   "toc_cell": false,
   "toc_position": {
    "height": "calc(100% - 180px)",
    "left": "10px",
    "top": "150px",
    "width": "165px"
   },
   "toc_section_display": true,
   "toc_window_display": true
  }
 },
 "nbformat": 4,
 "nbformat_minor": 4
}

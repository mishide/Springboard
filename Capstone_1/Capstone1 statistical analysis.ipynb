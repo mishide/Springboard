{
 "cells": [
  {
   "cell_type": "markdown",
   "metadata": {},
   "source": [
    "#### Summary of data cleaning for statistical analysis<br>\n",
    "<b>Data Description:</b>  There are 2 files for this project, described as identical except for the \"class\" column in each.  <br> One file classifies the measurements into 1) normal and 2) abnormal, while the second file categorizes more deeply into 1) normal, 2) hernia, and 2) spondylolisthesis.<br>\n",
    "<b>Confirmation of description:</b>  Exploration confirms the files appear to be identical.  The columns are the same, the number of unique values and total values are the same, and the mean & standard deviations of the values are the same, except for abnormal values in 'class', which, as expected, has the \"abnormal\" values of the one file, categorized into \"hernia\", and \"spondylolishesis\" in the other file.<br>\n",
    "<b>Null Values:</b>  There are no null values, if there were I would have removed these records in this case.<br>\n",
    "<b>Duplicates:</b>  No reason to address identical values for this case, they are actually expected for medical measurements and should be left.<br>\n",
    "<b>Outlier's:</b>  Outlier's identified for any degree above 360 since we are working with a 2-dimensional space which does not have >360 degrees and removed after merging files for ease-of-use<br>\n",
    "<br>\n",
    "<br>\n",
    "\n",
    "The initial exploration summary follows the data cleaning below....\\*\n"
   ]
  },
  {
   "cell_type": "code",
   "execution_count": 3,
   "metadata": {},
   "outputs": [],
   "source": [
    "#  Load Libraries\n",
    "import pandas as pd\n",
    "import numpy as np\n",
    "import matplotlib.pyplot as plt\n",
    "import seaborn as sns"
   ]
  },
  {
   "cell_type": "code",
   "execution_count": 4,
   "metadata": {},
   "outputs": [
    {
     "data": {
      "text/html": [
       "<div>\n",
       "<style scoped>\n",
       "    .dataframe tbody tr th:only-of-type {\n",
       "        vertical-align: middle;\n",
       "    }\n",
       "\n",
       "    .dataframe tbody tr th {\n",
       "        vertical-align: top;\n",
       "    }\n",
       "\n",
       "    .dataframe thead th {\n",
       "        text-align: right;\n",
       "    }\n",
       "</style>\n",
       "<table border=\"1\" class=\"dataframe\">\n",
       "  <thead>\n",
       "    <tr style=\"text-align: right;\">\n",
       "      <th></th>\n",
       "      <th>pelvic_incidence</th>\n",
       "      <th>pelvic_tilt numeric</th>\n",
       "      <th>lumbar_lordosis_angle</th>\n",
       "      <th>sacral_slope</th>\n",
       "      <th>pelvic_radius</th>\n",
       "      <th>degree_spondylolisthesis</th>\n",
       "    </tr>\n",
       "  </thead>\n",
       "  <tbody>\n",
       "    <tr>\n",
       "      <td>count</td>\n",
       "      <td>310.000000</td>\n",
       "      <td>310.000000</td>\n",
       "      <td>310.000000</td>\n",
       "      <td>310.000000</td>\n",
       "      <td>310.000000</td>\n",
       "      <td>310.000000</td>\n",
       "    </tr>\n",
       "    <tr>\n",
       "      <td>mean</td>\n",
       "      <td>60.496653</td>\n",
       "      <td>17.542822</td>\n",
       "      <td>51.930930</td>\n",
       "      <td>42.953831</td>\n",
       "      <td>117.920655</td>\n",
       "      <td>26.296694</td>\n",
       "    </tr>\n",
       "    <tr>\n",
       "      <td>std</td>\n",
       "      <td>17.236520</td>\n",
       "      <td>10.008330</td>\n",
       "      <td>18.554064</td>\n",
       "      <td>13.423102</td>\n",
       "      <td>13.317377</td>\n",
       "      <td>37.559027</td>\n",
       "    </tr>\n",
       "    <tr>\n",
       "      <td>min</td>\n",
       "      <td>26.147921</td>\n",
       "      <td>-6.554948</td>\n",
       "      <td>14.000000</td>\n",
       "      <td>13.366931</td>\n",
       "      <td>70.082575</td>\n",
       "      <td>-11.058179</td>\n",
       "    </tr>\n",
       "    <tr>\n",
       "      <td>25%</td>\n",
       "      <td>46.430294</td>\n",
       "      <td>10.667069</td>\n",
       "      <td>37.000000</td>\n",
       "      <td>33.347122</td>\n",
       "      <td>110.709196</td>\n",
       "      <td>1.603727</td>\n",
       "    </tr>\n",
       "    <tr>\n",
       "      <td>50%</td>\n",
       "      <td>58.691038</td>\n",
       "      <td>16.357689</td>\n",
       "      <td>49.562398</td>\n",
       "      <td>42.404912</td>\n",
       "      <td>118.268178</td>\n",
       "      <td>11.767934</td>\n",
       "    </tr>\n",
       "    <tr>\n",
       "      <td>75%</td>\n",
       "      <td>72.877696</td>\n",
       "      <td>22.120395</td>\n",
       "      <td>63.000000</td>\n",
       "      <td>52.695888</td>\n",
       "      <td>125.467674</td>\n",
       "      <td>41.287352</td>\n",
       "    </tr>\n",
       "    <tr>\n",
       "      <td>max</td>\n",
       "      <td>129.834041</td>\n",
       "      <td>49.431864</td>\n",
       "      <td>125.742385</td>\n",
       "      <td>121.429566</td>\n",
       "      <td>163.071041</td>\n",
       "      <td>418.543082</td>\n",
       "    </tr>\n",
       "  </tbody>\n",
       "</table>\n",
       "</div>"
      ],
      "text/plain": [
       "       pelvic_incidence  pelvic_tilt numeric  lumbar_lordosis_angle  \\\n",
       "count        310.000000           310.000000             310.000000   \n",
       "mean          60.496653            17.542822              51.930930   \n",
       "std           17.236520            10.008330              18.554064   \n",
       "min           26.147921            -6.554948              14.000000   \n",
       "25%           46.430294            10.667069              37.000000   \n",
       "50%           58.691038            16.357689              49.562398   \n",
       "75%           72.877696            22.120395              63.000000   \n",
       "max          129.834041            49.431864             125.742385   \n",
       "\n",
       "       sacral_slope  pelvic_radius  degree_spondylolisthesis  \n",
       "count    310.000000     310.000000                310.000000  \n",
       "mean      42.953831     117.920655                 26.296694  \n",
       "std       13.423102      13.317377                 37.559027  \n",
       "min       13.366931      70.082575                -11.058179  \n",
       "25%       33.347122     110.709196                  1.603727  \n",
       "50%       42.404912     118.268178                 11.767934  \n",
       "75%       52.695888     125.467674                 41.287352  \n",
       "max      121.429566     163.071041                418.543082  "
      ]
     },
     "execution_count": 4,
     "metadata": {},
     "output_type": "execute_result"
    }
   ],
   "source": [
    "# Read first file in and print description\n",
    "classify = pd.read_csv('weka2c.csv')\n",
    "classify.describe()"
   ]
  },
  {
   "cell_type": "code",
   "execution_count": 5,
   "metadata": {},
   "outputs": [
    {
     "data": {
      "text/html": [
       "<div>\n",
       "<style scoped>\n",
       "    .dataframe tbody tr th:only-of-type {\n",
       "        vertical-align: middle;\n",
       "    }\n",
       "\n",
       "    .dataframe tbody tr th {\n",
       "        vertical-align: top;\n",
       "    }\n",
       "\n",
       "    .dataframe thead th {\n",
       "        text-align: right;\n",
       "    }\n",
       "</style>\n",
       "<table border=\"1\" class=\"dataframe\">\n",
       "  <thead>\n",
       "    <tr style=\"text-align: right;\">\n",
       "      <th></th>\n",
       "      <th>pelvic_incidence</th>\n",
       "      <th>pelvic_tilt</th>\n",
       "      <th>lumbar_lordosis_angle</th>\n",
       "      <th>sacral_slope</th>\n",
       "      <th>pelvic_radius</th>\n",
       "      <th>degree_spondylolisthesis</th>\n",
       "    </tr>\n",
       "  </thead>\n",
       "  <tbody>\n",
       "    <tr>\n",
       "      <td>count</td>\n",
       "      <td>310.000000</td>\n",
       "      <td>310.000000</td>\n",
       "      <td>310.000000</td>\n",
       "      <td>310.000000</td>\n",
       "      <td>310.000000</td>\n",
       "      <td>310.000000</td>\n",
       "    </tr>\n",
       "    <tr>\n",
       "      <td>mean</td>\n",
       "      <td>60.496653</td>\n",
       "      <td>17.542822</td>\n",
       "      <td>51.930930</td>\n",
       "      <td>42.953831</td>\n",
       "      <td>117.920655</td>\n",
       "      <td>26.296694</td>\n",
       "    </tr>\n",
       "    <tr>\n",
       "      <td>std</td>\n",
       "      <td>17.236520</td>\n",
       "      <td>10.008330</td>\n",
       "      <td>18.554064</td>\n",
       "      <td>13.423102</td>\n",
       "      <td>13.317377</td>\n",
       "      <td>37.559027</td>\n",
       "    </tr>\n",
       "    <tr>\n",
       "      <td>min</td>\n",
       "      <td>26.147921</td>\n",
       "      <td>-6.554948</td>\n",
       "      <td>14.000000</td>\n",
       "      <td>13.366931</td>\n",
       "      <td>70.082575</td>\n",
       "      <td>-11.058179</td>\n",
       "    </tr>\n",
       "    <tr>\n",
       "      <td>25%</td>\n",
       "      <td>46.430294</td>\n",
       "      <td>10.667069</td>\n",
       "      <td>37.000000</td>\n",
       "      <td>33.347122</td>\n",
       "      <td>110.709196</td>\n",
       "      <td>1.603727</td>\n",
       "    </tr>\n",
       "    <tr>\n",
       "      <td>50%</td>\n",
       "      <td>58.691038</td>\n",
       "      <td>16.357689</td>\n",
       "      <td>49.562398</td>\n",
       "      <td>42.404912</td>\n",
       "      <td>118.268178</td>\n",
       "      <td>11.767934</td>\n",
       "    </tr>\n",
       "    <tr>\n",
       "      <td>75%</td>\n",
       "      <td>72.877696</td>\n",
       "      <td>22.120395</td>\n",
       "      <td>63.000000</td>\n",
       "      <td>52.695888</td>\n",
       "      <td>125.467674</td>\n",
       "      <td>41.287352</td>\n",
       "    </tr>\n",
       "    <tr>\n",
       "      <td>max</td>\n",
       "      <td>129.834041</td>\n",
       "      <td>49.431864</td>\n",
       "      <td>125.742385</td>\n",
       "      <td>121.429566</td>\n",
       "      <td>163.071041</td>\n",
       "      <td>418.543082</td>\n",
       "    </tr>\n",
       "  </tbody>\n",
       "</table>\n",
       "</div>"
      ],
      "text/plain": [
       "       pelvic_incidence  pelvic_tilt  lumbar_lordosis_angle  sacral_slope  \\\n",
       "count        310.000000   310.000000             310.000000    310.000000   \n",
       "mean          60.496653    17.542822              51.930930     42.953831   \n",
       "std           17.236520    10.008330              18.554064     13.423102   \n",
       "min           26.147921    -6.554948              14.000000     13.366931   \n",
       "25%           46.430294    10.667069              37.000000     33.347122   \n",
       "50%           58.691038    16.357689              49.562398     42.404912   \n",
       "75%           72.877696    22.120395              63.000000     52.695888   \n",
       "max          129.834041    49.431864             125.742385    121.429566   \n",
       "\n",
       "       pelvic_radius  degree_spondylolisthesis  \n",
       "count     310.000000                310.000000  \n",
       "mean      117.920655                 26.296694  \n",
       "std        13.317377                 37.559027  \n",
       "min        70.082575                -11.058179  \n",
       "25%       110.709196                  1.603727  \n",
       "50%       118.268178                 11.767934  \n",
       "75%       125.467674                 41.287352  \n",
       "max       163.071041                418.543082  "
      ]
     },
     "execution_count": 5,
     "metadata": {},
     "output_type": "execute_result"
    }
   ],
   "source": [
    "# Read second file in and print description - compare to first for expected matching values\n",
    "category = pd.read_csv('weka3c.csv')\n",
    "category.describe()"
   ]
  },
  {
   "cell_type": "code",
   "execution_count": 6,
   "metadata": {},
   "outputs": [
    {
     "name": "stdout",
     "output_type": "stream",
     "text": [
      "pelvic_incidence            310\n",
      "pelvic_tilt numeric         310\n",
      "lumbar_lordosis_angle       280\n",
      "sacral_slope                281\n",
      "pelvic_radius               310\n",
      "degree_spondylolisthesis    310\n",
      "class                         2\n",
      "dtype: int64\n"
     ]
    }
   ],
   "source": [
    "# Review first file for uniqueness\n",
    "print(classify.nunique())"
   ]
  },
  {
   "cell_type": "code",
   "execution_count": 7,
   "metadata": {},
   "outputs": [
    {
     "name": "stdout",
     "output_type": "stream",
     "text": [
      "pelvic_incidence            310\n",
      "pelvic_tilt                 310\n",
      "lumbar_lordosis_angle       280\n",
      "sacral_slope                281\n",
      "pelvic_radius               310\n",
      "degree_spondylolisthesis    310\n",
      "class                         3\n",
      "dtype: int64\n"
     ]
    }
   ],
   "source": [
    "# Revies and compare second file to first\n",
    "print(category.nunique())"
   ]
  },
  {
   "cell_type": "code",
   "execution_count": 8,
   "metadata": {},
   "outputs": [
    {
     "data": {
      "text/plain": [
       "Abnormal    210\n",
       "Normal      100\n",
       "Name: class, dtype: int64"
      ]
     },
     "execution_count": 8,
     "metadata": {},
     "output_type": "execute_result"
    }
   ],
   "source": [
    "# Review the \"class\" column in the first file\n",
    "classify[\"class\"].value_counts()"
   ]
  },
  {
   "cell_type": "code",
   "execution_count": 9,
   "metadata": {},
   "outputs": [
    {
     "data": {
      "text/plain": [
       "Spondylolisthesis    150\n",
       "Normal               100\n",
       "Hernia                60\n",
       "Name: class, dtype: int64"
      ]
     },
     "execution_count": 9,
     "metadata": {},
     "output_type": "execute_result"
    }
   ],
   "source": [
    "# Review the \"class\" column in the second file - note the differences with the first\n",
    "# Also note they have the  same number of \"Normal\" values, we expect these to be identical\n",
    "category[\"class\"].value_counts()"
   ]
  },
  {
   "cell_type": "code",
   "execution_count": 34,
   "metadata": {},
   "outputs": [
    {
     "name": "stdout",
     "output_type": "stream",
     "text": [
      "   incidence       tilt      angle      slope      radius     degree category  \\\n",
      "0  63.027818  22.552586  39.609117  40.475232   98.672917  -0.254400   Hernia   \n",
      "1  39.056951  10.060991  25.015378  28.995960  114.405425   4.564259   Hernia   \n",
      "2  68.832021  22.218482  50.092194  46.613539  105.985135  -3.530317   Hernia   \n",
      "3  69.297008  24.652878  44.311238  44.644130  101.868495  11.211523   Hernia   \n",
      "4  49.712859   9.652075  28.317406  40.060784  108.168725   7.918501   Hernia   \n",
      "\n",
      "      class  \n",
      "0  Abnormal  \n",
      "1  Abnormal  \n",
      "2  Abnormal  \n",
      "3  Abnormal  \n",
      "4  Abnormal  \n"
     ]
    }
   ],
   "source": [
    "#  Merge the files and rename the columns for ease-of-use\n",
    "#  Note from now on the only separation of the 2 files is the 2 columns \"category\" and \"class\"\n",
    "df = pd.merge(category, classify, on='degree_spondylolisthesis', how='right')\n",
    "df2 = df[['pelvic_incidence_x', 'pelvic_tilt', 'lumbar_lordosis_angle_x', 'sacral_slope_x', 'pelvic_radius_x', 'degree_spondylolisthesis','class_x','class_y']]\n",
    "df = df2.rename(columns = {'pelvic_incidence_x':'incidence', 'pelvic_tilt': 'tilt', 'lumbar_lordosis_angle_x': 'angle', 'sacral_slope_x': 'slope', 'pelvic_radius_x': 'radius', 'degree_spondylolisthesis' : 'degree', 'class_x' : 'category', 'class_y':'class'})\n",
    "print(df.head())"
   ]
  },
  {
   "cell_type": "code",
   "execution_count": 35,
   "metadata": {},
   "outputs": [],
   "source": [
    "# slice and plot \"normal\" data from both the category and class\n",
    "classified = df.loc[df['class'] == 'Normal']['degree']\n",
    "categorized = df.loc[df['category'] == 'Normal']['degree']"
   ]
  },
  {
   "cell_type": "code",
   "execution_count": 36,
   "metadata": {},
   "outputs": [
    {
     "data": {
      "image/png": "[encoded data removed]",
      "text/plain": [
       "<Figure size 432x288 with 1 Axes>"
      ]
     },
     "metadata": {
      "needs_background": "light"
     },
     "output_type": "display_data"
    }
   ],
   "source": [
    "# The plot shows all lines in brown, indicating both data points overlap\n",
    "# Note this is a nice confirmation that the data is as expected, the normal values for both match.\n",
    "_ = plt.hist(classified, histtype = 'step', bins=30, alpha = 0.5, color = 'red', label = 'classified data')\n",
    "_ = plt.hist(categorized, histtype = 'step', bins=30, alpha=0.5, color ='green', label = 'categorized data')\n",
    "_ = plt.xlabel(\"normal\")\n",
    "_ = plt.ylabel(\"number\")\n",
    "_ = plt.legend()"
   ]
  },
  {
   "cell_type": "code",
   "execution_count": 37,
   "metadata": {},
   "outputs": [],
   "source": [
    "# slice and plot \"abnormal\" data from both the category and class\n",
    "classified = df.loc[df['class'] == 'Abnormal']['degree']\n",
    "categorized = df.loc[df['category'] != 'Normal']['degree']"
   ]
  },
  {
   "cell_type": "code",
   "execution_count": 38,
   "metadata": {},
   "outputs": [
    {
     "data": {
      "image/png": "[encoded data removed]",
      "text/plain": [
       "<Figure size 432x288 with 1 Axes>"
      ]
     },
     "metadata": {
      "needs_background": "light"
     },
     "output_type": "display_data"
    }
   ],
   "source": [
    "# The plot shows all lines in brown, indicating both data points overlap\n",
    "# Note we see values > 360 \n",
    "_ = plt.hist(classified, histtype = 'step', bins=30, alpha = 0.5, color = 'red', label = 'classified data')\n",
    "_ = plt.hist(categorized, histtype = 'step', bins=30, alpha=0.5, color ='green', label = 'categorized data')\n",
    "_ = plt.xlabel(\"normal\")\n",
    "_ = plt.ylabel(\"number\")\n",
    "_ = plt.legend()"
   ]
  },
  {
   "cell_type": "code",
   "execution_count": 39,
   "metadata": {},
   "outputs": [],
   "source": [
    "# remove the ouliers, values > 360\n",
    "df = df.loc[df['degree'] <= 360]"
   ]
  },
  {
   "cell_type": "markdown",
   "metadata": {},
   "source": [
    "#### Analysis <br>\n"
   ]
  },
  {
   "cell_type": "code",
   "execution_count": 40,
   "metadata": {},
   "outputs": [],
   "source": [
    "# slice and plot \"abnormal\" data from both the category and class\n",
    "classified = df.loc[df['class'] == 'Abnormal']['degree']\n",
    "hernia = df.loc[df['category'] == 'Hernia']['degree']\n",
    "spondylolisthesis = df.loc[df['category'] == 'Spondylolisthesis']['degree']"
   ]
  },
  {
   "cell_type": "code",
   "execution_count": 41,
   "metadata": {},
   "outputs": [
    {
     "data": {
      "image/png": "[encoded data removed]",
      "text/plain": [
       "<Figure size 432x288 with 1 Axes>"
      ]
     },
     "metadata": {
      "needs_background": "light"
     },
     "output_type": "display_data"
    }
   ],
   "source": [
    "# The plot overlaps the abnormal (red) from one file with categorized (blue & green)\n",
    "# Note we see hernia patients have less degree of spondylolisthesis but still overlap\n",
    "_ = plt.hist(classified, histtype = 'step', bins=30, alpha = 0.5, color = 'red', label = 'all abnormal data')\n",
    "_ = plt.hist(hernia, histtype = 'step', bins=30, alpha=0.5, color ='green', label = 'hernia data')\n",
    "_ = plt.hist(spondylolisthesis, histtype = 'step', bins=30, alpha=0.5, color ='blue', label = 'spondylolisthesis data')\n",
    "_ = plt.xlabel(\"normal\")\n",
    "_ = plt.ylabel(\"number\")\n",
    "_ = plt.legend()"
   ]
  },
  {
   "cell_type": "markdown",
   "metadata": {},
   "source": [
    "### Below we see normal in red overlaps the abnormal values in green.  The degree of sponsylolesthesis is not a single measurement for determining normal vs abnormal values.  The rest of the features are graphed below and we can see correlation patterns."
   ]
  },
  {
   "cell_type": "code",
   "execution_count": 51,
   "metadata": {},
   "outputs": [
    {
     "data": {
      "text/plain": [
       "(array([39., 30., 50., 32., 29., 15.,  5.,  4.,  3.,  2.]),\n",
       " array([-10.67587083,   5.26708734,  21.21004552,  37.15300369,\n",
       "         53.09596186,  69.03892004,  84.98187821, 100.92483638,\n",
       "        116.86779455, 132.81075273, 148.7537109 ]),\n",
       " [<matplotlib.patches.Polygon at 0x1ab1b01be08>])"
      ]
     },
     "execution_count": 51,
     "metadata": {},
     "output_type": "execute_result"
    },
    {
     "data": {
      "image/png": "[encoded data removed]",
      "text/plain": [
       "<Figure size 1080x360 with 1 Axes>"
      ]
     },
     "metadata": {
      "needs_background": "light"
     },
     "output_type": "display_data"
    }
   ],
   "source": [
    "normal = df[df['class'] == 'Normal']['degree']\n",
    "abnormal = df[df['class'] == 'Abnormal']['degree']\n",
    "\n",
    "plt.figure(figsize=[15,5])\n",
    "plt.hist(normal, histtype='step', color = 'red')\n",
    "plt.hist(abnormal, histtype='step', color = 'green')"
   ]
  },
  {
   "cell_type": "markdown",
   "metadata": {},
   "source": [
    "from the above figure we see what could be an outlier >360 degrees, upon consultation with physician it is suggested an adjustment should be made by subtracting 360 degrees from the reading.  Without knowing more I've decided to remove the value as a potential outlier and continue without this reading."
   ]
  },
  {
   "cell_type": "code",
   "execution_count": 54,
   "metadata": {},
   "outputs": [
    {
     "ename": "SyntaxError",
     "evalue": "invalid syntax (<ipython-input-54-c7e2acee3ba9>, line 2)",
     "output_type": "error",
     "traceback": [
      "\u001b[1;36m  File \u001b[1;32m\"<ipython-input-54-c7e2acee3ba9>\"\u001b[1;36m, line \u001b[1;32m2\u001b[0m\n\u001b[1;33m    df = df.loc[df[df = df.loc[df['degree'] < 35]] > 1]\u001b[0m\n\u001b[1;37m                      ^\u001b[0m\n\u001b[1;31mSyntaxError\u001b[0m\u001b[1;31m:\u001b[0m invalid syntax\n"
     ]
    }
   ],
   "source": [
    "df = df.loc[df['degree'] < 35]\n",
    "df = df.loc[df[df = df.loc[df['degree'] < 35]] > 1]\n",
    "hernia = df[df.class_x == 'Hernia'][df = df.loc[df['degree'] < 35]\n",
    "']\n",
    "Spondylolisthesis = df[df.class_x == 'Spondylolisthesis'][df = df.loc[df['degree'] < 35]\n",
    "']\n",
    "normal = df[df.class_x == 'Normal'][df = df.loc[df['degree'] < 35]\n",
    "']\n",
    "\n",
    "plt.figure(figsize=[15,5])\n",
    "plt.hist(hernia, histtype='step', color = 'red')\n",
    "plt.hist(normal, histtype='step', color = 'green')\n",
    "plt.hist(Spondylolisthesis,  histtype='step', color = 'blue')"
   ]
  },
  {
   "cell_type": "code",
   "execution_count": null,
   "metadata": {},
   "outputs": [],
   "source": [
    "df3 = df2.copy(deep=True)\n",
    "df3 = df3.loc[df3['degree_spondylolisthesis'] < 20]\n",
    "df3 = df3[['pelvic_incidence_y', 'class_x']]\n",
    "hernia = df3[df3.class_x == 'Hernia']['pelvic_incidence_y']\n",
    "Spondylolisthesis = df3[df3.class_x == 'Spondylolisthesis']['pelvic_incidence_y']\n",
    "normal = df3[df3.class_x == 'Normal']['pelvic_incidence_y']\n",
    "\n",
    "plt.figure(figsize=[15,5])\n",
    "plt.hist(hernia, histtype='step', color = 'red')\n",
    "plt.hist(normal, histtype='step', color = 'green')\n",
    "plt.hist(Spondylolisthesis,  histtype='step', color = 'blue')"
   ]
  },
  {
   "cell_type": "code",
   "execution_count": null,
   "metadata": {},
   "outputs": [],
   "source": [
    "df3 = df2.copy(deep=True)\n",
    "df3 = df3.loc[df3['degree_spondylolisthesis'] < 50]\n",
    "df3 = df3[['sacral_slope_y', 'class_x']]\n",
    "hernia = df3[df3.class_x == 'Hernia']['sacral_slope_y']\n",
    "Spondylolisthesis = df3[df3.class_x == 'Spondylolisthesis']['sacral_slope_y']\n",
    "normal = df3[df3.class_x == 'Normal']['sacral_slope_y']\n",
    "\n",
    "plt.figure(figsize=[15,5])\n",
    "plt.hist(hernia, histtype='step', color = 'red')\n",
    "plt.hist(normal, histtype='step', color = 'green')\n",
    "plt.hist(Spondylolisthesis,  histtype='step', color = 'blue')"
   ]
  },
  {
   "cell_type": "code",
   "execution_count": null,
   "metadata": {},
   "outputs": [],
   "source": [
    "df3 = df2.copy(deep=True)\n",
    "df3 = df3.loc[df3['degree_spondylolisthesis'] < 50]\n",
    "df3 = df3[['pelvic_radius_y', 'class_x']]\n",
    "hernia = df3[df3.class_x == 'Hernia']['pelvic_radius_y']\n",
    "Spondylolisthesis = df3[df3.class_x == 'Spondylolisthesis']['pelvic_radius_y']\n",
    "normal = df3[df3.class_x == 'Normal']['pelvic_radius_y']\n",
    "\n",
    "plt.figure(figsize=[15,5])\n",
    "plt.hist(hernia, histtype='step', color = 'red')\n",
    "plt.hist(normal, histtype='step', color = 'green')\n",
    "plt.hist(Spondylolisthesis,  histtype='step', color = 'blue')"
   ]
  },
  {
   "cell_type": "code",
   "execution_count": null,
   "metadata": {},
   "outputs": [],
   "source": [
    "df3 = df2.copy(deep=True)\n",
    "df3 = df3.loc[df3['degree_spondylolisthesis'] < 50]\n",
    "df3 = df3[['lumbar_lordosis_angle_y', 'class_x']]\n",
    "hernia = df3[df3.class_x == 'Hernia']['lumbar_lordosis_angle_y']\n",
    "Spondylolisthesis = df3[df3.class_x == 'Spondylolisthesis']['lumbar_lordosis_angle_y']\n",
    "normal = df3[df3.class_x == 'Normal']['lumbar_lordosis_angle_y']\n",
    "\n",
    "plt.figure(figsize=[15,5])\n",
    "plt.hist(hernia, histtype='step', color = 'red')\n",
    "plt.hist(normal, histtype='step', color = 'green')\n",
    "plt.hist(Spondylolisthesis,  histtype='step', color = 'blue')"
   ]
  },
  {
   "cell_type": "code",
   "execution_count": null,
   "metadata": {},
   "outputs": [],
   "source": [
    "df3 = df2.copy(deep=True)\n",
    "df3 = df3.loc[df3['degree_spondylolisthesis'] < 50]\n",
    "df3 = df3[['pelvic_tilt numeric', 'class_x']]\n",
    "hernia = df3[df3.class_x == 'Hernia']['pelvic_tilt numeric']\n",
    "Spondylolisthesis = df3[df3.class_x == 'Spondylolisthesis']['pelvic_tilt numeric']\n",
    "normal = df3[df3.class_x == 'Normal']['pelvic_tilt numeric']\n",
    "\n",
    "plt.figure(figsize=[15,5])\n",
    "plt.hist(hernia, histtype='step', color = 'red')\n",
    "plt.hist(normal, histtype='step', color = 'green')\n",
    "plt.hist(Spondylolisthesis,  histtype='step', color = 'blue')"
   ]
  },
  {
   "cell_type": "markdown",
   "metadata": {},
   "source": [
    "From the above exploratinos I would pretty much ignore pelvic tilt as a feature, it is distributed almost identically as the normal.\n",
    "\n",
    "However, we can see the lumbar lardosis angle is increased for spondylolesthesis while pelvic radius is decreased.  If these two measurements were weighted, value for the pelvic radius less than 140 with lumbar lardosis angle's greater than 40 could be weighted with a higher probability for spondylolesthesis and vice versa.\n",
    "\n",
    "To separate out the herniated disc I would weight values for increased lumbar lardosis not as muc as for spondylolesthesis and decreased pelvic radius but "
   ]
  },
  {
   "cell_type": "code",
   "execution_count": null,
   "metadata": {},
   "outputs": [],
   "source": [
    "df4 = df2.copy(deep=True)\n",
    "df4 = df4.loc[df4['degree_spondylolisthesis'] < 50]\n",
    "\n",
    "hernia = df4[df4.class_x == 'Hernia']\n",
    "\n",
    "print(hernia)\n",
    "\n",
    "#plt.figure(figsize=[15,5])\n",
    "#plt.hist(hernia, histtype='step', color = 'red')\n",
    "\n"
   ]
  },
  {
   "cell_type": "code",
   "execution_count": null,
   "metadata": {},
   "outputs": [],
   "source": [
    "#correlation map\n",
    "f, ax = plt.subplots(figsize=(10,10))\n",
    "sns.heatmap(df.corr(), annot=True, linewidth=\".5\", cmap=\"RdPu\", fmt=\".2f\", ax = ax)\n",
    "plt.title(\"Correlation Map\",fontsize=20)\n",
    "plt.show()"
   ]
  }
 ],
 "metadata": {
  "kernelspec": {
   "display_name": "Python 3",
   "language": "python",
   "name": "python3"
  },
  "language_info": {
   "codemirror_mode": {
    "name": "ipython",
    "version": 3
   },
   "file_extension": ".py",
   "mimetype": "text/x-python",
   "name": "python",
   "nbconvert_exporter": "python",
   "pygments_lexer": "ipython3",
   "version": "3.7.4"
  },
  "toc": {
   "base_numbering": 1,
   "nav_menu": {},
   "number_sections": true,
   "sideBar": true,
   "skip_h1_title": false,
   "title_cell": "Table of Contents",
   "title_sidebar": "Contents",
   "toc_cell": false,
   "toc_position": {},
   "toc_section_display": true,
   "toc_window_display": true
  }
 },
 "nbformat": 4,
 "nbformat_minor": 4
}

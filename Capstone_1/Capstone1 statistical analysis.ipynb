{
 "cells": [
  {
   "cell_type": "code",
   "execution_count": 142,
   "metadata": {},
   "outputs": [],
   "source": [
    "import pandas as pd\n",
    "import numpy as np\n",
    "import matplotlib.pyplot as plt\n",
    "import seaborn as sns"
   ]
  },
  {
   "cell_type": "code",
   "execution_count": 143,
   "metadata": {},
   "outputs": [
    {
     "data": {
      "text/html": [
       "<div>\n",
       "<style scoped>\n",
       "    .dataframe tbody tr th:only-of-type {\n",
       "        vertical-align: middle;\n",
       "    }\n",
       "\n",
       "    .dataframe tbody tr th {\n",
       "        vertical-align: top;\n",
       "    }\n",
       "\n",
       "    .dataframe thead th {\n",
       "        text-align: right;\n",
       "    }\n",
       "</style>\n",
       "<table border=\"1\" class=\"dataframe\">\n",
       "  <thead>\n",
       "    <tr style=\"text-align: right;\">\n",
       "      <th></th>\n",
       "      <th>pelvic_incidence</th>\n",
       "      <th>pelvic_tilt numeric</th>\n",
       "      <th>lumbar_lordosis_angle</th>\n",
       "      <th>sacral_slope</th>\n",
       "      <th>pelvic_radius</th>\n",
       "      <th>degree_spondylolisthesis</th>\n",
       "      <th>class</th>\n",
       "    </tr>\n",
       "  </thead>\n",
       "  <tbody>\n",
       "    <tr>\n",
       "      <th>0</th>\n",
       "      <td>63.027818</td>\n",
       "      <td>22.552586</td>\n",
       "      <td>39.609117</td>\n",
       "      <td>40.475232</td>\n",
       "      <td>98.672917</td>\n",
       "      <td>-0.254400</td>\n",
       "      <td>Abnormal</td>\n",
       "    </tr>\n",
       "    <tr>\n",
       "      <th>1</th>\n",
       "      <td>39.056951</td>\n",
       "      <td>10.060991</td>\n",
       "      <td>25.015378</td>\n",
       "      <td>28.995960</td>\n",
       "      <td>114.405425</td>\n",
       "      <td>4.564259</td>\n",
       "      <td>Abnormal</td>\n",
       "    </tr>\n",
       "    <tr>\n",
       "      <th>2</th>\n",
       "      <td>68.832021</td>\n",
       "      <td>22.218482</td>\n",
       "      <td>50.092194</td>\n",
       "      <td>46.613539</td>\n",
       "      <td>105.985135</td>\n",
       "      <td>-3.530317</td>\n",
       "      <td>Abnormal</td>\n",
       "    </tr>\n",
       "    <tr>\n",
       "      <th>3</th>\n",
       "      <td>69.297008</td>\n",
       "      <td>24.652878</td>\n",
       "      <td>44.311238</td>\n",
       "      <td>44.644130</td>\n",
       "      <td>101.868495</td>\n",
       "      <td>11.211523</td>\n",
       "      <td>Abnormal</td>\n",
       "    </tr>\n",
       "    <tr>\n",
       "      <th>4</th>\n",
       "      <td>49.712859</td>\n",
       "      <td>9.652075</td>\n",
       "      <td>28.317406</td>\n",
       "      <td>40.060784</td>\n",
       "      <td>108.168725</td>\n",
       "      <td>7.918501</td>\n",
       "      <td>Abnormal</td>\n",
       "    </tr>\n",
       "  </tbody>\n",
       "</table>\n",
       "</div>"
      ],
      "text/plain": [
       "   pelvic_incidence  pelvic_tilt numeric  lumbar_lordosis_angle  sacral_slope  \\\n",
       "0         63.027818            22.552586              39.609117     40.475232   \n",
       "1         39.056951            10.060991              25.015378     28.995960   \n",
       "2         68.832021            22.218482              50.092194     46.613539   \n",
       "3         69.297008            24.652878              44.311238     44.644130   \n",
       "4         49.712859             9.652075              28.317406     40.060784   \n",
       "\n",
       "   pelvic_radius  degree_spondylolisthesis     class  \n",
       "0      98.672917                 -0.254400  Abnormal  \n",
       "1     114.405425                  4.564259  Abnormal  \n",
       "2     105.985135                 -3.530317  Abnormal  \n",
       "3     101.868495                 11.211523  Abnormal  \n",
       "4     108.168725                  7.918501  Abnormal  "
      ]
     },
     "execution_count": 143,
     "metadata": {},
     "output_type": "execute_result"
    }
   ],
   "source": [
    "data = pd.read_csv('weka2c.csv')\n",
    "data.head()"
   ]
  },
  {
   "cell_type": "code",
   "execution_count": 144,
   "metadata": {},
   "outputs": [
    {
     "data": {
      "text/html": [
       "<div>\n",
       "<style scoped>\n",
       "    .dataframe tbody tr th:only-of-type {\n",
       "        vertical-align: middle;\n",
       "    }\n",
       "\n",
       "    .dataframe tbody tr th {\n",
       "        vertical-align: top;\n",
       "    }\n",
       "\n",
       "    .dataframe thead th {\n",
       "        text-align: right;\n",
       "    }\n",
       "</style>\n",
       "<table border=\"1\" class=\"dataframe\">\n",
       "  <thead>\n",
       "    <tr style=\"text-align: right;\">\n",
       "      <th></th>\n",
       "      <th>pelvic_incidence</th>\n",
       "      <th>pelvic_tilt</th>\n",
       "      <th>lumbar_lordosis_angle</th>\n",
       "      <th>sacral_slope</th>\n",
       "      <th>pelvic_radius</th>\n",
       "      <th>degree_spondylolisthesis</th>\n",
       "      <th>class</th>\n",
       "    </tr>\n",
       "  </thead>\n",
       "  <tbody>\n",
       "    <tr>\n",
       "      <th>0</th>\n",
       "      <td>63.027818</td>\n",
       "      <td>22.552586</td>\n",
       "      <td>39.609117</td>\n",
       "      <td>40.475232</td>\n",
       "      <td>98.672917</td>\n",
       "      <td>-0.254400</td>\n",
       "      <td>Hernia</td>\n",
       "    </tr>\n",
       "    <tr>\n",
       "      <th>1</th>\n",
       "      <td>39.056951</td>\n",
       "      <td>10.060991</td>\n",
       "      <td>25.015378</td>\n",
       "      <td>28.995960</td>\n",
       "      <td>114.405425</td>\n",
       "      <td>4.564259</td>\n",
       "      <td>Hernia</td>\n",
       "    </tr>\n",
       "    <tr>\n",
       "      <th>2</th>\n",
       "      <td>68.832021</td>\n",
       "      <td>22.218482</td>\n",
       "      <td>50.092194</td>\n",
       "      <td>46.613539</td>\n",
       "      <td>105.985135</td>\n",
       "      <td>-3.530317</td>\n",
       "      <td>Hernia</td>\n",
       "    </tr>\n",
       "    <tr>\n",
       "      <th>3</th>\n",
       "      <td>69.297008</td>\n",
       "      <td>24.652878</td>\n",
       "      <td>44.311238</td>\n",
       "      <td>44.644130</td>\n",
       "      <td>101.868495</td>\n",
       "      <td>11.211523</td>\n",
       "      <td>Hernia</td>\n",
       "    </tr>\n",
       "    <tr>\n",
       "      <th>4</th>\n",
       "      <td>49.712859</td>\n",
       "      <td>9.652075</td>\n",
       "      <td>28.317406</td>\n",
       "      <td>40.060784</td>\n",
       "      <td>108.168725</td>\n",
       "      <td>7.918501</td>\n",
       "      <td>Hernia</td>\n",
       "    </tr>\n",
       "  </tbody>\n",
       "</table>\n",
       "</div>"
      ],
      "text/plain": [
       "   pelvic_incidence  pelvic_tilt  lumbar_lordosis_angle  sacral_slope  \\\n",
       "0         63.027818    22.552586              39.609117     40.475232   \n",
       "1         39.056951    10.060991              25.015378     28.995960   \n",
       "2         68.832021    22.218482              50.092194     46.613539   \n",
       "3         69.297008    24.652878              44.311238     44.644130   \n",
       "4         49.712859     9.652075              28.317406     40.060784   \n",
       "\n",
       "   pelvic_radius  degree_spondylolisthesis   class  \n",
       "0      98.672917                 -0.254400  Hernia  \n",
       "1     114.405425                  4.564259  Hernia  \n",
       "2     105.985135                 -3.530317  Hernia  \n",
       "3     101.868495                 11.211523  Hernia  \n",
       "4     108.168725                  7.918501  Hernia  "
      ]
     },
     "execution_count": 144,
     "metadata": {},
     "output_type": "execute_result"
    }
   ],
   "source": [
    "o_data = pd.read_csv('weka3c.csv')\n",
    "o_data.head()"
   ]
  },
  {
   "cell_type": "code",
   "execution_count": 145,
   "metadata": {},
   "outputs": [
    {
     "name": "stdout",
     "output_type": "stream",
     "text": [
      "pelvic_incidence            310\n",
      "pelvic_tilt                 310\n",
      "lumbar_lordosis_angle       280\n",
      "sacral_slope                281\n",
      "pelvic_radius               310\n",
      "degree_spondylolisthesis    310\n",
      "class                         3\n",
      "dtype: int64\n"
     ]
    }
   ],
   "source": [
    "print(o_data.nunique())"
   ]
  },
  {
   "cell_type": "code",
   "execution_count": 146,
   "metadata": {},
   "outputs": [
    {
     "name": "stdout",
     "output_type": "stream",
     "text": [
      "pelvic_incidence            310\n",
      "pelvic_tilt numeric         310\n",
      "lumbar_lordosis_angle       280\n",
      "sacral_slope                281\n",
      "pelvic_radius               310\n",
      "degree_spondylolisthesis    310\n",
      "class                         2\n",
      "dtype: int64\n"
     ]
    }
   ],
   "source": [
    "print(data.nunique())"
   ]
  },
  {
   "cell_type": "code",
   "execution_count": 147,
   "metadata": {},
   "outputs": [
    {
     "data": {
      "text/plain": [
       "Abnormal    210\n",
       "Normal      100\n",
       "Name: class, dtype: int64"
      ]
     },
     "execution_count": 147,
     "metadata": {},
     "output_type": "execute_result"
    }
   ],
   "source": [
    "data[\"class\"].value_counts()"
   ]
  },
  {
   "cell_type": "code",
   "execution_count": 148,
   "metadata": {},
   "outputs": [
    {
     "data": {
      "text/plain": [
       "Spondylolisthesis    150\n",
       "Normal               100\n",
       "Hernia                60\n",
       "Name: class, dtype: int64"
      ]
     },
     "execution_count": 148,
     "metadata": {},
     "output_type": "execute_result"
    }
   ],
   "source": [
    "o_data[\"class\"].value_counts()"
   ]
  },
  {
   "cell_type": "markdown",
   "metadata": {},
   "source": [
    "I'm going to look at a couple things initially to see what the data looks like, and resolve any potential issues.\n",
    "\n",
    "1-combine the files and compare classes to ensure there is not a \"normal\" class that has a hernia or spondylolesthesis\n",
    "\n",
    "2-separate the classes and compare to degree_spondylolisthesis, see what the separation looks like\n",
    "\n",
    "3-look at correlation between classification and various measurements"
   ]
  },
  {
   "cell_type": "markdown",
   "metadata": {},
   "source": [
    "1- I don't know about you but I'm curious to see if the \"class\" feature of both files match well and I'd like to combine the measurements into 1 file with both classes.  Luckily I can see that degree_spondylolisthesis has 310 unique values and therefore can use these values as \"keys\" to do a merge on the 2 files."
   ]
  },
  {
   "cell_type": "code",
   "execution_count": 149,
   "metadata": {},
   "outputs": [
    {
     "name": "stdout",
     "output_type": "stream",
     "text": [
      "     pelvic_incidence_x  pelvic_tilt  lumbar_lordosis_angle_x  sacral_slope_x  \\\n",
      "0             63.027818    22.552586                39.609117       40.475232   \n",
      "1             39.056951    10.060991                25.015378       28.995960   \n",
      "2             68.832021    22.218482                50.092194       46.613539   \n",
      "3             69.297008    24.652878                44.311238       44.644130   \n",
      "4             49.712859     9.652075                28.317406       40.060784   \n",
      "..                  ...          ...                      ...             ...   \n",
      "305           47.903565    13.616688                36.000000       34.286877   \n",
      "306           53.936748    20.721496                29.220534       33.215251   \n",
      "307           61.446597    22.694968                46.170347       38.751628   \n",
      "308           45.252792     8.693157                41.583126       36.559635   \n",
      "309           33.841641     5.073991                36.641233       28.767649   \n",
      "\n",
      "     pelvic_radius_x  degree_spondylolisthesis class_x  pelvic_incidence_y  \\\n",
      "0          98.672917                 -0.254400  Hernia           63.027818   \n",
      "1         114.405425                  4.564259  Hernia           39.056951   \n",
      "2         105.985135                 -3.530317  Hernia           68.832021   \n",
      "3         101.868495                 11.211523  Hernia           69.297008   \n",
      "4         108.168725                  7.918501  Hernia           49.712859   \n",
      "..               ...                       ...     ...                 ...   \n",
      "305       117.449062                 -4.245395  Normal           47.903565   \n",
      "306       114.365845                 -0.421010  Normal           53.936748   \n",
      "307       125.670725                 -2.707880  Normal           61.446597   \n",
      "308       118.545842                  0.214750  Normal           45.252792   \n",
      "309       123.945244                 -0.199249  Normal           33.841641   \n",
      "\n",
      "     pelvic_tilt numeric  lumbar_lordosis_angle_y  sacral_slope_y  \\\n",
      "0              22.552586                39.609117       40.475232   \n",
      "1              10.060991                25.015378       28.995960   \n",
      "2              22.218482                50.092194       46.613539   \n",
      "3              24.652878                44.311238       44.644130   \n",
      "4               9.652075                28.317406       40.060784   \n",
      "..                   ...                      ...             ...   \n",
      "305            13.616688                36.000000       34.286877   \n",
      "306            20.721496                29.220534       33.215251   \n",
      "307            22.694968                46.170347       38.751628   \n",
      "308             8.693157                41.583126       36.559635   \n",
      "309             5.073991                36.641233       28.767649   \n",
      "\n",
      "     pelvic_radius_y   class_y  \n",
      "0          98.672917  Abnormal  \n",
      "1         114.405425  Abnormal  \n",
      "2         105.985135  Abnormal  \n",
      "3         101.868495  Abnormal  \n",
      "4         108.168725  Abnormal  \n",
      "..               ...       ...  \n",
      "305       117.449062    Normal  \n",
      "306       114.365845    Normal  \n",
      "307       125.670725    Normal  \n",
      "308       118.545842    Normal  \n",
      "309       123.945244    Normal  \n",
      "\n",
      "[310 rows x 13 columns]\n"
     ]
    }
   ],
   "source": [
    "#merge both files\n",
    "df2 = pd.merge(o_data, data, on='degree_spondylolisthesis', how='outer')\n",
    "print(df2)"
   ]
  },
  {
   "cell_type": "code",
   "execution_count": 150,
   "metadata": {},
   "outputs": [],
   "source": [
    "df = df2.copy(deep=True)\n",
    "df = df[[\"degree_spondylolisthesis\", \"class_x\", \"class_y\"]]"
   ]
  },
  {
   "cell_type": "code",
   "execution_count": 151,
   "metadata": {},
   "outputs": [
    {
     "data": {
      "image/png": "[encoded data removed]",
      "text/plain": [
       "<Figure size 432x288 with 1 Axes>"
      ]
     },
     "metadata": {
      "needs_background": "light"
     },
     "output_type": "display_data"
    }
   ],
   "source": [
    "_ = plt.hist(df.class_x, bins=30, alpha = 0.5, label='class_x')\n",
    "_ = plt.hist(df.class_y, bins=30, alpha=0.5, label='class_y')\n",
    "_ = plt.xlabel(\"class\")\n",
    "_ = plt.ylabel(\"number\")\n",
    "_ = plt.legend()"
   ]
  },
  {
   "cell_type": "code",
   "execution_count": 152,
   "metadata": {},
   "outputs": [
    {
     "data": {
      "text/plain": [
       "(array([76., 59., 12.,  2.,  0.,  0.,  0.,  0.,  0.,  1.]),\n",
       " array([  1.01004051,  42.76334467,  84.51664883, 126.26995299,\n",
       "        168.02325715, 209.77656131, 251.52986546, 293.28316962,\n",
       "        335.03647378, 376.78977794, 418.5430821 ]),\n",
       " <a list of 1 Patch objects>)"
      ]
     },
     "execution_count": 152,
     "metadata": {},
     "output_type": "execute_result"
    },
    {
     "data": {
      "image/png": "[encoded data removed]",
      "text/plain": [
       "<Figure size 1080x360 with 1 Axes>"
      ]
     },
     "metadata": {
      "needs_background": "light"
     },
     "output_type": "display_data"
    }
   ],
   "source": [
    "\n",
    "hernia = df[df.class_x == 'Hernia']['degree_spondylolisthesis']\n",
    "Spondylolisthesis = df[df.class_x == 'Spondylolisthesis']['degree_spondylolisthesis']\n",
    "normal = df[df.class_x == 'Normal']['degree_spondylolisthesis']\n",
    "\n",
    "plt.figure(figsize=[15,5])\n",
    "plt.hist(hernia, histtype='step', color = 'red')\n",
    "plt.hist(normal, histtype='step', color = 'green')\n",
    "plt.hist(Spondylolisthesis,  histtype='step', color = 'blue')\n"
   ]
  },
  {
   "cell_type": "code",
   "execution_count": 153,
   "metadata": {},
   "outputs": [
    {
     "name": "stdout",
     "output_type": "stream",
     "text": [
      "     degree_spondylolisthesis class_x   class_y\n",
      "0                   -0.254400  Hernia  Abnormal\n",
      "1                    4.564259  Hernia  Abnormal\n",
      "2                   -3.530317  Hernia  Abnormal\n",
      "3                   11.211523  Hernia  Abnormal\n",
      "4                    7.918501  Hernia  Abnormal\n",
      "..                        ...     ...       ...\n",
      "305                 -4.245395  Normal    Normal\n",
      "306                 -0.421010  Normal    Normal\n",
      "307                 -2.707880  Normal    Normal\n",
      "308                  0.214750  Normal    Normal\n",
      "309                 -0.199249  Normal    Normal\n",
      "\n",
      "[310 rows x 3 columns]\n"
     ]
    }
   ],
   "source": [
    "print(df)"
   ]
  },
  {
   "cell_type": "markdown",
   "metadata": {},
   "source": [
    "from the above figure we see what could be an outlier >360 degrees, upon consultation with physician it is suggested an adjustment should be made by subtracting 360 degrees from the reading.  Without knowing more I've decided to remove the value as a potential outlier and continue without this reading."
   ]
  },
  {
   "cell_type": "code",
   "execution_count": 165,
   "metadata": {},
   "outputs": [
    {
     "data": {
      "text/plain": [
       "(array([ 1.,  1.,  1.,  2.,  1.,  3.,  7., 15.,  9., 15.]),\n",
       " array([ 1.01004051,  4.3643311 ,  7.71862169, 11.07291228, 14.42720287,\n",
       "        17.78149346, 21.13578405, 24.49007464, 27.84436523, 31.19865582,\n",
       "        34.55294641]),\n",
       " <a list of 1 Patch objects>)"
      ]
     },
     "execution_count": 165,
     "metadata": {},
     "output_type": "execute_result"
    },
    {
     "data": {
      "image/png": "[encoded data removed]",
      "text/plain": [
       "<Figure size 1080x360 with 1 Axes>"
      ]
     },
     "metadata": {
      "needs_background": "light"
     },
     "output_type": "display_data"
    }
   ],
   "source": [
    "df = df.loc[df['degree_spondylolisthesis'] < 35]\n",
    "df = df.loc[df['degree_spondylolisthesis'] > 1]\n",
    "hernia = df[df.class_x == 'Hernia']['degree_spondylolisthesis']\n",
    "Spondylolisthesis = df[df.class_x == 'Spondylolisthesis']['degree_spondylolisthesis']\n",
    "normal = df[df.class_x == 'Normal']['degree_spondylolisthesis']\n",
    "\n",
    "plt.figure(figsize=[15,5])\n",
    "plt.hist(hernia, histtype='step', color = 'red')\n",
    "plt.hist(normal, histtype='step', color = 'green')\n",
    "plt.hist(Spondylolisthesis,  histtype='step', color = 'blue')"
   ]
  },
  {
   "cell_type": "markdown",
   "metadata": {},
   "source": [
    "There is clearly some overlap, however, Spondylolisthesis has mostly values above the normal or herniated values, these can be separated out with their corresponding probabilities.  I suggest, then taking the remaining, those with degrees less than 40 to see what correlations may separate out the herniated from the normal and spondylolesthesis.\n",
    "\n",
    "Another option is error in the data.  There is a possibility that some of these labeled as herniated should be spondylolisthesis and vice versa.   We can look at the table of definitions to determine this.\n",
    "\n",
    "One clear problem is the normal degrees clearly span across most of the herniated.  To determine the differences we need to look at other measurements and see what is the differentiating feature(s)."
   ]
  },
  {
   "cell_type": "code",
   "execution_count": 116,
   "metadata": {},
   "outputs": [
    {
     "name": "stdout",
     "output_type": "stream",
     "text": [
      "     pelvic_incidence_x  pelvic_tilt  lumbar_lordosis_angle_x  sacral_slope_x  \\\n",
      "0             63.027818    22.552586                39.609117       40.475232   \n",
      "1             39.056951    10.060991                25.015378       28.995960   \n",
      "2             68.832021    22.218482                50.092194       46.613539   \n",
      "3             69.297008    24.652878                44.311238       44.644130   \n",
      "4             49.712859     9.652075                28.317406       40.060784   \n",
      "..                  ...          ...                      ...             ...   \n",
      "305           47.903565    13.616688                36.000000       34.286877   \n",
      "306           53.936748    20.721496                29.220534       33.215251   \n",
      "307           61.446597    22.694968                46.170347       38.751628   \n",
      "308           45.252792     8.693157                41.583126       36.559635   \n",
      "309           33.841641     5.073991                36.641233       28.767649   \n",
      "\n",
      "     pelvic_radius_x  degree_spondylolisthesis class_x  pelvic_incidence_y  \\\n",
      "0          98.672917                 -0.254400  Hernia           63.027818   \n",
      "1         114.405425                  4.564259  Hernia           39.056951   \n",
      "2         105.985135                 -3.530317  Hernia           68.832021   \n",
      "3         101.868495                 11.211523  Hernia           69.297008   \n",
      "4         108.168725                  7.918501  Hernia           49.712859   \n",
      "..               ...                       ...     ...                 ...   \n",
      "305       117.449062                 -4.245395  Normal           47.903565   \n",
      "306       114.365845                 -0.421010  Normal           53.936748   \n",
      "307       125.670725                 -2.707880  Normal           61.446597   \n",
      "308       118.545842                  0.214750  Normal           45.252792   \n",
      "309       123.945244                 -0.199249  Normal           33.841641   \n",
      "\n",
      "     pelvic_tilt numeric  lumbar_lordosis_angle_y  sacral_slope_y  \\\n",
      "0              22.552586                39.609117       40.475232   \n",
      "1              10.060991                25.015378       28.995960   \n",
      "2              22.218482                50.092194       46.613539   \n",
      "3              24.652878                44.311238       44.644130   \n",
      "4               9.652075                28.317406       40.060784   \n",
      "..                   ...                      ...             ...   \n",
      "305            13.616688                36.000000       34.286877   \n",
      "306            20.721496                29.220534       33.215251   \n",
      "307            22.694968                46.170347       38.751628   \n",
      "308             8.693157                41.583126       36.559635   \n",
      "309             5.073991                36.641233       28.767649   \n",
      "\n",
      "     pelvic_radius_y   class_y  \n",
      "0          98.672917  Abnormal  \n",
      "1         114.405425  Abnormal  \n",
      "2         105.985135  Abnormal  \n",
      "3         101.868495  Abnormal  \n",
      "4         108.168725  Abnormal  \n",
      "..               ...       ...  \n",
      "305       117.449062    Normal  \n",
      "306       114.365845    Normal  \n",
      "307       125.670725    Normal  \n",
      "308       118.545842    Normal  \n",
      "309       123.945244    Normal  \n",
      "\n",
      "[310 rows x 13 columns]\n"
     ]
    }
   ],
   "source": [
    "df3 = df2.copy(deep=True)"
   ]
  },
  {
   "cell_type": "code",
   "execution_count": 119,
   "metadata": {},
   "outputs": [
    {
     "data": {
      "text/plain": [
       "(array([ 3.,  6.,  7.,  8.,  8., 11., 13.,  9.,  8.,  9.]),\n",
       " array([37.90391014, 42.67789779, 47.45188544, 52.22587309, 56.99986074,\n",
       "        61.77384839, 66.54783604, 71.32182369, 76.09581134, 80.86979899,\n",
       "        85.64378664]),\n",
       " <a list of 1 Patch objects>)"
      ]
     },
     "execution_count": 119,
     "metadata": {},
     "output_type": "execute_result"
    },
    {
     "data": {
      "image/png": "[encoded data removed]",
      "text/plain": [
       "<Figure size 1080x360 with 1 Axes>"
      ]
     },
     "metadata": {
      "needs_background": "light"
     },
     "output_type": "display_data"
    }
   ],
   "source": [
    "df3 = df2.copy(deep=True)\n",
    "df3 = df3.loc[df3['degree_spondylolisthesis'] < 20]\n",
    "df3 = df3[['pelvic_incidence_y', 'class_x']]\n",
    "hernia = df3[df3.class_x == 'Hernia']['pelvic_incidence_y']\n",
    "Spondylolisthesis = df3[df3.class_x == 'Spondylolisthesis']['pelvic_incidence_y']\n",
    "normal = df3[df3.class_x == 'Normal']['pelvic_incidence_y']\n",
    "\n",
    "plt.figure(figsize=[15,5])\n",
    "plt.hist(hernia, histtype='step', color = 'red')\n",
    "plt.hist(normal, histtype='step', color = 'green')\n",
    "plt.hist(Spondylolisthesis,  histtype='step', color = 'blue')"
   ]
  },
  {
   "cell_type": "code",
   "execution_count": 121,
   "metadata": {},
   "outputs": [
    {
     "data": {
      "text/plain": [
       "(array([ 5.,  6.,  5., 15.,  3., 11., 13., 10., 10.,  4.]),\n",
       " array([31.84245726, 35.25556088, 38.66866449, 42.08176811, 45.49487172,\n",
       "        48.90797534, 52.32107896, 55.73418257, 59.14728619, 62.5603898 ,\n",
       "        65.97349342]),\n",
       " <a list of 1 Patch objects>)"
      ]
     },
     "execution_count": 121,
     "metadata": {},
     "output_type": "execute_result"
    },
    {
     "data": {
      "image/png": "[encoded data removed]",
      "text/plain": [
       "<Figure size 1080x360 with 1 Axes>"
      ]
     },
     "metadata": {
      "needs_background": "light"
     },
     "output_type": "display_data"
    }
   ],
   "source": [
    "df3 = df2.copy(deep=True)\n",
    "df3 = df3.loc[df3['degree_spondylolisthesis'] < 50]\n",
    "df3 = df3[['sacral_slope_y', 'class_x']]\n",
    "hernia = df3[df3.class_x == 'Hernia']['sacral_slope_y']\n",
    "Spondylolisthesis = df3[df3.class_x == 'Spondylolisthesis']['sacral_slope_y']\n",
    "normal = df3[df3.class_x == 'Normal']['sacral_slope_y']\n",
    "\n",
    "plt.figure(figsize=[15,5])\n",
    "plt.hist(hernia, histtype='step', color = 'red')\n",
    "plt.hist(normal, histtype='step', color = 'green')\n",
    "plt.hist(Spondylolisthesis,  histtype='step', color = 'blue')"
   ]
  },
  {
   "cell_type": "code",
   "execution_count": 122,
   "metadata": {},
   "outputs": [
    {
     "data": {
      "text/plain": [
       "(array([ 2.,  2., 10., 17., 26., 18.,  4.,  1.,  0.,  2.]),\n",
       " array([ 70.08257486,  79.38142142,  88.68026799,  97.97911455,\n",
       "        107.27796112, 116.57680768, 125.87565424, 135.17450081,\n",
       "        144.47334737, 153.77219394, 163.0710405 ]),\n",
       " <a list of 1 Patch objects>)"
      ]
     },
     "execution_count": 122,
     "metadata": {},
     "output_type": "execute_result"
    },
    {
     "data": {
      "image/png": "[encoded data removed]",
      "text/plain": [
       "<Figure size 1080x360 with 1 Axes>"
      ]
     },
     "metadata": {
      "needs_background": "light"
     },
     "output_type": "display_data"
    }
   ],
   "source": [
    "df3 = df2.copy(deep=True)\n",
    "df3 = df3.loc[df3['degree_spondylolisthesis'] < 50]\n",
    "df3 = df3[['pelvic_radius_y', 'class_x']]\n",
    "hernia = df3[df3.class_x == 'Hernia']['pelvic_radius_y']\n",
    "Spondylolisthesis = df3[df3.class_x == 'Spondylolisthesis']['pelvic_radius_y']\n",
    "normal = df3[df3.class_x == 'Normal']['pelvic_radius_y']\n",
    "\n",
    "plt.figure(figsize=[15,5])\n",
    "plt.hist(hernia, histtype='step', color = 'red')\n",
    "plt.hist(normal, histtype='step', color = 'green')\n",
    "plt.hist(Spondylolisthesis,  histtype='step', color = 'blue')"
   ]
  },
  {
   "cell_type": "code",
   "execution_count": 123,
   "metadata": {},
   "outputs": [
    {
     "data": {
      "text/plain": [
       "(array([ 1.,  4., 13., 10., 13., 22.,  7.,  3.,  6.,  3.]),\n",
       " array([24.71027447, 31.41769654, 38.1251186 , 44.83254067, 51.53996273,\n",
       "        58.2473848 , 64.95480686, 71.66222892, 78.36965099, 85.07707305,\n",
       "        91.78449512]),\n",
       " <a list of 1 Patch objects>)"
      ]
     },
     "execution_count": 123,
     "metadata": {},
     "output_type": "execute_result"
    },
    {
     "data": {
      "image/png": "[encoded data removed]",
      "text/plain": [
       "<Figure size 1080x360 with 1 Axes>"
      ]
     },
     "metadata": {
      "needs_background": "light"
     },
     "output_type": "display_data"
    }
   ],
   "source": [
    "df3 = df2.copy(deep=True)\n",
    "df3 = df3.loc[df3['degree_spondylolisthesis'] < 50]\n",
    "df3 = df3[['lumbar_lordosis_angle_y', 'class_x']]\n",
    "hernia = df3[df3.class_x == 'Hernia']['lumbar_lordosis_angle_y']\n",
    "Spondylolisthesis = df3[df3.class_x == 'Spondylolisthesis']['lumbar_lordosis_angle_y']\n",
    "normal = df3[df3.class_x == 'Normal']['lumbar_lordosis_angle_y']\n",
    "\n",
    "plt.figure(figsize=[15,5])\n",
    "plt.hist(hernia, histtype='step', color = 'red')\n",
    "plt.hist(normal, histtype='step', color = 'green')\n",
    "plt.hist(Spondylolisthesis,  histtype='step', color = 'blue')"
   ]
  },
  {
   "cell_type": "code",
   "execution_count": 124,
   "metadata": {},
   "outputs": [
    {
     "data": {
      "text/plain": [
       "(array([ 2.,  3., 10., 14., 27., 16.,  5.,  2.,  1.,  2.]),\n",
       " array([-6.55494835, -1.630534  ,  3.29388035,  8.2182947 , 13.14270904,\n",
       "        18.06712339, 22.99153774, 27.91595209, 32.84036643, 37.76478078,\n",
       "        42.68919513]),\n",
       " <a list of 1 Patch objects>)"
      ]
     },
     "execution_count": 124,
     "metadata": {},
     "output_type": "execute_result"
    },
    {
     "data": {
      "image/png": "[encoded data removed]",
      "text/plain": [
       "<Figure size 1080x360 with 1 Axes>"
      ]
     },
     "metadata": {
      "needs_background": "light"
     },
     "output_type": "display_data"
    }
   ],
   "source": [
    "df3 = df2.copy(deep=True)\n",
    "df3 = df3.loc[df3['degree_spondylolisthesis'] < 50]\n",
    "df3 = df3[['pelvic_tilt numeric', 'class_x']]\n",
    "hernia = df3[df3.class_x == 'Hernia']['pelvic_tilt numeric']\n",
    "Spondylolisthesis = df3[df3.class_x == 'Spondylolisthesis']['pelvic_tilt numeric']\n",
    "normal = df3[df3.class_x == 'Normal']['pelvic_tilt numeric']\n",
    "\n",
    "plt.figure(figsize=[15,5])\n",
    "plt.hist(hernia, histtype='step', color = 'red')\n",
    "plt.hist(normal, histtype='step', color = 'green')\n",
    "plt.hist(Spondylolisthesis,  histtype='step', color = 'blue')"
   ]
  },
  {
   "cell_type": "markdown",
   "metadata": {},
   "source": [
    "From the above exploratinos I would pretty much ignore pelvic tilt as a feature, it is distributed almost identically as the normal.\n",
    "\n",
    "However, we can see the lumbar lardosis angle is increased for spondylolesthesis while pelvic radius is decreased.  If these two measurements were weighted, value for the pelvic radius less than 140 with lumbar lardosis angle's greater than 40 could be weighted with a higher probability for spondylolesthesis and vice versa.\n",
    "\n",
    "To separate out the herniated disc I would weight values for increased lumbar lardosis not as muc as for spondylolesthesis and decreased pelvic radius but "
   ]
  },
  {
   "cell_type": "code",
   "execution_count": 141,
   "metadata": {},
   "outputs": [
    {
     "name": "stdout",
     "output_type": "stream",
     "text": [
      "    pelvic_incidence_x  pelvic_tilt  lumbar_lordosis_angle_x  sacral_slope_x  \\\n",
      "0            63.027818    22.552586                39.609117       40.475232   \n",
      "1            39.056951    10.060991                25.015378       28.995960   \n",
      "2            68.832021    22.218482                50.092194       46.613539   \n",
      "3            69.297008    24.652878                44.311238       44.644130   \n",
      "4            49.712859     9.652075                28.317406       40.060784   \n",
      "5            40.250200    13.921907                25.124950       26.328293   \n",
      "6            53.432928    15.864336                37.165934       37.568592   \n",
      "7            45.366754    10.755611                29.038349       34.611142   \n",
      "8            43.790190    13.533753                42.690814       30.256437   \n",
      "9            36.686353     5.010884                41.948751       31.675469   \n",
      "10           49.706610    13.040974                31.334500       36.665635   \n",
      "11           31.232387    17.715819                15.500000       13.516568   \n",
      "12           48.915551    19.964556                40.263794       28.950995   \n",
      "13           53.572170    20.460828                33.100000       33.111342   \n",
      "14           57.300227    24.188885                47.000000       33.111342   \n",
      "15           44.318907    12.537992                36.098763       31.780915   \n",
      "16           63.834982    20.362507                54.552434       43.472475   \n",
      "17           31.276012     3.144669                32.562996       28.131342   \n",
      "18           38.697912    13.444749                31.000000       25.253163   \n",
      "19           41.729963    12.254074                30.122586       29.475889   \n",
      "20           43.922840    14.177959                37.832547       29.744881   \n",
      "21           54.919443    21.062332                42.200000       33.857110   \n",
      "22           63.073611    24.413803                54.000000       38.659808   \n",
      "23           45.540790    13.069598                30.298321       32.471192   \n",
      "24           36.125683    22.758753                29.000000       13.366931   \n",
      "25           54.124920    26.650489                35.329747       27.474432   \n",
      "26           26.147921    10.759454                14.000000       15.388468   \n",
      "27           43.580964    16.508884                47.000000       27.072080   \n",
      "28           44.551012    21.931147                26.785916       22.619865   \n",
      "29           66.879211    24.891999                49.278597       41.987212   \n",
      "30           50.819268    15.402213                42.528939       35.417055   \n",
      "31           46.390260    11.079047                32.136553       35.311213   \n",
      "32           44.936675    17.443838                27.780576       27.492837   \n",
      "33           38.663257    12.986441                40.000000       25.676816   \n",
      "34           59.595540    31.998244                46.560252       27.597296   \n",
      "35           31.484218     7.826221                24.284818       23.657997   \n",
      "36           32.090987     6.989378                35.998198       25.101609   \n",
      "37           35.703458    19.443253                20.700000       16.260205   \n",
      "38           55.843286    28.847448                47.690543       26.995838   \n",
      "39           52.419385    19.011561                35.872660       33.407825   \n",
      "40           35.492446    11.701672                15.590363       23.790774   \n",
      "41           46.442078     8.395036                29.037230       38.047043   \n",
      "42           53.854798    19.230643                32.779060       34.624155   \n",
      "43           66.285394    26.327845                47.500000       39.957549   \n",
      "44           56.030218    16.297915                62.275275       39.732303   \n",
      "45           50.912440    23.015169                47.000000       27.897271   \n",
      "46           48.332638    22.227784                36.181993       26.104854   \n",
      "47           41.352504    16.577364                30.706191       24.775141   \n",
      "48           40.557357    17.977784                34.000000       22.579573   \n",
      "49           41.767732    17.899402                20.030886       23.868330   \n",
      "50           55.285852    20.440118                34.000000       34.845733   \n",
      "51           74.433593    41.557331                27.700000       32.876262   \n",
      "52           50.209670    29.760122                36.104007       20.449548   \n",
      "53           30.149936    11.917445                34.000000       18.232491   \n",
      "54           41.171680    17.321206                33.469403       23.850474   \n",
      "55           47.657730    13.277385                36.679985       34.380345   \n",
      "56           43.349606     7.467469                28.065483       35.882137   \n",
      "57           46.855781    15.351514                38.000000       31.504267   \n",
      "58           43.203185    19.663146                35.000000       23.540039   \n",
      "59           48.109236    14.930725                35.564683       33.178512   \n",
      "\n",
      "    pelvic_radius_x  degree_spondylolisthesis class_x  pelvic_incidence_y  \\\n",
      "0         98.672917                 -0.254400  Hernia           63.027818   \n",
      "1        114.405425                  4.564259  Hernia           39.056951   \n",
      "2        105.985135                 -3.530317  Hernia           68.832021   \n",
      "3        101.868495                 11.211523  Hernia           69.297008   \n",
      "4        108.168725                  7.918501  Hernia           49.712859   \n",
      "5        130.327871                  2.230652  Hernia           40.250200   \n",
      "6        120.567523                  5.988551  Hernia           53.432928   \n",
      "7        117.270068                -10.675871  Hernia           45.366754   \n",
      "8        125.002893                 13.289018  Hernia           43.790190   \n",
      "9         84.241415                  0.664437  Hernia           36.686353   \n",
      "10       108.648265                 -7.825986  Hernia           49.706610   \n",
      "11       120.055399                  0.499751  Hernia           31.232387   \n",
      "12       119.321358                  8.028895  Hernia           48.915551   \n",
      "13       110.966698                  7.044803  Hernia           53.572170   \n",
      "14       116.806587                  5.766947  Hernia           57.300227   \n",
      "15       124.115836                  5.415825  Hernia           44.318907   \n",
      "16       112.309492                 -0.622527  Hernia           63.834982   \n",
      "17       129.011418                  3.623020  Hernia           31.276012   \n",
      "18       123.159251                  1.429186  Hernia           38.697912   \n",
      "19       116.585706                 -1.244402  Hernia           41.729963   \n",
      "20       134.461016                  6.451648  Hernia           43.922840   \n",
      "21       125.212716                  2.432561  Hernia           54.919443   \n",
      "22       106.424329                 15.779697  Hernia           63.073611   \n",
      "23       117.980830                 -4.987130  Hernia           45.540790   \n",
      "24       115.577116                 -3.237562  Hernia           36.125683   \n",
      "25       121.447011                  1.571205  Hernia           54.124920   \n",
      "26       125.203296                -10.093108  Hernia           26.147921   \n",
      "27       109.271634                  8.992816  Hernia           43.580964   \n",
      "28       111.072920                  2.652321  Hernia           44.551012   \n",
      "29       113.477018                 -2.005892  Hernia           66.879211   \n",
      "30       112.192804                 10.869566  Hernia           50.819268   \n",
      "31        98.774546                  6.386832  Hernia           46.390260   \n",
      "32       117.980325                  5.569620  Hernia           44.936675   \n",
      "33       124.914118                  2.703008  Hernia           38.663257   \n",
      "34       119.330354                  1.474286  Hernia           59.595540   \n",
      "35       113.833145                  4.393080  Hernia           31.484218   \n",
      "36       132.264735                  6.413428  Hernia           32.090987   \n",
      "37       137.540613                 -0.263490  Hernia           35.703458   \n",
      "38       123.311845                  2.812427  Hernia           55.843286   \n",
      "39       116.559771                  1.694705  Hernia           52.419385   \n",
      "40       106.938852                 -3.460358  Hernia           35.492446   \n",
      "41       115.481405                  2.045476  Hernia           46.442078   \n",
      "42       121.670915                  5.329843  Hernia           53.854798   \n",
      "43       121.219684                 -0.799624  Hernia           66.285394   \n",
      "44       114.023117                 -2.325684  Hernia           56.030218   \n",
      "45       117.422259                 -2.526702  Hernia           50.912440   \n",
      "46       117.384625                  6.481709  Hernia           48.332638   \n",
      "47       113.266675                 -4.497958  Hernia           41.352504   \n",
      "48       121.046246                 -1.537383  Hernia           40.557357   \n",
      "49       118.363389                  2.062963  Hernia           41.767732   \n",
      "50       115.877017                  3.558372  Hernia           55.285852   \n",
      "51       107.949304                  5.000089  Hernia           74.433593   \n",
      "52       128.292515                  5.740614  Hernia           50.209670   \n",
      "53       112.684141                 11.463223  Hernia           30.149936   \n",
      "54       116.377889                 -9.569250  Hernia           41.171680   \n",
      "55        98.249781                  6.273012  Hernia           47.657730   \n",
      "56       112.776187                  5.753277  Hernia           43.349606   \n",
      "57       116.250917                  1.662706  Hernia           46.855781   \n",
      "58       124.846109                 -2.919076  Hernia           43.203185   \n",
      "59       124.056452                  7.947905  Hernia           48.109236   \n",
      "\n",
      "    pelvic_tilt numeric  lumbar_lordosis_angle_y  sacral_slope_y  \\\n",
      "0             22.552586                39.609117       40.475232   \n",
      "1             10.060991                25.015378       28.995960   \n",
      "2             22.218482                50.092194       46.613539   \n",
      "3             24.652878                44.311238       44.644130   \n",
      "4              9.652075                28.317406       40.060784   \n",
      "5             13.921907                25.124950       26.328293   \n",
      "6             15.864336                37.165934       37.568592   \n",
      "7             10.755611                29.038349       34.611142   \n",
      "8             13.533753                42.690814       30.256437   \n",
      "9              5.010884                41.948751       31.675469   \n",
      "10            13.040974                31.334500       36.665635   \n",
      "11            17.715819                15.500000       13.516568   \n",
      "12            19.964556                40.263794       28.950995   \n",
      "13            20.460828                33.100000       33.111342   \n",
      "14            24.188885                47.000000       33.111342   \n",
      "15            12.537992                36.098763       31.780915   \n",
      "16            20.362507                54.552434       43.472475   \n",
      "17             3.144669                32.562996       28.131342   \n",
      "18            13.444749                31.000000       25.253163   \n",
      "19            12.254074                30.122586       29.475889   \n",
      "20            14.177959                37.832547       29.744881   \n",
      "21            21.062332                42.200000       33.857110   \n",
      "22            24.413803                54.000000       38.659808   \n",
      "23            13.069598                30.298321       32.471192   \n",
      "24            22.758753                29.000000       13.366931   \n",
      "25            26.650489                35.329747       27.474432   \n",
      "26            10.759454                14.000000       15.388468   \n",
      "27            16.508884                47.000000       27.072080   \n",
      "28            21.931147                26.785916       22.619865   \n",
      "29            24.891999                49.278597       41.987212   \n",
      "30            15.402213                42.528939       35.417055   \n",
      "31            11.079047                32.136553       35.311213   \n",
      "32            17.443838                27.780576       27.492837   \n",
      "33            12.986441                40.000000       25.676816   \n",
      "34            31.998244                46.560252       27.597296   \n",
      "35             7.826221                24.284818       23.657997   \n",
      "36             6.989378                35.998198       25.101609   \n",
      "37            19.443253                20.700000       16.260205   \n",
      "38            28.847448                47.690543       26.995838   \n",
      "39            19.011561                35.872660       33.407825   \n",
      "40            11.701672                15.590363       23.790774   \n",
      "41             8.395036                29.037230       38.047043   \n",
      "42            19.230643                32.779060       34.624155   \n",
      "43            26.327845                47.500000       39.957549   \n",
      "44            16.297915                62.275275       39.732303   \n",
      "45            23.015169                47.000000       27.897271   \n",
      "46            22.227784                36.181993       26.104854   \n",
      "47            16.577364                30.706191       24.775141   \n",
      "48            17.977784                34.000000       22.579573   \n",
      "49            17.899402                20.030886       23.868330   \n",
      "50            20.440118                34.000000       34.845733   \n",
      "51            41.557331                27.700000       32.876262   \n",
      "52            29.760122                36.104007       20.449548   \n",
      "53            11.917445                34.000000       18.232491   \n",
      "54            17.321206                33.469403       23.850474   \n",
      "55            13.277385                36.679985       34.380345   \n",
      "56             7.467469                28.065483       35.882137   \n",
      "57            15.351514                38.000000       31.504267   \n",
      "58            19.663146                35.000000       23.540039   \n",
      "59            14.930725                35.564683       33.178512   \n",
      "\n",
      "    pelvic_radius_y   class_y  \n",
      "0         98.672917  Abnormal  \n",
      "1        114.405425  Abnormal  \n",
      "2        105.985135  Abnormal  \n",
      "3        101.868495  Abnormal  \n",
      "4        108.168725  Abnormal  \n",
      "5        130.327871  Abnormal  \n",
      "6        120.567523  Abnormal  \n",
      "7        117.270068  Abnormal  \n",
      "8        125.002893  Abnormal  \n",
      "9         84.241415  Abnormal  \n",
      "10       108.648265  Abnormal  \n",
      "11       120.055399  Abnormal  \n",
      "12       119.321358  Abnormal  \n",
      "13       110.966698  Abnormal  \n",
      "14       116.806587  Abnormal  \n",
      "15       124.115836  Abnormal  \n",
      "16       112.309492  Abnormal  \n",
      "17       129.011418  Abnormal  \n",
      "18       123.159251  Abnormal  \n",
      "19       116.585706  Abnormal  \n",
      "20       134.461016  Abnormal  \n",
      "21       125.212716  Abnormal  \n",
      "22       106.424329  Abnormal  \n",
      "23       117.980830  Abnormal  \n",
      "24       115.577116  Abnormal  \n",
      "25       121.447011  Abnormal  \n",
      "26       125.203296  Abnormal  \n",
      "27       109.271634  Abnormal  \n",
      "28       111.072920  Abnormal  \n",
      "29       113.477018  Abnormal  \n",
      "30       112.192804  Abnormal  \n",
      "31        98.774546  Abnormal  \n",
      "32       117.980325  Abnormal  \n",
      "33       124.914118  Abnormal  \n",
      "34       119.330354  Abnormal  \n",
      "35       113.833145  Abnormal  \n",
      "36       132.264735  Abnormal  \n",
      "37       137.540613  Abnormal  \n",
      "38       123.311845  Abnormal  \n",
      "39       116.559771  Abnormal  \n",
      "40       106.938852  Abnormal  \n",
      "41       115.481405  Abnormal  \n",
      "42       121.670915  Abnormal  \n",
      "43       121.219684  Abnormal  \n",
      "44       114.023117  Abnormal  \n",
      "45       117.422259  Abnormal  \n",
      "46       117.384625  Abnormal  \n",
      "47       113.266675  Abnormal  \n",
      "48       121.046246  Abnormal  \n",
      "49       118.363389  Abnormal  \n",
      "50       115.877017  Abnormal  \n",
      "51       107.949304  Abnormal  \n",
      "52       128.292515  Abnormal  \n",
      "53       112.684141  Abnormal  \n",
      "54       116.377889  Abnormal  \n",
      "55        98.249781  Abnormal  \n",
      "56       112.776187  Abnormal  \n",
      "57       116.250917  Abnormal  \n",
      "58       124.846109  Abnormal  \n",
      "59       124.056452  Abnormal  \n"
     ]
    }
   ],
   "source": [
    "df4 = df2.copy(deep=True)\n",
    "df4 = df4.loc[df4['degree_spondylolisthesis'] < 50]\n",
    "\n",
    "hernia = df4[df4.class_x == 'Hernia']\n",
    "\n",
    "print(hernia)\n",
    "\n",
    "#plt.figure(figsize=[15,5])\n",
    "#plt.hist(hernia, histtype='step', color = 'red')\n",
    "\n"
   ]
  },
  {
   "cell_type": "code",
   "execution_count": null,
   "metadata": {},
   "outputs": [],
   "source": []
  }
 ],
 "metadata": {
  "kernelspec": {
   "display_name": "Python 3",
   "language": "python",
   "name": "python3"
  },
  "language_info": {
   "codemirror_mode": {
    "name": "ipython",
    "version": 3
   },
   "file_extension": ".py",
   "mimetype": "text/x-python",
   "name": "python",
   "nbconvert_exporter": "python",
   "pygments_lexer": "ipython3",
   "version": "3.7.6"
  }
 },
 "nbformat": 4,
 "nbformat_minor": 4
}

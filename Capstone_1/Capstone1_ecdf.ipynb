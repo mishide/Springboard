{
 "cells": [
  {
   "cell_type": "code",
   "execution_count": 1,
   "metadata": {},
   "outputs": [],
   "source": [
    "import pandas as pd\n",
    "import numpy as np\n",
    "import matplotlib.pyplot as plt\n",
    "import seaborn as sns"
   ]
  },
  {
   "cell_type": "code",
   "execution_count": 3,
   "metadata": {},
   "outputs": [],
   "source": [
    "df = pd.read_csv('Data/data.csv')         # import file"
   ]
  },
  {
   "cell_type": "code",
   "execution_count": null,
   "metadata": {},
   "outputs": [],
   "source": []
  },
  {
   "cell_type": "code",
   "execution_count": null,
   "metadata": {},
   "outputs": [],
   "source": []
  },
  {
   "cell_type": "code",
   "execution_count": 4,
   "metadata": {},
   "outputs": [],
   "source": [
    "norm_degree =df[df['class'] == 0]['degree']\n",
    "abn_degree = df[df['class'] == 1]['degree']"
   ]
  },
  {
   "cell_type": "code",
   "execution_count": 5,
   "metadata": {},
   "outputs": [],
   "source": [
    "  # Calculate ecdf\n",
    "def ecdf(data):\n",
    "    n = len(data)\n",
    "    x = np.sort(data)           # x-data for the ECDF: x\n",
    "    y = np.arange(1, n+1) / n   # y-data for the ECDF: y\n",
    "    return x, y"
   ]
  },
  {
   "cell_type": "code",
   "execution_count": 6,
   "metadata": {},
   "outputs": [],
   "source": [
    "def plot_ecdf(a, b):\n",
    "    x, y = ecdf(a)\n",
    "    t, u = ecdf(b)\n",
    "    p = np.array([2.5, 97.5])\n",
    "    ptiles = np.percentile(a, p)\n",
    "        # Plot the CDF with axis labels\n",
    "    _ = plt.plot(x, y, marker='.', color = 'blue', linestyle='none')\n",
    "    _ = plt.plot(t, u, marker='.', color = 'brown',linestyle='none')\n",
    "    _ = plt.xlabel('Blue is abnormal, Brown is normal')\n",
    "    _ = plt.ylabel('25%, 95% Red Triangle')\n",
    "    _ = plt.plot(ptiles, p/100,marker='D',color='red', linestyle='none')\n",
    "        # Show the plot\n",
    "    plt.show()"
   ]
  },
  {
   "cell_type": "code",
   "execution_count": 7,
   "metadata": {},
   "outputs": [
    {
     "data": {
      "image/png": "[encoded data removed]",
      "text/plain": [
       "<Figure size 432x288 with 1 Axes>"
      ]
     },
     "metadata": {
      "needs_background": "light"
     },
     "output_type": "display_data"
    }
   ],
   "source": [
    "plot_ecdf(norm_degree, abn_degree)"
   ]
  },
  {
   "cell_type": "code",
   "execution_count": null,
   "metadata": {},
   "outputs": [],
   "source": []
  }
 ],
 "metadata": {
  "kernelspec": {
   "display_name": "Python 3",
   "language": "python",
   "name": "python3"
  },
  "language_info": {
   "codemirror_mode": {
    "name": "ipython",
    "version": 3
   },
   "file_extension": ".py",
   "mimetype": "text/x-python",
   "name": "python",
   "nbconvert_exporter": "python",
   "pygments_lexer": "ipython3",
   "version": "3.7.9"
  }
 },
 "nbformat": 4,
 "nbformat_minor": 4
}

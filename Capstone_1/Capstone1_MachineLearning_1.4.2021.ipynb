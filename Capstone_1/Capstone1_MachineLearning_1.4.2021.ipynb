{
 "cells": [
  {
   "cell_type": "markdown",
   "metadata": {},
   "source": [
    "# CAPSTONE 1 -  MACHINE LEARNING MODELS"
   ]
  },
  {
   "cell_type": "code",
   "execution_count": 1,
   "metadata": {},
   "outputs": [],
   "source": [
    "import pandas as pd\n",
    "import numpy as np\n",
    "import matplotlib.pyplot as plt\n",
    "import seaborn as sns\n",
    "from sklearn.pipeline import make_pipeline\n",
    "from sklearn.preprocessing import StandardScaler\n",
    "\n",
    "# Models\n",
    "from sklearn import model_selection\n",
    "from sklearn.linear_model import LogisticRegression\n",
    "from sklearn.tree import DecisionTreeClassifier\n",
    "from sklearn.ensemble import RandomForestClassifier\n",
    "from sklearn.neighbors import KNeighborsClassifier\n",
    "from sklearn.discriminant_analysis import LinearDiscriminantAnalysis\n",
    "from sklearn.naive_bayes import GaussianNB\n",
    "from sklearn.svm import SVC\n",
    "\n",
    "# Testing\n",
    "from sklearn.model_selection import train_test_split\n",
    "from sklearn.model_selection import RepeatedStratifiedKFold\n",
    "from sklearn.model_selection import GridSearchCV\n",
    "from sklearn.model_selection import KFold\n",
    "from sklearn.model_selection import RandomizedSearchCV\n",
    "\n",
    "# Scores\n",
    "from sklearn.metrics import accuracy_score\n",
    "from sklearn.model_selection import cross_val_score"
   ]
  },
  {
   "cell_type": "markdown",
   "metadata": {},
   "source": [
    "### Import data variables"
   ]
  },
  {
   "cell_type": "code",
   "execution_count": 2,
   "metadata": {},
   "outputs": [],
   "source": [
    "df = pd.read_csv('Data/data.csv')     ## full dataframe with 6 features and 2 targest \n",
    "X = pd.read_csv('Data/X.csv')         ## X data - features\n",
    "Y1 = pd.read_csv('Data/Y1.csv')       ## Y data - Target 'class'\n",
    "Y = np.ravel(Y1)\n",
    "columns = ['incidence', 'tilt','radius','degree','slope', 'angle']                 \n",
    "#Tdata = np.c_[np.ones((X.shape[0], 1)), X]     ## Tensorflow variable"
   ]
  },
  {
   "cell_type": "markdown",
   "metadata": {},
   "source": [
    "### Create train/ test variables"
   ]
  },
  {
   "cell_type": "code",
   "execution_count": 3,
   "metadata": {},
   "outputs": [],
   "source": [
    "# Split the data into a training and test set.\n",
    "xtrain, xtest, ytrain, ytest = train_test_split(df[['degree', 'incidence', 'angle', 'radius', 'tilt', 'slope']].values, \n",
    "                                              (df[['class']] == \"Abnormal\").values,test_size=0.4,random_state=5, shuffle=True)\n",
    "ytrain = np.ravel(ytrain)              # optimize the shape of y"
   ]
  },
  {
   "cell_type": "markdown",
   "metadata": {},
   "source": [
    "### Test several models and determine top 3"
   ]
  },
  {
   "cell_type": "code",
   "execution_count": 4,
   "metadata": {},
   "outputs": [],
   "source": [
    "#  Create array of models to test\n",
    "models = []\n",
    "models.append(('LR', LogisticRegression()))\n",
    "models.append(('LDA', LinearDiscriminantAnalysis()))\n",
    "models.append(('KNN', KNeighborsClassifier()))\n",
    "models.append(('RFC', RandomForestClassifier()))\n",
    "models.append(('DecisionTree', DecisionTreeClassifier()))\n",
    "models.append(('NB', GaussianNB()))\n",
    "models.append(('SVM', SVC()))"
   ]
  },
  {
   "cell_type": "code",
   "execution_count": 5,
   "metadata": {},
   "outputs": [
    {
     "name": "stdout",
     "output_type": "stream",
     "text": [
      "LR: 0.851183 (0.073741)\n",
      "LDA: 0.838065 (0.058097)\n",
      "KNN: 0.834839 (0.053295)\n",
      "RFC: 0.838065 (0.063242)\n",
      "DecisionTree: 0.805806 (0.057737)\n",
      "NB: 0.776452 (0.083024)\n",
      "SVM: 0.850968 (0.065314)\n"
     ]
    }
   ],
   "source": [
    "#  Run models through KFold of 10 and report accuracy with cross-validation scoring\n",
    "seed = 7\n",
    "results = []\n",
    "names = []\n",
    "scoring = 'accuracy'\n",
    "for name, model in models:\n",
    "    kfold = model_selection.KFold(n_splits=10, shuffle = True, random_state=seed)\n",
    "    cv_results = model_selection.cross_val_score(model, X, Y, cv=kfold, scoring=scoring)\n",
    "    results.append(cv_results)\n",
    "    names.append(name)\n",
    "    msg = \"%s: %f (%f)\" % (name, cv_results.mean(), cv_results.std())\n",
    "    print(msg)"
   ]
  },
  {
   "cell_type": "code",
   "execution_count": 6,
   "metadata": {},
   "outputs": [
    {
     "data": {
      "image/png": "[encoded data removed]",
      "text/plain": [
       "<Figure size 432x288 with 1 Axes>"
      ]
     },
     "metadata": {
      "needs_background": "light"
     },
     "output_type": "display_data"
    }
   ],
   "source": [
    "# boxplot algorithm comparison\n",
    "fig = plt.figure()\n",
    "fig.suptitle('Model Comparison')\n",
    "ax = fig.add_subplot(111)\n",
    "plt.boxplot(results)\n",
    "ax.set_xticklabels(names)\n",
    "plt.show()"
   ]
  },
  {
   "cell_type": "markdown",
   "metadata": {},
   "source": [
    "#### Below will use the \"kfold\" parameter in all models with cross_val_score() for consistency."
   ]
  },
  {
   "cell_type": "code",
   "execution_count": 7,
   "metadata": {},
   "outputs": [],
   "source": [
    "score_results = []   # collect best scores for models\n",
    "model_names = []"
   ]
  },
  {
   "cell_type": "markdown",
   "metadata": {},
   "source": [
    "## Logistic Regression"
   ]
  },
  {
   "cell_type": "markdown",
   "metadata": {},
   "source": [
    "#### Base Measure of LR with no parameter tuning"
   ]
  },
  {
   "cell_type": "code",
   "execution_count": 8,
   "metadata": {},
   "outputs": [
    {
     "name": "stdout",
     "output_type": "stream",
     "text": [
      "Mean scores from cross validation:  0.8380116959064328 Stadard Deviation:  0.0629327805315217\n"
     ]
    }
   ],
   "source": [
    "clf = LogisticRegression(solver='lbfgs').fit(xtrain, ytrain)\n",
    "scores = cross_val_score(clf, xtrain, ytrain, cv=kfold)\n",
    "print(\"Mean scores from cross validation: \", scores.mean(), \"Stadard Deviation: \", scores.std())"
   ]
  },
  {
   "cell_type": "markdown",
   "metadata": {},
   "source": [
    "#### Test paramters"
   ]
  },
  {
   "cell_type": "code",
   "execution_count": 9,
   "metadata": {},
   "outputs": [
    {
     "name": "stdout",
     "output_type": "stream",
     "text": [
      "Best: 0.849415 using {'C': 0.001, 'penalty': 'l2', 'solver': 'newton-cg'}\n"
     ]
    }
   ],
   "source": [
    "model = LogisticRegression()\n",
    "\n",
    "#   Create various parameters to test\n",
    "solvers = ['newton-cg', 'lbfgs', 'liblinear', 'sag']\n",
    "penalty = ['l1','l2']                                    #l1 is used by liblinear only\n",
    "c_values = [0.001,0.01,0.1, 1, 10]\n",
    "grid = dict(solver=solvers,penalty=penalty,C=c_values)\n",
    "\n",
    "#   Run GridSearchCV using the various parameters created\n",
    "grid_search = GridSearchCV(estimator=model, param_grid=grid, n_jobs=-1, cv=kfold, scoring='accuracy',error_score=0)\n",
    "grid_result = grid_search.fit(xtrain, ytrain)\n",
    "\n",
    "#  Report Results\n",
    "print(\"Best: %f using %s\" % (grid_result.best_score_, grid_result.best_params_))\n",
    "means = grid_result.cv_results_['mean_test_score']\n",
    "stds = grid_result.cv_results_['std_test_score']\n",
    "params = grid_result.cv_results_['params']\n",
    "#for mean, stdev, param in zip(means, stds, params):\n",
    "#    print(\"%f (%f) with: %r\" % (mean, stdev, param))"
   ]
  },
  {
   "cell_type": "markdown",
   "metadata": {},
   "source": [
    "#### Test these results against GridSearchCV w/o Stratisfied KFold and compare...."
   ]
  },
  {
   "cell_type": "code",
   "execution_count": 10,
   "metadata": {},
   "outputs": [
    {
     "name": "stdout",
     "output_type": "stream",
     "text": [
      "Mean scores from cross validation:  0.8494152046783625 Stadard Deviation:  0.06493927577342926\n"
     ]
    }
   ],
   "source": [
    "#  Score results with recommended parameters\n",
    "new_clf = LogisticRegression(solver = 'newton-cg', penalty='l2', C = 0.001).fit(xtrain, ytrain)\n",
    "scores = cross_val_score(new_clf, xtrain, ytrain, cv=kfold)\n",
    "print(\"Mean scores from cross validation: \", scores.mean(), \"Stadard Deviation: \", scores.std())\n",
    "score_results.append(scores.mean())\n",
    "model_names.append('LR')"
   ]
  },
  {
   "cell_type": "markdown",
   "metadata": {},
   "source": [
    "#### Optimal tuning parameters:  solver =  'newton-cg'  :   penalty='l1'  :   C = 0.001"
   ]
  },
  {
   "cell_type": "markdown",
   "metadata": {},
   "source": [
    "### Support Vector Machine"
   ]
  },
  {
   "cell_type": "markdown",
   "metadata": {},
   "source": [
    "#### Base meaure without parameter tuning"
   ]
  },
  {
   "cell_type": "code",
   "execution_count": 11,
   "metadata": {},
   "outputs": [
    {
     "name": "stdout",
     "output_type": "stream",
     "text": [
      "Mean scores from cross validation:  0.8324561403508772 Stadard Deviation:  0.060605366915455115\n"
     ]
    }
   ],
   "source": [
    "from sklearn import svm\n",
    "clf = svm.SVC(kernel='linear')\n",
    "clf.fit(xtrain, ytrain)\n",
    "y_pred = clf.predict(xtest)\n",
    "\n",
    "scores = cross_val_score(clf, xtrain, ytrain, cv=kfold)\n",
    "print(\"Mean scores from cross validation: \", scores.mean(), \"Stadard Deviation: \", scores.std())"
   ]
  },
  {
   "cell_type": "markdown",
   "metadata": {},
   "source": [
    "#### Search for improvement through parameter tuning"
   ]
  },
  {
   "cell_type": "code",
   "execution_count": 12,
   "metadata": {},
   "outputs": [
    {
     "name": "stdout",
     "output_type": "stream",
     "text": [
      "Best: 0.848830 using {'C': 50, 'gamma': 'scale', 'kernel': 'rbf'}\n"
     ]
    }
   ],
   "source": [
    "model = SVC()\n",
    "kernel = ['poly', 'rbf', 'sigmoid']\n",
    "C = [50, 10, 1.0, 0.1, 0.01]\n",
    "gamma = ['scale']\n",
    "\n",
    "# define grid search\n",
    "grid = dict(kernel=kernel,C=C,gamma=gamma)\n",
    "grid_search = GridSearchCV(estimator=model, param_grid=grid, n_jobs=-1, cv=kfold, scoring='accuracy',error_score=0)\n",
    "grid_result = grid_search.fit(xtrain, ytrain)\n",
    "\n",
    "# results\n",
    "print(\"Best: %f using %s\" % (grid_result.best_score_, grid_result.best_params_))\n",
    "means = grid_result.cv_results_['mean_test_score']\n",
    "stds = grid_result.cv_results_['std_test_score']\n",
    "params = grid_result.cv_results_['params']\n",
    "#for mean, stdev, param in zip(means, stds, params):\n",
    "#    print(\"%f (%f) with: %r\" % (mean, stdev, param))"
   ]
  },
  {
   "cell_type": "code",
   "execution_count": 13,
   "metadata": {},
   "outputs": [
    {
     "name": "stdout",
     "output_type": "stream",
     "text": [
      "Mean scores from cross validation:  0.8488304093567252 Stadard Deviation:  0.08068321254914666\n"
     ]
    }
   ],
   "source": [
    "clf = svm.SVC(kernel='rbf', gamma='scale', C=50)\n",
    "clf.fit(xtrain, ytrain)\n",
    "y_pred = clf.predict(xtest)\n",
    "\n",
    "scores = cross_val_score(clf, xtrain, ytrain, cv=kfold)\n",
    "print(\"Mean scores from cross validation: \", scores.mean(), \"Stadard Deviation: \", scores.std())\n",
    "score_results.append(scores.mean())\n",
    "model_names.append('SVM')"
   ]
  },
  {
   "cell_type": "markdown",
   "metadata": {},
   "source": [
    "### Random Forest Classifier"
   ]
  },
  {
   "cell_type": "markdown",
   "metadata": {},
   "source": [
    "#### Base Measure"
   ]
  },
  {
   "cell_type": "code",
   "execution_count": 14,
   "metadata": {},
   "outputs": [
    {
     "name": "stdout",
     "output_type": "stream",
     "text": [
      "Mean scores from cross validation:  0.8169590643274853 Stadard Deviation:  0.06986040397758195\n"
     ]
    }
   ],
   "source": [
    "rfc_base = RandomForestClassifier(random_state=1)\n",
    "rfc_base.fit(xtrain,ytrain)\n",
    "y_pred = rfc_base.predict(xtest)\n",
    "scores = cross_val_score(rfc_base, xtrain, ytrain, cv=kfold)\n",
    "print(\"Mean scores from cross validation: \", scores.mean(), \"Stadard Deviation: \", scores.std())"
   ]
  },
  {
   "cell_type": "code",
   "execution_count": 15,
   "metadata": {},
   "outputs": [
    {
     "name": "stdout",
     "output_type": "stream",
     "text": [
      "Best: 0.835088 using {'max_features': 'sqrt', 'n_estimators': 1000}\n",
      "0.822417 (0.097367) with: {'max_features': 'sqrt', 'n_estimators': 10}\n",
      "0.831481 (0.079003) with: {'max_features': 'sqrt', 'n_estimators': 100}\n",
      "0.835088 (0.088928) with: {'max_features': 'sqrt', 'n_estimators': 1000}\n",
      "0.806628 (0.087112) with: {'max_features': 'log2', 'n_estimators': 10}\n",
      "0.824074 (0.093653) with: {'max_features': 'log2', 'n_estimators': 100}\n",
      "0.831287 (0.087992) with: {'max_features': 'log2', 'n_estimators': 1000}\n"
     ]
    }
   ],
   "source": [
    "model = RandomForestClassifier()\n",
    "n_estimators = [10, 100, 1000]\n",
    "max_features = ['sqrt', 'log2']\n",
    "# define grid search\n",
    "grid = dict(n_estimators=n_estimators,max_features=max_features)\n",
    "cv = RepeatedStratifiedKFold(n_splits=10, n_repeats=3, random_state=1)\n",
    "grid_search = GridSearchCV(estimator=model, param_grid=grid, n_jobs=-1, cv=cv, scoring='accuracy',error_score=0)\n",
    "grid_result = grid_search.fit(xtrain, ytrain)\n",
    "# summarize results\n",
    "print(\"Best: %f using %s\" % (grid_result.best_score_, grid_result.best_params_))\n",
    "means = grid_result.cv_results_['mean_test_score']\n",
    "stds = grid_result.cv_results_['std_test_score']\n",
    "params = grid_result.cv_results_['params']\n",
    "for mean, stdev, param in zip(means, stds, params):\n",
    "    print(\"%f (%f) with: %r\" % (mean, stdev, param))"
   ]
  },
  {
   "cell_type": "code",
   "execution_count": 16,
   "metadata": {},
   "outputs": [
    {
     "name": "stdout",
     "output_type": "stream",
     "text": [
      "Mean scores from cross validation:  0.8367446393762183 Stadard Deviation:  0.09183360828166372\n"
     ]
    }
   ],
   "source": [
    "rfc = RandomForestClassifier(n_estimators=1000, max_features='sqrt',random_state=10)\n",
    "rfc.fit(xtrain,ytrain)\n",
    "y_pred = rfc.predict(xtest)\n",
    "scores = cross_val_score(rfc, xtrain, ytrain, cv=cv)\n",
    "print(\"Mean scores from cross validation: \", scores.mean(), \"Stadard Deviation: \", scores.std())\n",
    "score_results.append(scores.mean())\n",
    "model_names.append('RFC')"
   ]
  },
  {
   "cell_type": "markdown",
   "metadata": {},
   "source": [
    "### KNeighborsClassifier"
   ]
  },
  {
   "cell_type": "markdown",
   "metadata": {},
   "source": [
    "#### Base Measure without tuning"
   ]
  },
  {
   "cell_type": "code",
   "execution_count": 17,
   "metadata": {},
   "outputs": [
    {
     "name": "stdout",
     "output_type": "stream",
     "text": [
      "Mean scores from cross validation:  0.8111111111111112 Stadard Deviation:  0.0821548974448465\n"
     ]
    }
   ],
   "source": [
    "from sklearn.neighbors import KNeighborsClassifier\n",
    "knn = KNeighborsClassifier()\n",
    "knn.fit(xtrain,ytrain)\n",
    "y_pred = knn.predict(xtest)\n",
    "scores = cross_val_score(knn, xtrain, ytrain, cv=kfold)\n",
    "print(\"Mean scores from cross validation: \", scores.mean(), \"Stadard Deviation: \", scores.std())"
   ]
  },
  {
   "cell_type": "code",
   "execution_count": 18,
   "metadata": {},
   "outputs": [
    {
     "name": "stdout",
     "output_type": "stream",
     "text": [
      "Best: 0.834113 using {'metric': 'manhattan', 'n_neighbors': 7, 'weights': 'uniform'}\n"
     ]
    }
   ],
   "source": [
    "model = KNeighborsClassifier()\n",
    "n_neighbors = range(1, 21, 2)\n",
    "weights = ['uniform', 'distance']\n",
    "metric = ['euclidean', 'manhattan', 'minkowski']\n",
    "# define grid search\n",
    "grid = dict(n_neighbors=n_neighbors,weights=weights,metric=metric)\n",
    "cv = RepeatedStratifiedKFold(n_splits=10, n_repeats=3, random_state=1)\n",
    "grid_search = GridSearchCV(estimator=model, param_grid=grid, n_jobs=-1, cv=cv, scoring='accuracy',error_score=0)\n",
    "grid_result = grid_search.fit(xtrain, ytrain)\n",
    "# summarize results\n",
    "print(\"Best: %f using %s\" % (grid_result.best_score_, grid_result.best_params_))\n",
    "means = grid_result.cv_results_['mean_test_score']\n",
    "stds = grid_result.cv_results_['std_test_score']\n",
    "params = grid_result.cv_results_['params']\n",
    "#for mean, stdev, param in zip(means, stds, params):\n",
    "#    print(\"%f (%f) with: %r\" % (mean, stdev, param))"
   ]
  },
  {
   "cell_type": "code",
   "execution_count": 19,
   "metadata": {},
   "outputs": [
    {
     "name": "stdout",
     "output_type": "stream",
     "text": [
      "Mean scores from cross validation:  0.8341130604288499 Stadard Deviation:  0.0587126607227987\n"
     ]
    }
   ],
   "source": [
    "from sklearn.neighbors import KNeighborsClassifier\n",
    "knn = KNeighborsClassifier(n_neighbors = 7, weights='uniform', metric='manhattan')\n",
    "knn.fit(xtrain,ytrain)\n",
    "y_pred = knn.predict(xtest)\n",
    "scores = cross_val_score(knn, xtrain, ytrain, cv=cv)\n",
    "print(\"Mean scores from cross validation: \", scores.mean(), \"Stadard Deviation: \", scores.std())\n",
    "score_results.append(scores.mean())\n",
    "model_names.append('KNN')"
   ]
  },
  {
   "cell_type": "markdown",
   "metadata": {},
   "source": [
    "### Gaussian Naive Bayes"
   ]
  },
  {
   "cell_type": "code",
   "execution_count": 20,
   "metadata": {},
   "outputs": [
    {
     "name": "stdout",
     "output_type": "stream",
     "text": [
      "Mean scores from cross validation:  0.7894736842105263 Stadard Deviation:  0.07625919346147329\n"
     ]
    }
   ],
   "source": [
    "model = GaussianNB()\n",
    "model.fit(xtrain,ytrain)\n",
    "y_model = model.predict(xtest)\n",
    "scores = cross_val_score(model, xtrain, ytrain, cv=kfold)\n",
    "print(\"Mean scores from cross validation: \", scores.mean(), \"Stadard Deviation: \", scores.std())\n",
    "score_results.append(scores.mean())\n",
    "model_names.append('NBGauss')"
   ]
  },
  {
   "cell_type": "markdown",
   "metadata": {},
   "source": [
    "## Results"
   ]
  },
  {
   "cell_type": "code",
   "execution_count": 21,
   "metadata": {},
   "outputs": [],
   "source": [
    "d = {\"scores\":score_results, \"names\":model_names}\n",
    "results = pd.DataFrame(d).sort_values(by=['scores'])"
   ]
  },
  {
   "cell_type": "code",
   "execution_count": 22,
   "metadata": {},
   "outputs": [
    {
     "data": {
      "image/png": "[encoded data removed]",
      "text/plain": [
       "<Figure size 432x288 with 1 Axes>"
      ]
     },
     "metadata": {},
     "output_type": "display_data"
    }
   ],
   "source": [
    "import seaborn as sns\n",
    "sns.set_theme(style=\"whitegrid\")\n",
    "ax = sns.boxplot(x=\"names\", y=\"scores\", data=results)"
   ]
  },
  {
   "cell_type": "code",
   "execution_count": 23,
   "metadata": {},
   "outputs": [
    {
     "data": {
      "image/png": "[encoded data removed]",
      "text/plain": [
       "<Figure size 432x288 with 1 Axes>"
      ]
     },
     "metadata": {},
     "output_type": "display_data"
    }
   ],
   "source": [
    "sns.set_theme(style=\"whitegrid\")\n",
    "ax = sns.barplot(x=\"names\", y=\"scores\", data=results, palette=\"Blues_d\")\n"
   ]
  },
  {
   "cell_type": "markdown",
   "metadata": {},
   "source": [
    "## SVM and LR were tied at 85% accuracy, LR however had less variance of 6% compared to SVM of 8%"
   ]
  },
  {
   "cell_type": "code",
   "execution_count": null,
   "metadata": {},
   "outputs": [],
   "source": []
  }
 ],
 "metadata": {
  "kernelspec": {
   "display_name": "Python 3",
   "language": "python",
   "name": "python3"
  },
  "language_info": {
   "codemirror_mode": {
    "name": "ipython",
    "version": 3
   },
   "file_extension": ".py",
   "mimetype": "text/x-python",
   "name": "python",
   "nbconvert_exporter": "python",
   "pygments_lexer": "ipython3",
   "version": "3.7.9"
  },
  "toc": {
   "base_numbering": 1,
   "nav_menu": {},
   "number_sections": false,
   "sideBar": true,
   "skip_h1_title": false,
   "title_cell": "Table of Contents",
   "title_sidebar": "Contents",
   "toc_cell": false,
   "toc_position": {
    "height": "calc(100% - 180px)",
    "left": "10px",
    "top": "150px",
    "width": "165px"
   },
   "toc_section_display": true,
   "toc_window_display": true
  }
 },
 "nbformat": 4,
 "nbformat_minor": 4
}

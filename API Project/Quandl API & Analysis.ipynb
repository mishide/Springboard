{
 "cells": [
  {
   "cell_type": "code",
   "execution_count": null,
   "metadata": {},
   "outputs": [],
   "source": []
  },
  {
   "cell_type": "markdown",
   "metadata": {},
   "source": [
    "#### To run code either \n",
    "        a) replace \"api_key_goes_here\" below with your key \n",
    "        b) skip API calls (lines 2 & 3), the stored data will be used by pickle.load()\n",
    "\n"
   ]
  },
  {
   "cell_type": "code",
   "execution_count": 1,
   "metadata": {},
   "outputs": [],
   "source": [
    "    # API mini project WITHOUT Pandas\n",
    "    \n",
    "import requests, json, copy, pickle, copy"
   ]
  },
  {
   "cell_type": "code",
   "execution_count": 2,
   "metadata": {},
   "outputs": [
    {
     "name": "stdout",
     "output_type": "stream",
     "text": [
      "Success 200\n"
     ]
    }
   ],
   "source": [
    "   \n",
    "API_KEY = 'api_key_goes_here'\n",
    "\n",
    "    #URL includes parameters to filter for the year 2017 from business AFX_X only\n",
    "url = 'https://www.quandl.com/api/v3/datasets/FSE/AFX_X/data.json?start_date=2017-01-01&end_date=2017-12-31&api_key=&API_KEY'\n",
    "\n",
    "    #Call to Quandl database. \n",
    "res = requests.get(url)\n",
    "\n",
    "    #Reports status of call\n",
    "if res:\n",
    "    print(\"Success\", res.status_code)\n",
    "else:\n",
    "    print('Response Failed: ', res.status_code)"
   ]
  },
  {
   "cell_type": "code",
   "execution_count": 3,
   "metadata": {},
   "outputs": [],
   "source": [
    "    #returns dictionary data from JSON data in res\n",
    "datat = res.json()['dataset_data']\n",
    "\n",
    "    #Save data for analysis to reduce API calls and avoid issues from network problems\n",
    "pickle.dump(datat, open(\"save.json\", \"wb\"))"
   ]
  },
  {
   "cell_type": "code",
   "execution_count": 4,
   "metadata": {},
   "outputs": [
    {
     "name": "stdout",
     "output_type": "stream",
     "text": [
      "['Date', 'Open', 'High', 'Low', 'Close', 'Change', 'Traded Volume', 'Turnover', 'Last Price of the Day', 'Daily Traded Units', 'Daily Turnover']\n"
     ]
    }
   ],
   "source": [
    "    #load the data\n",
    "data_dict = pickle.load(open(\"save.json\", \"rb\"))\n",
    "\n",
    "    #Look at column names for index reference\n",
    "print(data_dict['column_names'])\n",
    "\n",
    "    #Return a nested list for calculations\n",
    "nlist = data_dict['data']"
   ]
  },
  {
   "cell_type": "markdown",
   "metadata": {},
   "source": [
    "####  #3: Calculate what the highest and lowest opening prices were for the stock in this period.\n"
   ]
  },
  {
   "cell_type": "code",
   "execution_count": 5,
   "metadata": {},
   "outputs": [
    {
     "name": "stdout",
     "output_type": "stream",
     "text": [
      "Highest opening price was$  53.11 Lowest opening price was $ 34.0\n"
     ]
    }
   ],
   "source": [
    "\n",
    "   #list comprehension returns list of daily opening prices\n",
    "opening = [list[1] for list in nlist if list[1] != None] \n",
    "\n",
    "   #prints the min and max from the list of opening princes\n",
    "print(\"Highest opening price was$ \", str(max(opening)), \"Lowest opening price was $\", str(min(opening)))  \n"
   ]
  },
  {
   "cell_type": "markdown",
   "metadata": {},
   "source": [
    "#### #4 What was the largest change in any one day (based on High and Low price)?\n"
   ]
  },
  {
   "cell_type": "code",
   "execution_count": 6,
   "metadata": {},
   "outputs": [
    {
     "name": "stdout",
     "output_type": "stream",
     "text": [
      "The largest change in any one day was $ 2.81\n"
     ]
    }
   ],
   "source": [
    "   #list comprehenion returns list of daily change between High and Low prices\n",
    "difference = [list[2]-list[3] for list in nlist if list[2:3] != None]\n",
    "\n",
    "    #print maximum daily difference\n",
    "print(\"The largest change in any one day was $\", str(round(max(difference),2))) \n"
   ]
  },
  {
   "cell_type": "markdown",
   "metadata": {},
   "source": [
    "####  #5 What was the largest change between any two days (based on Closing Price)?\n"
   ]
  },
  {
   "cell_type": "code",
   "execution_count": 7,
   "metadata": {},
   "outputs": [
    {
     "name": "stdout",
     "output_type": "stream",
     "text": [
      "Largest Closing change between 2 consecutive days was $ 2.56\n"
     ]
    }
   ],
   "source": [
    "    #list comprehension returns list of daily closing price\n",
    "close = [list[4] for list in nlist if list[4] != None] \n",
    "\n",
    "    #prints maximum change between consecutive daily closing price\n",
    "print(\"Largest Closing change between 2 consecutive days was $\", str(round(max([abs(close[i] - close[i+1]) for i in range(len(close)-1)]),2)))\n"
   ]
  },
  {
   "cell_type": "markdown",
   "metadata": {},
   "source": [
    "#### OR #5 - using a transform as below which pulls the daily closing differences into a nested list\n"
   ]
  },
  {
   "cell_type": "code",
   "execution_count": 8,
   "metadata": {},
   "outputs": [
    {
     "name": "stdout",
     "output_type": "stream",
     "text": [
      "Largest Closing change between 2 consecutive days was $ 2.56\n"
     ]
    }
   ],
   "source": [
    "    # URL call to Quandle requests difference calucalation between daily closing for 2017\n",
    "url = 'https://www.quandl.com/api/v3/datasets/FSE/AFX_X/data.json?start_date=2017-01-01&end_date=2017-12-31&column_index=4&transform=diff&api_key=&API_KEY'\n",
    "\n",
    "    #request data with new transform\n",
    "res = requests.get(url)  #pulls closing data for year 2017 and transforms to return daily difference\n",
    "\n",
    "    #store list of closing differences\n",
    "closingDiff = res.json()['dataset_data']['data'] \n",
    "\n",
    "absDiff = [abs(list[1]) for list in closingDiff if list[1] != None]\n",
    "\n",
    "    #return absolute largest consecutive change\n",
    "print(\"Largest Closing change between 2 consecutive days was $\", str(max(absDiff)))\n"
   ]
  },
  {
   "cell_type": "markdown",
   "metadata": {},
   "source": [
    "####  #6  What was the average daily trading volume during this year?\n"
   ]
  },
  {
   "cell_type": "code",
   "execution_count": 9,
   "metadata": {},
   "outputs": [
    {
     "name": "stdout",
     "output_type": "stream",
     "text": [
      "Average daily trading volume during 2017 was # 89124\n"
     ]
    }
   ],
   "source": [
    "    #using a transform within the API call to pull 'trading volume' data only for 2017\n",
    "    # Note: this transform returns 2 columns index 0 = date, index 1 = trading volume\n",
    "\n",
    "url = 'https://www.quandl.com/api/v3/datasets/FSE/AFX_X/data.json?start_date=2017-01-01&end_date=2017-12-31&column_index=6&api_key=&API_KEY'\n",
    "\n",
    "\n",
    "res = requests.get(url)\n",
    "\n",
    "    #returns a nested list of data including [['date', 'trading volume']]\n",
    "tradeVol = res.json()['dataset_data']['data']  \n",
    "\n",
    "    #returns list of trading volumes\n",
    "changes = [list[1] for list in tradeVol if list[1] != None]\n",
    "\n",
    "    #print the average daily trading volume\n",
    "print(\"Average daily trading volume during 2017 was #\",round(sum(changes)/len(changes)))\n"
   ]
  },
  {
   "cell_type": "markdown",
   "metadata": {},
   "source": [
    "####  #7  What was the median trading volume during this year. (Note: you may need to implement your own function for calculating the median.)\n"
   ]
  },
  {
   "cell_type": "code",
   "execution_count": 10,
   "metadata": {},
   "outputs": [
    {
     "name": "stdout",
     "output_type": "stream",
     "text": [
      "Median trading volume during 2017 was # 76286\n"
     ]
    }
   ],
   "source": [
    "    #uses \"changes\" from previous data pull with statistics module to calculate the median on trading volume\n",
    "\n",
    "import statistics as stats\n",
    "\n",
    "print(\"Median trading volume during 2017 was #\", round(stats.median(changes)))\n"
   ]
  }
 ],
 "metadata": {
  "kernelspec": {
   "display_name": "Python 3",
   "language": "python",
   "name": "python3"
  },
  "language_info": {
   "codemirror_mode": {
    "name": "ipython",
    "version": 3
   },
   "file_extension": ".py",
   "mimetype": "text/x-python",
   "name": "python",
   "nbconvert_exporter": "python",
   "pygments_lexer": "ipython3",
   "version": "3.7.4"
  }
 },
 "nbformat": 4,
 "nbformat_minor": 2
}

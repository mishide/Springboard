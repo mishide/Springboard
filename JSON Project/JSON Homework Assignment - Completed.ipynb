{
 "cells": [
  {
   "cell_type": "markdown",
   "metadata": {},
   "source": [
    "Problem 1:  Displays 10 countries with the most number of projects. The code reads a json file into a dataframe >renames the columns to describe & imporve readbility >groups by country >counts the number of projects >sorts by count and returns first 10."
   ]
  },
  {
   "cell_type": "code",
   "execution_count": 4,
   "metadata": {},
   "outputs": [
    {
     "name": "stdout",
     "output_type": "stream",
     "text": [
      "<class 'pandas.core.frame.DataFrame'>\n",
      "                    Number of Projects\n",
      "Country                               \n",
      "China                               19\n",
      "Indonesia                           19\n",
      "Vietnam                             17\n",
      "India                               16\n",
      "Yemen, Republic of                  13\n",
      "Nepal                               12\n",
      "Bangladesh                          12\n",
      "Morocco                             12\n",
      "Mozambique                          11\n",
      "Africa                              11\n"
     ]
    }
   ],
   "source": [
    "import json, pandas as pd\n",
    "json.load((open('world_bank_projects.json')))\n",
    "sample_json_df = pd.read_json('world_bank_projects.json')\n",
    "sample_json_df.rename(columns = {'countryshortname':'Country','status':'Number of Projects'}, inplace=True)\n",
    "json_df = sample_json_df.groupby('Country').count().sort_values('Number of Projects', ascending = False)\n",
    "print(json_df[['Number of Projects']].head(10))"
   ]
  },
  {
   "cell_type": "markdown",
   "metadata": {},
   "source": [
    "Problem 2:  Displays name of 10 most frequent projects.  Code reads from a json file into a dataframe >normalizes on the 'mjtheme_namecode' column >groups by name >counts and sorts on the code count and returns the top 10."
   ]
  },
  {
   "cell_type": "code",
   "execution_count": 1,
   "metadata": {},
   "outputs": [
    {
     "name": "stdout",
     "output_type": "stream",
     "text": [
      "                                              code\n",
      "name                                              \n",
      "Environment and natural resources management   223\n",
      "Rural development                              202\n",
      "Human development                              197\n",
      "Public sector governance                       184\n",
      "Social protection and risk management          158\n",
      "Financial and private sector development       130\n",
      "                                               122\n",
      "Social dev/gender/inclusion                    119\n",
      "Trade and integration                           72\n",
      "Urban development                               47\n"
     ]
    }
   ],
   "source": [
    "import json\n",
    "import pandas as pd\n",
    "from pandas.io.json import json_normalize\n",
    "df = json.load((open('world_bank_projects.json')))\n",
    "df = json_normalize(df, record_path=['mjtheme_namecode'])\n",
    "print(df.groupby(\"name\").count().sort_values('code', ascending = False).head(10))"
   ]
  },
  {
   "cell_type": "markdown",
   "metadata": {},
   "source": [
    "Problem 3:  Fills the name value for all projects.  Code reads in a JSON file >normalizes on the project 'name' >deep copies the resulting dataframe >removes empty values & duplicates >uses 'code' column as the index and converts to a dictionary >the resulting dictionary is used to map the name values into the original dataframe."
   ]
  },
  {
   "cell_type": "code",
   "execution_count": 58,
   "metadata": {},
   "outputs": [
    {
     "name": "stdout",
     "output_type": "stream",
     "text": [
      "                                              name\n",
      "code                                              \n",
      "8                                Human development\n",
      "11    Environment and natural resources management\n",
      "1                              Economic management\n",
      "6            Social protection and risk management\n",
      "5                            Trade and integration\n",
      "2                         Public sector governance\n",
      "11    Environment and natural resources management\n",
      "6            Social protection and risk management\n",
      "7                      Social dev/gender/inclusion\n",
      "7                      Social dev/gender/inclusion\n",
      "5                            Trade and integration\n",
      "4         Financial and private sector development\n",
      "6            Social protection and risk management\n",
      "6            Social protection and risk management\n",
      "2                         Public sector governance\n",
      "4         Financial and private sector development\n",
      "11    Environment and natural resources management\n",
      "8                                Human development\n",
      "10                               Rural development\n",
      "7                      Social dev/gender/inclusion\n",
      "2                         Public sector governance\n",
      "2                         Public sector governance\n",
      "2                         Public sector governance\n",
      "10                               Rural development\n",
      "2                         Public sector governance\n",
      "10                               Rural development\n",
      "6            Social protection and risk management\n",
      "6            Social protection and risk management\n",
      "11    Environment and natural resources management\n",
      "4         Financial and private sector development\n",
      "...                                            ...\n",
      "8                                Human development\n",
      "9                                Urban development\n",
      "6            Social protection and risk management\n",
      "6            Social protection and risk management\n",
      "9                                Urban development\n",
      "2                         Public sector governance\n",
      "2                         Public sector governance\n",
      "10                               Rural development\n",
      "11    Environment and natural resources management\n",
      "8                                Human development\n",
      "7                      Social dev/gender/inclusion\n",
      "11    Environment and natural resources management\n",
      "5                            Trade and integration\n",
      "6            Social protection and risk management\n",
      "8                                Human development\n",
      "4         Financial and private sector development\n",
      "7                      Social dev/gender/inclusion\n",
      "8                                Human development\n",
      "5                            Trade and integration\n",
      "2                         Public sector governance\n",
      "8                                Human development\n",
      "10                               Rural development\n",
      "6            Social protection and risk management\n",
      "10                               Rural development\n",
      "10                               Rural development\n",
      "10                               Rural development\n",
      "9                                Urban development\n",
      "8                                Human development\n",
      "5                            Trade and integration\n",
      "4         Financial and private sector development\n",
      "\n",
      "[1499 rows x 1 columns]\n"
     ]
    }
   ],
   "source": [
    "import json, copy\n",
    "import pandas as pd\n",
    "from pandas.io.json import json_normalize\n",
    "df = json.load((open('world_bank_projects.json')))\n",
    "df = json_normalize(df, record_path=['mjtheme_namecode'])\n",
    "dfNew = df.copy(deep = True)\n",
    "dfNew = dfNew[dfNew.name != \"\"]\n",
    "dfNew = dfNew.drop_duplicates()\n",
    "dfNew = dfNew.set_index('code')\n",
    "dfNew = dict(dfNew)\n",
    "df['name'] = df['code'].map(dfNew['name'])\n",
    "print(df.set_index('code'))"
   ]
  }
 ],
 "metadata": {
  "kernelspec": {
   "display_name": "Python 3",
   "language": "python",
   "name": "python3"
  },
  "language_info": {
   "codemirror_mode": {
    "name": "ipython",
    "version": 3
   },
   "file_extension": ".py",
   "mimetype": "text/x-python",
   "name": "python",
   "nbconvert_exporter": "python",
   "pygments_lexer": "ipython3",
   "version": "3.7.4"
  }
 },
 "nbformat": 4,
 "nbformat_minor": 2
}

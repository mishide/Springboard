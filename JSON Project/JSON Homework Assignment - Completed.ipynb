{
 "cells": [
  {
   "cell_type": "markdown",
   "metadata": {
    "toc": true
   },
   "source": [
    "<h1>Table of Contents<span class=\"tocSkip\"></span></h1>\n",
    "<div class=\"toc\"><ul class=\"toc-item\"><li><span><a href=\"#World-Bank-Project\" data-toc-modified-id=\"World-Bank-Project-1\"><span class=\"toc-item-num\">1&nbsp;&nbsp;</span><span style=\"font-family: sans-serif\">World Bank Project</span></a></span><ul class=\"toc-item\"><li><span><a href=\"#-Top-10-countries-with-the-most-projects\" data-toc-modified-id=\"-Top-10-countries-with-the-most-projects-1.1\"><span class=\"toc-item-num\">1.1&nbsp;&nbsp;</span><span style=\"font-family: sans-serif\"> Top 10 countries with the most projects</span></a></span></li><li><span><a href=\"#-10-most-frequent-projects\" data-toc-modified-id=\"-10-most-frequent-projects-1.2\"><span class=\"toc-item-num\">1.2&nbsp;&nbsp;</span><span style=\"font-family: sans-serif\"> 10 most frequent projects</span></a></span></li><li><span><a href=\"#-Fill-empty-values-for-project-names\" data-toc-modified-id=\"-Fill-empty-values-for-project-names-1.3\"><span class=\"toc-item-num\">1.3&nbsp;&nbsp;</span><span style=\"font-family: sans-serif\"> Fill empty values for project names</span></a></span></li></ul></li></ul></div>"
   ]
  },
  {
   "cell_type": "markdown",
   "metadata": {},
   "source": [
    "# <span style='font-family:sans-serif'> **JSON Project**"
   ]
  },
  {
   "cell_type": "markdown",
   "metadata": {},
   "source": [
    "##  <span style='font-family:sans-serif'>World Bank Project\n",
    "    This project uses a single multi-nested JSON file called 'World Bank Project'.  \n",
    "    Below are a few short examples of reading, manipulating, and analyzing the data using Pandas dataframes.  \n",
    "    \n",
    "    The analysis requested included \n",
    "    1.1 Top 10 countries with the most projects  \n",
    "    1.2 10 most frequent projects lists  \n",
    "    1.3 fill empty values for project names"
   ]
  },
  {
   "cell_type": "markdown",
   "metadata": {},
   "source": [
    "### <span style='font-family:sans-serif'> Top 10 countries with the most projects\n",
    "    This code loads the json data file from world bank projects into a dataframe, groups, counts, and sorts the data on the country name and displays the first 10.  "
   ]
  },
  {
   "cell_type": "code",
   "execution_count": 48,
   "metadata": {},
   "outputs": [
    {
     "name": "stdout",
     "output_type": "stream",
     "text": [
      "              Country  Number of Projects\n",
      "0               China                  19\n",
      "1           Indonesia                  19\n",
      "2             Vietnam                  17\n",
      "3               India                  16\n",
      "4  Yemen, Republic of                  13\n",
      "5               Nepal                  12\n",
      "6          Bangladesh                  12\n",
      "7             Morocco                  12\n",
      "8          Mozambique                  11\n",
      "9              Africa                  11\n"
     ]
    }
   ],
   "source": [
    "  #Load json file from local directory\n",
    "  #read the file into a df & rename columns\n",
    "\n",
    "import json, pandas as pd\n",
    "json.load((open('world_bank_projects.json')))\n",
    "sample_json_df = pd.read_json('world_bank_projects.json')                      \n",
    "sample_json_df.rename(columns = {'countryshortname':'Country','status':'Number of Projects'}, inplace=True)\n",
    "\n",
    "  #group, count, sort on countryshortname\n",
    "json_df = sample_json_df.groupby('Country').count().sort_values('Number of Projects', ascending = False).reset_index()\n",
    "\n",
    "  #display top 10 only\n",
    "print(json_df[['Country','Number of Projects']].head(10))"
   ]
  },
  {
   "cell_type": "markdown",
   "metadata": {},
   "source": [
    "### <span style='font-family:sans-serif'> 10 most frequent projects\n",
    "    Here we load the JSON into a normalized dataframe and using the 'mjtheme-namecode' column, counts the 10 most frequent projects."
   ]
  },
  {
   "cell_type": "code",
   "execution_count": 49,
   "metadata": {},
   "outputs": [
    {
     "name": "stdout",
     "output_type": "stream",
     "text": [
      "                                           name  count\n",
      "0  Environment and natural resources management    223\n",
      "1                             Rural development    202\n",
      "2                             Human development    197\n",
      "3                      Public sector governance    184\n",
      "4         Social protection and risk management    158\n",
      "5      Financial and private sector development    130\n",
      "6                                                  122\n",
      "7                   Social dev/gender/inclusion    119\n",
      "8                         Trade and integration     72\n",
      "9                             Urban development     47\n"
     ]
    }
   ],
   "source": [
    "  #Load JSON data\n",
    "  #Read JSON data into normalized dataframe\n",
    "\n",
    "import json, pandas as pd\n",
    "from pandas.io.json import json_normalize\n",
    "df = json.load((open('world_bank_projects.json')))\n",
    "df = json_normalize(df, record_path=['mjtheme_namecode'])\n",
    "\n",
    "  #use the 'code' column to record 'count'\n",
    "df.rename(columns = {'code':'count'}, inplace = True)\n",
    "\n",
    "  #display the name and count of all projects\n",
    "print(df.groupby(\"name\").count().sort_values('count', ascending = False).head(10).reset_index())"
   ]
  },
  {
   "cell_type": "markdown",
   "metadata": {},
   "source": [
    "### <span style='font-family:sans-serif'> Fill empty values for project names\n",
    "    Here we use the normalized dataframe, deep copy to reference 'mjtheme_namecode' to fill correct names to all rows, basically remapping the name in from the new dictionary to fill blanks."
   ]
  },
  {
   "cell_type": "code",
   "execution_count": 58,
   "metadata": {},
   "outputs": [],
   "source": [
    "  #import libraries, load JSON data from local directory and read into a flattened dataframe\n",
    "\n",
    "import json, copy\n",
    "import pandas as pd\n",
    "from pandas.io.json import json_normalize\n",
    "df = json.load((open('world_bank_projects.json')))\n",
    "df = json_normalize(df, record_path=['mjtheme_namecode'])\n",
    "\n",
    "  #deep copy the dataframe, remove blanks, drop duplicates, type cast as dictonary, map names to their code\n",
    "dfNew = df.copy(deep = True)\n",
    "dfNew = dfNew[dfNew.name != \"\"]\n",
    "dfNew = dfNew.drop_duplicates()\n",
    "dfNew = dfNew.set_index('code')\n",
    "dfNew = dict(dfNew)\n",
    "df['name'] = df['code'].map(dfNew['name'])\n",
    "\n",
    "  #display all codes and associated names\n",
    "df2 = df.groupby('name').count()\n",
    "df3 = df2.sort_values('code').reset_index(level = 0)    "
   ]
  }
 ],
 "metadata": {
  "kernelspec": {
   "display_name": "Python 3",
   "language": "python",
   "name": "python3"
  },
  "language_info": {
   "codemirror_mode": {
    "name": "ipython",
    "version": 3
   },
   "file_extension": ".py",
   "mimetype": "text/x-python",
   "name": "python",
   "nbconvert_exporter": "python",
   "pygments_lexer": "ipython3",
   "version": "3.7.4"
  },
  "toc": {
   "base_numbering": 1,
   "nav_menu": {},
   "number_sections": true,
   "sideBar": true,
   "skip_h1_title": true,
   "title_cell": "Table of Contents",
   "title_sidebar": "Contents",
   "toc_cell": true,
   "toc_position": {
    "height": "calc(100% - 180px)",
    "left": "10px",
    "top": "150px",
    "width": "384px"
   },
   "toc_section_display": true,
   "toc_window_display": false
  }
 },
 "nbformat": 4,
 "nbformat_minor": 2
}

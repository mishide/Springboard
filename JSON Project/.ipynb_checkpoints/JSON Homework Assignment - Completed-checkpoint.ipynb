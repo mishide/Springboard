{
 "cells": [
  {
   "cell_type": "markdown",
   "metadata": {},
   "source": [
    "Problem 1\n",
    "Returns the 10 countries with the most projects\n",
    "Code: uses json & pandas\n",
    "      reads json data into a dataframe\n",
    "      renames two columns for readability\n",
    "      groups by country, counts the number of projects each country has and returns in sorted order the top 10."
   ]
  },
  {
   "cell_type": "code",
   "execution_count": 24,
   "metadata": {},
   "outputs": [
    {
     "name": "stdout",
     "output_type": "stream",
     "text": [
      "                    Number of Projects\n",
      "Country                               \n",
      "China                               19\n",
      "Indonesia                           19\n",
      "Vietnam                             17\n",
      "India                               16\n",
      "Yemen, Republic of                  13\n",
      "Nepal                               12\n",
      "Bangladesh                          12\n",
      "Morocco                             12\n",
      "Mozambique                          11\n",
      "Africa                              11\n"
     ]
    }
   ],
   "source": [
    "import json, pandas as pd\n",
    "json.load((open('world_bank_projects.json')))\n",
    "sample_json_df = pd.read_json('world_bank_projects.json')\n",
    "sample_json_df.rename(columns = {'countryshortname':'Country','status':'Number of Projects'}, inplace=True)\n",
    "json_df = sample_json_df.groupby('Country').count().sort_values('Number of Projects', ascending = False)\n",
    "print(json_df[['Number of Projects']].head(10))"
   ]
  },
  {
   "cell_type": "markdown",
   "metadata": {},
   "source": [
    "Problem 2\n",
    "Returns name of 10 most frequent projects by grouping on the name and counting the code since the name column contain empty values.\n",
    "Code: normalizes on the mjtheme_namecode\n",
    "      group on the 'name' column\n",
    "      sort on the 'code' column\n",
    "      the dataframe is missing name values resulting in a blank."
   ]
  },
  {
   "cell_type": "code",
   "execution_count": 9,
   "metadata": {},
   "outputs": [
    {
     "name": "stdout",
     "output_type": "stream",
     "text": [
      "                                              code\n",
      "name                                              \n",
      "Environment and natural resources management   223\n",
      "Rural development                              202\n",
      "Human development                              197\n",
      "Public sector governance                       184\n",
      "Social protection and risk management          158\n",
      "Financial and private sector development       130\n",
      "                                               122\n",
      "Social dev/gender/inclusion                    119\n",
      "Trade and integration                           72\n",
      "Urban development                               47\n",
      "Economic management                             33\n",
      "Rule of law                                     12\n"
     ]
    }
   ],
   "source": [
    "import json\n",
    "import pandas as pd\n",
    "from pandas.io.json import json_normalize\n",
    "df = json.load((open('world_bank_projects.json')))\n",
    "df = json_normalize(df, record_path=['mjtheme_namecode'])\n",
    "print(df.groupby(\"name\").count().sort_values('code', ascending = False))"
   ]
  },
  {
   "cell_type": "markdown",
   "metadata": {},
   "source": [
    "Below is code to get all names and codes to use as reference and fill empty values"
   ]
  },
  {
   "cell_type": "code",
   "execution_count": 6,
   "metadata": {},
   "outputs": [
    {
     "name": "stdout",
     "output_type": "stream",
     "text": [
      "                                              code\n",
      "                                               122\n",
      "Economic management                             33\n",
      "Environment and natural resources management   223\n",
      "Financial and private sector development       130\n",
      "Human development                              197\n",
      "Public sector governance                       184\n",
      "Rule of law                                     12\n",
      "Rural development                              202\n",
      "Social dev/gender/inclusion                    119\n",
      "Social protection and risk management          158\n",
      "Trade and integration                           72\n",
      "Urban development                               47\n"
     ]
    }
   ],
   "source": [
    "import json, copy\n",
    "import pandas as pd\n",
    "from pandas.io.json import json_normalize\n",
    "df = json.load((open('world_bank_projects.json')))\n",
    "df = json_normalize(df, record_path=['mjtheme_namecode'])\n",
    "dfTheme = df.groupby(\"name\").count().sort_values('code', ascending = False)\n",
    "dict = dfTheme.to_dict()\n",
    "dictRef = copy.deepcopy(dict)\n",
    "df = pd.DataFrame.from_dict(dictRef)\n",
    "print(df)"
   ]
  },
  {
   "cell_type": "code",
   "execution_count": null,
   "metadata": {},
   "outputs": [],
   "source": []
  }
 ],
 "metadata": {
  "kernelspec": {
   "display_name": "Python 3",
   "language": "python",
   "name": "python3"
  },
  "language_info": {
   "codemirror_mode": {
    "name": "ipython",
    "version": 3
   },
   "file_extension": ".py",
   "mimetype": "text/x-python",
   "name": "python",
   "nbconvert_exporter": "python",
   "pygments_lexer": "ipython3",
   "version": "3.7.0"
  }
 },
 "nbformat": 4,
 "nbformat_minor": 2
}
